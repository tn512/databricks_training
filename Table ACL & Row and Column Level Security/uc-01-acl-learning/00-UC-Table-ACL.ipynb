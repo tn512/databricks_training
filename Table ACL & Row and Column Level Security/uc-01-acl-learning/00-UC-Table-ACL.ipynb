{
 "cells": [
  {
   "cell_type": "markdown",
   "metadata": {
    "application/vnd.databricks.v1+cell": {
     "cellMetadata": {},
     "inputWidgets": {},
     "nuid": "1de6c444-18fb-4a50-89cc-0a3c6b133055",
     "showTitle": false,
     "tableResultSettingsMap": {},
     "title": ""
    }
   },
   "source": [
    "# Databricks Unity Catalog - Table ACL\n",
    "\n",
    "<img src=\"https://github.com/databricks-demos/dbdemos-resources/blob/main/images/product/uc/uc-base-0.png?raw=true\" style=\"float: right\" width=\"500px\"/> \n",
    "\n",
    "The main feature of Unity Catalog is to provide you an easy way to setup Table ACL (Access Control Level), but also build Dynamic Views based on each individual permission.\n",
    "\n",
    "Typically, Analysts will only have access to customers from their country and won't be able to read GDPR/Sensitive informations (like email, firstname etc.)\n",
    "\n",
    "A typical workflow in the Lakehouse architecture is the following:\n",
    "\n",
    "* Data Engineers / Jobs can read and update the main data/schemas (ETL part)\n",
    "* Data Scientists can read the final tables and update their features tables\n",
    "* Data Analyst have READ access to the Data Engineering and Feature Tables and can ingest/transform additional data in a separate schema.\n",
    "* Data is masked/anonymized dynamically based on each user access level\n",
    "\n",
    "With Unity Catalog, your tables, users and groups are defined at the account level, cross workspaces. Ideal to deploy and operate a Lakehouse Platform across all your teams."
   ]
  },
  {
   "cell_type": "code",
   "execution_count": 0,
   "metadata": {
    "application/vnd.databricks.v1+cell": {
     "cellMetadata": {
      "byteLimit": 2048000,
      "implicitDf": true,
      "rowLimit": 10000
     },
     "inputWidgets": {},
     "nuid": "8d8ba07c-5c38-476b-9827-1c9debdddcfb",
     "showTitle": false,
     "tableResultSettingsMap": {},
     "title": ""
    }
   },
   "outputs": [],
   "source": [
    "%run ./_resources/00-setup"
   ]
  },
  {
   "cell_type": "markdown",
   "metadata": {
    "application/vnd.databricks.v1+cell": {
     "cellMetadata": {},
     "inputWidgets": {},
     "nuid": "a20f7089-a0f7-4d8d-b11c-7fd1ba06cd8c",
     "showTitle": false,
     "tableResultSettingsMap": {},
     "title": ""
    }
   },
   "source": [
    "## Creating the CATALOG\n",
    "\n",
    "<img src=\"https://github.com/databricks-demos/dbdemos-resources/blob/main/images/product/uc/uc-base-1.png?raw=true\" style=\"float: right\" width=\"800px\"/> \n",
    "\n",
    "Unity Catalog works with 3 layers:\n",
    "\n",
    "* CATALOG\n",
    "* SCHEMA (or DATABASE)\n",
    "* TABLE\n",
    "\n",
    "To access one table, you can specify the full path: `SELECT * FROM &lt;CATALOG&gt;.&lt;SCHEMA&gt;.&lt;TABLE&gt;`\n",
    "\n",
    "Note that the tables created before Unity Catalog are saved under the catalog named `hive_metastore`. Unity Catalog features are not available for this catalog."
   ]
  },
  {
   "cell_type": "code",
   "execution_count": 0,
   "metadata": {
    "application/vnd.databricks.v1+cell": {
     "cellMetadata": {
      "byteLimit": 2048000,
      "rowLimit": 10000
     },
     "inputWidgets": {},
     "nuid": "57f4ef9f-b51b-485d-a801-cc8752527243",
     "showTitle": false,
     "tableResultSettingsMap": {},
     "title": ""
    }
   },
   "outputs": [],
   "source": [
    "CREATE CATALOG IF NOT EXISTS uc_acl_learning\n",
    "   MANAGED LOCATION 'abfss://unity-catalog-storage@dbstoragefuavvebhyzyxm.dfs.core.windows.net/3759185753378633'"
   ]
  },
  {
   "cell_type": "code",
   "execution_count": 0,
   "metadata": {
    "application/vnd.databricks.v1+cell": {
     "cellMetadata": {
      "byteLimit": 2048000,
      "rowLimit": 10000
     },
     "inputWidgets": {},
     "nuid": "62f19bef-526d-4a7c-ab01-44169a06231f",
     "showTitle": false,
     "tableResultSettingsMap": {},
     "title": ""
    }
   },
   "outputs": [],
   "source": [
    "USE CATALOG uc_acl_learning;\n",
    "\n",
    "SELECT CURRENT_CATALOG();"
   ]
  },
  {
   "cell_type": "markdown",
   "metadata": {
    "application/vnd.databricks.v1+cell": {
     "cellMetadata": {},
     "inputWidgets": {},
     "nuid": "fcfaba6c-5cf3-4ac5-962d-47a9693fa763",
     "showTitle": false,
     "tableResultSettingsMap": {},
     "title": ""
    }
   },
   "source": [
    "## Creating the SCHEMA\n",
    "Next, we need to create the SCHEMA (or DATABASE)."
   ]
  },
  {
   "cell_type": "code",
   "execution_count": 0,
   "metadata": {
    "application/vnd.databricks.v1+cell": {
     "cellMetadata": {
      "byteLimit": 2048000,
      "rowLimit": 10000
     },
     "inputWidgets": {},
     "nuid": "1deb7703-d9b5-4637-a058-5f73709cf44a",
     "showTitle": false,
     "tableResultSettingsMap": {},
     "title": ""
    }
   },
   "outputs": [],
   "source": [
    "CREATE SCHEMA IF NOT EXISTS dev;\n",
    "USE SCHEMA dev;"
   ]
  },
  {
   "cell_type": "markdown",
   "metadata": {
    "application/vnd.databricks.v1+cell": {
     "cellMetadata": {},
     "inputWidgets": {},
     "nuid": "8554dfa9-b347-4057-b421-29bbb1c64157",
     "showTitle": false,
     "tableResultSettingsMap": {},
     "title": ""
    }
   },
   "source": [
    "## Creating our table\n",
    "\n",
    "We're all set! We can use standard SQL to create our tables. We'll use a customers dataset, loading data about users (id, email etc...)\n",
    "\n",
    "Because we want our demo to be available for all, we'll grant full privilege to the table to all USERS.\n",
    "\n",
    "Note that the table owner is the current user. Owners have full permissions.<br/>\n",
    "If you want to change the owner you can set it as following: ```ALTER TABLE <catalog>.dev.customers OWNER TO `account users`;```"
   ]
  },
  {
   "cell_type": "code",
   "execution_count": 0,
   "metadata": {
    "application/vnd.databricks.v1+cell": {
     "cellMetadata": {
      "byteLimit": 2048000,
      "rowLimit": 10000
     },
     "inputWidgets": {},
     "nuid": "2f4ca29e-33d4-4d39-a883-258671200b23",
     "showTitle": false,
     "tableResultSettingsMap": {},
     "title": ""
    }
   },
   "outputs": [],
   "source": [
    "CREATE TABLE IF NOT EXISTS customers (\n",
    "  id STRING,\n",
    "  creation_date STRING,\n",
    "  firstname STRING,\n",
    "  lastname STRING,\n",
    "  country STRING,\n",
    "  email STRING,\n",
    "  address STRING,\n",
    "  gender DOUBLE,\n",
    "  age_group DOUBLE\n",
    ");"
   ]
  },
  {
   "cell_type": "code",
   "execution_count": 0,
   "metadata": {
    "application/vnd.databricks.v1+cell": {
     "cellMetadata": {
      "byteLimit": 2048000,
      "rowLimit": 10000
     },
     "inputWidgets": {},
     "nuid": "78bf79b5-d0fe-46dd-961d-fec38f24a6c9",
     "showTitle": false,
     "tableResultSettingsMap": {},
     "title": ""
    }
   },
   "outputs": [],
   "source": [
    "-- For the demo only, allow all users to edit the table.\n",
    "GRANT SELECT, MODIFY ON TABLE customers TO `account users`;\n",
    "SHOW GRANTS ON TABLE customers;"
   ]
  },
  {
   "cell_type": "code",
   "execution_count": 0,
   "metadata": {
    "application/vnd.databricks.v1+cell": {
     "cellMetadata": {
      "byteLimit": 2048000,
      "rowLimit": 10000
     },
     "inputWidgets": {},
     "nuid": "ec1ad081-56d0-4837-baf9-edf7a2e3d836",
     "showTitle": false,
     "tableResultSettingsMap": {},
     "title": ""
    }
   },
   "outputs": [],
   "source": [
    "SELECT * FROM customers;"
   ]
  },
  {
   "cell_type": "markdown",
   "metadata": {
    "application/vnd.databricks.v1+cell": {
     "cellMetadata": {},
     "inputWidgets": {},
     "nuid": "f5cdbd87-a6a5-4d8d-bb7c-6833cf524d6f",
     "showTitle": false,
     "tableResultSettingsMap": {},
     "title": ""
    }
   },
   "source": [
    "## Granting users or group access\n",
    "\n",
    "Unity catalog let you GRANT standard SQL permission to your objects, using the Unity Catalog users or group.\n",
    "\n",
    "### Creating groups\n",
    "\n",
    "Databricks groups can be created at the account level using the Account Admin UI, or the SCIM API. Here, we created the `dataengineers` group for this demo.\n",
    "\n",
    "*Note on workspace-level groups: you can also create groups at a workspace level, however, we recommend managing permissions with UC at an account level.*"
   ]
  },
  {
   "cell_type": "code",
   "execution_count": 0,
   "metadata": {
    "application/vnd.databricks.v1+cell": {
     "cellMetadata": {
      "byteLimit": 2048000,
      "rowLimit": 10000
     },
     "inputWidgets": {},
     "nuid": "0c75ed43-028a-436b-a567-e511fbb0ed3b",
     "showTitle": false,
     "tableResultSettingsMap": {},
     "title": ""
    }
   },
   "outputs": [],
   "source": [
    "-- We'll grant an extra MODIFY to our Data Engineer\n",
    "-- Note: make sure you created the dataengineers group first as an account admin!\n",
    "GRANT SELECT, MODIFY ON TABLE customers TO `dataengineers`;"
   ]
  },
  {
   "cell_type": "code",
   "execution_count": 0,
   "metadata": {
    "application/vnd.databricks.v1+cell": {
     "cellMetadata": {
      "byteLimit": 2048000,
      "rowLimit": 10000
     },
     "inputWidgets": {},
     "nuid": "3ab7c9c5-07b8-44d7-8820-213cefba27b5",
     "showTitle": false,
     "tableResultSettingsMap": {},
     "title": ""
    }
   },
   "outputs": [],
   "source": [
    "SHOW GRANTS ON TABLE customers;"
   ]
  }
 ],
 "metadata": {
  "application/vnd.databricks.v1+notebook": {
   "computePreferences": null,
   "dashboards": [],
   "environmentMetadata": {
    "base_environment": "",
    "environment_version": "2"
   },
   "inputWidgetPreferences": null,
   "language": "sql",
   "notebookMetadata": {
    "mostRecentlyExecutedCommandWithImplicitDF": {
     "commandId": 5029429968322314,
     "dataframes": [
      "_sqldf"
     ]
    },
    "pythonIndentUnit": 4
   },
   "notebookName": "00-UC-Table-ACL",
   "widgets": {}
  },
  "language_info": {
   "name": "sql"
  }
 },
 "nbformat": 4,
 "nbformat_minor": 0
}
