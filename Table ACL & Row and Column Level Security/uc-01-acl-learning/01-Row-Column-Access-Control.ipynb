{
 "cells": [
  {
   "cell_type": "markdown",
   "metadata": {
    "application/vnd.databricks.v1+cell": {
     "cellMetadata": {},
     "inputWidgets": {},
     "nuid": "59ae0551-9102-46d8-95e2-986d689b06d0",
     "showTitle": false,
     "tableResultSettingsMap": {},
     "title": ""
    }
   },
   "source": [
    "## Row level access control \n",
    "\n",
    "<img src=\"https://github.com/databricks-demos/dbdemos-resources/blob/main/images/product/uc/acls/table_uc_rls.png?raw=true\" width=\"200\" style=\"float: right; margin-top: 20; margin-right: 20\" alt=\"databricks-demos\"/>\n",
    "\n",
    "Row-level security allows you to automatically **hide a subset of your rows** based on who is attempting to query it, without having to maintain any seperate copies of your data.\n",
    "\n",
    "A typical use-case would be to filter out rows based on your country or Business Unit : you only see the data (financial transactions, orders, customer information...) pertaining to your region, thus preventing you from having access to the entire dataset.\n",
    "\n",
    "While this filter can be applied at the user / principal level, it is recommended to implement access policies using groups instead.\n",
    "<br style=\"clear: both\"/>\n",
    "\n",
    "<img src=\"https://github.com/databricks-demos/dbdemos-resources/blob/main/images/product/uc/acls/table_uc_cls.png?raw=true\" width=\"200\" style=\"float: right; margin-top: 20; margin-right: 20; margin-left: 20\" alt=\"databricks-demos\"/>\n",
    "\n",
    "## Column Level access control \n",
    "\n",
    "Similarly, column-level access control helps you **mask or anonymise the data that is in certain columns** of your table, depending on the user or service principal that is trying to access it. This is typically used to mask or remove sensitive PII informations from your end users (email, SSN...)."
   ]
  },
  {
   "cell_type": "code",
   "execution_count": 0,
   "metadata": {
    "application/vnd.databricks.v1+cell": {
     "cellMetadata": {
      "byteLimit": 2048000,
      "implicitDf": true,
      "rowLimit": 10000
     },
     "inputWidgets": {},
     "nuid": "37362bce-8851-4156-afdf-47ff7da0e1bf",
     "showTitle": false,
     "tableResultSettingsMap": {},
     "title": ""
    }
   },
   "outputs": [],
   "source": [
    "%run ./_resources/00-setup"
   ]
  },
  {
   "cell_type": "markdown",
   "metadata": {
    "application/vnd.databricks.v1+cell": {
     "cellMetadata": {},
     "inputWidgets": {},
     "nuid": "0e00b3ef-2d6b-4c6e-b3ba-5bb5417a9c1f",
     "showTitle": false,
     "tableResultSettingsMap": {},
     "title": ""
    }
   },
   "source": [
    "\n",
    "## 1. Prepare the demo:\n",
    "To see the desired results for this demo, this notebook assumes that the user \n",
    "-  __is__ a member of groups `ANALYST_USA` and `region_admin_SPAIN`\n",
    "-  is __not__ a member of groups `bu_admin` and `fr_analysts`\n",
    "\n",
    "If you are not a member of these groups, add yourself (or ask an admin) via workspace admin console:\n",
    "\n",
    "__Workspace settings / Identity and access / Groups__"
   ]
  },
  {
   "cell_type": "code",
   "execution_count": 0,
   "metadata": {
    "application/vnd.databricks.v1+cell": {
     "cellMetadata": {
      "byteLimit": 2048000,
      "rowLimit": 10000
     },
     "inputWidgets": {},
     "nuid": "5f72bd26-d76b-4991-8f2b-19c392f781cf",
     "showTitle": false,
     "tableResultSettingsMap": {},
     "title": ""
    }
   },
   "outputs": [],
   "source": [
    "SELECT \n",
    "  assert_true(is_account_group_member('account users')),\n",
    "  assert_true(is_account_group_member('ANALYST_USA')),\n",
    "  assert_true(not is_account_group_member('bu_admin'));\n"
   ]
  },
  {
   "cell_type": "code",
   "execution_count": 0,
   "metadata": {
    "application/vnd.databricks.v1+cell": {
     "cellMetadata": {
      "byteLimit": 2048000,
      "rowLimit": 10000
     },
     "inputWidgets": {},
     "nuid": "202287b7-8383-4a0e-bc32-298499c5061e",
     "showTitle": false,
     "tableResultSettingsMap": {},
     "title": ""
    }
   },
   "outputs": [],
   "source": [
    "-- Cleanup any row-filters or masks that may have been added in previous runs of the demo:\n",
    "ALTER TABLE customers DROP ROW FILTER;\n",
    "ALTER TABLE customers ALTER COLUMN address DROP MASK;"
   ]
  },
  {
   "cell_type": "code",
   "execution_count": 0,
   "metadata": {
    "application/vnd.databricks.v1+cell": {
     "cellMetadata": {
      "byteLimit": 2048000,
      "rowLimit": 10000
     },
     "inputWidgets": {},
     "nuid": "5ef52c5c-0bc6-4ec9-b6b3-9bc335680d23",
     "showTitle": false,
     "tableResultSettingsMap": {},
     "title": ""
    }
   },
   "outputs": [],
   "source": [
    "SELECT * FROM customers;"
   ]
  },
  {
   "cell_type": "code",
   "execution_count": 0,
   "metadata": {
    "application/vnd.databricks.v1+cell": {
     "cellMetadata": {
      "byteLimit": 2048000,
      "rowLimit": 10000
     },
     "inputWidgets": {},
     "nuid": "4ae4949a-321a-4c32-a918-acf4af91ea28",
     "showTitle": false,
     "tableResultSettingsMap": {},
     "title": ""
    }
   },
   "outputs": [],
   "source": [
    "SELECT DISTINCT(country) FROM customers;"
   ]
  },
  {
   "cell_type": "markdown",
   "metadata": {
    "application/vnd.databricks.v1+cell": {
     "cellMetadata": {},
     "inputWidgets": {},
     "nuid": "fac2ade6-be82-4350-bff0-b914374b087d",
     "showTitle": false,
     "tableResultSettingsMap": {},
     "title": ""
    }
   },
   "source": [
    "\n",
    "##  2. Row-level access control\n",
    "\n",
    "<img src=\"https://github.com/databricks-demos/dbdemos-resources/blob/main/images/product/uc/acls/table_uc_rls.png?raw=true\" width=\"200\" style=\"float: right; margin-left: 20; margin-right: 20\" alt=\"databricks-demos\"/>\n",
    "\n",
    "In this part of the demo, we will show you how you can enforce a policy where an analyst can only access data related to customers in their country.\n",
    "\n",
    "\n",
    "To capture the current user and check their membership to a particular group, Databricks provides you with 2 built-in functions: \n",
    "- `current_user()`.\n",
    "- `is_account_group_member()`."
   ]
  },
  {
   "cell_type": "code",
   "execution_count": 0,
   "metadata": {
    "application/vnd.databricks.v1+cell": {
     "cellMetadata": {
      "byteLimit": 2048000,
      "rowLimit": 10000
     },
     "inputWidgets": {},
     "nuid": "2d4e78de-dc69-4ef6-aeb6-21b5034737fb",
     "showTitle": false,
     "tableResultSettingsMap": {},
     "title": ""
    }
   },
   "outputs": [],
   "source": [
    "-- Get the current user (for informational purposes):\n",
    "SELECT current_user(), is_account_group_member('account users');"
   ]
  },
  {
   "cell_type": "markdown",
   "metadata": {
    "application/vnd.databricks.v1+cell": {
     "cellMetadata": {},
     "inputWidgets": {},
     "nuid": "086ce86f-c005-43ea-a67d-4a04cc16786f",
     "showTitle": false,
     "tableResultSettingsMap": {},
     "title": ""
    }
   },
   "source": [
    "### 2.1. Define the access rule:\n",
    "\n",
    "To declare an access control rule, you will need to create a SQL function that returns a **boolean**.\n",
    "Unity Catalog will then hide the row if the function returns `False`.\n",
    "\n",
    "Inside your SQL function, you can define different conditions and implement complex logic to create this boolean return value. (e.g :  `IF(condition)-THEN(view)-ELSE`)\n",
    "\n",
    "Note that columns within whatever table that this function will be applied on, can also be referred to inside the function's conditions. You can do so by using parameters."
   ]
  },
  {
   "cell_type": "markdown",
   "metadata": {
    "application/vnd.databricks.v1+cell": {
     "cellMetadata": {},
     "inputWidgets": {},
     "nuid": "c77a234a-8218-4708-b9c8-b8f24a7e8e58",
     "showTitle": false,
     "tableResultSettingsMap": {},
     "title": ""
    }
   },
   "source": [
    "Here, we will apply the following logic :\n",
    "\n",
    "1. if the user is a `bu_admin` group member, then they can access data from all countries. (we will use `is_account_group_member('group_name')` we saw earlier).\n",
    "\n",
    "2. if the user is not a `bu_admin` group member, we'll restrict access to only the rows pertaining to regions `US` as our default regions. All other customers will be hidden!"
   ]
  },
  {
   "cell_type": "code",
   "execution_count": 0,
   "metadata": {
    "application/vnd.databricks.v1+cell": {
     "cellMetadata": {
      "byteLimit": 2048000,
      "rowLimit": 10000
     },
     "inputWidgets": {},
     "nuid": "c45faa5f-91de-4144-a82c-44450a09ddae",
     "showTitle": false,
     "tableResultSettingsMap": {},
     "title": ""
    }
   },
   "outputs": [],
   "source": [
    "CREATE OR REPLACE FUNCTION region_filter(region_param STRING)\n",
    "RETURN \n",
    "  is_account_group_member('bu_admin') OR region_param LIKE 'US%';\n",
    "\n",
    "SELECT region_filter('USA'), region_filter('SPAIN');"
   ]
  },
  {
   "cell_type": "markdown",
   "metadata": {
    "application/vnd.databricks.v1+cell": {
     "cellMetadata": {},
     "inputWidgets": {},
     "nuid": "43c0ed4c-46cf-4eab-8870-b8d27f901108",
     "showTitle": false,
     "tableResultSettingsMap": {},
     "title": ""
    }
   },
   "source": [
    "### 2.2. Apply the access rule:\n",
    "\n",
    "With our rule function declared, all that's left to do is apply it on a table and see it in action!\n",
    "A simple `SET ROW FILTER` followed by a call to the function is all it takes.\n",
    "\n",
    "**Note: if this is failing, make sure you're using a Shared Cluster!**"
   ]
  },
  {
   "cell_type": "code",
   "execution_count": 0,
   "metadata": {
    "application/vnd.databricks.v1+cell": {
     "cellMetadata": {
      "byteLimit": 2048000,
      "rowLimit": 10000
     },
     "inputWidgets": {},
     "nuid": "6d248ad9-0500-4edd-90ad-00c7bb54df93",
     "showTitle": false,
     "tableResultSettingsMap": {},
     "title": ""
    }
   },
   "outputs": [],
   "source": [
    "-- country will be the column sent as parameter to our SQL function (region_param).\n",
    "ALTER TABLE customers SET ROW FILTER region_filter ON (country);"
   ]
  },
  {
   "cell_type": "code",
   "execution_count": 0,
   "metadata": {
    "application/vnd.databricks.v1+cell": {
     "cellMetadata": {
      "byteLimit": 2048000,
      "rowLimit": 10000
     },
     "inputWidgets": {},
     "nuid": "fdbab1ed-c0ef-4ddf-bb57-fa6d89448c59",
     "showTitle": false,
     "tableResultSettingsMap": {},
     "title": ""
    }
   },
   "outputs": [],
   "source": [
    "SELECT * FROM customers;"
   ]
  },
  {
   "cell_type": "code",
   "execution_count": 0,
   "metadata": {
    "application/vnd.databricks.v1+cell": {
     "cellMetadata": {
      "byteLimit": 2048000,
      "rowLimit": 10000
     },
     "inputWidgets": {},
     "nuid": "2e2352e6-5eb6-4f0f-ad6a-74e8dbb19bd8",
     "showTitle": false,
     "tableResultSettingsMap": {},
     "title": ""
    }
   },
   "outputs": [],
   "source": [
    "SELECT DISTINCT(country) FROM customers;"
   ]
  },
  {
   "cell_type": "code",
   "execution_count": 0,
   "metadata": {
    "application/vnd.databricks.v1+cell": {
     "cellMetadata": {
      "byteLimit": 2048000,
      "rowLimit": 10000
     },
     "inputWidgets": {},
     "nuid": "930970e6-9068-4316-800f-fb990a960eed",
     "showTitle": false,
     "tableResultSettingsMap": {},
     "title": ""
    }
   },
   "outputs": [],
   "source": [
    "-- Drop the current filter:\n",
    "ALTER TABLE customers DROP ROW FILTER;\n",
    "\n",
    "-- Confirming that we can once again see all countries:\n",
    "SELECT DISTINCT(country) FROM customers;"
   ]
  },
  {
   "cell_type": "markdown",
   "metadata": {
    "application/vnd.databricks.v1+cell": {
     "cellMetadata": {},
     "inputWidgets": {},
     "nuid": "c9098e62-817c-4e85-8c0e-1fa25740d33b",
     "showTitle": false,
     "tableResultSettingsMap": {},
     "title": ""
    }
   },
   "source": [
    "### 2.3 More advanced dynamic filters:\n",
    "Let's imagine we have a few regional user groups defined as : `ANALYST_USA`, `ANALYST_SPAIN`, etc... and we want to use these groups to *dynamically* filter on a country value. \n",
    "\n",
    "This can easily be done by checking the group based on the region value."
   ]
  },
  {
   "cell_type": "code",
   "execution_count": 0,
   "metadata": {
    "application/vnd.databricks.v1+cell": {
     "cellMetadata": {
      "byteLimit": 2048000,
      "rowLimit": 10000
     },
     "inputWidgets": {},
     "nuid": "02522123-e03a-4a57-88bb-1b7d0bf050e4",
     "showTitle": false,
     "tableResultSettingsMap": {},
     "title": ""
    }
   },
   "outputs": [],
   "source": [
    "CREATE OR REPLACE FUNCTION region_filter_dynamic(country_param STRING)\n",
    "RETURN\n",
    "  is_account_group_member('bu_admin') -- bu_admin can access all regions\n",
    "  OR is_account_group_member(CONCAT('ANALYST_', country_param)); --regional admins can access only if the region\n",
    "\n",
    "ALTER TABLE customers SET ROW FILTER region_filter_dynamic ON (country);\n",
    "\n",
    "SELECT region_filter_dynamic('USA'), region_filter_dynamic('SPAIN');"
   ]
  },
  {
   "cell_type": "code",
   "execution_count": 0,
   "metadata": {
    "application/vnd.databricks.v1+cell": {
     "cellMetadata": {
      "byteLimit": 2048000,
      "rowLimit": 10000
     },
     "inputWidgets": {},
     "nuid": "043ff748-3ddc-41f8-bf58-ebc89fcb5b99",
     "showTitle": false,
     "tableResultSettingsMap": {},
     "title": ""
    }
   },
   "outputs": [],
   "source": [
    "SELECT DISTINCT(country) FROM customers;"
   ]
  },
  {
   "cell_type": "markdown",
   "metadata": {
    "application/vnd.databricks.v1+cell": {
     "cellMetadata": {},
     "inputWidgets": {},
     "nuid": "ea3b440f-0466-4a25-81bd-bf84491b2061",
     "showTitle": false,
     "tableResultSettingsMap": {},
     "title": ""
    }
   },
   "source": [
    "## 3. Column-level access control:\n",
    "\n",
    "Note: In this demo we have only one column mask function to apply. In real life, you may want to apply different column masks on different columns within the same table."
   ]
  },
  {
   "cell_type": "markdown",
   "metadata": {
    "application/vnd.databricks.v1+cell": {
     "cellMetadata": {},
     "inputWidgets": {},
     "nuid": "f45cd307-2323-4345-8ae6-12f39e730b50",
     "showTitle": false,
     "tableResultSettingsMap": {},
     "title": ""
    }
   },
   "source": [
    "### 3.1. Define the access rule (masking PII data):\n",
    "\n",
    "<img src=\"https://github.com/databricks-demos/dbdemos-resources/blob/main/images/product/uc/acls/table_uc_cls.png?raw=true\" width=\"200\" style=\"float: right; margin-top: 20; margin-left: 20; margin-right: 20\" alt=\"databricks-demos\"/>\n",
    "\n",
    "Declaring a rule to implement column-level access control is very similar to what we did earlier for our row-level access control rule.\n",
    "\n",
    "In this example, we'll create a SQL function with the following `IF-THEN-ELSE` logic:\n",
    "\n",
    "- if the current user is member of the group `bu_admin`, then return the column value as-is (here `ssn`).\n",
    "- if not, mask it completely with a constant string (here `****`)."
   ]
  },
  {
   "cell_type": "code",
   "execution_count": 0,
   "metadata": {
    "application/vnd.databricks.v1+cell": {
     "cellMetadata": {
      "byteLimit": 2048000,
      "rowLimit": 10000
     },
     "inputWidgets": {},
     "nuid": "76708f6c-933c-4070-84e1-fe9b9b676ffc",
     "showTitle": false,
     "tableResultSettingsMap": {},
     "title": ""
    }
   },
   "outputs": [],
   "source": [
    "CREATE OR REPLACE FUNCTION simple_mask(column_value STRING)\n",
    "RETURNS STRING\n",
    "RETURN\n",
    "  CASE WHEN is_account_group_member('bu_admin')\n",
    "        THEN column_value\n",
    "       ELSE 'REDACTED' \n",
    "  END;"
   ]
  },
  {
   "cell_type": "markdown",
   "metadata": {
    "application/vnd.databricks.v1+cell": {
     "cellMetadata": {},
     "inputWidgets": {},
     "nuid": "630824d5-f26f-4c4e-99ef-329a322bc4a9",
     "showTitle": false,
     "tableResultSettingsMap": {},
     "title": ""
    }
   },
   "source": [
    "### 3.2. Apply the access rule:\n",
    "\n",
    "To change things a bit, instead of applying a rule on an existing table, we'll demonstrte here how we can apply a rule upon the creation of a new table."
   ]
  },
  {
   "cell_type": "code",
   "execution_count": 0,
   "metadata": {
    "application/vnd.databricks.v1+cell": {
     "cellMetadata": {
      "byteLimit": 2048000,
      "rowLimit": 10000
     },
     "inputWidgets": {},
     "nuid": "45dd29b1-bb79-42d1-8b7e-5970ea54807c",
     "showTitle": false,
     "tableResultSettingsMap": {},
     "title": ""
    }
   },
   "outputs": [],
   "source": [
    "CREATE OR REPLACE TABLE patient_ssn (\n",
    "  name STRING,\n",
    "  ssn STRING MASK simple_mask\n",
    ");\n",
    "\n",
    "INSERT INTO patient_ssn\n",
    "VALUES (\"Jane Doe\", \"111-11-1111\"), (\"Joe Doe\", \"222-33-4444\");"
   ]
  },
  {
   "cell_type": "code",
   "execution_count": 0,
   "metadata": {
    "application/vnd.databricks.v1+cell": {
     "cellMetadata": {
      "byteLimit": 2048000,
      "rowLimit": 10000
     },
     "inputWidgets": {},
     "nuid": "57ed3f64-3482-48b2-af11-53e3beedf8b8",
     "showTitle": false,
     "tableResultSettingsMap": {},
     "title": ""
    }
   },
   "outputs": [],
   "source": [
    "SELECT * FROM patient_ssn;"
   ]
  },
  {
   "cell_type": "markdown",
   "metadata": {
    "application/vnd.databricks.v1+cell": {
     "cellMetadata": {},
     "inputWidgets": {},
     "nuid": "eb19e7ba-6a24-414d-a918-5e006c02c60d",
     "showTitle": false,
     "tableResultSettingsMap": {},
     "title": ""
    }
   },
   "source": [
    "## 4. Combine RL and CL access control:\n",
    "\n",
    "<img src=\"https://github.com/databricks-demos/dbdemos-resources/blob/main/images/product/uc/acls/table_uc_rlscls.png?raw=true\" width=\"200\" style=\"float: right; margin-top: 20; margin-left: 20; margin-right: 20\" alt=\"databricks-demos\"/>\n",
    "\n",
    "Let's go back to our customer table. As we apply it, let's make it's target the 'address' column!"
   ]
  },
  {
   "cell_type": "code",
   "execution_count": 0,
   "metadata": {
    "application/vnd.databricks.v1+cell": {
     "cellMetadata": {
      "byteLimit": 2048000,
      "rowLimit": 10000
     },
     "inputWidgets": {},
     "nuid": "da88d87b-c119-4fb1-9585-6bed35cb0645",
     "showTitle": false,
     "tableResultSettingsMap": {},
     "title": ""
    }
   },
   "outputs": [],
   "source": [
    "ALTER TABLE customers\n",
    "  ALTER COLUMN address SET MASK simple_mask;"
   ]
  },
  {
   "cell_type": "code",
   "execution_count": 0,
   "metadata": {
    "application/vnd.databricks.v1+cell": {
     "cellMetadata": {
      "byteLimit": 2048000,
      "rowLimit": 10000
     },
     "inputWidgets": {},
     "nuid": "69245d0e-3dfb-4c7f-8309-0ee22ed845a9",
     "showTitle": false,
     "tableResultSettingsMap": {},
     "title": ""
    }
   },
   "outputs": [],
   "source": [
    "SELECT * FROM customers;"
   ]
  },
  {
   "cell_type": "markdown",
   "metadata": {
    "application/vnd.databricks.v1+cell": {
     "cellMetadata": {},
     "inputWidgets": {},
     "nuid": "36987751-8ebd-4811-b8aa-a63dc90093d2",
     "showTitle": false,
     "tableResultSettingsMap": {},
     "title": ""
    }
   },
   "source": [
    "## 5. Change the definition of the access control rules:\n",
    "If the business ever decides to change a rule's conditions or the way they want the data to be returned in response to these conditions, it is easy to adapt with Unity Catalog.\n",
    "\n",
    "Since the function is the central element, all you need to do is update it and the effects will automatically be reflected on all the tables that it has been attached to."
   ]
  },
  {
   "cell_type": "markdown",
   "metadata": {
    "application/vnd.databricks.v1+cell": {
     "cellMetadata": {},
     "inputWidgets": {},
     "nuid": "aaef88f9-f227-4027-96f9-264015507c74",
     "showTitle": false,
     "tableResultSettingsMap": {},
     "title": ""
    }
   },
   "source": [
    "In this example, we'll rewrite our `simple_mask` column mask function and change the way we anonymse data from the rather simplistic `****`, to using the built-in sql `MASK` function ([see documentation](https://docs.databricks.com/sql/language-manual/functions/mask.html))"
   ]
  },
  {
   "cell_type": "code",
   "execution_count": 0,
   "metadata": {
    "application/vnd.databricks.v1+cell": {
     "cellMetadata": {
      "byteLimit": 2048000,
      "rowLimit": 10000
     },
     "inputWidgets": {},
     "nuid": "1dbcd848-aaf9-4d6c-bf51-2eadbf3c57c8",
     "showTitle": false,
     "tableResultSettingsMap": {},
     "title": ""
    }
   },
   "outputs": [],
   "source": [
    "CREATE OR REPLACE FUNCTION simple_mask (maskable_param STRING)\n",
    "RETURN\n",
    "  IF(is_account_group_member('bu_admin'), maskable_param, MASK(maskable_param, '*', '*'));"
   ]
  },
  {
   "cell_type": "code",
   "execution_count": 0,
   "metadata": {
    "application/vnd.databricks.v1+cell": {
     "cellMetadata": {
      "byteLimit": 2048000,
      "rowLimit": 10000
     },
     "inputWidgets": {},
     "nuid": "c23772b1-4ea3-4741-96b4-7b729165130e",
     "showTitle": false,
     "tableResultSettingsMap": {},
     "title": ""
    }
   },
   "outputs": [],
   "source": [
    "SELECT * FROM customers;"
   ]
  },
  {
   "cell_type": "markdown",
   "metadata": {
    "application/vnd.databricks.v1+cell": {
     "cellMetadata": {},
     "inputWidgets": {},
     "nuid": "f4d24bc2-1411-4af8-8858-7bcf4bc7bdf3",
     "showTitle": false,
     "tableResultSettingsMap": {},
     "title": ""
    }
   },
   "source": [
    "## 6. Dynamic access rules with lookup data:\n",
    "\n",
    "So we've seen how through functions, Unity Catalog give us the flexibility to overwrite the definition of an access rule but also combine multiple rules on a single table to ultimately implement complex multi-dimensional access control on our data.\n",
    "\n",
    "Let's take a step further by adding an intermediate table describing a permission model. We'll use this table to **lookup pre-defined mappings** of users to their corresponsing data, on which we'll base the bahavior of our access control function."
   ]
  },
  {
   "cell_type": "markdown",
   "metadata": {
    "application/vnd.databricks.v1+cell": {
     "cellMetadata": {},
     "inputWidgets": {},
     "nuid": "9dadc038-9507-4d27-a9eb-dc724d940b98",
     "showTitle": false,
     "tableResultSettingsMap": {},
     "title": ""
    }
   },
   "source": [
    "### 6.1. Create the mapping data table:\n",
    "\n",
    "In an organization where we have a user group for each supported language, we went ahead and mapped in this table each of these groups to their corresponding countries.\n",
    "\n",
    "- The members of the `ANALYST_USA` are thus mapped to data for `USA` or `CANADA`.\n",
    "- The members of the `ANALYST_SPAIN` are mapped to data for `SPAIN`, `MEXICO` or `ARGENTINA`.\n",
    "\n",
    "In our case, our user belongs to `ANALYST_USA`."
   ]
  },
  {
   "cell_type": "code",
   "execution_count": 0,
   "metadata": {
    "application/vnd.databricks.v1+cell": {
     "cellMetadata": {
      "byteLimit": 2048000,
      "rowLimit": 10000
     },
     "inputWidgets": {},
     "nuid": "decf1913-6129-4c13-a8e9-7c1c73231ed5",
     "showTitle": false,
     "tableResultSettingsMap": {},
     "title": ""
    }
   },
   "outputs": [],
   "source": [
    "CREATE TABLE IF NOT EXISTS map_country_group (\n",
    "  identity_group STRING,\n",
    "  countries ARRAY<STRING>\n",
    ");\n",
    "\n",
    "INSERT OVERWRITE map_country_group\n",
    "VALUES ('ANALYST_FR', ARRAY('FR', 'BELGIUM', 'CANADA', 'SWITZERLAND')),\n",
    "       ('ANALYST_SPAIN',  ARRAY('SPAIN', 'MEXICO', 'ARGENTINA')),\n",
    "       ('ANALYST_USA', ARRAY('USA', 'CANADA'));\n",
    "\n",
    "SELECT * FROM map_country_group;"
   ]
  },
  {
   "cell_type": "code",
   "execution_count": 0,
   "metadata": {
    "application/vnd.databricks.v1+cell": {
     "cellMetadata": {
      "byteLimit": 2048000,
      "rowLimit": 10000
     },
     "inputWidgets": {},
     "nuid": "b76abbe2-2e87-43f1-9be4-9db5b9013808",
     "showTitle": false,
     "tableResultSettingsMap": {},
     "title": ""
    }
   },
   "outputs": [],
   "source": [
    "-- Query the map_country_group table to see how current user is mapped:\n",
    "SELECT * FROM map_country_group \n",
    "WHERE is_account_group_member(identity_group); "
   ]
  },
  {
   "cell_type": "markdown",
   "metadata": {
    "application/vnd.databricks.v1+cell": {
     "cellMetadata": {},
     "inputWidgets": {},
     "nuid": "4de017dc-19b4-438c-b224-939e94dd078d",
     "showTitle": false,
     "tableResultSettingsMap": {},
     "title": ""
    }
   },
   "source": [
    "### 6.2. Define the access rule with lookup data:\n",
    "\n",
    "Let's now update our dynamic row filter function to call this new table-lookup approach.\n",
    "\n",
    "- If the current user is in the group `bu_admin`, they will be able to see all rows.\n",
    "- If the user is in another group which has a row in the `map_country_group` table, allow access to rows for the corresponding countries.\n",
    "\n",
    "Spark optimizer will **execute** that as **an efficient JOIN** between the **map_country_group** table and **your main table**. You can check the query execution in Spark SQL UI for more details."
   ]
  },
  {
   "cell_type": "code",
   "execution_count": 0,
   "metadata": {
    "application/vnd.databricks.v1+cell": {
     "cellMetadata": {
      "byteLimit": 2048000,
      "rowLimit": 10000
     },
     "inputWidgets": {},
     "nuid": "3f561d15-b29d-4d97-aef8-1591a87315fe",
     "showTitle": false,
     "tableResultSettingsMap": {},
     "title": ""
    }
   },
   "outputs": [],
   "source": [
    "CREATE OR REPLACE FUNCTION region_filter_dynamic(region_param STRING)\n",
    "RETURN \n",
    "  is_account_group_member('bu_admin') \n",
    "  OR EXISTS (SELECT 1 FROM map_country_group\n",
    "             WHERE is_account_group_member(identity_group) \n",
    "             AND array_contains(countries, region_param));"
   ]
  },
  {
   "cell_type": "code",
   "execution_count": 0,
   "metadata": {
    "application/vnd.databricks.v1+cell": {
     "cellMetadata": {
      "byteLimit": 2048000,
      "rowLimit": 10000
     },
     "inputWidgets": {},
     "nuid": "10b8e3c5-3dec-4b6c-be06-93f61f99d475",
     "showTitle": false,
     "tableResultSettingsMap": {},
     "title": ""
    }
   },
   "outputs": [],
   "source": [
    "SELECT DISTINCT(country) FROM customers;"
   ]
  },
  {
   "cell_type": "markdown",
   "metadata": {
    "application/vnd.databricks.v1+cell": {
     "cellMetadata": {},
     "inputWidgets": {},
     "nuid": "9abb820b-8015-48fc-88c2-f803eb1dc475",
     "showTitle": false,
     "tableResultSettingsMap": {},
     "title": ""
    }
   },
   "source": [
    "## 7. Dissociate a rule from a table:\n",
    "This dissociation of the rule from the objects you apply it to, also allows you to stop applying it on the table of your choice at any time, all without:\n",
    "- Impacting the other tables this rule is attached to.\n",
    "- Discontinuing the other rules that are also applied to your table."
   ]
  },
  {
   "cell_type": "code",
   "execution_count": 0,
   "metadata": {
    "application/vnd.databricks.v1+cell": {
     "cellMetadata": {
      "byteLimit": 2048000,
      "rowLimit": 10000
     },
     "inputWidgets": {},
     "nuid": "07aea2de-4cea-4830-a202-ea9812d36f66",
     "showTitle": false,
     "tableResultSettingsMap": {},
     "title": ""
    }
   },
   "outputs": [],
   "source": [
    "-- Removing the column mask on 'address' from the 'customers' table:\n",
    "ALTER TABLE customers ALTER COLUMN address DROP MASK;"
   ]
  },
  {
   "cell_type": "code",
   "execution_count": 0,
   "metadata": {
    "application/vnd.databricks.v1+cell": {
     "cellMetadata": {
      "byteLimit": 2048000,
      "rowLimit": 10000
     },
     "inputWidgets": {},
     "nuid": "7d543cc9-5d61-44be-a2ea-c25cbd0e9b6d",
     "showTitle": false,
     "tableResultSettingsMap": {},
     "title": ""
    }
   },
   "outputs": [],
   "source": [
    "-- Dropping the row filter:\n",
    "ALTER TABLE customers DROP ROW FILTER;"
   ]
  }
 ],
 "metadata": {
  "application/vnd.databricks.v1+notebook": {
   "computePreferences": null,
   "dashboards": [],
   "environmentMetadata": {
    "base_environment": "",
    "environment_version": "2"
   },
   "inputWidgetPreferences": null,
   "language": "sql",
   "notebookMetadata": {
    "mostRecentlyExecutedCommandWithImplicitDF": {
     "commandId": 5029429968322347,
     "dataframes": [
      "_sqldf"
     ]
    },
    "pythonIndentUnit": 4
   },
   "notebookName": "01-Row-Column-Access-Control",
   "widgets": {}
  },
  "language_info": {
   "name": "sql"
  }
 },
 "nbformat": 4,
 "nbformat_minor": 0
}
