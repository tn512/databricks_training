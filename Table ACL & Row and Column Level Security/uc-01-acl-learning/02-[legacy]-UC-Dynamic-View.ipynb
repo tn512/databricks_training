{
 "cells": [
  {
   "cell_type": "markdown",
   "metadata": {
    "application/vnd.databricks.v1+cell": {
     "cellMetadata": {},
     "inputWidgets": {},
     "nuid": "4a371ce6-fea9-4129-a236-3d3b58d1ea7d",
     "showTitle": false,
     "tableResultSettingsMap": {},
     "title": ""
    }
   },
   "source": [
    "## Dynamic Views: Restricting data to a subset based on a field:\n",
    "\n",
    "Note: using dynamic view was the solution before Row level and column-level masking with SQL FUNCTIONS."
   ]
  },
  {
   "cell_type": "code",
   "execution_count": 0,
   "metadata": {
    "application/vnd.databricks.v1+cell": {
     "cellMetadata": {
      "byteLimit": 2048000,
      "implicitDf": true,
      "rowLimit": 10000
     },
     "inputWidgets": {},
     "nuid": "4755dfa5-8609-4fc4-a7d5-c4929b5761e8",
     "showTitle": false,
     "tableResultSettingsMap": {},
     "title": ""
    }
   },
   "outputs": [],
   "source": [
    "%run ./_resources/00-setup"
   ]
  },
  {
   "cell_type": "code",
   "execution_count": 0,
   "metadata": {
    "application/vnd.databricks.v1+cell": {
     "cellMetadata": {
      "byteLimit": 2048000,
      "rowLimit": 10000
     },
     "inputWidgets": {},
     "nuid": "3703933d-7ca4-40f0-8cd7-b206c3552ac9",
     "showTitle": false,
     "tableResultSettingsMap": {},
     "title": ""
    }
   },
   "outputs": [],
   "source": [
    "-- As ANALYST from the USA (ANALYST_USA group), each USA row are now at \"true\":\n",
    "SELECT is_account_group_member(group_name), * \n",
    "FROM (SELECT CONCAT(\"ANALYST_\", country) AS group_name, country, id, firstname \n",
    "      FROM customers)"
   ]
  },
  {
   "cell_type": "code",
   "execution_count": 0,
   "metadata": {
    "application/vnd.databricks.v1+cell": {
     "cellMetadata": {
      "byteLimit": 2048000,
      "rowLimit": 10000
     },
     "inputWidgets": {},
     "nuid": "b8939493-882f-4698-ad18-4ff375d689ca",
     "showTitle": false,
     "tableResultSettingsMap": {},
     "title": ""
    }
   },
   "outputs": [],
   "source": [
    "CREATE OR REPLACE VIEW customer_dynamic_view AS (\n",
    "  SELECT *\n",
    "  FROM customers\n",
    "  WHERE is_account_group_member(CONCAT('ANALYST_', country))\n",
    ");\n",
    "\n",
    "-- Then grant select access on the view only:\n",
    "GRANT SELECT ON VIEW customer_dynamic_view TO `account users`;"
   ]
  },
  {
   "cell_type": "code",
   "execution_count": 0,
   "metadata": {
    "application/vnd.databricks.v1+cell": {
     "cellMetadata": {
      "byteLimit": 2048000,
      "rowLimit": 10000
     },
     "inputWidgets": {},
     "nuid": "52fc0ecb-7137-48ea-ab82-a80eba7ebbef",
     "showTitle": false,
     "tableResultSettingsMap": {},
     "title": ""
    }
   },
   "outputs": [],
   "source": [
    "-- We should be part of the ANALYST_USA group. As result, we now have a row-level filter applied in our secured view and we only see the USA country:\n",
    "SELECT * FROM customer_dynamic_view;"
   ]
  },
  {
   "cell_type": "markdown",
   "metadata": {
    "application/vnd.databricks.v1+cell": {
     "cellMetadata": {},
     "inputWidgets": {},
     "nuid": "0a315de0-500a-438c-9bbd-fb26886e813f",
     "showTitle": false,
     "tableResultSettingsMap": {},
     "title": ""
    }
   },
   "source": [
    "## Data Masking:\n",
    "\n",
    "Let's create a table with all our current analyst permission including a GDPR permission flag: `analyst_permissions`.\n",
    "\n",
    "This table has 3 field:\n",
    "\n",
    "* `analyst_email`: to identify the analyst (we could work with groups instead).\n",
    "* `country_filter`: we'll filter the dataset based on this value.\n",
    "* `gdpr_filter`: if true, we'll filter the PII information from the table. If not set the user can see all the information.\n",
    "\n",
    "*Of course this could be implemented with the previous `is_account_group_member()` function instead of individual users information being saved in a permission tale.*"
   ]
  },
  {
   "cell_type": "code",
   "execution_count": 0,
   "metadata": {
    "application/vnd.databricks.v1+cell": {
     "cellMetadata": {
      "byteLimit": 2048000,
      "rowLimit": 10000
     },
     "inputWidgets": {},
     "nuid": "1bb425b2-e341-48a8-a63b-7f4c48335f40",
     "showTitle": false,
     "tableResultSettingsMap": {},
     "title": ""
    }
   },
   "outputs": [],
   "source": [
    "SELECT * \n",
    "FROM analyst_permissions \n",
    "WHERE analyst_email = current_user();"
   ]
  },
  {
   "cell_type": "code",
   "execution_count": 0,
   "metadata": {
    "application/vnd.databricks.v1+cell": {
     "cellMetadata": {
      "byteLimit": 2048000,
      "rowLimit": 10000
     },
     "inputWidgets": {},
     "nuid": "f1aaab01-47d7-4e25-95bf-a3a77a46ed6a",
     "showTitle": false,
     "tableResultSettingsMap": {},
     "title": ""
    }
   },
   "outputs": [],
   "source": [
    "CREATE OR REPLACE VIEW customer_dynamic_view_gdpr AS (\n",
    "  SELECT id, creation_date, country, gender, age_group,\n",
    "         CASE WHEN p.gdpr_filter = 1 THEN sha1(firstname) ELSE firstname END AS firstname,\n",
    "         CASE WHEN p.gdpr_filter = 1 THEN sha1(lastname) ELSE lastname END AS lastname,\n",
    "         CASE WHEN p.gdpr_filter = 1 THEN sha1(email) ELSE email END AS email\n",
    "  FROM customers c\n",
    "  INNER JOIN analyst_permissions p\n",
    "  ON c.country = p.country_filter\n",
    "  WHERE p.analyst_email = current_user()\n",
    ");\n",
    "\n",
    "-- Then grant select access on the view only:\n",
    "GRANT SELECT ON VIEW customer_dynamic_view_gdpr TO `account users`;"
   ]
  },
  {
   "cell_type": "code",
   "execution_count": 0,
   "metadata": {
    "application/vnd.databricks.v1+cell": {
     "cellMetadata": {
      "byteLimit": 2048000,
      "rowLimit": 10000
     },
     "inputWidgets": {},
     "nuid": "6de26872-5ff1-4b3b-bdc2-8e9cd391b8ec",
     "showTitle": false,
     "tableResultSettingsMap": {},
     "title": ""
    }
   },
   "outputs": [],
   "source": [
    "SELECT * FROM customer_dynamic_view_gdpr;"
   ]
  }
 ],
 "metadata": {
  "application/vnd.databricks.v1+notebook": {
   "computePreferences": null,
   "dashboards": [],
   "environmentMetadata": {
    "base_environment": "",
    "environment_version": "2"
   },
   "inputWidgetPreferences": null,
   "language": "sql",
   "notebookMetadata": {
    "mostRecentlyExecutedCommandWithImplicitDF": {
     "commandId": 5029429968322439,
     "dataframes": [
      "_sqldf"
     ]
    },
    "pythonIndentUnit": 4
   },
   "notebookName": "02-[legacy]-UC-Dynamic-View",
   "widgets": {}
  },
  "language_info": {
   "name": "sql"
  }
 },
 "nbformat": 4,
 "nbformat_minor": 0
}
