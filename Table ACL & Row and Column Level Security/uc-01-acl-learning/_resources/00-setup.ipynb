{
 "cells": [
  {
   "cell_type": "markdown",
   "metadata": {
    "application/vnd.databricks.v1+cell": {
     "cellMetadata": {},
     "inputWidgets": {},
     "nuid": "35a04c00-f008-44ce-bec3-33ab08d52f00",
     "showTitle": false,
     "tableResultSettingsMap": {},
     "title": ""
    }
   },
   "source": [
    "#Permission-setup Data generation for UC demo notebook"
   ]
  },
  {
   "cell_type": "code",
   "execution_count": 0,
   "metadata": {
    "application/vnd.databricks.v1+cell": {
     "cellMetadata": {},
     "inputWidgets": {},
     "nuid": "1e8d1522-2add-47b4-b415-e5ac718c86f5",
     "showTitle": false,
     "tableResultSettingsMap": {},
     "title": ""
    },
    "jupyter": {
     "outputs_hidden": true
    }
   },
   "outputs": [],
   "source": [
    "catalog = \"uc_acl_learning\"\n",
    "schema = dbName = db = \"dev\""
   ]
  },
  {
   "cell_type": "code",
   "execution_count": 0,
   "metadata": {
    "application/vnd.databricks.v1+cell": {
     "cellMetadata": {},
     "inputWidgets": {},
     "nuid": "0cdb2d83-6f42-48ec-bb51-bc14c342cab8",
     "showTitle": false,
     "tableResultSettingsMap": {},
     "title": ""
    },
    "jupyter": {
     "outputs_hidden": true
    }
   },
   "outputs": [],
   "source": [
    "%run ./00-global-setup-v2"
   ]
  },
  {
   "cell_type": "code",
   "execution_count": 0,
   "metadata": {
    "application/vnd.databricks.v1+cell": {
     "cellMetadata": {},
     "inputWidgets": {},
     "nuid": "28f9014e-0d31-474b-8435-06a151ab20bf",
     "showTitle": false,
     "tableResultSettingsMap": {},
     "title": ""
    }
   },
   "outputs": [],
   "source": [
    "DBDemos.setup_schema(catalog, db, False)"
   ]
  },
  {
   "cell_type": "code",
   "execution_count": 0,
   "metadata": {
    "application/vnd.databricks.v1+cell": {
     "cellMetadata": {},
     "inputWidgets": {},
     "nuid": "e15367b4-fc13-4643-a3e6-d3d42b597260",
     "showTitle": false,
     "tableResultSettingsMap": {},
     "title": ""
    }
   },
   "outputs": [],
   "source": [
    "%sql\n",
    "CREATE TABLE IF NOT EXISTS analyst_permissions (\n",
    "  analyst_email STRING,\n",
    "  country_filter STRING,\n",
    "  gdpr_filter LONG); \n",
    "\n",
    "-- ALTER TABLE uc_acl.users OWNER TO `account users`;\n",
    "-- ALTER TABLE analyst_permissions OWNER TO `account users`;\n",
    "-- GRANT SELECT, MODIFY on TABLE analyst_permissions TO `account users`;\n",
    "\n",
    "CREATE TABLE IF NOT EXISTS customers (\n",
    "  id STRING,\n",
    "  creation_date STRING,\n",
    "  firstname STRING,\n",
    "  lastname STRING,\n",
    "  country STRING,\n",
    "  email STRING,\n",
    "  address STRING,\n",
    "  gender DOUBLE,\n",
    "  age_group DOUBLE); \n",
    "-- ALTER TABLE customers OWNER TO `account users`; -- for the demo only, allow all users to edit the table - don't do that in production!\n",
    "-- GRANT SELECT, MODIFY on TABLE customers TO `account users`;"
   ]
  },
  {
   "cell_type": "code",
   "execution_count": 0,
   "metadata": {
    "application/vnd.databricks.v1+cell": {
     "cellMetadata": {},
     "inputWidgets": {},
     "nuid": "79a9fe84-eaaf-4ea7-979a-802143524655",
     "showTitle": false,
     "tableResultSettingsMap": {},
     "title": ""
    }
   },
   "outputs": [],
   "source": [
    "from pyspark.sql.functions import col\n",
    "import pandas as pd\n",
    "\n",
    "df = pd.read_parquet(\"https://dbdemos-dataset.s3.amazonaws.com/retail/c360/users_parquet/users.parquet.snappy\")\n",
    "\n",
    "spark.createDataFrame(df).withColumn('age_group', col(\"age_group\").cast(\"double\")) \\\n",
    "                         .withColumn('gender', col(\"gender\").cast(\"double\")) \\\n",
    "                         .write.mode('overwrite').option('mergeSchema', 'true').saveAsTable(\"customers\")"
   ]
  },
  {
   "cell_type": "code",
   "execution_count": 0,
   "metadata": {
    "application/vnd.databricks.v1+cell": {
     "cellMetadata": {},
     "inputWidgets": {},
     "nuid": "cc5943a9-c1d3-48f8-af7d-b4860898fbc9",
     "showTitle": false,
     "tableResultSettingsMap": {},
     "title": ""
    }
   },
   "outputs": [],
   "source": [
    "import random\n",
    "\n",
    "countries = ['FR', 'USA', 'SPAIN']\n",
    "current_user = spark.sql('select current_user() as user').collect()[0][\"user\"]\n",
    "workspace_users = df['email'][-30:].to_list() + [current_user]\n",
    "\n",
    "user_data = [(u, countries[random.randint(0,2)], random.randint(0,1)) for u in workspace_users]\n",
    "\n",
    "spark.createDataFrame(user_data, ['analyst_email', 'country_filter',\"gdpr_filter\"]) \\\n",
    "       .repartition(3).write.mode('overwrite').saveAsTable(\"analyst_permissions\")"
   ]
  }
 ],
 "metadata": {
  "application/vnd.databricks.v1+notebook": {
   "computePreferences": null,
   "dashboards": [],
   "environmentMetadata": {
    "environment_version": "2"
   },
   "inputWidgetPreferences": null,
   "language": "python",
   "notebookMetadata": {
    "pythonIndentUnit": 2
   },
   "notebookName": "00-setup",
   "widgets": {}
  },
  "language_info": {
   "name": "python"
  }
 },
 "nbformat": 4,
 "nbformat_minor": 0
}
