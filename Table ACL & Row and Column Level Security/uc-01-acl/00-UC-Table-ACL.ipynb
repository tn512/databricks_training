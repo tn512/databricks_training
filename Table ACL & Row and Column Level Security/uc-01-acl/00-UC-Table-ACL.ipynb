{
 "cells": [
  {
   "cell_type": "markdown",
   "metadata": {
    "application/vnd.databricks.v1+cell": {
     "cellMetadata": {},
     "inputWidgets": {},
     "nuid": "f01c5d20-2ebb-4015-a308-7ef6894a90ab",
     "showTitle": false,
     "tableResultSettingsMap": {},
     "title": ""
    }
   },
   "source": [
    "# Databricks Unity Catalog - Table ACL\n",
    "\n",
    "<img src=\"https://github.com/databricks-demos/dbdemos-resources/blob/main/images/product/uc/uc-base-0.png?raw=true\" style=\"float: right\" width=\"500px\"/> \n",
    "\n",
    "The main feature of Unity Catalog is to provide you an easy way to setup Table ACL (Access Control Level), but also build Dynamic Views based on each individual permission.\n",
    "\n",
    "Typically, Analysts will only have access to customers from their country and won't be able to read GDPR/Sensitive informations (like email, firstname etc.)\n",
    "\n",
    "A typical workflow in the Lakehouse architecture is the following:\n",
    "\n",
    "* Data Engineers / Jobs can read and update the main data/schemas (ETL part)\n",
    "* Data Scientists can read the final tables and update their features tables\n",
    "* Data Analyst have READ access to the Data Engineering and Feature Tables and can ingest/transform additional data in a separate schema.\n",
    "* Data is masked/anonymized dynamically based on each user access level\n",
    "\n",
    "With Unity Catalog, your tables, users and groups are defined at the account level, cross workspaces. Ideal to deploy and operate a Lakehouse Platform across all your teams.\n",
    "\n",
    "Let's see how this can be done with the Unity Catalog\n",
    "\n",
    "<!-- Collect usage data (view). Remove it to disable collection. View README for more details.  -->\n",
    "<img width=\"1px\" src=\"https://ppxrzfxige.execute-api.us-west-2.amazonaws.com/v1/analytics?category=governance&org_id=3759185753378633&notebook=%2F00-UC-Table-ACL&demo_name=uc-01-acl&event=VIEW&path=%2F_dbdemos%2Fgovernance%2Fuc-01-acl%2F00-UC-Table-ACL&version=1\">"
   ]
  },
  {
   "cell_type": "markdown",
   "metadata": {
    "application/vnd.databricks.v1+cell": {
     "cellMetadata": {},
     "inputWidgets": {},
     "nuid": "2f88e440-0631-4c9b-aba4-16be9a0e935a",
     "showTitle": false,
     "tableResultSettingsMap": {},
     "title": null
    }
   },
   "source": [
    "### A cluster has been created for this demo\n",
    "To run this demo, just select the cluster `dbdemos-uc-01-acl-maynard` from the dropdown menu ([open cluster configuration](https://adb-3759185753378633.13.azuredatabricks.net/#setting/clusters/0601-075249-kvumx2hn/configuration)). <br />\n",
    "*Note: If the cluster was deleted after 30 days, you can re-create it with `dbdemos.create_cluster('uc-01-acl')` or re-install the demo: `dbdemos.install('uc-01-acl')`*"
   ]
  },
  {
   "cell_type": "markdown",
   "metadata": {
    "application/vnd.databricks.v1+cell": {
     "cellMetadata": {},
     "inputWidgets": {},
     "nuid": "ae211b2a-7651-4368-939f-0d733ee0f2af",
     "showTitle": false,
     "tableResultSettingsMap": {},
     "title": ""
    }
   },
   "source": [
    "## Cluster setup for UC\n",
    "\n",
    "<img src=\"https://github.com/databricks-demos/dbdemos-resources/blob/main/images/product/uc/clusters_assigned.png?raw=true\" style=\"float: right\" width=\"500px\"/>\n",
    "\n",
    "\n",
    "To be able to run this demo, make sure you create a cluster with the security mode enabled.\n",
    "\n",
    "Go in the compute page, create a new cluster.\n",
    "\n",
    "Under \"Access mode\", select \"Single User\" and your UC-user (the user needs to exist at the workspace and the account level)"
   ]
  },
  {
   "cell_type": "code",
   "execution_count": 0,
   "metadata": {
    "application/vnd.databricks.v1+cell": {
     "cellMetadata": {},
     "inputWidgets": {},
     "nuid": "dbccbede-ae04-45cb-98ce-a3aafa589a17",
     "showTitle": true,
     "tableResultSettingsMap": {},
     "title": "Initialize the demo dataset"
    },
    "jupyter": {
     "outputs_hidden": true
    }
   },
   "outputs": [],
   "source": [
    "%run ./_resources/00-setup"
   ]
  },
  {
   "cell_type": "markdown",
   "metadata": {
    "application/vnd.databricks.v1+cell": {
     "cellMetadata": {},
     "inputWidgets": {},
     "nuid": "ea00c01f-e6dc-4187-acfa-7f20d49fa094",
     "showTitle": false,
     "tableResultSettingsMap": {},
     "title": ""
    }
   },
   "source": [
    "## Creating the CATALOG\n",
    "\n",
    "<img src=\"https://github.com/databricks-demos/dbdemos-resources/blob/main/images/product/uc/uc-base-1.png?raw=true\" style=\"float: right\" width=\"800px\"/> \n",
    "\n",
    "The first step is to create a new catalog.\n",
    "\n",
    "Unity Catalog works with 3 layers:\n",
    "\n",
    "* CATALOG\n",
    "* SCHEMA (or DATABASE)\n",
    "* TABLE\n",
    "\n",
    "To access one table, you can specify the full path: `SELECT * FROM &lt;CATALOG&gt;.&lt;SCHEMA&gt;.&lt;TABLE&gt;`\n",
    "\n",
    "Note that the tables created before Unity Catalog are saved under the catalog named `hive_metastore`. Unity Catalog features are not available for this catalog.\n",
    "\n",
    "Note that Unity Catalog comes in addition to your existing data, not hard change required!"
   ]
  },
  {
   "cell_type": "code",
   "execution_count": 0,
   "metadata": {
    "application/vnd.databricks.v1+cell": {
     "cellMetadata": {},
     "inputWidgets": {},
     "nuid": "07ff06a9-d51f-4792-bca9-a295da7f9fc8",
     "showTitle": false,
     "tableResultSettingsMap": {},
     "title": ""
    }
   },
   "outputs": [],
   "source": [
    "%python\n",
    "#The demo will create and use the catalog defined:\n",
    "# see the catalog value in the ./config file\n",
    "spark.sql(f'CREATE CATALOG IF NOT EXISTS {catalog}');\n",
    "#Make it default for future usage (we won't have to specify it)\n",
    "spark.sql(f'USE CATALOG main');"
   ]
  },
  {
   "cell_type": "code",
   "execution_count": 0,
   "metadata": {
    "application/vnd.databricks.v1+cell": {
     "cellMetadata": {},
     "inputWidgets": {},
     "nuid": "3df0390d-b90a-4983-abc8-7810ce5ec77c",
     "showTitle": false,
     "tableResultSettingsMap": {},
     "title": ""
    }
   },
   "outputs": [],
   "source": [
    "-- the catalog has been created for your user and is defined as default. All shares will be created inside.\n",
    "-- make sure you run the 00-setup cell above to init the catalog to your user. \n",
    "SELECT CURRENT_CATALOG();"
   ]
  },
  {
   "cell_type": "markdown",
   "metadata": {
    "application/vnd.databricks.v1+cell": {
     "cellMetadata": {},
     "inputWidgets": {},
     "nuid": "9be7a1ca-5c5a-4db5-ac01-fee288334e0e",
     "showTitle": false,
     "tableResultSettingsMap": {},
     "title": ""
    }
   },
   "source": [
    "## Creating the SCHEMA\n",
    "Next, we need to create the SCHEMA (or DATABASE).\n",
    "\n",
    "Unity catalog provide the standard GRANT SQL syntax. We'll use it to GRANT CREATE and USAGE on our SCHEMA to all the users for this demo.\n",
    "\n",
    "They'll be able to create extra table into this schema."
   ]
  },
  {
   "cell_type": "code",
   "execution_count": 0,
   "metadata": {
    "application/vnd.databricks.v1+cell": {
     "cellMetadata": {},
     "inputWidgets": {},
     "nuid": "39fa1e5b-ea54-443f-aefe-e7c34e8fb944",
     "showTitle": false,
     "tableResultSettingsMap": {},
     "title": ""
    }
   },
   "outputs": [],
   "source": [
    "%python\n",
    "# see schema value in the ./config file\n",
    "spark.sql(f'CREATE SCHEMA IF NOT EXISTS {schema}');\n",
    "spark.sql(f'USE SCHEMA {schema}');"
   ]
  },
  {
   "cell_type": "markdown",
   "metadata": {
    "application/vnd.databricks.v1+cell": {
     "cellMetadata": {},
     "inputWidgets": {},
     "nuid": "16f6c584-fb03-443c-8d12-a3ad1c917e52",
     "showTitle": false,
     "tableResultSettingsMap": {},
     "title": ""
    }
   },
   "source": [
    "## Creating our table\n",
    "\n",
    "We're all set! We can use standard SQL to create our tables.\n",
    "\n",
    "We'll use a customers dataset, loading data about users (id, email etc...)\n",
    "\n",
    "Because we want our demo to be available for all, we'll grant full privilege to the table to all USERS.\n",
    "\n",
    "Note that the table owner is the current user. Owners have full permissions.<br/>\n",
    "If you want to change the owner you can set it as following: ```ALTER TABLE <catalog>.uc_acl.customers OWNER TO `account users`;```"
   ]
  },
  {
   "cell_type": "code",
   "execution_count": 0,
   "metadata": {
    "application/vnd.databricks.v1+cell": {
     "cellMetadata": {},
     "inputWidgets": {},
     "nuid": "08d7188d-f246-4f01-901c-dbccf703b105",
     "showTitle": false,
     "tableResultSettingsMap": {},
     "title": ""
    }
   },
   "outputs": [],
   "source": [
    "CREATE TABLE IF NOT EXISTS customers (\n",
    "  id STRING,\n",
    "  creation_date STRING,\n",
    "  firstname STRING,\n",
    "  lastname STRING,\n",
    "  country STRING,\n",
    "  email STRING,\n",
    "  address STRING,\n",
    "  gender DOUBLE,\n",
    "  age_group DOUBLE);\n",
    "-- GRANT SELECT, MODIFY on TABLE customers TO `account users`;  -- for the demo only, allow all users to edit the table - don't do that in production!"
   ]
  },
  {
   "cell_type": "markdown",
   "metadata": {
    "application/vnd.databricks.v1+cell": {
     "cellMetadata": {},
     "inputWidgets": {},
     "nuid": "64ee3dc3-5d0a-4dcd-b358-9de4f63e7838",
     "showTitle": false,
     "tableResultSettingsMap": {},
     "title": ""
    }
   },
   "source": [
    "## Our customer data was filled for us!\n",
    "\n",
    "The initialization cell already filled the table for us with fake data for the demo, let's review it's content."
   ]
  },
  {
   "cell_type": "code",
   "execution_count": 0,
   "metadata": {
    "application/vnd.databricks.v1+cell": {
     "cellMetadata": {},
     "inputWidgets": {},
     "nuid": "081a8ff9-a061-4532-a4ae-bb209f04eea7",
     "showTitle": false,
     "tableResultSettingsMap": {},
     "title": ""
    }
   },
   "outputs": [],
   "source": [
    "SELECT * FROM  customers"
   ]
  },
  {
   "cell_type": "markdown",
   "metadata": {
    "application/vnd.databricks.v1+cell": {
     "cellMetadata": {},
     "inputWidgets": {},
     "nuid": "f26eda13-8da9-401a-be25-bf462502082e",
     "showTitle": false,
     "tableResultSettingsMap": {},
     "title": ""
    }
   },
   "source": [
    "## Granting users or group access\n",
    "\n",
    "Let's now use Unity Catalog to GRANT permission on the table.\n",
    "\n",
    "Unity catalog let you GRANT standard SQL permission to your objects, using the Unity Catalog users or group:\n",
    "\n",
    "### Creating groups\n",
    "\n",
    "Databricks groups can be created at the account level using the Account Admin UI, or the SCIM API. Here, we created the `dataengineers` group for this demo.\n",
    "\n",
    "*Note on workspace-level groups: you can also create groups at a workspace level, however, we recommend managing permissions with UC at an account level.*"
   ]
  },
  {
   "cell_type": "code",
   "execution_count": 0,
   "metadata": {
    "application/vnd.databricks.v1+cell": {
     "cellMetadata": {},
     "inputWidgets": {},
     "nuid": "fb1c1e63-fd73-4cdb-8234-311994065b7a",
     "showTitle": false,
     "tableResultSettingsMap": {},
     "title": ""
    }
   },
   "outputs": [],
   "source": [
    "-- Let's grant all users a SELECT\n",
    "-- GRANT SELECT ON TABLE customers TO `account users`; -- skip it for the demo, uncomment to make it available to all users!\n",
    "\n",
    "-- We'll grant an extra MODIFY to our Data Engineer\n",
    "-- Note: make sure you created the dataengineers group first as an account admin!\n",
    "GRANT SELECT, MODIFY ON TABLE customers TO `dataengineers`;"
   ]
  },
  {
   "cell_type": "code",
   "execution_count": 0,
   "metadata": {
    "application/vnd.databricks.v1+cell": {
     "cellMetadata": {},
     "inputWidgets": {},
     "nuid": "f396f48a-454e-4b32-b818-7b28620fb912",
     "showTitle": false,
     "tableResultSettingsMap": {},
     "title": ""
    }
   },
   "outputs": [],
   "source": [
    "SHOW GRANTS ON TABLE customers"
   ]
  },
  {
   "cell_type": "markdown",
   "metadata": {
    "application/vnd.databricks.v1+cell": {
     "cellMetadata": {},
     "inputWidgets": {},
     "nuid": "067d5582-5b99-448d-8733-f3cfe07d379e",
     "showTitle": false,
     "tableResultSettingsMap": {},
     "title": ""
    }
   },
   "source": [
    "## Conclusion\n",
    "\n",
    "Unity Catalog gives you Table ACL permissions, leveraging users, group and table across multiple workspaces.\n",
    "\n",
    "But UC not only gives you control over Tables. You can do more advanced permission and data access pattern such as dynamic masking at the row level.\n",
    "\n",
    "### Next: Fine Grain Access control\n",
    "\n",
    "Databricks Unity Catalog provides built-in capabilities to add dynamic masking on columns or rows.\n",
    "\n",
    "Let's see how this can be done in the [01-Row-Column-access-control notebook ]($./01-Row-Column-access-control)."
   ]
  }
 ],
 "metadata": {
  "application/vnd.databricks.v1+notebook": {
   "computePreferences": null,
   "dashboards": [],
   "environmentMetadata": {
    "environment_version": "2"
   },
   "inputWidgetPreferences": null,
   "language": "sql",
   "notebookMetadata": {
    "pythonIndentUnit": 2
   },
   "notebookName": "00-UC-Table-ACL",
   "widgets": {}
  },
  "language_info": {
   "name": "sql"
  }
 },
 "nbformat": 4,
 "nbformat_minor": 0
}
