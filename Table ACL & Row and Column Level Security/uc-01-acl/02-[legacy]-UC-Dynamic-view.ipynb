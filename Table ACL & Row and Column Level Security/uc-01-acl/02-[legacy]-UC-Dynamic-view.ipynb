{
 "cells": [
  {
   "cell_type": "markdown",
   "metadata": {
    "application/vnd.databricks.v1+cell": {
     "cellMetadata": {},
     "inputWidgets": {},
     "nuid": "fb7e5c6e-be98-42cd-9092-8e64b7a85fbb",
     "showTitle": false,
     "tableResultSettingsMap": {},
     "title": ""
    }
   },
   "source": [
    "# Dynamic views: Securing data at the row level using Databricks Unity Catalog\n",
    "\n",
    "**Note: using dynamic view was the solution before Row level and column-level masking with SQL FUNCTIONS**\n",
    "\n",
    "**We recommend using the previous [01-Row-Column-access-control]($./01-Row-Column-access-control) notebook over adding dynamic views when possible.**\n",
    "\n",
    "As seen in the previous notebook, Unity Catalog let you grant table ACL using standard SQL GRANT on all the objects (CATALOG, SCHEMA, TABLE)\n",
    "\n",
    "But this alone isn't enough. UC let you create more advanced access pattern to dynamically filter your data based on who query it.\n",
    "\n",
    "This is usefull to mask sensitive PII information, or restrict access to a subset of data without having to create and maintain multiple tables.\n",
    "\n",
    "*Note that Unity Catalog will provide more advanced data masking capabilities in the future, this demo covers what can be done now.*\n",
    "\n",
    "*Note: This is currently only supported with shared cluster (python/SQL). Single node requires access to the underlying view*\n",
    "\n",
    "See the [documentation](https://docs.databricks.com/security/access-control/table-acls/object-privileges.html#dynamic-view-functions) for more details.\n",
    "\n",
    "<!-- Collect usage data (view). Remove it to disable collection. View README for more details.  -->\n",
    "<img width=\"1px\" src=\"https://ppxrzfxige.execute-api.us-west-2.amazonaws.com/v1/analytics?category=governance&org_id=3759185753378633&notebook=%2F02-%5Blegacy%5D-UC-Dynamic-view&demo_name=uc-01-acl&event=VIEW&path=%2F_dbdemos%2Fgovernance%2Fuc-01-acl%2F02-%5Blegacy%5D-UC-Dynamic-view&version=1\">"
   ]
  },
  {
   "cell_type": "markdown",
   "metadata": {
    "application/vnd.databricks.v1+cell": {
     "cellMetadata": {},
     "inputWidgets": {},
     "nuid": "c5067148-a801-4a37-9177-508639c33165",
     "showTitle": false,
     "tableResultSettingsMap": {},
     "title": null
    }
   },
   "source": [
    "### A cluster has been created for this demo\n",
    "To run this demo, just select the cluster `dbdemos-uc-01-acl-maynard` from the dropdown menu ([open cluster configuration](https://adb-3759185753378633.13.azuredatabricks.net/#setting/clusters/0601-075249-kvumx2hn/configuration)). <br />\n",
    "*Note: If the cluster was deleted after 30 days, you can re-create it with `dbdemos.create_cluster('uc-01-acl')` or re-install the demo: `dbdemos.install('uc-01-acl')`*"
   ]
  },
  {
   "cell_type": "markdown",
   "metadata": {
    "application/vnd.databricks.v1+cell": {
     "cellMetadata": {},
     "inputWidgets": {},
     "nuid": "c70e9a8b-cc48-44b2-82c0-17204ed5f3d0",
     "showTitle": false,
     "tableResultSettingsMap": {},
     "title": ""
    }
   },
   "source": [
    "## Cluster setup for UC\n",
    "\n",
    "<img src=\"https://github.com/databricks-demos/dbdemos-resources/blob/main/images/product/uc/clusters_shared.png?raw=true\" width=\"600\" style=\"float: right\"/>\n",
    "\n",
    "To be able to run this demo, make sure you create a cluster with the security mode enabled.\n",
    "\n",
    "1. Go in the compute page, create a new cluster\n",
    "\n",
    "2. Under \"Access mode\", select \"Shared\""
   ]
  },
  {
   "cell_type": "code",
   "execution_count": 0,
   "metadata": {
    "application/vnd.databricks.v1+cell": {
     "cellMetadata": {},
     "inputWidgets": {},
     "nuid": "60e3d7b1-4df4-4978-a2be-483255a8b630",
     "showTitle": false,
     "tableResultSettingsMap": {},
     "title": ""
    },
    "jupyter": {
     "outputs_hidden": true
    }
   },
   "outputs": [],
   "source": [
    "%run ./_resources/00-setup"
   ]
  },
  {
   "cell_type": "markdown",
   "metadata": {
    "application/vnd.databricks.v1+cell": {
     "cellMetadata": {},
     "inputWidgets": {},
     "nuid": "194773a2-ccd2-4b89-97bb-fd3e06da355a",
     "showTitle": false,
     "tableResultSettingsMap": {},
     "title": ""
    }
   },
   "source": [
    "## Current user and is member (group)\n",
    "\n",
    "Databricks has 2 functions: `current_user()` and `is_account_group_member()`.\n",
    "\n",
    "Theses functions can be used to dynamically get the user running the query and knowing if the user is member of a give group."
   ]
  },
  {
   "cell_type": "code",
   "execution_count": 0,
   "metadata": {
    "application/vnd.databricks.v1+cell": {
     "cellMetadata": {},
     "inputWidgets": {},
     "nuid": "3b50c7ef-0820-42a9-96f8-02e20925330b",
     "showTitle": true,
     "tableResultSettingsMap": {},
     "title": "Getting the current user"
    }
   },
   "outputs": [],
   "source": [
    "SELECT current_user();"
   ]
  },
  {
   "cell_type": "code",
   "execution_count": 0,
   "metadata": {
    "application/vnd.databricks.v1+cell": {
     "cellMetadata": {},
     "inputWidgets": {},
     "nuid": "e16e2fae-bf31-4515-809c-82fa5e65912c",
     "showTitle": true,
     "tableResultSettingsMap": {},
     "title": "Am I member of the ANALYST_USA and ANALYST_FR group defined at the account level?"
    }
   },
   "outputs": [],
   "source": [
    "-- Note: The account should have been setup by adding all users to the ANALYST_USA group\n",
    "SELECT is_account_group_member('account users'), is_account_group_member('ANALYST_USA'), is_account_group_member('ANALYST_FR');"
   ]
  },
  {
   "cell_type": "markdown",
   "metadata": {
    "application/vnd.databricks.v1+cell": {
     "cellMetadata": {},
     "inputWidgets": {},
     "nuid": "99a7d778-cd17-4edd-be43-f03c22cd40d9",
     "showTitle": false,
     "tableResultSettingsMap": {},
     "title": ""
    }
   },
   "source": [
    "## Dynamic Views: Restricting data to a subset based on a field\n",
    "\n",
    "We'll be using the previous customers table. Let's review it's content first.\n",
    "\n",
    "*Note: Make sure you run the [previous notebook]($00-UC-Table-ACL) first*"
   ]
  },
  {
   "cell_type": "code",
   "execution_count": 0,
   "metadata": {
    "application/vnd.databricks.v1+cell": {
     "cellMetadata": {},
     "inputWidgets": {},
     "nuid": "c9f55cc0-ab36-4813-84d3-efea3a338a07",
     "showTitle": false,
     "tableResultSettingsMap": {},
     "title": ""
    }
   },
   "outputs": [],
   "source": [
    "SELECT * FROM customers"
   ]
  },
  {
   "cell_type": "markdown",
   "metadata": {
    "application/vnd.databricks.v1+cell": {
     "cellMetadata": {},
     "inputWidgets": {},
     "nuid": "c166d338-808f-43f3-b2e1-2e9c10920d45",
     "showTitle": false,
     "tableResultSettingsMap": {},
     "title": ""
    }
   },
   "source": [
    "As you can see, this table has a `country`field. We want to be able to restrict the table access based in this country.\n",
    "\n",
    "Data Analyst and Data Scientists in USA can only access the local Dataset, same for the FR team.\n",
    "\n",
    "### Using groups\n",
    "One option to do that would be to create groups in the Unity Catalog. We can name the groups as the concatenation of `CONCAT(\"ANALYST_\", country)`:\n",
    "* `ANALYST_FR`\n",
    "* `ANALYST_USA`. \n",
    "* `ANALYST_SPAIN`. \n",
    "\n",
    "You can then add a view with `CASE ... WHEN` statement based on your groups to define when the data can be accessed.\n",
    "\n",
    "See the [documentation](https://docs.databricks.com/security/access-control/table-acls/object-privileges.html#dynamic-view-functions) for more details on that.\n",
    "\n",
    "But what makes the `is_member()` function powerful is that you can combine it with a column. Let's see how we can use it to dynamically check access based on the row.\n",
    " \n",
    "We'll create a field named `group_name` as the concatenation of ANALYST and the country, and then for each value check if the current user is a member of this group:"
   ]
  },
  {
   "cell_type": "code",
   "execution_count": 0,
   "metadata": {
    "application/vnd.databricks.v1+cell": {
     "cellMetadata": {},
     "inputWidgets": {},
     "nuid": "eb1e84f7-737d-429d-91f8-4b39fce0ad9a",
     "showTitle": false,
     "tableResultSettingsMap": {},
     "title": ""
    }
   },
   "outputs": [],
   "source": [
    "-- as ANALYST from the USA (ANALYST_USA group), each USA row are now at \"true\"\n",
    "SELECT is_account_group_member(group_name), * FROM (\n",
    "  SELECT CONCAT(\"ANALYST_\", country) AS group_name, country, id, firstname FROM customers)"
   ]
  },
  {
   "cell_type": "markdown",
   "metadata": {
    "application/vnd.databricks.v1+cell": {
     "cellMetadata": {},
     "inputWidgets": {},
     "nuid": "56fe80a4-a672-45c3-84ff-7a59f0522715",
     "showTitle": false,
     "tableResultSettingsMap": {},
     "title": ""
    }
   },
   "source": [
    "As you can see, we are not admin on any of these group.\n",
    "We can create a view securiting this data and only grant our analyst access to this view: "
   ]
  },
  {
   "cell_type": "code",
   "execution_count": 0,
   "metadata": {
    "application/vnd.databricks.v1+cell": {
     "cellMetadata": {},
     "inputWidgets": {},
     "nuid": "6b6a77a2-bd1a-434d-844c-87d183e72464",
     "showTitle": false,
     "tableResultSettingsMap": {},
     "title": ""
    }
   },
   "outputs": [],
   "source": [
    "CREATE OR REPLACE VIEW customer_dynamic_view  AS (\n",
    "  SELECT * FROM customers as customers WHERE is_account_group_member(CONCAT(\"ANALYST_\", country))\n",
    ");\n",
    "-- Then grant select access on the view only\n",
    "GRANT SELECT ON VIEW customer_dynamic_view TO `account users`;"
   ]
  },
  {
   "cell_type": "markdown",
   "metadata": {
    "application/vnd.databricks.v1+cell": {
     "cellMetadata": {},
     "inputWidgets": {},
     "nuid": "7b2e25a1-ca0c-4fa2-91c0-83577b2e1663",
     "showTitle": false,
     "tableResultSettingsMap": {},
     "title": ""
    }
   },
   "source": [
    "Because we're not part of any group, we won't have access to the data. Users being in the `ANALYST_FR` group will have a filter to access only the FR country.\n",
    "\n",
    "All we have to do now is add our users to the groups to be able to have access"
   ]
  },
  {
   "cell_type": "code",
   "execution_count": 0,
   "metadata": {
    "application/vnd.databricks.v1+cell": {
     "cellMetadata": {},
     "inputWidgets": {},
     "nuid": "6c89781a-5e60-4abc-ba54-d35e288eb5f6",
     "showTitle": false,
     "tableResultSettingsMap": {},
     "title": ""
    }
   },
   "outputs": [],
   "source": [
    "-- We should be part of the ANALYST_USA group. As result, we now have a row-level filter applied in our secured view and we only see the USA country:\n",
    "select * from customer_dynamic_view"
   ]
  },
  {
   "cell_type": "markdown",
   "metadata": {
    "application/vnd.databricks.v1+cell": {
     "cellMetadata": {},
     "inputWidgets": {},
     "nuid": "495e0002-f9d8-4efb-890e-e667f094bff7",
     "showTitle": false,
     "tableResultSettingsMap": {},
     "title": ""
    }
   },
   "source": [
    "## Dynamic Views & data masking\n",
    "\n",
    "The country example was a first level of row-level security implementation. We can implement more advances features using the same pattern.\n",
    "\n",
    "Let's see how Dynamic views can also be used to add data masking. For this example we'll be using the `current_user()` functions.\n",
    "\n",
    "Let's create a table with all our current analyst permission including a GDPR permission flag: `analyst_permissions`.\n",
    "\n",
    "This table has 3 field:\n",
    "\n",
    "* `analyst_email`: to identify the analyst (we could work with groups instead)\n",
    "* `country_filter`: we'll filter the dataset based on this value\n",
    "* `gdpr_filter`: if true, we'll filter the PII information from the table. If not set the user can see all the information\n",
    "\n",
    "*Of course this could be implemented with the previous `is_account_group_member()` function instead of individual users information being saved in a permission tale.*\n",
    "\n",
    "Let's query this table and check our current user permissions. As you can see I don't have GDPR filter enabled and a filter on FR is applied for me in the permission table we created."
   ]
  },
  {
   "cell_type": "code",
   "execution_count": 0,
   "metadata": {
    "application/vnd.databricks.v1+cell": {
     "cellMetadata": {},
     "inputWidgets": {},
     "nuid": "54eeec6c-11f2-4c69-9066-c07c52208259",
     "showTitle": false,
     "tableResultSettingsMap": {},
     "title": ""
    }
   },
   "outputs": [],
   "source": [
    "select * from analyst_permissions where analyst_email = current_user()"
   ]
  },
  {
   "cell_type": "code",
   "execution_count": 0,
   "metadata": {
    "application/vnd.databricks.v1+cell": {
     "cellMetadata": {},
     "inputWidgets": {},
     "nuid": "00770929-5d1e-4efd-a6d7-9d6c319e486c",
     "showTitle": true,
     "tableResultSettingsMap": {},
     "title": "Let's create the secure view to filter PII information and country based on the analyst permission"
    }
   },
   "outputs": [],
   "source": [
    "CREATE OR REPLACE VIEW customer_dynamic_view_gdpr AS (\n",
    "  SELECT \n",
    "  id ,\n",
    "  creation_date,\n",
    "  country,\n",
    "  gender,\n",
    "  age_group,\n",
    "  CASE WHEN country.gdpr_filter=1 THEN sha1(firstname) ELSE firstname END AS firstname,\n",
    "  CASE WHEN country.gdpr_filter=1 THEN sha1(lastname)  ELSE lastname  END AS lastname,\n",
    "  CASE WHEN country.gdpr_filter=1 THEN sha1(email)     ELSE email     END AS email\n",
    "  FROM \n",
    "    customers as customers INNER JOIN \n",
    "    analyst_permissions country  ON country_filter=country\n",
    "  WHERE \n",
    "    country.analyst_email=current_user() \n",
    ");\n",
    "-- Then grant select access on the view only\n",
    "GRANT SELECT ON VIEW customer_dynamic_view_gdpr TO `account users`;\n"
   ]
  },
  {
   "cell_type": "markdown",
   "metadata": {
    "application/vnd.databricks.v1+cell": {
     "cellMetadata": {},
     "inputWidgets": {},
     "nuid": "7cfbfee3-d59c-4185-b5b3-b0c32502bac9",
     "showTitle": false,
     "tableResultSettingsMap": {},
     "title": ""
    }
   },
   "source": [
    "## Querying the secured view\n",
    "Let's now query the view. Because I've a filter on `COUNTRY=FR`and `gdpr_filter=0`, I'll see all the FR customers information. "
   ]
  },
  {
   "cell_type": "code",
   "execution_count": 0,
   "metadata": {
    "application/vnd.databricks.v1+cell": {
     "cellMetadata": {},
     "inputWidgets": {},
     "nuid": "d7ff26fe-c971-4ec9-9bca-f9840f84e0ed",
     "showTitle": false,
     "tableResultSettingsMap": {},
     "title": ""
    }
   },
   "outputs": [],
   "source": [
    "%sql select * from customer_dynamic_view_gdpr "
   ]
  },
  {
   "cell_type": "markdown",
   "metadata": {
    "application/vnd.databricks.v1+cell": {
     "cellMetadata": {},
     "inputWidgets": {},
     "nuid": "de486a8f-6c21-471a-8a25-582bfda7cd68",
     "showTitle": false,
     "tableResultSettingsMap": {},
     "title": ""
    }
   },
   "source": [
    "Let's now change my permission. We'll enable the `gdpr_filter` flag and change our `country_filter` to USA.\n",
    "\n",
    "As you can see, requesting the same secured view now returns all the USA customers, and PII information has been obfuscated:"
   ]
  },
  {
   "cell_type": "code",
   "execution_count": 0,
   "metadata": {
    "application/vnd.databricks.v1+cell": {
     "cellMetadata": {},
     "inputWidgets": {},
     "nuid": "332eeb58-495f-4ff0-bea0-2b13c3b4b76c",
     "showTitle": false,
     "tableResultSettingsMap": {},
     "title": ""
    }
   },
   "outputs": [],
   "source": [
    "UPDATE analyst_permissions SET country_filter='USA', gdpr_filter=1 where analyst_email=current_user();\n",
    "\n",
    "select * from customer_dynamic_view_gdpr ;"
   ]
  },
  {
   "cell_type": "markdown",
   "metadata": {
    "application/vnd.databricks.v1+cell": {
     "cellMetadata": {},
     "inputWidgets": {},
     "nuid": "edbad880-795c-4640-9ee0-5658b2964ae4",
     "showTitle": false,
     "tableResultSettingsMap": {},
     "title": ""
    }
   },
   "source": [
    "## Conclusion\n",
    "\n",
    "As we've seen, data masking and filtering can be implemented at a row level using groups, users and even extra table that you can use to manage more advanced permissions.\n",
    "\n",
    "You're now ready to deploy the Lakehouse for your entire organisation, securing data based on your own governance, ensuring PII regulation and governance."
   ]
  }
 ],
 "metadata": {
  "application/vnd.databricks.v1+notebook": {
   "computePreferences": null,
   "dashboards": [],
   "environmentMetadata": {
    "environment_version": "2"
   },
   "inputWidgetPreferences": null,
   "language": "sql",
   "notebookMetadata": {
    "pythonIndentUnit": 2
   },
   "notebookName": "02-[legacy]-UC-Dynamic-view",
   "widgets": {}
  },
  "language_info": {
   "name": "sql"
  }
 },
 "nbformat": 4,
 "nbformat_minor": 0
}
