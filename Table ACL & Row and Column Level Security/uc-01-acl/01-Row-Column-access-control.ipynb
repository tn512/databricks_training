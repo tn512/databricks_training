{
 "cells": [
  {
   "cell_type": "markdown",
   "metadata": {
    "application/vnd.databricks.v1+cell": {
     "cellMetadata": {},
     "inputWidgets": {},
     "nuid": "7d4c9ba7-7b58-4714-b520-511393fb5188",
     "showTitle": false,
     "tableResultSettingsMap": {},
     "title": ""
    }
   },
   "source": [
    "\n",
    "# 🛡️ Row and column level access control with Databricks Unity Catalog\n",
    "\n",
    "In this demo, you'll learn how to harness the power of Unity Catalog to secure your data at a more granular level using its *row-level* and *column-level* access control capabilities.\n",
    "\n",
    "\n",
    "## Row level access control \n",
    "\n",
    "<img src=\"https://github.com/databricks-demos/dbdemos-resources/blob/main/images/product/uc/acls/table_uc_rls.png?raw=true\" width=\"200\" style=\"float: right; margin-top: 20; margin-right: 20\" alt=\"databricks-demos\"/>\n",
    "\n",
    "Row-level security allows you to automatically hide a subset of your rows based on who is attempting to query it, without having to maintain any seperate copies of your data.\n",
    "\n",
    "A typical use-case would be to filter out rows based on your country or Business Unit : you only see the data (financial transactions, orders, customer information...) pertaining to your region, thus preventing you from having access to the entire dataset.\n",
    "\n",
    "💡 While this filter can be applied at the user / principal level, it is recommended to implement access policies using groups instead.\n",
    "<br style=\"clear: both\"/>\n",
    "\n",
    "<img src=\"https://github.com/databricks-demos/dbdemos-resources/blob/main/images/product/uc/acls/table_uc_cls.png?raw=true\" width=\"200\" style=\"float: right; margin-top: 20; margin-right: 20; margin-left: 20\" alt=\"databricks-demos\"/>\n",
    "\n",
    "## Column Level access control \n",
    "\n",
    "Similarly, column-level access control helps you mask or anonymise the data that is in certain columns of your table, depending on the user or service principal that is trying to access it. This is typically used to mask or remove sensitive PII informations from your end users (email, SSN...).\n",
    "\n",
    "<!-- Collect usage data (view). Remove it to disable collection. View README for more details.  -->\n",
    "<img width=\"1px\" src=\"https://ppxrzfxige.execute-api.us-west-2.amazonaws.com/v1/analytics?category=governance&org_id=3759185753378633&notebook=%2F01-Row-Column-access-control&demo_name=uc-01-acl&event=VIEW&path=%2F_dbdemos%2Fgovernance%2Fuc-01-acl%2F01-Row-Column-access-control&version=1\">"
   ]
  },
  {
   "cell_type": "markdown",
   "metadata": {
    "application/vnd.databricks.v1+cell": {
     "cellMetadata": {},
     "inputWidgets": {},
     "nuid": "e3a81869-10c3-4f4f-a6ab-5ead72607be7",
     "showTitle": false,
     "tableResultSettingsMap": {},
     "title": null
    }
   },
   "source": [
    "### A cluster has been created for this demo\n",
    "To run this demo, just select the cluster `dbdemos-uc-01-acl-maynard` from the dropdown menu ([open cluster configuration](https://adb-3759185753378633.13.azuredatabricks.net/#setting/clusters/0601-075249-kvumx2hn/configuration)). <br />\n",
    "*Note: If the cluster was deleted after 30 days, you can re-create it with `dbdemos.create_cluster('uc-01-acl')` or re-install the demo: `dbdemos.install('uc-01-acl')`*"
   ]
  },
  {
   "cell_type": "markdown",
   "metadata": {
    "application/vnd.databricks.v1+cell": {
     "cellMetadata": {},
     "inputWidgets": {},
     "nuid": "ed60b8dd-1062-434e-a599-ad31404a04aa",
     "showTitle": false,
     "tableResultSettingsMap": {},
     "title": ""
    }
   },
   "source": [
    "\n",
    "## 1. Prepare the demo"
   ]
  },
  {
   "cell_type": "markdown",
   "metadata": {
    "application/vnd.databricks.v1+cell": {
     "cellMetadata": {},
     "inputWidgets": {},
     "nuid": "d0ac1ed6-9b89-46db-adbb-3d6097ba97b7",
     "showTitle": false,
     "tableResultSettingsMap": {},
     "title": ""
    }
   },
   "source": [
    "### 1.1 Cluster setup for UC\n",
    "\n",
    "<img src=\"https://github.com/databricks-demos/dbdemos-resources/blob/main/images/product/uc/clusters_shared.png?raw=true\" width=\"500px\" style=\"float: right\"/>\n",
    "\n",
    "To be able to run this demo, make sure you create a cluster with the shared security mode enabled.\n",
    "\n",
    "1. Go in the compute page, create a new cluster\n",
    "2. Under **\"Access mode\"**, select **\"Shared\"**\n",
    "\n",
    "Just like dynamic views, Row Level and Column Level access control are only supported on Shared clusters for now (will soon be available everywhere)."
   ]
  },
  {
   "cell_type": "markdown",
   "metadata": {
    "application/vnd.databricks.v1+cell": {
     "cellMetadata": {},
     "inputWidgets": {},
     "nuid": "c6596c59-7ebf-4829-a934-02c3733431bb",
     "showTitle": false,
     "tableResultSettingsMap": {},
     "title": ""
    }
   },
   "source": [
    "### 1.2 This demo uses groups to showcase fine grained access control.\n",
    "\n",
    "To see the desired results for this demo, this notebook assumes that the user \n",
    "-  __is__ a member of groups `ANALYST_USA` and `region_admin_SPAIN`\n",
    "-  is __not__ a member of groups `bu_admin` and `fr_analysts`\n",
    "\n",
    "If you are not a member of these groups, add yourself (or ask an admin) via workspace admin console:\n",
    "\n",
    "__Workspace settings / Identity and access / Groups__"
   ]
  },
  {
   "cell_type": "code",
   "execution_count": 0,
   "metadata": {
    "application/vnd.databricks.v1+cell": {
     "cellMetadata": {},
     "inputWidgets": {},
     "nuid": "6aa03b0a-15c8-43f8-9d3c-0b927d949c5a",
     "showTitle": false,
     "tableResultSettingsMap": {},
     "title": ""
    },
    "jupyter": {
     "outputs_hidden": true
    }
   },
   "outputs": [],
   "source": [
    "%run ./_resources/00-setup"
   ]
  },
  {
   "cell_type": "code",
   "execution_count": 0,
   "metadata": {
    "application/vnd.databricks.v1+cell": {
     "cellMetadata": {},
     "inputWidgets": {},
     "nuid": "f0b0239f-a812-4154-9715-21a3d793314a",
     "showTitle": false,
     "tableResultSettingsMap": {},
     "title": ""
    }
   },
   "outputs": [],
   "source": [
    "-- If this request is failing, you're missing some groups. Make sure you are part of ANALYST_USA and not bu_admin!\n",
    "SELECT \n",
    "  assert_true(is_account_group_member('account users'),      'You must be part of account users for this demo'),\n",
    "  assert_true(is_account_group_member('ANALYST_USA'),        'You must be part of ANALYST_USA for this demo'),\n",
    "  assert_true(not is_account_group_member('bu_admin'),       'You must NOT be part of bu_admin for this demo');\n",
    "\n",
    "-- Cleanup any row-filters or masks that may have been added in previous runs of the demo\n",
    "ALTER TABLE customers DROP ROW FILTER;\n",
    "ALTER TABLE customers ALTER COLUMN address DROP MASK;"
   ]
  },
  {
   "cell_type": "markdown",
   "metadata": {
    "application/vnd.databricks.v1+cell": {
     "cellMetadata": {},
     "inputWidgets": {},
     "nuid": "8ac0c69d-cde4-4532-aa1a-afbbf47f732b",
     "showTitle": false,
     "tableResultSettingsMap": {},
     "title": ""
    }
   },
   "source": [
    "### 1.3 Review our 'customers' table\n",
    "We created the table in the previous notebook (make sure you run it before this one).\n",
    "\n",
    "The table was created without restriction, all users can access all the rows"
   ]
  },
  {
   "cell_type": "code",
   "execution_count": 0,
   "metadata": {
    "application/vnd.databricks.v1+cell": {
     "cellMetadata": {},
     "inputWidgets": {},
     "nuid": "fe1dbabe-23b9-4296-b943-3c1a52fc07d1",
     "showTitle": false,
     "tableResultSettingsMap": {},
     "title": ""
    }
   },
   "outputs": [],
   "source": [
    "-- Note that all rows are visible (all countries) and the 'address' column has no masking:\n",
    "SELECT id, creation_date, country, address, firstname, lastname, email, gender, age_group, canal, last_activity_date, churn \n",
    "  FROM customers;"
   ]
  },
  {
   "cell_type": "code",
   "execution_count": 0,
   "metadata": {
    "application/vnd.databricks.v1+cell": {
     "cellMetadata": {},
     "inputWidgets": {},
     "nuid": "a7513323-3998-46af-a84d-c3fac6eae514",
     "showTitle": false,
     "tableResultSettingsMap": {},
     "title": ""
    }
   },
   "outputs": [],
   "source": [
    "-- Confirming that we can see all countries (FR, USA, SPAIN) prior to setting up row-filters:\n",
    "SELECT DISTINCT(country) FROM customers;"
   ]
  },
  {
   "cell_type": "markdown",
   "metadata": {
    "application/vnd.databricks.v1+cell": {
     "cellMetadata": {},
     "inputWidgets": {},
     "nuid": "a4f0684c-43db-49f7-af4a-ec05be6c5141",
     "showTitle": false,
     "tableResultSettingsMap": {},
     "title": ""
    }
   },
   "source": [
    "\n",
    "##  2. Row-level access control\n",
    "\n",
    "<img src=\"https://github.com/databricks-demos/dbdemos-resources/blob/main/images/product/uc/acls/table_uc_rls.png?raw=true\" width=\"200\" style=\"float: right; margin-left: 20; margin-right: 20\" alt=\"databricks-demos\"/>\n",
    "\n",
    "As mentioned earlier, row-level security allows you to automatically hide rows in your table from users, based on their identity or group assignment.\n",
    "\n",
    "In this part of the demo, we will show you how you can enforce a policy where an analyst can only access data related to customers in their country.\n",
    "\n",
    "\n",
    "To capture the current user and check their membership to a particular group, Databricks provides you with 2 built-in functions: \n",
    "- `current_user()` \n",
    "- and `is_account_group_member()` respectively.\n"
   ]
  },
  {
   "cell_type": "code",
   "execution_count": 0,
   "metadata": {
    "application/vnd.databricks.v1+cell": {
     "cellMetadata": {},
     "inputWidgets": {},
     "nuid": "0d898425-056b-4ee8-8670-57c7ffff48d3",
     "showTitle": false,
     "tableResultSettingsMap": {},
     "title": ""
    }
   },
   "outputs": [],
   "source": [
    "-- get the current user (for informational purposes)\n",
    "SELECT current_user(), is_account_group_member('account users');"
   ]
  },
  {
   "cell_type": "markdown",
   "metadata": {
    "application/vnd.databricks.v1+cell": {
     "cellMetadata": {},
     "inputWidgets": {},
     "nuid": "68c78320-44f1-441f-a8c8-063c2430ea57",
     "showTitle": false,
     "tableResultSettingsMap": {},
     "title": ""
    }
   },
   "source": [
    "### 2.1. Define the access rule\n",
    "\n",
    "To declare an access control rule, you will need to create a SQL function that returns a **boolean**.\n",
    "Unity Catalog will then hide the row if the function returns `False`.\n",
    "\n",
    "Inside your SQL function, you can define different conditions and implement complex logic to create this boolean return value. (e.g :  `IF(condition)-THEN(view)-ELSE`)\n",
    "\n",
    "Here, we will apply the following logic :\n",
    "\n",
    "1. if the user is a `bu_admin` group member, then they can access data from all countries. (we will use `is_account_group_member('group_name')` we saw earlier)\n",
    "2. if the user is not a `bu_admin` group member, we'll restrict access to only the rows pertaining to regions `US` as our default regions. All other customers will be hidden!\n",
    "\n",
    "Note that columns within whatever table that this function will be applied on, can also be referred to inside the function's conditions. You can do so by using parameters."
   ]
  },
  {
   "cell_type": "code",
   "execution_count": 0,
   "metadata": {
    "application/vnd.databricks.v1+cell": {
     "cellMetadata": {},
     "inputWidgets": {},
     "nuid": "38b9ce49-151c-46dd-ae09-a686a643218e",
     "showTitle": true,
     "tableResultSettingsMap": {},
     "title": "Create a SQL function for a simple row-filter:"
    }
   },
   "outputs": [],
   "source": [
    "CREATE OR REPLACE FUNCTION region_filter(region_param STRING) \n",
    "RETURN \n",
    "  is_account_group_member('bu_admin') or  -- bu_admin can access all regions\n",
    "  region_param like \"US%\";                -- non bu_admin's can only access regions containing US\n",
    "\n",
    "-- Grant access to all users to the function for the demo by making all account users owners.  Note: Don't do this in production!\n",
    "GRANT ALL PRIVILEGES ON FUNCTION region_filter TO `account users`; \n",
    "\n",
    "-- Let's try our filter. As expected, we can access USA but not SPAIN.\n",
    "SELECT region_filter('USA'), region_filter('SPAIN')"
   ]
  },
  {
   "cell_type": "markdown",
   "metadata": {
    "application/vnd.databricks.v1+cell": {
     "cellMetadata": {},
     "inputWidgets": {},
     "nuid": "46ea94d6-75d6-476e-9b08-fcc6a9196364",
     "showTitle": false,
     "tableResultSettingsMap": {},
     "title": ""
    }
   },
   "source": [
    "### 2.2. Apply the access rule\n",
    "\n",
    "With our rule function declared, all that's left to do is apply it on a table and see it in action!\n",
    "A simple `SET ROW FILTER` followed by a call to the function is all it takes.\n",
    "\n",
    "**Note: if this is failing, make sure you're using a Shared Cluster!**"
   ]
  },
  {
   "cell_type": "code",
   "execution_count": 0,
   "metadata": {
    "application/vnd.databricks.v1+cell": {
     "cellMetadata": {},
     "inputWidgets": {},
     "nuid": "c5df54da-e55a-455c-85a8-4ac8dfb5f083",
     "showTitle": false,
     "tableResultSettingsMap": {},
     "title": ""
    }
   },
   "outputs": [],
   "source": [
    "-- Apply access rule to customers table.\n",
    "-- country will be the column sent as parameter to our SQL function (region_param)\n",
    "ALTER TABLE customers SET ROW FILTER region_filter ON (country);"
   ]
  },
  {
   "cell_type": "code",
   "execution_count": 0,
   "metadata": {
    "application/vnd.databricks.v1+cell": {
     "cellMetadata": {},
     "inputWidgets": {},
     "nuid": "e3e2e3cc-f93b-4f9b-a0bc-3c20cfe7920c",
     "showTitle": true,
     "tableResultSettingsMap": {},
     "title": "Confirm only customers in USA are visible:"
    }
   },
   "outputs": [],
   "source": [
    "SELECT id, creation_date, country, address, firstname, lastname, email, gender, age_group, canal, last_activity_date, churn \n",
    "  FROM customers;"
   ]
  },
  {
   "cell_type": "code",
   "execution_count": 0,
   "metadata": {
    "application/vnd.databricks.v1+cell": {
     "cellMetadata": {},
     "inputWidgets": {},
     "nuid": "0514d8c4-bfb6-4f5a-bfd6-116449b72028",
     "showTitle": false,
     "tableResultSettingsMap": {},
     "title": ""
    }
   },
   "outputs": [],
   "source": [
    "-- We should see only USA and Canada here, unless the user is a member of bu_admin:\n",
    "SELECT DISTINCT(country) FROM customers;"
   ]
  },
  {
   "cell_type": "markdown",
   "metadata": {
    "application/vnd.databricks.v1+cell": {
     "cellMetadata": {},
     "inputWidgets": {},
     "nuid": "8c0c0950-4358-4505-9752-2861d3160442",
     "showTitle": false,
     "tableResultSettingsMap": {},
     "title": ""
    }
   },
   "source": [
    "#### This is working as expected! \n",
    "\n",
    "We secured our table, and dynamically filter the results to only keep rows with country=USA.\n",
    "\n",
    "Let's drop the current filter, and demonstrate a more dynamic version."
   ]
  },
  {
   "cell_type": "code",
   "execution_count": 0,
   "metadata": {
    "application/vnd.databricks.v1+cell": {
     "cellMetadata": {},
     "inputWidgets": {},
     "nuid": "f550b726-bb9d-421a-9fdc-3cbd30f7d95f",
     "showTitle": false,
     "tableResultSettingsMap": {},
     "title": ""
    }
   },
   "outputs": [],
   "source": [
    "ALTER TABLE customers DROP ROW FILTER;\n",
    "-- Confirming that we can once again see all countries:\n",
    "SELECT DISTINCT(country) FROM customers;"
   ]
  },
  {
   "cell_type": "markdown",
   "metadata": {
    "application/vnd.databricks.v1+cell": {
     "cellMetadata": {},
     "inputWidgets": {},
     "nuid": "6c416dc8-34a9-4159-98ca-0e0bcd06e333",
     "showTitle": false,
     "tableResultSettingsMap": {},
     "title": ""
    }
   },
   "source": [
    "### 2.3 More advanced dynamic filters. \n",
    "Let's imagine we have a few regional user groups defined as : `ANALYST_USA`, `ANALYST_SPAIN`, etc... and we want to use these groups to *dynamically* filter on a country value. \n",
    "\n",
    "This can easily be done by checking the group based on the region value."
   ]
  },
  {
   "cell_type": "code",
   "execution_count": 0,
   "metadata": {
    "application/vnd.databricks.v1+cell": {
     "cellMetadata": {},
     "inputWidgets": {},
     "nuid": "7b5f82ca-08f6-4492-ab37-c280dc46de69",
     "showTitle": true,
     "tableResultSettingsMap": {},
     "title": "Create an advanced access rule"
    }
   },
   "outputs": [],
   "source": [
    "CREATE OR REPLACE FUNCTION region_filter_dynamic(country_param STRING) \n",
    "RETURN \n",
    "  is_account_group_member('bu_admin') or                           -- bu_admin can access all regions\n",
    "  is_account_group_member(CONCAT('ANALYST_', country_param)); --regional admins can access only if the region (country column) matches the regional admin group suffix.\n",
    "  \n",
    "GRANT ALL PRIVILEGES ON FUNCTION region_filter_dynamic TO `account users`; --only for demo, don't do that in prod as everybody could change the function\n",
    "\n",
    "-- apply the new access rule to the customers table:\n",
    "ALTER TABLE customers SET ROW FILTER region_filter_dynamic ON (country);\n",
    "\n",
    "SELECT region_filter_dynamic('USA'), region_filter_dynamic('SPAIN')"
   ]
  },
  {
   "cell_type": "code",
   "execution_count": 0,
   "metadata": {
    "application/vnd.databricks.v1+cell": {
     "cellMetadata": {},
     "inputWidgets": {},
     "nuid": "d0d882e7-c587-4192-a83a-6b06ea6f6f4b",
     "showTitle": true,
     "tableResultSettingsMap": {},
     "title": "Check the rule. We can only access USA"
    }
   },
   "outputs": [],
   "source": [
    "-- Since our current user is a member of ANALYST_USA, now they see only USA from our query:\n",
    "SELECT DISTINCT(country) FROM customers;"
   ]
  },
  {
   "cell_type": "markdown",
   "metadata": {
    "application/vnd.databricks.v1+cell": {
     "cellMetadata": {},
     "inputWidgets": {},
     "nuid": "0e5b44e3-554f-4cdd-b7e2-9e1a3336188f",
     "showTitle": false,
     "tableResultSettingsMap": {},
     "title": ""
    }
   },
   "source": [
    "## 3. Column-level access control"
   ]
  },
  {
   "cell_type": "markdown",
   "metadata": {
    "application/vnd.databricks.v1+cell": {
     "cellMetadata": {},
     "inputWidgets": {},
     "nuid": "43cdbbdc-ea3d-46a0-9a2f-388e79d435f9",
     "showTitle": false,
     "tableResultSettingsMap": {},
     "title": ""
    }
   },
   "source": [
    "### 3.1. Define the access rule (masking PII data)\n",
    "\n",
    "<img src=\"https://github.com/databricks-demos/dbdemos-resources/blob/main/images/product/uc/acls/table_uc_cls.png?raw=true\" width=\"200\" style=\"float: right; margin-top: 20; margin-left: 20; margin-right: 20\" alt=\"databricks-demos\"/>\n",
    "\n",
    "Declaring a rule to implement column-level access control is very similar to what we did earlier for our row-level access control rule.\n",
    "\n",
    "In this example, we'll create a SQL function with the following `IF-THEN-ELSE` logic:\n",
    "\n",
    "- if the current user is member of the group `bu_admin`, then return the column value as-is (here `ssn`), \n",
    "- if not, mask it completely with a constant string (here `****`)\n"
   ]
  },
  {
   "cell_type": "code",
   "execution_count": 0,
   "metadata": {
    "application/vnd.databricks.v1+cell": {
     "cellMetadata": {},
     "inputWidgets": {},
     "nuid": "0eb32381-4ebf-4bf0-89e3-d9bcdd3d2dc1",
     "showTitle": false,
     "tableResultSettingsMap": {},
     "title": ""
    }
   },
   "outputs": [],
   "source": [
    "-- create a SQL function for a simple column mask:\n",
    "CREATE OR REPLACE FUNCTION simple_mask(column_value STRING)\n",
    "RETURN \n",
    "  IF(is_account_group_member('bu_admin'), column_value, \"****\");\n",
    "   \n",
    "GRANT ALL PRIVILEGES ON FUNCTION simple_mask TO `account users`; --only for demo, don't do that in prod as everybody could change the function"
   ]
  },
  {
   "cell_type": "markdown",
   "metadata": {
    "application/vnd.databricks.v1+cell": {
     "cellMetadata": {},
     "inputWidgets": {},
     "nuid": "85492c08-3868-4718-ab6f-b10bfc40e209",
     "showTitle": false,
     "tableResultSettingsMap": {},
     "title": ""
    }
   },
   "source": [
    "### 3.2. Apply the access rule\n",
    "\n",
    "To change things a bit, instead of applying a rule on an existing table, we'll demonstrte here how we can apply a rule upon the creation of a new table.\n",
    "\n",
    "Note: In this demo we have only one column mask function to apply. In real life, you may want to apply different column masks on different columns within the same table."
   ]
  },
  {
   "cell_type": "code",
   "execution_count": 0,
   "metadata": {
    "application/vnd.databricks.v1+cell": {
     "cellMetadata": {},
     "inputWidgets": {},
     "nuid": "48dd73c4-5015-4be5-922b-1281510d6c40",
     "showTitle": false,
     "tableResultSettingsMap": {},
     "title": ""
    }
   },
   "outputs": [],
   "source": [
    "-- Just as we can ALTER a table with new access controls, we can also apply rules during the CREATE OR REPLACE TABLE:\n",
    "CREATE OR REPLACE TABLE \n",
    "  patient_ssn (\n",
    "    `name` STRING, \n",
    "    ssn STRING MASK simple_mask);\n",
    "\n",
    "GRANT ALL PRIVILEGES ON TABLE patient_ssn TO `account users`; --only for demo, don't do that in prod as everybody could change the function"
   ]
  },
  {
   "cell_type": "code",
   "execution_count": 0,
   "metadata": {
    "application/vnd.databricks.v1+cell": {
     "cellMetadata": {},
     "inputWidgets": {},
     "nuid": "8bd7bb20-4ffd-4b41-acd5-e416078bb994",
     "showTitle": false,
     "tableResultSettingsMap": {},
     "title": ""
    }
   },
   "outputs": [],
   "source": [
    "-- Populating our newly-created table using the INSERT INTO command to insert some rows:\n",
    "INSERT INTO\n",
    "  patient_ssn\n",
    "values\n",
    "  (\"Jane Doe\", \"111-11-1111\"),\n",
    "  (\"Joe Doe\", \"222-33-4444\");"
   ]
  },
  {
   "cell_type": "markdown",
   "metadata": {
    "application/vnd.databricks.v1+cell": {
     "cellMetadata": {},
     "inputWidgets": {},
     "nuid": "494e68ac-56ad-44fe-8b72-1eb4453d4d07",
     "showTitle": false,
     "tableResultSettingsMap": {},
     "title": ""
    }
   },
   "source": [
    "#### We can see in our SELECT results that SSN has been masked:"
   ]
  },
  {
   "cell_type": "code",
   "execution_count": 0,
   "metadata": {
    "application/vnd.databricks.v1+cell": {
     "cellMetadata": {},
     "inputWidgets": {},
     "nuid": "608f40d7-0275-4f80-a3dc-fad571c9973a",
     "showTitle": false,
     "tableResultSettingsMap": {},
     "title": ""
    }
   },
   "outputs": [],
   "source": [
    "SELECT * FROM patient_ssn;"
   ]
  },
  {
   "cell_type": "markdown",
   "metadata": {
    "application/vnd.databricks.v1+cell": {
     "cellMetadata": {},
     "inputWidgets": {},
     "nuid": "94778404-1256-4058-b69e-4631c14d6f7a",
     "showTitle": false,
     "tableResultSettingsMap": {},
     "title": ""
    }
   },
   "source": [
    "## 3. Combine RL and CL access control\n",
    "\n",
    "<img src=\"https://github.com/databricks-demos/dbdemos-resources/blob/main/images/product/uc/acls/table_uc_rlscls.png?raw=true\" width=\"200\" style=\"float: right; margin-top: 20; margin-left: 20; margin-right: 20\" alt=\"databricks-demos\"/>\n",
    "\n",
    "Let's go back to our customer table on which we've already applied the row-level access control, and alter it to add another layer of security by applying the column-level access rule we've created in the previous step.\n",
    "\n",
    "As we apply it, let's make it's target the 'address' column!"
   ]
  },
  {
   "cell_type": "code",
   "execution_count": 0,
   "metadata": {
    "application/vnd.databricks.v1+cell": {
     "cellMetadata": {},
     "inputWidgets": {},
     "nuid": "b940ae3a-d0b1-440f-8473-b697be35d4c0",
     "showTitle": false,
     "tableResultSettingsMap": {},
     "title": ""
    }
   },
   "outputs": [],
   "source": [
    "-- applying our simple masking function to the 'address' column in the 'customers' table:\n",
    "ALTER TABLE\n",
    "  customers\n",
    "ALTER COLUMN\n",
    "  address\n",
    "SET\n",
    "  MASK simple_mask;"
   ]
  },
  {
   "cell_type": "code",
   "execution_count": 0,
   "metadata": {
    "application/vnd.databricks.v1+cell": {
     "cellMetadata": {},
     "inputWidgets": {},
     "nuid": "cf3a023f-0984-45bf-ba4f-e0516aef61ee",
     "showTitle": true,
     "tableResultSettingsMap": {},
     "title": "🥷 Confirm Addresses have been masked"
    }
   },
   "outputs": [],
   "source": [
    "-- confirming 'address' columns has been masked:\n",
    "SELECT id, creation_date, country, address, firstname, lastname, email, gender, age_group, canal, last_activity_date, churn \n",
    "FROM customers;"
   ]
  },
  {
   "cell_type": "markdown",
   "metadata": {
    "application/vnd.databricks.v1+cell": {
     "cellMetadata": {},
     "inputWidgets": {},
     "nuid": "bad901b2-e3f6-4952-a74c-59d04daee6d3",
     "showTitle": false,
     "tableResultSettingsMap": {},
     "title": ""
    }
   },
   "source": [
    "## 4. Change the definition of the access control rules\n",
    "If the business ever decides to change a rule's conditions or the way they want the data to be returned in response to these conditions, it is easy to adapt with Unity Catalog.\n",
    "\n",
    "Since the function is the central element, all you need to do is update it and the effects will automatically be reflected on all the tables that it has been attached to.\n",
    "\n",
    "In this example, we'll rewrite our `simple_mask` column mask function and change the way we anonymse data from the rather simplistic `****`, to using the built-in sql `MASK` function ([see documentation](https://docs.databricks.com/sql/language-manual/functions/mask.html))"
   ]
  },
  {
   "cell_type": "code",
   "execution_count": 0,
   "metadata": {
    "application/vnd.databricks.v1+cell": {
     "cellMetadata": {},
     "inputWidgets": {},
     "nuid": "8f8ec154-5455-4c6e-a63c-b16d1c1e5474",
     "showTitle": false,
     "tableResultSettingsMap": {},
     "title": ""
    }
   },
   "outputs": [],
   "source": [
    "-- Updating the existing simple_mask function to provide more advanced masking options via the built-in SQL MASK function:\n",
    "CREATE OR REPLACE FUNCTION simple_mask(maskable_param STRING)\n",
    "   RETURN \n",
    "      IF(is_account_group_member('bu_admin'), maskable_param, MASK(maskable_param, '*', '*'));\n",
    "      -- You can also create custom mask transformations, such as concat(substr(maskable_param, 0, 2), \"...\"))\n",
    "   \n",
    " -- grant access to all user to the function for the demo  \n",
    "ALTER FUNCTION simple_mask OWNER TO `account users`;"
   ]
  },
  {
   "cell_type": "markdown",
   "metadata": {
    "application/vnd.databricks.v1+cell": {
     "cellMetadata": {},
     "inputWidgets": {},
     "nuid": "e0a0b7d5-471f-48e3-b0fe-843ee255c5ed",
     "showTitle": false,
     "tableResultSettingsMap": {},
     "title": ""
    }
   },
   "source": [
    "Notice: we do not need to ALTER the table with the updated function for it to take effect."
   ]
  },
  {
   "cell_type": "code",
   "execution_count": 0,
   "metadata": {
    "application/vnd.databricks.v1+cell": {
     "cellMetadata": {},
     "inputWidgets": {},
     "nuid": "976c8e9c-7d29-4be6-b006-3dac16d35b81",
     "showTitle": false,
     "tableResultSettingsMap": {},
     "title": ""
    }
   },
   "outputs": [],
   "source": [
    "-- confirming the masking method has changed:\n",
    "SELECT id, creation_date, country, address, firstname, lastname, email, gender, age_group, canal, last_activity_date, churn \n",
    "  FROM customers;"
   ]
  },
  {
   "cell_type": "code",
   "execution_count": 0,
   "metadata": {
    "application/vnd.databricks.v1+cell": {
     "cellMetadata": {},
     "inputWidgets": {},
     "nuid": "45b7c563-f5ed-4cd6-830b-b467c58334ec",
     "showTitle": false,
     "tableResultSettingsMap": {},
     "title": ""
    }
   },
   "outputs": [],
   "source": [
    "-- confirming the masking method has also changed for the patient_ssn table:\n",
    "SELECT * FROM patient_ssn;"
   ]
  },
  {
   "cell_type": "markdown",
   "metadata": {
    "application/vnd.databricks.v1+cell": {
     "cellMetadata": {},
     "inputWidgets": {},
     "nuid": "d2dfee17-7912-4c10-a435-66928120dfdc",
     "showTitle": false,
     "tableResultSettingsMap": {},
     "title": ""
    }
   },
   "source": [
    "## 5. Dynamic access rules with lookup data\n",
    "\n",
    "So we've seen how through functions, Unity Catalog give us the flexibility to overwrite the definition of an access rule but also combine multiple rules on a single table to ultimately implement complex multi-dimensional access control on our data.\n",
    "\n",
    "Let's take a step further by adding an intermediate table describing a permission model. We'll use this table to lookup pre-defined mappings of users to their corresponsing data, on which we'll base the bahavior of our access control function."
   ]
  },
  {
   "cell_type": "markdown",
   "metadata": {
    "application/vnd.databricks.v1+cell": {
     "cellMetadata": {},
     "inputWidgets": {},
     "nuid": "f5bc6ede-f13e-403b-bdc5-00873536f4d6",
     "showTitle": false,
     "tableResultSettingsMap": {},
     "title": ""
    }
   },
   "source": [
    "### 5.1. Create the mapping data\n",
    "First, let's create a mapping table. This is just a simple example, you can implement more advanced table based on your requirements\n",
    "\n",
    "In an organization where we have a user group for each supported language, we went ahead and mapped in this table each of these groups to their corresponding countries.\n",
    "\n",
    "- The members of the `ANALYST_USA` are thus mapped to data for `USA` or `CANADA`, \n",
    "- the members of the `ANALYST_SPAIN` are mapped to data for `SPAIN`, `MEXICO` or `ARGENTINA`,\n",
    "- etc\n",
    "\n",
    "In our case, our user belongs to `ANALYST_USA`.\n",
    "\n",
    "Note : You can easily create and assign your user to one of these groups using the account console if you have the permissions to do so."
   ]
  },
  {
   "cell_type": "code",
   "execution_count": 0,
   "metadata": {
    "application/vnd.databricks.v1+cell": {
     "cellMetadata": {},
     "inputWidgets": {},
     "nuid": "23700076-fe53-4a10-a49f-8986865b3eee",
     "showTitle": false,
     "tableResultSettingsMap": {},
     "title": ""
    }
   },
   "outputs": [],
   "source": [
    "-- Creating a table containing the mapping between groups and countries\n",
    "\n",
    "CREATE TABLE IF NOT EXISTS \n",
    "  map_country_group (\n",
    "    identity_group STRING,\n",
    "    countries ARRAY<STRING>\n",
    ");\n",
    "\n",
    "GRANT ALL PRIVILEGES ON TABLE map_country_group TO `account users`; --only for demo, don't do that in prod as everybody could change the groups\n",
    "\n",
    "INSERT OVERWRITE \n",
    "  map_country_group (identity_group, countries) VALUES\n",
    "    ('ANALYST_FR', Array(\"FR\", \"BELGIUM\",\"CANADA\",\"SWITZERLAND\")),\n",
    "    ('ANALYST_SPAIN',  Array(\"SPAIN\",\"MEXICO\",\"ARGENTINA\")),\n",
    "    ('ANALYST_USA', Array(\"USA\",\"CANADA\"));\n",
    "\n",
    "SELECT * FROM map_country_group;"
   ]
  },
  {
   "cell_type": "code",
   "execution_count": 0,
   "metadata": {
    "application/vnd.databricks.v1+cell": {
     "cellMetadata": {},
     "inputWidgets": {},
     "nuid": "ac8b36f9-e8fa-4d28-9495-a0b71f1d5b89",
     "showTitle": true,
     "tableResultSettingsMap": {},
     "title": "Query the mapping table to see of which groups our current user is a member"
    }
   },
   "outputs": [],
   "source": [
    "-- Query the map_country_group table to see how current user is mapped.\n",
    "-- This should return the rows for ANALYST_USA since our user is assigned to these groups:\n",
    "SELECT * FROM map_country_group \n",
    "  WHERE is_account_group_member(identity_group) ; "
   ]
  },
  {
   "cell_type": "markdown",
   "metadata": {
    "application/vnd.databricks.v1+cell": {
     "cellMetadata": {},
     "inputWidgets": {},
     "nuid": "6eeecff2-65b4-459a-a743-c2679ccad704",
     "showTitle": false,
     "tableResultSettingsMap": {},
     "title": ""
    }
   },
   "source": [
    "### 5.3. Define the access rule with lookup data\n",
    "\n",
    "Let's now update our dynamic row filter function to call this new table-lookup approach.\n",
    "\n",
    "- If the current user is in the group `bu_admin`, they will be able to see all rows\n",
    "- If the user is in another group which has a row in the `map_country_group` table, allow access to rows for the corresponding countries\n",
    "\n",
    "You could also do it with more advanced control such as joins etc.  \n",
    "\n",
    "Spark optimizer will execute that as an efficient JOIN between the map_country_group table and your main table. You can check the query execution in Spark SQL UI for more details."
   ]
  },
  {
   "cell_type": "code",
   "execution_count": 0,
   "metadata": {
    "application/vnd.databricks.v1+cell": {
     "cellMetadata": {},
     "inputWidgets": {},
     "nuid": "5f09019f-7180-4392-a999-8b5143c9fbab",
     "showTitle": false,
     "tableResultSettingsMap": {},
     "title": ""
    }
   },
   "outputs": [],
   "source": [
    "-- Create a SQL function for row-level filter based on mapping table lookup:\n",
    "\n",
    "CREATE OR REPLACE FUNCTION region_filter_dynamic(region_param STRING)\n",
    "  RETURN \n",
    "    is_account_group_member('bu_admin') or\n",
    "    exists (  \n",
    "      SELECT 1 \n",
    "      FROM map_country_group \n",
    "      WHERE is_account_group_member(identity_group) AND array_contains(countries, region_param)\n",
    "    );\n",
    "\n",
    "GRANT ALL PRIVILEGES ON FUNCTION region_filter_dynamic TO `account users`;"
   ]
  },
  {
   "cell_type": "code",
   "execution_count": 0,
   "metadata": {
    "application/vnd.databricks.v1+cell": {
     "cellMetadata": {},
     "inputWidgets": {},
     "nuid": "e66a9f33-535c-4eb8-a4a9-182363bb9cf9",
     "showTitle": true,
     "tableResultSettingsMap": {},
     "title": "Let's review the results, we should only see USA and CANADA"
    }
   },
   "outputs": [],
   "source": [
    "SELECT id, creation_date, country, address, firstname, lastname, email, gender, age_group, canal, last_activity_date, churn \n",
    "  FROM customers;"
   ]
  },
  {
   "cell_type": "markdown",
   "metadata": {
    "application/vnd.databricks.v1+cell": {
     "cellMetadata": {},
     "inputWidgets": {},
     "nuid": "3c2014d3-f230-4cbe-a3e4-1f05d004fade",
     "showTitle": false,
     "tableResultSettingsMap": {},
     "title": ""
    }
   },
   "source": [
    "As expected, the current user can only see countries mapped to the ANALYST_USA group: [\"USA\", \"CANADA\"].\n",
    "\n",
    "Note that the same strategy can be applied at column level! You can add more advanced filters, getting metadata from other tables containing more advanced permission model based on your requirements!"
   ]
  },
  {
   "cell_type": "markdown",
   "metadata": {
    "application/vnd.databricks.v1+cell": {
     "cellMetadata": {},
     "inputWidgets": {},
     "nuid": "ba6e3081-86cf-4947-9c40-d0f262a40a8f",
     "showTitle": false,
     "tableResultSettingsMap": {},
     "title": ""
    }
   },
   "source": [
    "## 6. Dissociate a rule from a table\n",
    "This dissociation of the rule from the objects you apply it to, also allows you to stop applying it on the table of your choice at any time, all without :\n",
    "- impacting the other tables this rule is attached to\n",
    "- discontinuing the other rules that are also applied to your table\n",
    "\n",
    "In this example, we'll remove the address column masking we added to the `customers` in the previous section, and see how :\n",
    "- everything continues to work as expected on the Social Security Number in the `patient_ssn` table on which it's also applied\n",
    "- the row filter continues to take effect on the `customers` table"
   ]
  },
  {
   "cell_type": "code",
   "execution_count": 0,
   "metadata": {
    "application/vnd.databricks.v1+cell": {
     "cellMetadata": {},
     "inputWidgets": {},
     "nuid": "a0d17fe6-5faa-4a16-b28b-afdd6429568a",
     "showTitle": true,
     "tableResultSettingsMap": {},
     "title": "Remove the column mask"
    }
   },
   "outputs": [],
   "source": [
    "-- removing the column mask on 'address' from the 'customers' table:\n",
    "ALTER TABLE customers ALTER COLUMN address DROP MASK;"
   ]
  },
  {
   "cell_type": "markdown",
   "metadata": {
    "application/vnd.databricks.v1+cell": {
     "cellMetadata": {},
     "inputWidgets": {},
     "nuid": "fc205d61-0bbd-43e8-9a2e-861842451c3f",
     "showTitle": false,
     "tableResultSettingsMap": {},
     "title": ""
    }
   },
   "source": [
    "Let's go ahead and deactivate the row filter from `customers` as well!"
   ]
  },
  {
   "cell_type": "code",
   "execution_count": 0,
   "metadata": {
    "application/vnd.databricks.v1+cell": {
     "cellMetadata": {},
     "inputWidgets": {},
     "nuid": "6fb67546-b979-47d8-b12b-f7cdb3c62c2a",
     "showTitle": false,
     "tableResultSettingsMap": {},
     "title": ""
    }
   },
   "outputs": [],
   "source": [
    "-- dropping the row filter:\n",
    "ALTER TABLE customers DROP ROW FILTER;"
   ]
  },
  {
   "cell_type": "markdown",
   "metadata": {
    "application/vnd.databricks.v1+cell": {
     "cellMetadata": {},
     "inputWidgets": {},
     "nuid": "1b091e5a-804a-49e5-af8f-a0eaeba267c0",
     "showTitle": false,
     "tableResultSettingsMap": {},
     "title": ""
    }
   },
   "source": [
    "Removing the mask from the patient_ssn table:"
   ]
  },
  {
   "cell_type": "code",
   "execution_count": 0,
   "metadata": {
    "application/vnd.databricks.v1+cell": {
     "cellMetadata": {},
     "inputWidgets": {},
     "nuid": "b82c2e27-3959-43b1-86c0-64aafecbba71",
     "showTitle": false,
     "tableResultSettingsMap": {},
     "title": ""
    }
   },
   "outputs": [],
   "source": [
    "ALTER TABLE patient_ssn ALTER COLUMN ssn DROP MASK;"
   ]
  },
  {
   "cell_type": "markdown",
   "metadata": {
    "application/vnd.databricks.v1+cell": {
     "cellMetadata": {},
     "inputWidgets": {},
     "nuid": "7cc379ab-f312-406e-b98e-99985e688a0f",
     "showTitle": false,
     "tableResultSettingsMap": {},
     "title": ""
    }
   },
   "source": [
    "## 7. Conclusion\n",
    "\n",
    "<img src=\"https://github.com/databricks-demos/dbdemos-resources/blob/main/images/product/uc/acls/table_uc_rlscls_intro.png?raw=true\" width=\"200\" style=\"float: right; margin-top: 20; margin-left: 20; margin-right: 20\" alt=\"databricks-demos\"/>\n",
    "\n",
    "In this demo, we saw how through a few simple lines of code we are able to implement powerful access controls using Unity Catalog's row-level and column-level access control capabilities. We :\n",
    "- explained the logic,\n",
    "- navigated the lifecycle of the different components (e.g: redefining a rule, dissociating a rule from a table),\n",
    "- and ventured in more complex use cases (e.g: combining multiple rules, dynamic access rules using lookup data) \n",
    "\n",
    "... so you feel ready to take full control of managing your data security policies! 💪\n"
   ]
  },
  {
   "cell_type": "markdown",
   "metadata": {
    "application/vnd.databricks.v1+cell": {
     "cellMetadata": {},
     "inputWidgets": {},
     "nuid": "dc05daeb-2538-442c-8464-d5d5d5208ee2",
     "showTitle": false,
     "tableResultSettingsMap": {},
     "title": ""
    }
   },
   "source": [
    "### A note on Delta Sharing...\n",
    "As of now, Delta Sharing table does not work with SQL-function-based row-level security or column masks (i.e. the methods above).  \n",
    "To create row and column level security within a Delta Share, you'd need to use dynamic views (please see the [documentation](https://docs.databricks.com/en/data-sharing/create-share.html#add-dynamic-views-to-a-share-to-filter-rows-and-columns))."
   ]
  }
 ],
 "metadata": {
  "application/vnd.databricks.v1+notebook": {
   "computePreferences": null,
   "dashboards": [],
   "environmentMetadata": {
    "environment_version": "2"
   },
   "inputWidgetPreferences": null,
   "language": "sql",
   "notebookMetadata": {
    "pythonIndentUnit": 2
   },
   "notebookName": "01-Row-Column-access-control",
   "widgets": {}
  },
  "language_info": {
   "name": "sql"
  }
 },
 "nbformat": 4,
 "nbformat_minor": 0
}
