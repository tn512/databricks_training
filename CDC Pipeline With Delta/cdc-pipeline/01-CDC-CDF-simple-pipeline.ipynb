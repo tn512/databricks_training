{
 "cells": [
  {
   "cell_type": "markdown",
   "metadata": {
    "application/vnd.databricks.v1+cell": {
     "cellMetadata": {},
     "inputWidgets": {},
     "nuid": "2712f1f5-bf47-443a-9176-eb30fff62a61",
     "showTitle": false,
     "tableResultSettingsMap": {},
     "title": ""
    }
   },
   "source": [
    "\n",
    "# Implement CDC: Change Data Capture\n",
    "## Use-case: Synchronize your SQL Database with your Lakehouse\n",
    "\n",
    "Delta Lake is an <a href=\"https://delta.io/\" target=\"_blank\">open-source</a> storage layer with Transactional capabilities and increased Performances. \n",
    "\n",
    "Delta lake is designed to support CDC workload by providing support for UPDATE / DELETE and MERGE operation.\n",
    "\n",
    "In addition, Delta table can support CDC to capture internal changes and propagate the changes downstream.\n",
    "\n",
    "Note that this is a fairly advaned demo. Before going into this content, we recommend you get familiar with Delta Lake `dbdemos.install('delta-lake')`.\n",
    "\n",
    "## Simplifying CDC with Delta Live Table\n",
    "\n",
    "As you'll see, implementing a CDC pipeline from scratch is slightly advanced. \n",
    "\n",
    "To simplify these operation & implement a full CDC flow with SQL expression, we strongly advise to use Delta Live Table with `APPLY CHANGES`: `dbdemos.install('delta-live-table')` (including native SCDT2 support)\n",
    "\n",
    "As you'll see, `APPLY CHANGES` handles the MERGE INTO + DEDUPLICATION complexity for you. \n",
    "\n",
    "\n",
    "<!-- Collect usage data (view). Remove it to disable collection. View README for more details.  -->\n",
    "<img width=\"1px\" src=\"https://ppxrzfxige.execute-api.us-west-2.amazonaws.com/v1/analytics?category=data-engineering&org_id=3759185753378633&notebook=%2F01-CDC-CDF-simple-pipeline&demo_name=cdc-pipeline&event=VIEW&path=%2F_dbdemos%2Fdata-engineering%2Fcdc-pipeline%2F01-CDC-CDF-simple-pipeline&version=1\">"
   ]
  },
  {
   "cell_type": "markdown",
   "metadata": {
    "application/vnd.databricks.v1+cell": {
     "cellMetadata": {},
     "inputWidgets": {},
     "nuid": "0998242d-5d2a-4214-ba61-68fb24f88f70",
     "showTitle": false,
     "tableResultSettingsMap": {},
     "title": null
    }
   },
   "source": [
    "### A cluster has been created for this demo\n",
    "To run this demo, just select the cluster `dbdemos-cdc-pipeline-maynard` from the dropdown menu ([open cluster configuration](https://adb-3759185753378633.13.azuredatabricks.net/#setting/clusters/0528-103052-tmph00hb/configuration)). <br />\n",
    "*Note: If the cluster was deleted after 30 days, you can re-create it with `dbdemos.create_cluster('cdc-pipeline')` or re-install the demo: `dbdemos.install('cdc-pipeline')`*"
   ]
  },
  {
   "cell_type": "code",
   "execution_count": 0,
   "metadata": {
    "application/vnd.databricks.v1+cell": {
     "cellMetadata": {},
     "inputWidgets": {},
     "nuid": "4155446b-ab7e-4359-846f-8e4cbe0c988b",
     "showTitle": false,
     "tableResultSettingsMap": {},
     "title": ""
    },
    "jupyter": {
     "outputs_hidden": true
    }
   },
   "outputs": [],
   "source": [
    "%run ./_resources/00-setup $reset_all_data=false"
   ]
  },
  {
   "cell_type": "markdown",
   "metadata": {
    "application/vnd.databricks.v1+cell": {
     "cellMetadata": {},
     "inputWidgets": {},
     "nuid": "38563bfb-020c-45fa-9fd4-151a64101be4",
     "showTitle": false,
     "tableResultSettingsMap": {},
     "title": ""
    }
   },
   "source": [
    "<img width=\"1000px\" src=\"https://github.com/databricks-demos/dbdemos-resources/raw/main/images/product/Delta-Lake-CDC-CDF/delta_cdf.png\" alt='Delta Lake Change Data Feed'/>"
   ]
  },
  {
   "cell_type": "markdown",
   "metadata": {
    "application/vnd.databricks.v1+cell": {
     "cellMetadata": {},
     "inputWidgets": {},
     "nuid": "36b194bc-10c6-445e-a4bd-be84104565ee",
     "showTitle": false,
     "tableResultSettingsMap": {},
     "title": ""
    }
   },
   "source": [
    "## CDC flow\n",
    "\n",
    "Here is the flow we'll implement, consuming CDC data from an external database. Note that the incoming could be any format, including message queue such as Kafka.\n",
    "\n",
    "<img width=\"1000px\" src=\"https://github.com/databricks-demos/dbdemos-resources/raw/main/images/product/Delta-Lake-CDC-CDF/cdc-flow-0.png\" alt='Make all your data ready for BI and ML'/>"
   ]
  },
  {
   "cell_type": "markdown",
   "metadata": {
    "application/vnd.databricks.v1+cell": {
     "cellMetadata": {},
     "inputWidgets": {},
     "nuid": "d71d9d14-2392-4b90-a8f9-3e54b1f6a6b9",
     "showTitle": false,
     "tableResultSettingsMap": {},
     "title": ""
    }
   },
   "source": [
    "## Bronze: Incremental data loading using Auto Loader\n",
    "\n",
    "<img src=\"https://github.com/databricks-demos/dbdemos-resources/raw/main/images/product/Delta-Lake-CDC-CDF/cdc-flow-1.png\" alt='Make all your data ready for BI and ML' style='float: right' width='600'/>\n",
    "\n",
    "Working with external system can be challenging due to schema update. The external database can have schema update, adding or modifying columns, and our system must be robust against these changes.\n",
    "\n",
    "Databricks Autoloader (`cloudFiles`) handles schema inference and evolution out of the box.\n",
    "\n",
    "For more details on Auto Loader, run `dbdemos.install('auto-loader')`"
   ]
  },
  {
   "cell_type": "code",
   "execution_count": 0,
   "metadata": {
    "application/vnd.databricks.v1+cell": {
     "cellMetadata": {},
     "inputWidgets": {},
     "nuid": "29978ddd-701c-4049-a75e-57dfe89e3dd2",
     "showTitle": true,
     "tableResultSettingsMap": {},
     "title": "Let's explore our incoming data. We receive CSV files with client information"
    }
   },
   "outputs": [],
   "source": [
    "cdc_raw_data = spark.read.option('header', \"true\").csv(raw_data_location+'/user_csv')\n",
    "display(cdc_raw_data)"
   ]
  },
  {
   "cell_type": "code",
   "execution_count": 0,
   "metadata": {
    "application/vnd.databricks.v1+cell": {
     "cellMetadata": {},
     "inputWidgets": {},
     "nuid": "a89273d0-a98d-4a43-89ce-c05ff4e084be",
     "showTitle": true,
     "tableResultSettingsMap": {},
     "title": "Our CDC is sending 3 type of operation: APPEND, DELETE and UPDATE"
    }
   },
   "outputs": [],
   "source": [
    "display(cdc_raw_data.dropDuplicates(['operation']))"
   ]
  },
  {
   "cell_type": "code",
   "execution_count": 0,
   "metadata": {
    "application/vnd.databricks.v1+cell": {
     "cellMetadata": {},
     "inputWidgets": {},
     "nuid": "67cc2bbb-88da-442b-9174-9d044b111f21",
     "showTitle": true,
     "tableResultSettingsMap": {},
     "title": "We need to keep the cdc information, however csv isn't a efficient storage. Let's put that in a Delta table instead:"
    }
   },
   "outputs": [],
   "source": [
    "bronzeDF = (spark.readStream\n",
    "                .format(\"cloudFiles\")\n",
    "                .option(\"cloudFiles.format\", \"csv\")\n",
    "                #.option(\"cloudFiles.maxFilesPerTrigger\", \"1\") #Simulate streaming, remove in production\n",
    "                .option(\"cloudFiles.inferColumnTypes\", \"true\")\n",
    "                .option(\"cloudFiles.schemaLocation\",  raw_data_location+\"/stream/schema_cdc_raw\")\n",
    "                .option(\"cloudFiles.schemaHints\", \"id bigint, operation_date timestamp\")\n",
    "                .load(raw_data_location+'/user_csv'))\n",
    "\n",
    "(bronzeDF.withColumn(\"file_name\", col(\"_metadata.file_path\")).writeStream\n",
    "        .option(\"checkpointLocation\", raw_data_location+\"/stream/checkpoint_cdc_raw\")\n",
    "        .trigger(processingTime='10 seconds')\n",
    "        #.trigger(availableNow=True) --use this trigger on serverless\n",
    "        .table(\"clients_cdc\"))\n",
    "\n",
    "time.sleep(20)"
   ]
  },
  {
   "cell_type": "code",
   "execution_count": 0,
   "metadata": {
    "application/vnd.databricks.v1+cell": {
     "cellMetadata": {},
     "inputWidgets": {},
     "nuid": "f54e42fe-8454-4cba-8084-32706994dbcc",
     "showTitle": false,
     "tableResultSettingsMap": {},
     "title": ""
    }
   },
   "outputs": [],
   "source": [
    "%sql\n",
    "-- let's make sure our table has the proper compaction settings to support streaming\n",
    "ALTER TABLE clients_cdc SET TBLPROPERTIES (delta.autoOptimize.optimizeWrite = true, delta.autoOptimize.autoCompact = true);\n",
    "\n",
    "SELECT * FROM clients_cdc order by id asc ;"
   ]
  },
  {
   "cell_type": "markdown",
   "metadata": {
    "application/vnd.databricks.v1+cell": {
     "cellMetadata": {},
     "inputWidgets": {},
     "nuid": "8d55d4f5-c864-453b-a0f7-334bbae67f5d",
     "showTitle": false,
     "tableResultSettingsMap": {},
     "title": ""
    }
   },
   "source": [
    "## Silver: Materialize the table\n",
    "\n",
    "<img src=\"https://github.com/databricks-demos/dbdemos-resources/raw/main/images/product/Delta-Lake-CDC-CDF/cdc-flow-2.png\" alt='Make all your data ready for BI and ML' style='float: right' width='600'/>\n",
    "\n",
    "The silver `retail_client_silver` table will contains the most up to date view. It'll be a replicat of the original MYSQL table.\n",
    "\n",
    "Because we'll propagate the `MERGE` operations downstream to the `GOLD` layer, we need to enable Delta Lake CDF: `delta.enableChangeDataFeed = true`"
   ]
  },
  {
   "cell_type": "code",
   "execution_count": 0,
   "metadata": {
    "application/vnd.databricks.v1+cell": {
     "cellMetadata": {},
     "inputWidgets": {},
     "nuid": "7fa80c41-e6cd-4ff9-b9e8-277930ee2e95",
     "showTitle": true,
     "tableResultSettingsMap": {},
     "title": "We can now create our client table using standard SQL command"
    }
   },
   "outputs": [],
   "source": [
    "%sql \n",
    "-- we can add NOT NULL in our ID field (or even more advanced constraint)\n",
    "CREATE TABLE IF NOT EXISTS retail_client_silver (id BIGINT NOT NULL, name STRING, address STRING, email STRING, operation STRING) \n",
    "  TBLPROPERTIES (delta.enableChangeDataFeed = true, delta.autoOptimize.optimizeWrite = true, delta.autoOptimize.autoCompact = true);"
   ]
  },
  {
   "cell_type": "code",
   "execution_count": 0,
   "metadata": {
    "application/vnd.databricks.v1+cell": {
     "cellMetadata": {},
     "inputWidgets": {},
     "nuid": "32a8cb12-5d22-4775-9cde-8a172004bd46",
     "showTitle": true,
     "tableResultSettingsMap": {},
     "title": "And run our MERGE statement the upsert the CDC information in our final table"
    }
   },
   "outputs": [],
   "source": [
    "#for each batch / incremental update from the raw cdc table, we'll run a MERGE on the silver table\n",
    "def merge_stream(df, i):\n",
    "  df.createOrReplaceTempView(\"clients_cdc_microbatch\")\n",
    "  #First we need to dedup the incoming data based on ID (we can have multiple update of the same row in our incoming data)\n",
    "  #Then we run the merge (upsert or delete). We could do it with a window and filter on rank() == 1 too\n",
    "  df.sparkSession.sql(\"\"\"MERGE INTO retail_client_silver target\n",
    "                                USING\n",
    "                                (select id, name, address, email, operation from \n",
    "                                  (SELECT *, ROW_NUMBER() OVER (PARTITION BY id ORDER BY operation_date DESC) as rank from clients_cdc_microbatch) \n",
    "                                 where rank = 1\n",
    "                                ) as source\n",
    "                                ON source.id = target.id\n",
    "                                WHEN MATCHED AND source.operation = 'DELETE' THEN DELETE\n",
    "                                WHEN MATCHED AND source.operation != 'DELETE' THEN UPDATE SET *\n",
    "                                WHEN NOT MATCHED AND source.operation != 'DELETE' THEN INSERT *\"\"\")\n",
    "  \n",
    "(spark.readStream\n",
    "       .table(\"clients_cdc\")\n",
    "     .writeStream\n",
    "       .foreachBatch(merge_stream)\n",
    "       .option(\"checkpointLocation\", raw_data_location+\"/stream/checkpoint_clients_cdc\")\n",
    "       .trigger(processingTime='10 seconds')\n",
    "       #.trigger(availableNow=True) --use this trigger on serverless\n",
    "     .start())\n",
    "\n",
    "time.sleep(20)"
   ]
  },
  {
   "cell_type": "code",
   "execution_count": 0,
   "metadata": {
    "application/vnd.databricks.v1+cell": {
     "cellMetadata": {},
     "inputWidgets": {},
     "nuid": "e38926a6-9b42-4869-b8a8-3023fc464386",
     "showTitle": false,
     "tableResultSettingsMap": {},
     "title": ""
    }
   },
   "outputs": [],
   "source": [
    "%sql \n",
    "select * from retail_client_silver order by id asc;"
   ]
  },
  {
   "cell_type": "markdown",
   "metadata": {
    "application/vnd.databricks.v1+cell": {
     "cellMetadata": {},
     "inputWidgets": {},
     "nuid": "bcbde302-b64d-4ba5-a966-334cefebf62f",
     "showTitle": false,
     "tableResultSettingsMap": {},
     "title": ""
    }
   },
   "source": [
    "### Testing the first CDC layer\n",
    "Let's send a new CDC entry to simulate an update and a DELETE for the ID 1 and 2"
   ]
  },
  {
   "cell_type": "code",
   "execution_count": 0,
   "metadata": {
    "application/vnd.databricks.v1+cell": {
     "cellMetadata": {},
     "inputWidgets": {},
     "nuid": "3c768ad0-7fd2-4a33-8878-6e222b41a747",
     "showTitle": true,
     "tableResultSettingsMap": {},
     "title": "Let's UPDATE id=1 and DELETE the row with id=2"
    }
   },
   "outputs": [],
   "source": [
    "%sql \n",
    "insert into clients_cdc  (id, name, address, email, operation_date, operation, _rescued_data, file_name) values \n",
    "            (1000, \"Quentin\", \"Paris 75020\", \"quentin.ambard@databricks.com\", now(), \"UPDATE\", null, null),\n",
    "            (2000, null, null, null, now(), \"DELETE\", null, null);\n",
    "select * from clients_cdc where id in (1000, 2000);"
   ]
  },
  {
   "cell_type": "code",
   "execution_count": 0,
   "metadata": {
    "application/vnd.databricks.v1+cell": {
     "cellMetadata": {},
     "inputWidgets": {},
     "nuid": "8d5986e6-db09-4ec0-91f1-b8b4f85cdda6",
     "showTitle": false,
     "tableResultSettingsMap": {},
     "title": ""
    }
   },
   "outputs": [],
   "source": [
    "#wait for the stream to get the new data\n",
    "time.sleep(20)"
   ]
  },
  {
   "cell_type": "code",
   "execution_count": 0,
   "metadata": {
    "application/vnd.databricks.v1+cell": {
     "cellMetadata": {},
     "inputWidgets": {},
     "nuid": "c2f7f3a3-0e51-4431-8bfb-6b8a34c22e41",
     "showTitle": true,
     "tableResultSettingsMap": {},
     "title": "Wait a few seconds for the stream to catch the new entry in the CDC table and check the results in the main table"
    }
   },
   "outputs": [],
   "source": [
    "%sql \n",
    "select * from retail_client_silver where id in (1000, 2000);\n",
    "-- Note that ID 1000 has been updated, and ID 2000 is deleted"
   ]
  },
  {
   "cell_type": "markdown",
   "metadata": {
    "application/vnd.databricks.v1+cell": {
     "cellMetadata": {},
     "inputWidgets": {},
     "nuid": "a033d526-01e3-42fd-8175-b4743d2b16b2",
     "showTitle": false,
     "tableResultSettingsMap": {},
     "title": ""
    }
   },
   "source": [
    "## Gold: capture and propagate Silver modifications downstream\n",
    "\n",
    "<img src=\"https://github.com/databricks-demos/dbdemos-resources/raw/main/images/product/Delta-Lake-CDC-CDF/cdc-flow-3.png\" alt='Make all your data ready for BI and ML' style='float: right' width='600'/>\n",
    "\n",
    "We need to add a final Gold layer based on the data from the Silver table. If a row is DELETED or UPDATED in the SILVER layer, we want to apply the same modification in the GOLD layer.\n",
    "\n",
    "To do so, we need to capture all the tables changes from the SILVER layer and incrementally replicate the changes to the GOLD layer.\n",
    "\n",
    "This is very simple using Delta Lake CDF from our SILVER table!\n",
    "\n",
    "Delta Lake CDF provides the `table_changes('< table_name >', < delta_version >)` that you can use to select all the tables modifications from a specific Delta version to another one:"
   ]
  },
  {
   "cell_type": "markdown",
   "metadata": {
    "application/vnd.databricks.v1+cell": {
     "cellMetadata": {},
     "inputWidgets": {},
     "nuid": "960e3234-56fe-4df3-9e51-46e5eb13cb1b",
     "showTitle": false,
     "tableResultSettingsMap": {},
     "title": ""
    }
   },
   "source": [
    "### Working with Delta Lake CDF"
   ]
  },
  {
   "cell_type": "code",
   "execution_count": 0,
   "metadata": {
    "application/vnd.databricks.v1+cell": {
     "cellMetadata": {},
     "inputWidgets": {},
     "nuid": "caed82f0-66db-4f0f-b2d2-0c18f324da12",
     "showTitle": false,
     "tableResultSettingsMap": {},
     "title": ""
    }
   },
   "outputs": [],
   "source": [
    "%sql\n",
    "--Remember, CDC must be enabled in the silver table to capture the change. Let's make sure it's properly enabled:\n",
    "ALTER TABLE retail_client_silver SET TBLPROPERTIES (delta.enableChangeDataFeed = true);\n",
    "\n",
    "-- Delta Lake CDF works using table_changes function:\n",
    "SELECT * FROM table_changes('retail_client_silver', 1)  order by id"
   ]
  },
  {
   "cell_type": "markdown",
   "metadata": {
    "application/vnd.databricks.v1+cell": {
     "cellMetadata": {},
     "inputWidgets": {},
     "nuid": "dbd60857-a12f-4633-8a0c-f868e96df7d0",
     "showTitle": false,
     "tableResultSettingsMap": {},
     "title": ""
    }
   },
   "source": [
    "#### Delta CDF table_changes output\n",
    "Table Changes provides back 4 cdc types in the \"_change_type\" column:\n",
    "\n",
    "| CDC Type             | Description                                                               |\n",
    "|----------------------|---------------------------------------------------------------------------|\n",
    "| **update_preimage**  | Content of the row before an update                                       |\n",
    "| **update_postimage** | Content of the row after the update (what you want to capture downstream) |\n",
    "| **delete**           | Content of a row that has been deleted                                    |\n",
    "| **insert**           | Content of a new row that has been inserted                               |\n",
    "\n",
    "Therefore, 1 update will result in 2 rows in the cdc stream (one row with the previous values, one with the new values)"
   ]
  },
  {
   "cell_type": "code",
   "execution_count": 0,
   "metadata": {
    "application/vnd.databricks.v1+cell": {
     "cellMetadata": {},
     "inputWidgets": {},
     "nuid": "73059b1b-4d31-46a1-a05b-aeac9e6f3c0b",
     "showTitle": true,
     "tableResultSettingsMap": {},
     "title": "Getting the last modifications with the Python API"
    }
   },
   "outputs": [],
   "source": [
    "from delta.tables import *\n",
    "\n",
    "#Let's get the last table version to only see the last update mofications\n",
    "last_version = str(DeltaTable.forName(spark, \"retail_client_silver\").history(1).head()[\"version\"])\n",
    "print(f\"our Delta table last version is {last_version}, let's select the last changes to see our DELETE and UPDATE operations (last 2 versions):\")\n",
    "\n",
    "changes = spark.read.format(\"delta\") \\\n",
    "                    .option(\"readChangeData\", \"true\") \\\n",
    "                    .option(\"startingVersion\", int(last_version) -1) \\\n",
    "                    .table(\"retail_client_silver\")\n",
    "display(changes)"
   ]
  },
  {
   "cell_type": "markdown",
   "metadata": {
    "application/vnd.databricks.v1+cell": {
     "cellMetadata": {},
     "inputWidgets": {},
     "nuid": "0dff92d2-556f-45c2-b68b-95ef5402b940",
     "showTitle": false,
     "tableResultSettingsMap": {},
     "title": ""
    }
   },
   "source": [
    "### Synchronizing our downstream GOLD table based from the Silver changes\n",
    "\n",
    "Let's now say that we want to perform another table enhancement and propagate these changes downstream.\n",
    "\n",
    "To keep this example simple, we'll just add a column name `gold_data` with random data, but in real world this could be an aggregation, a join with another datasource, an ML model etc.\n",
    "\n",
    "The same logic as the Silver layer must be implemented. Since we now consume the CDF data, we also need to perform a deduplication stage. Let's do it using the python APIs this time for the example.\n",
    "\n",
    "*Note: Streaming operations with CDC are supported from DBR 8.1+*"
   ]
  },
  {
   "cell_type": "code",
   "execution_count": 0,
   "metadata": {
    "application/vnd.databricks.v1+cell": {
     "cellMetadata": {},
     "inputWidgets": {},
     "nuid": "3edde487-dcea-4883-a972-8bb88193ba23",
     "showTitle": true,
     "tableResultSettingsMap": {},
     "title": "Let's create or final GOLD table: retail_client_gold"
    }
   },
   "outputs": [],
   "source": [
    "%sql\n",
    "CREATE TABLE IF NOT EXISTS retail_client_gold (id BIGINT NOT NULL, name STRING, address STRING, email STRING, gold_data STRING);"
   ]
  },
  {
   "cell_type": "code",
   "execution_count": 0,
   "metadata": {
    "application/vnd.databricks.v1+cell": {
     "cellMetadata": {},
     "inputWidgets": {},
     "nuid": "8a1eeda3-297c-4557-8291-2ef642fa9e5e",
     "showTitle": false,
     "tableResultSettingsMap": {},
     "title": ""
    }
   },
   "outputs": [],
   "source": [
    "from pyspark.sql.window import Window\n",
    "from pyspark.sql.functions import dense_rank, regexp_replace, lit, col\n",
    "\n",
    "#Function to upsert `microBatchOutputDF` into Delta table using MERGE\n",
    "def upsertToDelta(data, batchId):\n",
    "  #First we need to deduplicate based on the id and take the most recent update\n",
    "  windowSpec = Window.partitionBy(\"id\").orderBy(col(\"_commit_version\").desc())\n",
    "  #Select only the first value \n",
    "  #getting the latest change is still needed if the cdc contains multiple time the same id. We can rank over the id and get the most recent _commit_version\n",
    "  data_deduplicated = data.withColumn(\"rank\", dense_rank().over(windowSpec)).where(\"rank = 1 and _change_type!='update_preimage'\").drop(\"_commit_version\", \"rank\")\n",
    "\n",
    "  #Add some data cleaning for the gold layer to remove quotes from the address\n",
    "  data_deduplicated = data_deduplicated.withColumn(\"address\", regexp_replace(col(\"address\"), \"\\\"\", \"\"))\n",
    "  \n",
    "  #run the merge in the gold table directly\n",
    "  (DeltaTable.forName(spark, \"retail_client_gold\").alias(\"target\")\n",
    "      .merge(data_deduplicated.alias(\"source\"), \"source.id = target.id\")\n",
    "      .whenMatchedDelete(\"source._change_type = 'delete'\")\n",
    "      .whenMatchedUpdateAll(\"source._change_type != 'delete'\")\n",
    "      .whenNotMatchedInsertAll(\"source._change_type != 'delete'\")\n",
    "      .execute())\n",
    "\n",
    "\n",
    "(spark.readStream\n",
    "       .option(\"readChangeData\", \"true\")\n",
    "       .option(\"startingVersion\", 1)\n",
    "       .table(\"retail_client_silver\")\n",
    "       .withColumn(\"gold_data\", lit(\"Delta CDF is Awesome\"))\n",
    "      .writeStream\n",
    "        .foreachBatch(upsertToDelta)\n",
    "        .option(\"checkpointLocation\", raw_data_location+\"/stream/checkpoint_clients_gold\")\n",
    "        .trigger(processingTime='10 seconds')\n",
    "        #.trigger(availableNow=True) --use this trigger on serverless\n",
    "      .start())\n",
    "\n",
    "time.sleep(20)"
   ]
  },
  {
   "cell_type": "code",
   "execution_count": 0,
   "metadata": {
    "application/vnd.databricks.v1+cell": {
     "cellMetadata": {},
     "inputWidgets": {},
     "nuid": "6c1afce2-9813-4f25-a2ce-f7c73a192656",
     "showTitle": false,
     "tableResultSettingsMap": {},
     "title": ""
    }
   },
   "outputs": [],
   "source": [
    "%sql SELECT * FROM retail_client_gold"
   ]
  },
  {
   "cell_type": "markdown",
   "metadata": {
    "application/vnd.databricks.v1+cell": {
     "cellMetadata": {},
     "inputWidgets": {},
     "nuid": "e2afd2d5-9b03-4aaa-a2aa-0a6bd28ee148",
     "showTitle": false,
     "tableResultSettingsMap": {},
     "title": ""
    }
   },
   "source": [
    "### Support for data sharing and Datamesh organization\n",
    "<img src=\"https://github.com/databricks-demos/dbdemos-resources/raw/main/images/product/Delta-Lake-CDC-CDF/delta-cdf-datamesh.png\" style=\"float:right; margin-right: 50px\" width=\"300px\" />\n",
    "\n",
    "As we've seen during this demo, you can track all the changes (INSERT/UPDATE/DELETE) from any Detlta table using the CDC option.\n",
    "\n",
    "It's then easy to subscribe the table modifications as an incremental process.\n",
    "\n",
    "This makes the Data Mesh implementation easy: each Mesh can publish a set of tables, and other meshes can subscribe the original changes.\n",
    "\n",
    "They are then in charge of propagating the changes (ex GDPR DELETE) to their own Data Mesh"
   ]
  },
  {
   "cell_type": "markdown",
   "metadata": {
    "application/vnd.databricks.v1+cell": {
     "cellMetadata": {},
     "inputWidgets": {},
     "nuid": "689b3c70-4c08-4dd2-9da8-149ae1f6f3b2",
     "showTitle": false,
     "tableResultSettingsMap": {},
     "title": ""
    }
   },
   "source": [
    "## Data is now ready for BI & ML use-case !\n",
    "\n",
    "<img src=\"https://github.com/databricks-demos/dbdemos-resources/raw/main/images/product/Delta-Lake-CDC-CDF/cdc-flow-4.png\" alt='Make all your data ready for BI and ML' style='float: right' width='600'/>\n",
    "\n",
    "We now have our final table, updated based on the initial CDC information we receive.\n",
    "\n",
    "As next step, we can leverage Databricks Lakehouse platform to start creating SQL queries / dashboards or ML models"
   ]
  },
  {
   "cell_type": "markdown",
   "metadata": {
    "application/vnd.databricks.v1+cell": {
     "cellMetadata": {},
     "inputWidgets": {},
     "nuid": "7dc6f3fa-f4e6-4dc8-b71f-382a577a1065",
     "showTitle": false,
     "tableResultSettingsMap": {},
     "title": ""
    }
   },
   "source": [
    "Next step: [Implement a CDC pipeline for multiple tables]($./02-CDC-CDF-full-multi-tables)"
   ]
  },
  {
   "cell_type": "code",
   "execution_count": 0,
   "metadata": {
    "application/vnd.databricks.v1+cell": {
     "cellMetadata": {},
     "inputWidgets": {},
     "nuid": "cbfd1af6-ca62-4361-9378-ebdc44bbc1a2",
     "showTitle": true,
     "tableResultSettingsMap": {},
     "title": "Make sure we stop all actives streams"
    }
   },
   "outputs": [],
   "source": [
    "DBDemos.stop_all_streams()"
   ]
  }
 ],
 "metadata": {
  "application/vnd.databricks.v1+notebook": {
   "computePreferences": null,
   "dashboards": [],
   "environmentMetadata": {
    "environment_version": "2"
   },
   "inputWidgetPreferences": null,
   "language": "python",
   "notebookMetadata": {
    "pythonIndentUnit": 2
   },
   "notebookName": "01-CDC-CDF-simple-pipeline",
   "widgets": {}
  },
  "language_info": {
   "name": "python"
  }
 },
 "nbformat": 4,
 "nbformat_minor": 0
}
