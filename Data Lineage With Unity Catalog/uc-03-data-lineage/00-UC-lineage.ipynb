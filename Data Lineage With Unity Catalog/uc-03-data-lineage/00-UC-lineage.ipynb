{
 "cells": [
  {
   "cell_type": "markdown",
   "metadata": {
    "application/vnd.databricks.v1+cell": {
     "cellMetadata": {},
     "inputWidgets": {},
     "nuid": "da797fa6-c558-47dc-ab91-a3aaa777dd71",
     "showTitle": false,
     "tableResultSettingsMap": {},
     "title": ""
    }
   },
   "source": [
    "# Show Lineage for Delta Tables in Unity Catalog\n",
    "\n",
    "<img src=\"https://github.com/databricks-demos/dbdemos-resources/blob/main/images/product/uc/lineage/uc-lineage-slide.png?raw=true\" style=\"float:right; margin-left:10px\" width=\"700\"/>\n",
    "\n",
    "Unity Catalog captures runtime data lineage for any table to table operation executed on a Databricks cluster or SQL endpoint. Lineage operates across all languages (SQL, Python, Scala and R) and it can be visualized in the Data Explorer in near-real-time, and also retrieved via REST API.\n",
    "\n",
    "Lineage is available at two granularity levels:\n",
    "- Tables\n",
    "- Columns: ideal to track GDPR dependencies\n",
    "\n",
    "Lineage takes into account the Table ACLs present in Unity Catalog. If a user is not allowed to see a table at a certain point of the graph, its information are redacted, but they can still see that a upstream or downstream table is present.\n",
    "\n",
    "## Working with Lineage\n",
    "\n",
    "No modifications are needed to the existing code to generate the lineage. As long as you operate with tables saved in the Unity Catalog, Databricks will capture all lineage informations for you.\n",
    "\n",
    "Requirements:\n",
    "- Make sure you set `spark.databricks.dataLineage.enabled true`in your cluster setup\n",
    "- Source and target tables must be registered in a Unity Catalog metastore to be eligible for lineage capture\n",
    "- The data manipulation must be performed using Spark DataFrame language (python/SQL)\n",
    "- To view lineage, users must have the SELECT privilege on the table\n",
    "\n",
    "<!-- Collect usage data (view). Remove it to disable collection. View README for more details.  -->\n",
    "<img width=\"1px\" src=\"https://ppxrzfxige.execute-api.us-west-2.amazonaws.com/v1/analytics?category=governance&org_id=3759185753378633&notebook=%2F00-UC-lineage&demo_name=uc-03-data-lineage&event=VIEW&path=%2F_dbdemos%2Fgovernance%2Fuc-03-data-lineage%2F00-UC-lineage&version=1\">"
   ]
  },
  {
   "cell_type": "markdown",
   "metadata": {
    "application/vnd.databricks.v1+cell": {
     "cellMetadata": {},
     "inputWidgets": {},
     "nuid": "35476379-80b8-4a0e-b031-9304a5bc12d9",
     "showTitle": false,
     "tableResultSettingsMap": {},
     "title": null
    }
   },
   "source": [
    "### A cluster has been created for this demo\n",
    "To run this demo, just select the cluster `dbdemos-uc-03-data-lineage-maynard` from the dropdown menu ([open cluster configuration](https://adb-3759185753378633.13.azuredatabricks.net/#setting/clusters/0531-105738-55eb9ir4/configuration)). <br />\n",
    "*Note: If the cluster was deleted after 30 days, you can re-create it with `dbdemos.create_cluster('uc-03-data-lineage')` or re-install the demo: `dbdemos.install('uc-03-data-lineage')`*"
   ]
  },
  {
   "cell_type": "code",
   "execution_count": 0,
   "metadata": {
    "application/vnd.databricks.v1+cell": {
     "cellMetadata": {},
     "inputWidgets": {},
     "nuid": "f12552f9-91c6-45fc-b734-148600d39493",
     "showTitle": false,
     "tableResultSettingsMap": {},
     "title": ""
    },
    "jupyter": {
     "outputs_hidden": true
    }
   },
   "outputs": [],
   "source": [
    "%run ./_resources/00-setup"
   ]
  },
  {
   "cell_type": "markdown",
   "metadata": {
    "application/vnd.databricks.v1+cell": {
     "cellMetadata": {},
     "inputWidgets": {},
     "nuid": "3bea910e-e297-4df8-a9ff-9258fc457eed",
     "showTitle": false,
     "tableResultSettingsMap": {},
     "title": ""
    }
   },
   "source": [
    "## 1/ Create a Delta Table In Unity Catalog\n",
    "\n",
    "The first step is to create a Delta Table in Unity Catalog.\n",
    "\n",
    "We want to do that in SQL, to show multi-language support:\n",
    "\n",
    "1. Use the `CREATE TABLE` command and define a schema\n",
    "1. Use the `INSERT INTO` command to insert some rows in the table"
   ]
  },
  {
   "cell_type": "code",
   "execution_count": 0,
   "metadata": {
    "application/vnd.databricks.v1+cell": {
     "cellMetadata": {},
     "inputWidgets": {},
     "nuid": "057aea6e-27cf-48bf-8daa-9073f90eec89",
     "showTitle": false,
     "tableResultSettingsMap": {},
     "title": ""
    }
   },
   "outputs": [],
   "source": [
    "%sql \n",
    "SELECT CURRENT_CATALOG()"
   ]
  },
  {
   "cell_type": "code",
   "execution_count": 0,
   "metadata": {
    "application/vnd.databricks.v1+cell": {
     "cellMetadata": {},
     "inputWidgets": {},
     "nuid": "4988f6b3-db29-49ca-917b-5d2ea5e1c105",
     "showTitle": false,
     "tableResultSettingsMap": {},
     "title": ""
    }
   },
   "outputs": [],
   "source": [
    "%sql\n",
    "CREATE TABLE IF NOT EXISTS menu (recipe_id INT, app string, main string, desert string);\n",
    "DELETE from menu ;\n",
    "\n",
    "INSERT INTO menu \n",
    "    (recipe_id, app, main, desert) \n",
    "VALUES \n",
    "    (1,\"Ceviche\", \"Tacos\", \"Flan\"),\n",
    "    (2,\"Tomato Soup\", \"Souffle\", \"Creme Brulee\"),\n",
    "    (3,\"Chips\",\"Grilled Cheese\",\"Cheescake\");"
   ]
  },
  {
   "cell_type": "markdown",
   "metadata": {
    "application/vnd.databricks.v1+cell": {
     "cellMetadata": {},
     "inputWidgets": {},
     "nuid": "1a0a5ef6-10fd-41d0-bffc-04f29e1a1a50",
     "showTitle": false,
     "tableResultSettingsMap": {},
     "title": ""
    }
   },
   "source": [
    "## 2/ Create a Delta Table from the Previously Created One\n",
    "\n",
    "To show dependancies between tables, we create a new one `AS SELECT` from the previous one, concatenating three columns into a new one"
   ]
  },
  {
   "cell_type": "code",
   "execution_count": 0,
   "metadata": {
    "application/vnd.databricks.v1+cell": {
     "cellMetadata": {},
     "inputWidgets": {},
     "nuid": "b44a869e-e0e7-4b91-8051-326f26448977",
     "showTitle": false,
     "tableResultSettingsMap": {},
     "title": ""
    }
   },
   "outputs": [],
   "source": [
    "%sql\n",
    "CREATE TABLE IF NOT EXISTS dinner \n",
    "  AS SELECT recipe_id, concat(app,\" + \", main,\" + \",desert) as full_menu FROM menu"
   ]
  },
  {
   "cell_type": "markdown",
   "metadata": {
    "application/vnd.databricks.v1+cell": {
     "cellMetadata": {},
     "inputWidgets": {},
     "nuid": "bdce7d81-b5c8-4657-86fd-18b8f7ad81cd",
     "showTitle": false,
     "tableResultSettingsMap": {},
     "title": ""
    }
   },
   "source": [
    "## 3/ Create a Delta Table as join from Two Other Tables\n",
    "\n",
    "The last step is to create a third table as a join from the two previous ones. This time we will use Python instead of SQL.\n",
    "\n",
    "- We create a Dataframe with some random data formatted according to two columns, `id` and `recipe_id`\n",
    "- We save this Dataframe as a new table, `main.lineage.price`\n",
    "- We read as two Dataframes the previous two tables, `main.lineage.dinner` and `main.lineage.price`\n",
    "- We join them on `recipe_id` and save the result as a new Delta table `main.lineage.dinner_price`"
   ]
  },
  {
   "cell_type": "code",
   "execution_count": 0,
   "metadata": {
    "application/vnd.databricks.v1+cell": {
     "cellMetadata": {},
     "inputWidgets": {},
     "nuid": "121a1514-1a64-4563-8085-a4d105323b99",
     "showTitle": false,
     "tableResultSettingsMap": {},
     "title": ""
    }
   },
   "outputs": [],
   "source": [
    "df = spark.range(3).withColumn(\"price\", F.round(10*F.rand(seed=42),2)).withColumnRenamed(\"id\", \"recipe_id\")\n",
    "\n",
    "df.write.mode(\"overwrite\").saveAsTable(\"price\")\n",
    "\n",
    "dinner = spark.read.table(\"dinner\")\n",
    "price = spark.read.table(\"price\")\n",
    "\n",
    "dinner_price = dinner.join(price, on=\"recipe_id\")\n",
    "dinner_price.write.mode(\"overwrite\").saveAsTable(\"dinner_price\")\n"
   ]
  },
  {
   "cell_type": "markdown",
   "metadata": {
    "application/vnd.databricks.v1+cell": {
     "cellMetadata": {},
     "inputWidgets": {},
     "nuid": "eee8e808-11c5-4b5f-8b39-3ed98a4e0e95",
     "showTitle": false,
     "tableResultSettingsMap": {},
     "title": ""
    }
   },
   "source": [
    "## 4/ Visualize Table Lineage\n",
    "\n",
    "The Lineage can be visualized in the `Data Explorer` of the part of the Workspace dedicated to the `SQL Persona`.\n",
    "\n",
    "1. Select the `Catalog`\n",
    "1. Select the `Schema`\n",
    "1. Select the `Table`\n",
    "1. Select the `Lineage` tab on the right part of the page\n",
    "1. You can visualize the full lineage by pressing the `See Lineage Graph` button\n",
    "1. By default the graph is condensed. By clicking on the boxes you can expand them and visualize the full lineage.\n",
    "\n",
    "\n",
    "<img src=\"https://github.com/databricks-demos/dbdemos-resources/blob/main/images/product/uc/lineage/lineage-table.gif?raw=true\"/>"
   ]
  },
  {
   "cell_type": "markdown",
   "metadata": {
    "application/vnd.databricks.v1+cell": {
     "cellMetadata": {},
     "inputWidgets": {},
     "nuid": "8d8d1c30-64bf-4448-a869-d72b8779724e",
     "showTitle": false,
     "tableResultSettingsMap": {},
     "title": ""
    }
   },
   "source": [
    "## 5/ Visualize Column Lineage\n",
    "\n",
    "The Lineage is alos available for the Column. This is very useful to track column dependencies and be able to find GDPR, including by API.\n",
    "\n",
    "You can access the column lineage by clicking on any of the column name. In this case we see that the menu comes from 3 other columns of the menu table:\n",
    "<br/><br/>\n",
    "\n",
    "\n",
    "<img src=\"https://github.com/databricks-demos/dbdemos-resources/blob/main/images/product/uc/lineage/lineage-column.gif?raw=true\"/>"
   ]
  },
  {
   "cell_type": "markdown",
   "metadata": {
    "application/vnd.databricks.v1+cell": {
     "cellMetadata": {},
     "inputWidgets": {},
     "nuid": "e5d213b3-9589-4ec8-bd14-b2864656226e",
     "showTitle": false,
     "tableResultSettingsMap": {},
     "title": ""
    }
   },
   "source": [
    "\n",
    "## 6/ Lineage Permission Model\n",
    "\n",
    "Lineage graphs share the same permission model as Unity Catalog. If a user does not have the SELECT privilege on the table, they will not be able to explore the lineage."
   ]
  },
  {
   "cell_type": "markdown",
   "metadata": {
    "application/vnd.databricks.v1+cell": {
     "cellMetadata": {},
     "inputWidgets": {},
     "nuid": "bf79e6f5-b7f6-41dd-8993-39e64138c061",
     "showTitle": false,
     "tableResultSettingsMap": {},
     "title": ""
    }
   },
   "source": [
    "## Conclusion\n",
    "\n",
    "Databricks Unity Catalog let you track data lineage out of the box.\n",
    "\n",
    "No extra setup required, just read and write from your table and the engine will build the dependencies for you. Lineage can work at a table level but also at the column level, which provide a powerful tool to track dependencies on sensible data.\n",
    "\n",
    "Lineage can also show you the potential impact updating a table/column and find who will be impacted downstream."
   ]
  },
  {
   "cell_type": "markdown",
   "metadata": {
    "application/vnd.databricks.v1+cell": {
     "cellMetadata": {},
     "inputWidgets": {},
     "nuid": "af66c104-2d68-421f-b0c7-74208d33d3f3",
     "showTitle": false,
     "tableResultSettingsMap": {},
     "title": ""
    }
   },
   "source": [
    "\n",
    "### Existing Limitations\n",
    "- Streaming operations are not yet supported\n",
    "- Lineage will not be captured when data is written directly to files in cloud storage even if a table is defined at that location (eg spark.write.save(“s3:/mybucket/mytable/”) will not produce lineage)\n",
    "- Lineage is not captured across workspaces (eg if a table A > table B transformation is performed in workspace 1 and table B > table C in workspace 2, each workspace will show a partial view of the lineage for table B)\n",
    "- Lineage is computed on a 90-day rolling window, meaning that lineage will not be displayed for tables that have not been modified in more than 90 days ago"
   ]
  }
 ],
 "metadata": {
  "application/vnd.databricks.v1+notebook": {
   "computePreferences": null,
   "dashboards": [],
   "environmentMetadata": {
    "environment_version": "2"
   },
   "inputWidgetPreferences": null,
   "language": "python",
   "notebookMetadata": {
    "pythonIndentUnit": 2
   },
   "notebookName": "00-UC-lineage",
   "widgets": {}
  },
  "language_info": {
   "name": "python"
  }
 },
 "nbformat": 4,
 "nbformat_minor": 0
}
