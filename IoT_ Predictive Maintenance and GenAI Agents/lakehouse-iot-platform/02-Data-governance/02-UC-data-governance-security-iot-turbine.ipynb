{
 "cells": [
  {
   "cell_type": "markdown",
   "metadata": {
    "application/vnd.databricks.v1+cell": {
     "cellMetadata": {},
     "inputWidgets": {},
     "nuid": "a39a1462-f574-4f82-b1bb-fd41fe447163",
     "showTitle": false,
     "tableResultSettingsMap": {},
     "title": ""
    }
   },
   "source": [
    "# Ensuring Governance and security for our IOT platform\n",
    "\n",
    "Data governance and security is hard when it comes to a complete Data Platform. SQL GRANT on tables isn't enough and security must be enforced for multiple data assets (dashboards, Models, files etc).\n",
    "\n",
    "To reduce risks and driving innovation, Emily's team needs to:\n",
    "\n",
    "- Unify all data assets (Tables, Files, ML models, Features, Dashboards, Queries)\n",
    "- Onboard data with multiple teams\n",
    "- Share & monetize assets with external Organizations\n",
    "\n",
    "<style>\n",
    ".box{\n",
    "  box-shadow: 20px -20px #CCC; height:300px; box-shadow:  0 0 10px  rgba(0,0,0,0.3); padding: 5px 10px 0px 10px;}\n",
    ".badge {\n",
    "  clear: left; float: left; height: 30px; width: 30px;  display: table-cell; vertical-align: middle; border-radius: 50%; background: #fcba33ff; text-align: center; color: white; margin-right: 10px}\n",
    ".badge_b { \n",
    "  height: 35px}\n",
    "</style>\n",
    "<link href='https://fonts.googleapis.com/css?family=DM Sans' rel='stylesheet'>\n",
    "<div style=\"padding: 20px; font-family: 'DM Sans'; color: #1b5162\">\n",
    "  <div style=\"width:200px; float: left; text-align: center\">\n",
    "    <div class=\"box\" style=\"\">\n",
    "      <div style=\"font-size: 26px;\">\n",
    "        <strong>Team A</strong>\n",
    "      </div>\n",
    "      <div style=\"font-size: 13px\">\n",
    "        <img src=\"https://raw.githubusercontent.com/databricks-demos/dbdemos-resources/refs/heads/main/images/alice.png\" style=\"\" width=\"60px\"> <br/>\n",
    "        Data Analysts<br/>\n",
    "        <img src=\"https://raw.githubusercontent.com/databricks-demos/dbdemos-resources/refs/heads/main/images/marc.png\" style=\"\" width=\"60px\"> <br/>\n",
    "        Data Scientists<br/>\n",
    "        <img src=\"https://raw.githubusercontent.com/databricks-demos/dbdemos-resources/refs/heads/main/images/john.png\" style=\"\" width=\"60px\"> <br/>\n",
    "        Data Engineers\n",
    "      </div>\n",
    "    </div>\n",
    "    <div class=\"box\" style=\"height: 80px; margin: 20px 0px 50px 0px\">\n",
    "      <div style=\"font-size: 26px;\">\n",
    "        <strong>Team B</strong>\n",
    "      </div>\n",
    "      <div style=\"font-size: 13px\">...</div>\n",
    "    </div>\n",
    "  </div>\n",
    "  <div style=\"float: left; width: 400px; padding: 0px 20px 0px 20px\">\n",
    "    <div style=\"margin: 20px 0px 0px 20px\">Permissions on queries, dashboards</div>\n",
    "    <img src=\"https://github.com/databricks-demos/dbdemos-resources/raw/main/images/horizontal-arrow-dash.png\" style=\"width: 400px\">\n",
    "    <div style=\"margin: 20px 0px 0px 20px\">Permissions on tables, columns, rows</div>\n",
    "    <img src=\"https://github.com/databricks-demos/dbdemos-resources/raw/main/images/horizontal-arrow-dash.png\" style=\"width: 400px\">\n",
    "    <div style=\"margin: 20px 0px 0px 20px\">Permissions on features, ML models, endpoints, notebooks…</div>\n",
    "    <img src=\"https://github.com/databricks-demos/dbdemos-resources/raw/main/images/horizontal-arrow-dash.png\" style=\"width: 400px\">\n",
    "    <div style=\"margin: 20px 0px 0px 20px\">Permissions on files, jobs</div>\n",
    "    <img src=\"https://github.com/databricks-demos/dbdemos-resources/raw/main/images/horizontal-arrow-dash.png\" style=\"width: 400px\">\n",
    "  </div>\n",
    "  \n",
    "  <div class=\"box\" style=\"width:550px; float: left\">\n",
    "    <img src=\"https://raw.githubusercontent.com/databricks-demos/dbdemos-resources/refs/heads/main/images/emily.png\" style=\"float: left; margin-right: 10px;\" width=\"80px\"> \n",
    "    <div style=\"float: left; font-size: 26px; margin-top: 0px; line-height: 17px;\"><strong>Emily</strong> <br />Governance and Security</div>\n",
    "    <div style=\"font-size: 18px; clear: left; padding-top: 10px\">\n",
    "      <ul style=\"line-height: 2px;\">\n",
    "        <li>Central catalog - all data assets</li>\n",
    "        <li>Data exploration & discovery to unlock new use-cases</li>\n",
    "        <li>Permissions cross-teams</li>\n",
    "        <li>Reduce risk with audit logs</li>\n",
    "        <li>Measure impact with lineage</li>\n",
    "      </ul>\n",
    "      + Monetize & Share data with external organization (Delta Sharing)\n",
    "    </div>\n",
    "  </div>\n",
    "  \n",
    "  \n",
    "</div>\n",
    "\n",
    "\n",
    "<!-- Collect usage data (view). Remove it to disable collection. View README for more details.  -->\n",
    "<img width=\"1px\" src=\"https://ppxrzfxige.execute-api.us-west-2.amazonaws.com/v1/analytics?category=lakehouse&org_id=3759185753378633&notebook=%2F02-Data-governance%2F02-UC-data-governance-security-iot-turbine&demo_name=lakehouse-iot-platform&event=VIEW&path=%2F_dbdemos%2Flakehouse%2Flakehouse-iot-platform%2F02-Data-governance%2F02-UC-data-governance-security-iot-turbine&version=1\">"
   ]
  },
  {
   "cell_type": "markdown",
   "metadata": {
    "application/vnd.databricks.v1+cell": {
     "cellMetadata": {},
     "inputWidgets": {},
     "nuid": "7334c42c-9fe7-46e8-9603-bcd861a72431",
     "showTitle": false,
     "tableResultSettingsMap": {},
     "title": null
    }
   },
   "source": [
    "### A cluster has been created for this demo\n",
    "To run this demo, just select the cluster `dbdemos-lakehouse-iot-platform-maynard` from the dropdown menu ([open cluster configuration](https://adb-3759185753378633.13.azuredatabricks.net/#setting/clusters/0601-140514-azo5xn2i/configuration)). <br />\n",
    "*Note: If the cluster was deleted after 30 days, you can re-create it with `dbdemos.create_cluster('lakehouse-iot-platform')` or re-install the demo: `dbdemos.install('lakehouse-iot-platform')`*"
   ]
  },
  {
   "cell_type": "markdown",
   "metadata": {
    "application/vnd.databricks.v1+cell": {
     "cellMetadata": {},
     "inputWidgets": {},
     "nuid": "2b990d5e-56f2-4ff6-8711-2915f2083da5",
     "showTitle": false,
     "tableResultSettingsMap": {},
     "title": ""
    }
   },
   "source": [
    "# Implementing a global data governance and security with Unity Catalog\n",
    "\n",
    "<img style=\"float: right; margin-top: 30px\" width=\"500px\" src=\"https://raw.githubusercontent.com/databricks-demos/dbdemos-resources/refs/heads/main/images/manufacturing/lakehouse-iot-turbine/team_flow_emily.png\" />\n",
    "\n",
    "Let's see how the Lakehouse can solve this challenge leveraging Unity Catalog.\n",
    "\n",
    "Our Data has been saved as Delta Table by our Data Engineering team.  The next step is to secure this data while allowing cross team to access it. <br>\n",
    "A typical setup would be the following:\n",
    "\n",
    "* Data Engineers / Jobs can read and update the main data/schemas (ETL part)\n",
    "* Data Scientists can read the final tables and update their features tables\n",
    "* Data Analyst have READ access to the Data Engineering and Feature Tables and can ingest/transform additional data in a separate schema.\n",
    "* Data is masked/anonymized dynamically based on each user access level\n",
    "\n",
    "This is made possible by Unity Catalog. When tables are saved in the Unity Catalog, they can be made accessible to the entire organization, cross-workpsaces and cross users.\n",
    "\n",
    "Unity Catalog is key for data governance, including creating data products or organazing teams around datamesh. It brings among other:\n",
    "\n",
    "* Fined grained ACL\n",
    "* Audit log\n",
    "* Data lineage\n",
    "* Data exploration & discovery\n",
    "* Sharing data with external organization (Delta Sharing)\n",
    "\n",
    "\n",
    "<!-- Collect usage data (view). Remove it to disable collection. View README for more details.  -->\n",
    "<img width=\"1px\" src=\"https://ppxrzfxige.execute-api.us-west-2.amazonaws.com/v1/analytics?category=lakehouse&org_id=3759185753378633&notebook=%2F02-Data-governance%2F02-UC-data-governance-security-iot-turbine&demo_name=lakehouse-iot-platform&event=VIEW&path=%2F_dbdemos%2Flakehouse%2Flakehouse-iot-platform%2F02-Data-governance%2F02-UC-data-governance-security-iot-turbine&version=1\">"
   ]
  },
  {
   "cell_type": "markdown",
   "metadata": {
    "application/vnd.databricks.v1+cell": {
     "cellMetadata": {},
     "inputWidgets": {},
     "nuid": "b034de6a-de28-41d5-a5ab-dc5310c8cf17",
     "showTitle": false,
     "tableResultSettingsMap": {},
     "title": ""
    }
   },
   "source": [
    "## Cluster setup for UC\n",
    "\n",
    "<img src=\"https://github.com/QuentinAmbard/databricks-demo/raw/main/product_demos/uc/uc-cluster-setup-single-user.png\" style=\"float: right; margin-left: 10px\"/>\n",
    "\n",
    "To be able to run this demo, make sure you create a cluster with the security mode enabled & Unity Catalog enabled at the account level (see [documentation](https://docs.databricks.com/data-governance/unity-catalog/get-started.html))\n",
    "\n",
    "In the compute page, make sure you select \"Single User\" and your UC-user (the user needs to exist at the workspace and the account level)\n",
    "\n",
    "If you're using the cluster created by `dbdemos`, you're all good."
   ]
  },
  {
   "cell_type": "code",
   "execution_count": 0,
   "metadata": {
    "application/vnd.databricks.v1+cell": {
     "cellMetadata": {},
     "inputWidgets": {},
     "nuid": "6558ffa8-27ad-43bd-9c2e-f01baf6bc3d7",
     "showTitle": false,
     "tableResultSettingsMap": {},
     "title": ""
    },
    "jupyter": {
     "outputs_hidden": true
    }
   },
   "outputs": [],
   "source": [
    "%run ../_resources/00-setup $reset_all_data=false"
   ]
  },
  {
   "cell_type": "markdown",
   "metadata": {
    "application/vnd.databricks.v1+cell": {
     "cellMetadata": {},
     "inputWidgets": {},
     "nuid": "3b948eb3-c081-4a44-8d62-3770dba973b2",
     "showTitle": false,
     "tableResultSettingsMap": {},
     "title": ""
    }
   },
   "source": [
    "## Exploring our Iot Platform database\n",
    "\n",
    "<img src=\"https://github.com/QuentinAmbard/databricks-demo/raw/main/product_demos/uc/uc-base-1.png\" style=\"float: right\" width=\"800px\"/> \n",
    "\n",
    "Let's review the data created.\n",
    "\n",
    "Unity Catalog works with 3 layers:\n",
    "\n",
    "* CATALOG\n",
    "* SCHEMA (or DATABASE)\n",
    "* TABLE\n",
    "\n",
    "All unity catalog is available with SQL (`CREATE CATALOG IF NOT EXISTS my_catalog` ...)\n",
    "\n",
    "To access one table, you can specify the full path: `SELECT * FROM &lt;CATALOG&gt;.&lt;SCHEMA&gt;.&lt;TABLE&gt;`"
   ]
  },
  {
   "cell_type": "code",
   "execution_count": 0,
   "metadata": {
    "application/vnd.databricks.v1+cell": {
     "cellMetadata": {},
     "inputWidgets": {},
     "nuid": "fbd78680-2723-4b93-8e87-d953a396f9e4",
     "showTitle": false,
     "tableResultSettingsMap": {},
     "title": ""
    }
   },
   "outputs": [],
   "source": [
    "-- the catalog has been created for your user and is defined as default. \n",
    "-- make sure you run the 00-setup cell above to init the catalog to your user. \n",
    "SELECT CURRENT_CATALOG();"
   ]
  },
  {
   "cell_type": "markdown",
   "metadata": {
    "application/vnd.databricks.v1+cell": {
     "cellMetadata": {},
     "inputWidgets": {},
     "nuid": "4eb587e6-a111-416a-b3bf-888e91a14df9",
     "showTitle": false,
     "tableResultSettingsMap": {},
     "title": ""
    }
   },
   "source": [
    "\n",
    "## Let's review the tables we created under our schema\n",
    "\n",
    "<img src=\"https://raw.githubusercontent.com/QuentinAmbard/databricks-demo/main/retail/resources/images/lakehouse-retail/lakehouse-retail-churn-data-explorer.gif\" style=\"float: right\" width=\"800px\"/> \n",
    "\n",
    "Unity Catalog provides a comprehensive Data Explorer that you can access on the left menu.\n",
    "\n",
    "**Open it and navigate under `dbdemos`.`lakehouse_iot` to review the tables created.**\n",
    "\n",
    "You'll find all the options for your data management and governance: review the tables created, add new one, share them with Delta Sharing...\n",
    "\n",
    "**You'll also be able to explore data and GRANT permissions to your users directly using the UI**\n",
    "\n",
    "\n",
    "### Discoverability \n",
    "\n",
    "In addition, Unity catalog also provides explorability and discoverability. \n",
    "\n",
    "Anyone having access to the tables will be able to search it and analyze its main usage. <br>\n",
    "You can use the Search menu (⌘ + P) to navigate in your data assets (tables, notebooks, queries...)"
   ]
  },
  {
   "cell_type": "code",
   "execution_count": 0,
   "metadata": {
    "application/vnd.databricks.v1+cell": {
     "cellMetadata": {},
     "inputWidgets": {},
     "nuid": "3bb6ea04-c1e2-452c-b997-1db55cf70873",
     "showTitle": true,
     "tableResultSettingsMap": {},
     "title": "As you can see, our tables are available under our catalog."
    }
   },
   "outputs": [],
   "source": [
    "SHOW TABLES;"
   ]
  },
  {
   "cell_type": "code",
   "execution_count": 0,
   "metadata": {
    "application/vnd.databricks.v1+cell": {
     "cellMetadata": {},
     "inputWidgets": {},
     "nuid": "0bde8b81-7465-4dea-bbf6-41a4d8372242",
     "showTitle": true,
     "tableResultSettingsMap": {},
     "title": "Granting access to Analysts & Data Engineers:"
    }
   },
   "outputs": [],
   "source": [
    "-- Let's grant our ANALYSTS a SELECT permission:\n",
    "-- Note: make sure you created an analysts and dataengineers group first.\n",
    "GRANT SELECT ON TABLE main.dbdemos_iot_turbine.sensor_bronze TO `analysts`;\n",
    "GRANT SELECT ON TABLE main.dbdemos_iot_turbine.sensor_hourly TO `analysts`;\n",
    "GRANT SELECT ON TABLE main.dbdemos_iot_turbine.historical_turbine_status TO `analysts`;\n",
    "\n",
    "-- We'll grant an extra MODIFY to our Data Engineer\n",
    "GRANT SELECT, MODIFY ON SCHEMA main.dbdemos_iot_turbine TO `dataengineers`;"
   ]
  },
  {
   "cell_type": "code",
   "execution_count": 0,
   "metadata": {
    "application/vnd.databricks.v1+cell": {
     "cellMetadata": {},
     "inputWidgets": {},
     "nuid": "c8746ff4-d20a-4027-a0c4-8868673c82eb",
     "showTitle": true,
     "tableResultSettingsMap": {},
     "title": "Review grant"
    }
   },
   "outputs": [],
   "source": [
    "SHOW GRANT ON turbine"
   ]
  },
  {
   "cell_type": "markdown",
   "metadata": {
    "application/vnd.databricks.v1+cell": {
     "cellMetadata": {},
     "inputWidgets": {},
     "nuid": "5ead3bd1-be60-4214-9f56-7e7cfc4225b8",
     "showTitle": false,
     "tableResultSettingsMap": {},
     "title": ""
    }
   },
   "source": [
    "\n",
    "## Dynamically filtering data base on current user, row and column-level filtering\n",
    "\n",
    "Let's see how Unity Catalog can be used to filter data and return different results based on who is querying it.\n",
    "\n",
    "Let's pretend we're based in Chicago, and we want the `parts` table to only return the parts available in the Chicago location as this is where we operate.\n",
    "\n",
    "We'll add a new table doing a matching between users and the parts locations *(Note: this could also be done with groups)*.\n",
    "\n",
    "You'll be based in Chicago, John in Honolulu and Lea in Denvers:"
   ]
  },
  {
   "cell_type": "code",
   "execution_count": 0,
   "metadata": {
    "application/vnd.databricks.v1+cell": {
     "cellMetadata": {},
     "inputWidgets": {},
     "nuid": "13d8d39b-4290-41fd-bbfa-70549c3f557b",
     "showTitle": false,
     "tableResultSettingsMap": {},
     "title": ""
    }
   },
   "outputs": [],
   "source": [
    "-- create the table matchying the users and the country/location\n",
    "CREATE OR REPLACE TABLE parts_users_country_permission (email STRING, country STRING);\n",
    "\n",
    "INSERT INTO parts_users_country_permission (email, country)\n",
    "  VALUES \n",
    "    (current_user(), 'America/Chicago'),\n",
    "    ('john@mycompany.com', 'America/Honolulu'),\n",
    "    ('lea@mycompany.com', 'America/Denver');"
   ]
  },
  {
   "cell_type": "code",
   "execution_count": 0,
   "metadata": {
    "application/vnd.databricks.v1+cell": {
     "cellMetadata": {},
     "inputWidgets": {},
     "nuid": "bed24a4f-4868-4be9-a262-2a3f7541999f",
     "showTitle": true,
     "tableResultSettingsMap": {},
     "title": "Let's create and try our new protected view"
    }
   },
   "outputs": [],
   "source": [
    "CREATE OR REPLACE VIEW parts_secured AS\n",
    "SELECT\n",
    "  CASE \n",
    "    WHEN is_account_group_member('iot_admin') THEN EAN  -- allow admin to see all\n",
    "    ELSE '***' -- filter other users, they won't be able to see the EAN\n",
    "  END as EAN,\n",
    "  p.* EXCEPT (EAN)\n",
    "FROM parts p \n",
    "INNER JOIN parts_users_country_permission u -- Get the country/location permission table\n",
    "  ON p.stock_location = u.country \n",
    "  AND (u.email = current_user() OR is_account_group_member('iot_admin')); --Filter based on the current user, admin also have all permission\n",
    "\n",
    "\n",
    "-- Let's test our secured view. We'll only see the 'America/Chicago' parts, and the EAN will be filtered.\n",
    "SELECT * FROM parts_secured;"
   ]
  },
  {
   "cell_type": "markdown",
   "metadata": {
    "application/vnd.databricks.v1+cell": {
     "cellMetadata": {},
     "inputWidgets": {},
     "nuid": "cca0a12e-72c5-41ed-8ce9-1efd9416f3b8",
     "showTitle": false,
     "tableResultSettingsMap": {},
     "title": ""
    }
   },
   "source": [
    "\n",
    "## Sharing data with external organization\n",
    "\n",
    "We've seen how to GRANT access to our tables internally (to any entity within your Databricks account)\n",
    "\n",
    "However, this might not be enough. You'll have to share this data with external organizations (for data monetization, partners etc). \n",
    "\n",
    "The Lakehouse provides this capability while being agnostic about your partners data stack / cloud.\n",
    "\n",
    "This is powered by [Delta Sharing](https://www.databricks.com/en/product/delta-sharing), an open protocol creating open standard and data normalization across industries.\n",
    "\n",
    "For a full example on Delta Sharing, run: `dbdemos.intall('delta-sharing-airlines')`"
   ]
  },
  {
   "cell_type": "markdown",
   "metadata": {
    "application/vnd.databricks.v1+cell": {
     "cellMetadata": {},
     "inputWidgets": {},
     "nuid": "d170b0ca-0f2a-4271-be9d-c755f933764a",
     "showTitle": false,
     "tableResultSettingsMap": {},
     "title": ""
    }
   },
   "source": [
    "\n",
    "## Going further with Data governance & security\n",
    "\n",
    "By bringing all your data assets together, Unity Catalog let you build a complete and simple governance to help you scale your teams.\n",
    "\n",
    "Unity Catalog can be leveraged from simple GRANT to building a complete datamesh organization.\n",
    "\n",
    "<img src=\"https://github.com/QuentinAmbard/databricks-demo/raw/main/product_demos/uc/lineage/lineage-table.gif\" style=\"float: right; margin-left: 10px\"/>\n",
    "\n",
    "### Fine-grained ACL\n",
    "\n",
    "Need more advanced control? You can chose to dynamically change your table output based on the user permissions: `dbdemos.intall('uc-01-acl')`\n",
    "\n",
    "### Secure external location (S3/ADLS/GCS)\n",
    "\n",
    "Unity Catatalog let you secure your managed table but also your external locations:  `dbdemos.intall('uc-02-external-location')`\n",
    "\n",
    "### Lineage \n",
    "\n",
    "UC automatically captures table dependencies and let you track how your data is used, including at a row level: `dbdemos.intall('uc-03-data-lineage')`\n",
    "\n",
    "This leat you analyze downstream impact, or monitor sensitive information across the entire organization (GDPR).\n",
    "\n",
    "\n",
    "### Audit log\n",
    "\n",
    "UC captures all events. Need to know who is accessing which data? Query your audit log:  `dbdemos.intall('uc-04-audit-log')`\n",
    "\n",
    "This leat you analyze downstream impact, or monitor sensitive information across the entire organization (GDPR).\n",
    "\n",
    "### Upgrading to UC\n",
    "\n",
    "Already using Databricks without UC? Upgrading your tables to benefit from Unity Catalog is simple:  `dbdemos.intall('uc-05-upgrade')`"
   ]
  },
  {
   "cell_type": "markdown",
   "metadata": {
    "application/vnd.databricks.v1+cell": {
     "cellMetadata": {},
     "inputWidgets": {},
     "nuid": "5f12dc38-d1e9-4fe7-add5-99ebd2e3dfe3",
     "showTitle": false,
     "tableResultSettingsMap": {},
     "title": ""
    }
   },
   "source": [
    "# Next: Start building analysis with Databricks SQL\n",
    "\n",
    "Now that these tables are available in our Lakehouse and secured, let's see how our Data Analyst team can start leveraging them to run BI workloads\n",
    "\n",
    "Jump to the [BI / Data warehousing notebook]($../03-BI-data-warehousing/03-BI-Datawarehousing-iot-turbine) or [Go back to the introduction]($../00-IOT-wind-turbine-introduction-lakehouse)"
   ]
  }
 ],
 "metadata": {
  "application/vnd.databricks.v1+notebook": {
   "computePreferences": null,
   "dashboards": [],
   "environmentMetadata": {
    "environment_version": "2"
   },
   "inputWidgetPreferences": null,
   "language": "sql",
   "notebookMetadata": {
    "pythonIndentUnit": 4
   },
   "notebookName": "02-UC-data-governance-security-iot-turbine",
   "widgets": {}
  },
  "language_info": {
   "name": "sql"
  }
 },
 "nbformat": 4,
 "nbformat_minor": 0
}
