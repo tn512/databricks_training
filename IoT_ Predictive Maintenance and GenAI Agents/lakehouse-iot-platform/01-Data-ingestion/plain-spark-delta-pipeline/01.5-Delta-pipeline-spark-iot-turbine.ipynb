{
 "cells": [
  {
   "cell_type": "markdown",
   "metadata": {
    "application/vnd.databricks.v1+cell": {
     "cellMetadata": {},
     "inputWidgets": {},
     "nuid": "a9e15df7-54b1-4bb6-927d-91d29e065e46",
     "showTitle": false,
     "tableResultSettingsMap": {},
     "title": ""
    }
   },
   "source": [
    "# Ingesting and transforming IOT sensors from Wind Turbinge using Delta Lake and Spark API\n",
    "\n",
    "<img style=\"float: right\" width=\"300px\" src=\"https://raw.githubusercontent.com/QuentinAmbard/databricks-demo/main/retail/resources/images/lakehouse-retail/lakehouse-retail-churn-2.png\" />\n",
    "\n",
    "In this notebook, we'll show you an alternative to Delta Live Table: building an ingestion pipeline with the Spark API.\n",
    "\n",
    "As you'll see, this implementation is lower level than the Delta Live Table pipeline, and you'll have control over all the implementation details (handling checkpoints, data quality etc).\n",
    "\n",
    "Lower level also means more power. Using Spark API, you'll have unlimited capabilities to ingest data in Batch or Streaming.\n",
    "\n",
    "If you're unsure what to use, start with Delta Live Table!\n",
    "\n",
    "*Remember that Databricks workflow can be used to orchestrate a mix of Delta Live Table pipeline with standard Spark pipeline.*\n",
    "\n",
    "### Dataset:\n",
    "\n",
    "As reminder, we have multiple data sources coming from different system:\n",
    "\n",
    "* <strong>Turbine metadata</strong>: Turbine ID, location (1 row per turbine)\n",
    "* <strong>Turbine sensor stream</strong>: Realtime streaming flow from wind turbine sensor (vibration, energy produced, speed etc)\n",
    "* <strong>Turbine status</strong>: Historical turbine status based to analyse which part is faulty (used as label in our ML model)\n",
    "\n",
    "\n",
    "Leveraging Spark and Delta Lake makes such an implementation easy.\n",
    "\n",
    "\n",
    "<!-- Collect usage data (view). Remove it to disable collection. View README for more details.  -->\n",
    "<img width=\"1px\" src=\"https://ppxrzfxige.execute-api.us-west-2.amazonaws.com/v1/analytics?category=lakehouse&org_id=3759185753378633&notebook=%2F01-Data-ingestion%2Fplain-spark-delta-pipeline%2F01.5-Delta-pipeline-spark-iot-turbine&demo_name=lakehouse-iot-platform&event=VIEW&path=%2F_dbdemos%2Flakehouse%2Flakehouse-iot-platform%2F01-Data-ingestion%2Fplain-spark-delta-pipeline%2F01.5-Delta-pipeline-spark-iot-turbine&version=1\">"
   ]
  },
  {
   "cell_type": "code",
   "execution_count": 0,
   "metadata": {
    "application/vnd.databricks.v1+cell": {
     "cellMetadata": {},
     "inputWidgets": {},
     "nuid": "35252f05-1068-4868-8d86-482141a43e03",
     "showTitle": false,
     "tableResultSettingsMap": {},
     "title": ""
    }
   },
   "outputs": [],
   "source": [
    "%pip install mlflow==2.20.2"
   ]
  },
  {
   "cell_type": "code",
   "execution_count": 0,
   "metadata": {
    "application/vnd.databricks.v1+cell": {
     "cellMetadata": {},
     "inputWidgets": {},
     "nuid": "13d7b04e-4cef-4f9c-bfe8-0824f376c00a",
     "showTitle": false,
     "tableResultSettingsMap": {},
     "title": ""
    },
    "jupyter": {
     "outputs_hidden": true
    }
   },
   "outputs": [],
   "source": [
    "%run ../../_resources/00-setup"
   ]
  },
  {
   "cell_type": "code",
   "execution_count": 0,
   "metadata": {
    "application/vnd.databricks.v1+cell": {
     "cellMetadata": {},
     "inputWidgets": {},
     "nuid": "ab21f490-d7d3-4337-88ab-ea0fd39cabdd",
     "showTitle": true,
     "tableResultSettingsMap": {},
     "title": "Load the version from our mlflow run"
    }
   },
   "outputs": [],
   "source": [
    "from mlflow.store.artifact.models_artifact_repo import ModelsArtifactRepository\n",
    "import os\n",
    "import mlflow\n",
    "# Use the Unity Catalog model registry\n",
    "mlflow.set_registry_uri(\"databricks-uc\")\n",
    "# download model requirement from remote registry\n",
    "requirements_path = ModelsArtifactRepository(f\"models:/{catalog}.{db}.dbdemos_turbine_maintenance@prod\").download_artifacts(artifact_path=\"requirements.txt\") "
   ]
  },
  {
   "cell_type": "code",
   "execution_count": 0,
   "metadata": {
    "application/vnd.databricks.v1+cell": {
     "cellMetadata": {},
     "inputWidgets": {},
     "nuid": "930cf5a3-32ea-4ed7-8cc9-cd5a8994e176",
     "showTitle": false,
     "tableResultSettingsMap": {},
     "title": ""
    }
   },
   "outputs": [],
   "source": [
    "%pip install -r $requirements_path\n",
    "dbutils.library.restartPython()"
   ]
  },
  {
   "cell_type": "code",
   "execution_count": 0,
   "metadata": {
    "application/vnd.databricks.v1+cell": {
     "cellMetadata": {},
     "inputWidgets": {},
     "nuid": "4b56f10c-0c91-4b0e-8020-fef6b852dfdc",
     "showTitle": false,
     "tableResultSettingsMap": {},
     "title": ""
    },
    "jupyter": {
     "outputs_hidden": true
    }
   },
   "outputs": [],
   "source": [
    "%run ../../_resources/00-setup $reset_all_data=false"
   ]
  },
  {
   "cell_type": "markdown",
   "metadata": {
    "application/vnd.databricks.v1+cell": {
     "cellMetadata": {},
     "inputWidgets": {},
     "nuid": "b5b8a9e8-fea7-4608-9c84-b28a97c06f5b",
     "showTitle": false,
     "tableResultSettingsMap": {},
     "title": ""
    }
   },
   "source": [
    "## Building a Spark Data pipeline with Delta Lake\n",
    "\n",
    "In this example, we'll implement a end 2 end pipeline consuming our IOT sources. We'll use the medaillon architecture but could build a star schema, data vault or any other modelisation.\n",
    "\n",
    "\n",
    "\n",
    "This can be challenging with traditional systems due to the following:\n",
    " * Data quality issue\n",
    " * Running concurrent operation\n",
    " * Running DELETE/UPDATE/MERGE over files\n",
    " * Governance & schema evolution\n",
    " * Performance ingesting millions of small files on cloud buckets\n",
    " * Processing & analysing unstructured data (image, video...)\n",
    " * Switching between batch or streaming depending of your requirement...\n",
    "\n",
    "## Solving these challenges with Delta Lake\n",
    "\n",
    "<div style=\"float:left\">\n",
    "\n",
    "**What's Delta Lake? It's a new OSS standard to bring SQL Transactional database capabilities on top of parquet files!**\n",
    "\n",
    "Used as a new Spark format, built on top of Spark API / SQL\n",
    "\n",
    "* **ACID transactions** (Multiple writers can simultaneously modify a data set)\n",
    "* **Full DML support** (UPDATE/DELETE/MERGE)\n",
    "* **BATCH and STREAMING** support\n",
    "* **Data quality** (expectatiosn, Schema Enforcement, Inference and Evolution)\n",
    "* **TIME TRAVEL** (Look back on how data looked like in the past)\n",
    "* **Performance boost** with ZOrder, data skipping and Caching, solves small files issue \n",
    "</div>\n",
    "\n",
    "\n",
    "<img src=\"https://pages.databricks.com/rs/094-YMS-629/images/delta-lake-logo.png\" style=\"height: 200px\"/>\n",
    "\n",
    "<br style=\"clear: both\">\n",
    "\n",
    "We'll incrementally load new data with the autoloader, enrich this information and then load a model from MLFlow to perform our predictive maintenance forecast.\n",
    "\n",
    "This information will then be used to build our DBSQL dashboard to analyse current turbine farm and impact on stock.\n",
    "\n",
    "Let'simplement the following flow: \n",
    " \n",
    "<div><img width=\"1100px\" src=\"https://github.com/databricks-demos/dbdemos-resources/raw/main/images/manufacturing/lakehouse-iot-turbine/lakehouse-manuf-iot-turbine-spark-full.png\"/></div>\n",
    "\n",
    "*Note that we're including the ML model our [Data Scientist built](TODO) using Databricks AutoML to predict the churn.*"
   ]
  },
  {
   "cell_type": "markdown",
   "metadata": {
    "application/vnd.databricks.v1+cell": {
     "cellMetadata": {},
     "inputWidgets": {},
     "nuid": "3e551c3f-22ab-4c21-b3b3-6662fa34b2cd",
     "showTitle": false,
     "tableResultSettingsMap": {},
     "title": ""
    }
   },
   "source": [
    "## ![](https://pages.databricks.com/rs/094-YMS-629/images/delta-lake-tiny-logo.png) 1/ Explore the dataset\n",
    "\n",
    "Let's review the files being received"
   ]
  },
  {
   "cell_type": "code",
   "execution_count": 0,
   "metadata": {
    "application/vnd.databricks.v1+cell": {
     "cellMetadata": {},
     "inputWidgets": {},
     "nuid": "5f859599-1c4b-4400-9d90-ef0b26b2a4cc",
     "showTitle": false,
     "tableResultSettingsMap": {},
     "title": ""
    }
   },
   "outputs": [],
   "source": [
    "%sql LIST '/Volumes/main/dbdemos_iot_turbine/turbine_raw_landing/incoming_data'"
   ]
  },
  {
   "cell_type": "code",
   "execution_count": 0,
   "metadata": {
    "application/vnd.databricks.v1+cell": {
     "cellMetadata": {},
     "inputWidgets": {},
     "nuid": "c52fcc2e-2509-4cee-a21a-c0e1ccd14fc2",
     "showTitle": true,
     "tableResultSettingsMap": {},
     "title": "Review the raw sensor data received as JSON"
    }
   },
   "outputs": [],
   "source": [
    "%sql\n",
    "SELECT * FROM PARQUET.`/Volumes/main/dbdemos_iot_turbine/turbine_raw_landing/incoming_data`"
   ]
  },
  {
   "cell_type": "markdown",
   "metadata": {
    "application/vnd.databricks.v1+cell": {
     "cellMetadata": {},
     "inputWidgets": {},
     "nuid": "1ad2481e-8086-4ffc-aa35-5e236d5e27a7",
     "showTitle": false,
     "tableResultSettingsMap": {},
     "title": ""
    }
   },
   "source": [
    "### 1/ Loading our data using Databricks Autoloader (cloud_files)\n",
    "<div style=\"float:right\">\n",
    "  <img width=\"700px\" src=\"https://github.com/databricks-demos/dbdemos-resources/raw/main/images/manufacturing/lakehouse-iot-turbine/lakehouse-manuf-iot-turbine-spark-1.png\"/>\n",
    "</div>\n",
    "  \n",
    "Autoloader allow us to efficiently ingest millions of files from a cloud storage, and support efficient schema inference and evolution at scale.\n",
    "\n",
    "For more details on autoloader, run `dbdemos.install('auto-loader')`\n",
    "\n",
    "Let's use it to create our pipeline and ingest the raw JSON & CSV data being delivered in our blob storage `/demos/retail/churn/...`. "
   ]
  },
  {
   "cell_type": "code",
   "execution_count": 0,
   "metadata": {
    "application/vnd.databricks.v1+cell": {
     "cellMetadata": {},
     "inputWidgets": {},
     "nuid": "7d690494-0f54-44e1-8fd4-74ec828e2fe2",
     "showTitle": true,
     "tableResultSettingsMap": {},
     "title": "We'll store the raw data in a USER_BRONZE DELTA table, supporting schema evolution and incorrect data"
    }
   },
   "outputs": [],
   "source": [
    "%sql\n",
    "-- Note: tables are automatically created during  .writeStream.table(\"sensor_bronze\") operation, but we can also use plain SQL to create them:\n",
    "CREATE TABLE IF NOT EXISTS spark_sensor_bronze (\n",
    "  energy   DOUBLE,\n",
    "  sensor_A DOUBLE,\n",
    "  sensor_B DOUBLE,\n",
    "  sensor_C DOUBLE,\n",
    "  sensor_D DOUBLE,\n",
    "  sensor_E DOUBLE,\n",
    "  sensor_F DOUBLE,\n",
    "  timestamp LONG,\n",
    "  turbine_id STRING     \n",
    "  ) using delta \n",
    "    CLUSTER BY (turbine_id) -- Requests by turbine ID will be faster, Databricks manage the file layout for you out of the box. \n",
    "    TBLPROPERTIES (\n",
    "     delta.autooptimize.optimizewrite = TRUE,\n",
    "     delta.autooptimize.autocompact   = TRUE ); \n",
    "-- With these 2 last options, Databricks engine will solve small files & optimize write out of the box!"
   ]
  },
  {
   "cell_type": "code",
   "execution_count": 0,
   "metadata": {
    "application/vnd.databricks.v1+cell": {
     "cellMetadata": {},
     "inputWidgets": {},
     "nuid": "45551451-a2d6-428f-a151-54e25089d5c1",
     "showTitle": false,
     "tableResultSettingsMap": {},
     "title": ""
    }
   },
   "outputs": [],
   "source": [
    "volume_folder = f'/Volumes/{catalog}/{db}/{volume_name}'\n",
    "def ingest_folder(folder, data_format, table):\n",
    "  bronze_products = (spark.readStream\n",
    "                              .format(\"cloudFiles\")\n",
    "                              .option(\"cloudFiles.format\", data_format)\n",
    "                              .option(\"cloudFiles.inferColumnTypes\", \"true\")\n",
    "                              .option(\"cloudFiles.schemaLocation\", f\"{volume_folder}/schema/{table}\") #Autoloader will automatically infer all the schema & evolution\n",
    "                              .load(folder))\n",
    "\n",
    "  return (bronze_products.writeStream\n",
    "                    .option(\"checkpointLocation\", f\"{volume_folder}/checkpoint/{table}\") #exactly once delivery on Delta tables over restart/kill\n",
    "                    .option(\"mergeSchema\", \"true\") #merge any new column dynamically\n",
    "                    .trigger(availableNow= True) #Remove for real time streaming\n",
    "                    .table(\"spark_\"+table)) #Table will be created if we haven't specified the schema first\n",
    "  \n",
    "ingest_folder(f'{volume_folder}/historical_turbine_status', 'json', 'spark_historical_turbine_status')\n",
    "ingest_folder(f'{volume_folder}/turbine', 'json', 'spark_turbine')\n",
    "ingest_folder(f'{volume_folder}/incoming_data', 'parquet', 'spark_sensor_bronze').awaitTermination()"
   ]
  },
  {
   "cell_type": "code",
   "execution_count": 0,
   "metadata": {
    "application/vnd.databricks.v1+cell": {
     "cellMetadata": {},
     "inputWidgets": {},
     "nuid": "c2c18798-3c14-4169-840d-71e6d56529c1",
     "showTitle": true,
     "tableResultSettingsMap": {},
     "title": "Our user_bronze Delta table is now ready for efficient query"
    }
   },
   "outputs": [],
   "source": [
    "%sql \n",
    "-- Note the \"_rescued_data\" column. If we receive wrong data not matching existing schema, it'll be stored here\n",
    "select * from spark_sensor_bronze;"
   ]
  },
  {
   "cell_type": "code",
   "execution_count": 0,
   "metadata": {
    "application/vnd.databricks.v1+cell": {
     "cellMetadata": {},
     "inputWidgets": {},
     "nuid": "3bdceef3-ac6d-40b5-ae5c-ecc77ee10f7a",
     "showTitle": false,
     "tableResultSettingsMap": {},
     "title": ""
    }
   },
   "outputs": [],
   "source": [
    "%sql \n",
    "-- Note the \"_rescued_data\" column. If we receive wrong data not matching existing schema, it'll be stored here\n",
    "select * from spark_turbine;"
   ]
  },
  {
   "cell_type": "code",
   "execution_count": 0,
   "metadata": {
    "application/vnd.databricks.v1+cell": {
     "cellMetadata": {},
     "inputWidgets": {},
     "nuid": "c28e3f89-5276-47f7-b86b-a668dc0811bb",
     "showTitle": true,
     "tableResultSettingsMap": {},
     "title": "Quick data exploration leveraging pandas on spark (Koalas): sensor from our first turbine"
    }
   },
   "outputs": [],
   "source": [
    "#Let's explore a bit our datasets with pandas on spark.\n",
    "first_turbine = spark.table('spark_sensor_bronze').limit(1).collect()[0]['turbine_id']\n",
    "df = spark.table('spark_sensor_bronze').where(f\"turbine_id == '{first_turbine}' \").orderBy('timestamp').pandas_api()\n",
    "df.plot(x=\"timestamp\", y=[\"sensor_F\", \"sensor_E\"], kind=\"line\")"
   ]
  },
  {
   "cell_type": "markdown",
   "metadata": {
    "application/vnd.databricks.v1+cell": {
     "cellMetadata": {},
     "inputWidgets": {},
     "nuid": "116671d3-242f-4acf-a253-d5f59286de97",
     "showTitle": false,
     "tableResultSettingsMap": {},
     "title": ""
    }
   },
   "source": [
    "\n",
    "## ![](https://pages.databricks.com/rs/094-YMS-629/images/delta-lake-tiny-logo.png) 2/ Silver data: date cleaned\n",
    "\n",
    "<img width=\"700px\" style=\"float:right\" src=\"https://github.com/databricks-demos/dbdemos-resources/raw/main/images/manufacturing/lakehouse-iot-turbine/lakehouse-manuf-iot-turbine-spark-2.png\"/>\n",
    "\n",
    "We can chain these incremental transformation between tables, consuming only new data.\n",
    "\n",
    "This can be triggered in near realtime, or in batch fashion, for example as a job running every night to consume daily data."
   ]
  },
  {
   "cell_type": "code",
   "execution_count": 0,
   "metadata": {
    "application/vnd.databricks.v1+cell": {
     "cellMetadata": {},
     "inputWidgets": {},
     "nuid": "b5fb6cab-95e3-4080-b920-5437c6e7445a",
     "showTitle": false,
     "tableResultSettingsMap": {},
     "title": ""
    }
   },
   "outputs": [],
   "source": [
    "import pyspark.sql.functions as F\n",
    "#Compute std and percentil of our timeserie per hour\n",
    "sensors = [c for c in spark.read.table(\"spark_sensor_bronze\").columns if \"sensor\" in c]\n",
    "aggregations = [F.avg(\"energy\").alias(\"avg_energy\")]\n",
    "for sensor in sensors:\n",
    "  aggregations.append(F.stddev_pop(sensor).alias(\"std_\"+sensor))\n",
    "  aggregations.append(F.percentile_approx(sensor, [0.1, 0.3, 0.6, 0.8, 0.95]).alias(\"percentiles_\"+sensor))\n",
    "  \n",
    "df = (spark.table(\"spark_sensor_bronze\")\n",
    "          .withColumn(\"hourly_timestamp\", F.date_trunc(\"hour\", F.from_unixtime(\"timestamp\")))\n",
    "          .groupBy('hourly_timestamp', 'turbine_id').agg(*aggregations))\n",
    "\n",
    "df.write.mode('overwrite').saveAsTable(\"spark_sensor_hourly\")\n",
    "display(spark.table(\"spark_sensor_hourly\"))\n",
    "#Note: a more scalable solution would be to switch to streaming API and compute the aggregation with a ~3hours watermark and MERGE (upserting) the final output. For this demo clarity we we'll go with a full table update instead."
   ]
  },
  {
   "cell_type": "markdown",
   "metadata": {
    "application/vnd.databricks.v1+cell": {
     "cellMetadata": {},
     "inputWidgets": {},
     "nuid": "dc2ce966-7fcb-4ff3-8d2e-7531abdb868a",
     "showTitle": false,
     "tableResultSettingsMap": {},
     "title": ""
    }
   },
   "source": [
    "\n",
    "## ![](https://pages.databricks.com/rs/094-YMS-629/images/delta-lake-tiny-logo.png) 3/ Build our training dataset\n",
    "\n",
    "<img width=\"700px\" style=\"float:right\" src=\"https://github.com/databricks-demos/dbdemos-resources/raw/main/images/manufacturing/lakehouse-iot-turbine/lakehouse-manuf-iot-turbine-spark-3.png\"/>\n",
    "\n",
    "We can chain these incremental transformation between tables, consuming only new data.\n",
    "\n",
    "This can be triggered in near realtime, or in batch fashion, for example as a job running every night to consume daily data."
   ]
  },
  {
   "cell_type": "code",
   "execution_count": 0,
   "metadata": {
    "application/vnd.databricks.v1+cell": {
     "cellMetadata": {},
     "inputWidgets": {},
     "nuid": "4944f8cc-5279-4529-b7cc-dd421a70c76d",
     "showTitle": false,
     "tableResultSettingsMap": {},
     "title": ""
    }
   },
   "outputs": [],
   "source": [
    "turbine = spark.table(\"spark_turbine\")\n",
    "health = spark.table(\"spark_historical_turbine_status\")\n",
    "(spark.table(\"spark_sensor_hourly\")\n",
    "  .join(turbine, ['turbine_id']).drop(\"row\", \"_rescued_data\")\n",
    "  .join(health, ['turbine_id'])\n",
    "  .drop(\"_rescued_data\")\n",
    "  .write.mode('overwrite').saveAsTable(\"spark_turbine_training_dataset\"))\n",
    "\n",
    "display(spark.table(\"spark_turbine_training_dataset\"))"
   ]
  },
  {
   "cell_type": "markdown",
   "metadata": {
    "application/vnd.databricks.v1+cell": {
     "cellMetadata": {},
     "inputWidgets": {},
     "nuid": "91d9c9dd-b836-4caa-ac54-637307b91cd5",
     "showTitle": false,
     "tableResultSettingsMap": {},
     "title": ""
    }
   },
   "source": [
    "\n",
    "## ![](https://pages.databricks.com/rs/094-YMS-629/images/delta-lake-tiny-logo.png) 4/ Call the ML model and get realtime turbine metrics\n",
    "\n",
    "<img width=\"700px\" style=\"float:right\" src=\"https://github.com/databricks-demos/dbdemos-resources/raw/main/images/manufacturing/lakehouse-iot-turbine/lakehouse-manuf-iot-turbine-spark-4.png\"/>\n",
    "\n",
    "We can chain these incremental transformation between tables, consuming only new data.\n",
    "\n",
    "This can be triggered in near realtime, or in batch fashion, for example as a job running every night to consume daily data."
   ]
  },
  {
   "cell_type": "code",
   "execution_count": 0,
   "metadata": {
    "application/vnd.databricks.v1+cell": {
     "cellMetadata": {},
     "inputWidgets": {},
     "nuid": "9b10705a-11e4-409c-9b6f-2e834a7112cd",
     "showTitle": true,
     "tableResultSettingsMap": {},
     "title": "Load the ML model"
    }
   },
   "outputs": [],
   "source": [
    "#Note: ideally we should download and install the model libraries with the model requirements.txt and PIP. See 04.3-running-inference for an example\n",
    "import mlflow\n",
    "mlflow.set_registry_uri('databricks-uc')\n",
    "#                                                                                                                       Stage/version  \n",
    "#                                                                                                       Model name         |        \n",
    "#                                                                                                           |              |        \n",
    "predict_maintenance = mlflow.pyfunc.spark_udf(spark, f\"models:/{catalog}.{db}.dbdemos_turbine_maintenance@prod\", \"string\") #, env_manager='virtualenv'\n",
    "columns = predict_maintenance.metadata.get_input_schema().input_names()"
   ]
  },
  {
   "cell_type": "code",
   "execution_count": 0,
   "metadata": {
    "application/vnd.databricks.v1+cell": {
     "cellMetadata": {},
     "inputWidgets": {},
     "nuid": "3685a8f2-eab5-4e91-87ee-c5a9db83f663",
     "showTitle": false,
     "tableResultSettingsMap": {},
     "title": ""
    }
   },
   "outputs": [],
   "source": [
    "w = Window.partitionBy(\"turbine_id\").orderBy(col(\"hourly_timestamp\").desc())\n",
    "(spark.table(\"spark_sensor_hourly\")\n",
    "  .withColumn(\"row\", F.row_number().over(w))\n",
    "  .filter(col(\"row\") == 1)\n",
    "  .join(spark.table('spark_turbine'), ['turbine_id']).drop(\"row\", \"_rescued_data\")\n",
    "  .withColumn(\"prediction\", predict_maintenance(*columns))\n",
    "  .write.mode('overwrite').saveAsTable(\"spark_current_turbine_metrics\"))"
   ]
  },
  {
   "cell_type": "code",
   "execution_count": 0,
   "metadata": {
    "application/vnd.databricks.v1+cell": {
     "cellMetadata": {},
     "inputWidgets": {},
     "nuid": "b2347210-3d24-4cc5-88ee-c6dc10421b19",
     "showTitle": false,
     "tableResultSettingsMap": {},
     "title": ""
    }
   },
   "outputs": [],
   "source": [
    "%sql select * from spark_current_turbine_metrics"
   ]
  },
  {
   "cell_type": "markdown",
   "metadata": {
    "application/vnd.databricks.v1+cell": {
     "cellMetadata": {},
     "inputWidgets": {},
     "nuid": "72a7e249-0e91-4c49-ab64-f4c64b4a7f76",
     "showTitle": false,
     "tableResultSettingsMap": {},
     "title": ""
    }
   },
   "source": [
    "## Simplify your operations with transactional DELETE/UPDATE/MERGE operations\n",
    "\n",
    "Traditional Data Lake struggle to run these simple DML operations. Using Databricks and Delta Lake, your data is stored on your blob storage with transactional capabilities. You can issue DML operation on Petabyte of data without having to worry about concurrent operations."
   ]
  },
  {
   "cell_type": "code",
   "execution_count": 0,
   "metadata": {
    "application/vnd.databricks.v1+cell": {
     "cellMetadata": {},
     "inputWidgets": {},
     "nuid": "1072353c-d0f7-4d03-ac52-393b75281245",
     "showTitle": true,
     "tableResultSettingsMap": {},
     "title": "We just realised we have to delete bad entry for a specific turbine"
    }
   },
   "outputs": [],
   "source": [
    "spark.sql(f\"DELETE FROM spark_sensor_bronze where turbine_id='{first_turbine}'\")"
   ]
  },
  {
   "cell_type": "code",
   "execution_count": 0,
   "metadata": {
    "application/vnd.databricks.v1+cell": {
     "cellMetadata": {},
     "inputWidgets": {},
     "nuid": "28496645-4f15-42e2-a5fa-9e4e840e1ef0",
     "showTitle": true,
     "tableResultSettingsMap": {},
     "title": "Delta Lake keeps history of the table operation"
    }
   },
   "outputs": [],
   "source": [
    "%sql describe history spark_sensor_bronze;"
   ]
  },
  {
   "cell_type": "code",
   "execution_count": 0,
   "metadata": {
    "application/vnd.databricks.v1+cell": {
     "cellMetadata": {},
     "inputWidgets": {},
     "nuid": "b96d5b6c-d0a4-403d-982b-0d7dcce65039",
     "showTitle": true,
     "tableResultSettingsMap": {},
     "title": "We can leverage the history to go back in time, restore or clone a table and enable CDC..."
    }
   },
   "outputs": [],
   "source": [
    "%sql \n",
    " --also works with AS OF TIMESTAMP \"yyyy-MM-dd HH:mm:ss\"\n",
    "select * from spark_sensor_bronze version as of 1 ;\n",
    "\n",
    "-- You made the DELETE by mistake ? You can easily restore the table at a given version / date:\n",
    "-- RESTORE TABLE spark_sensor_bronze TO VERSION AS OF 1\n",
    "\n",
    "-- Or clone it (SHALLOW provides zero copy clone):\n",
    "-- CREATE TABLE spark_sensor_bronze_clone SHALLOW|DEEP CLONE sensor_bronze VERSION AS OF 1\n",
    "\n",
    "-- Turn on CDC to capture insert/update/delete operation:\n",
    "-- ALTER TABLE spark_sensor_bronze SET TBLPROPERTIES (delta.enableChangeDataFeed = true)"
   ]
  },
  {
   "cell_type": "code",
   "execution_count": 0,
   "metadata": {
    "application/vnd.databricks.v1+cell": {
     "cellMetadata": {},
     "inputWidgets": {},
     "nuid": "665444e7-7f95-48a5-a4fd-81905687ebd1",
     "showTitle": true,
     "tableResultSettingsMap": {},
     "title": "Make sure all our tables are optimized"
    }
   },
   "outputs": [],
   "source": [
    "%sql\n",
    "--Note: can be turned on by default or for all the database\n",
    "ALTER TABLE spark_turbine                  SET TBLPROPERTIES (delta.autooptimize.optimizewrite = TRUE, delta.autooptimize.autocompact = TRUE );\n",
    "ALTER TABLE spark_sensor_bronze            SET TBLPROPERTIES (delta.autooptimize.optimizewrite = TRUE, delta.autooptimize.autocompact = TRUE );\n",
    "ALTER TABLE spark_current_turbine_metrics  SET TBLPROPERTIES (delta.autooptimize.optimizewrite = TRUE, delta.autooptimize.autocompact = TRUE );"
   ]
  },
  {
   "cell_type": "markdown",
   "metadata": {
    "application/vnd.databricks.v1+cell": {
     "cellMetadata": {},
     "inputWidgets": {},
     "nuid": "10d0868d-610c-45c2-b28e-c8dcb005df4d",
     "showTitle": false,
     "tableResultSettingsMap": {},
     "title": ""
    }
   },
   "source": [
    "## Our finale tables are now ready to be used to build SQL Dashboards and ML models for predictive maintenance!\n",
    "<img style=\"float: right\" width=\"400\" src=\"https://github.com/databricks-demos/dbdemos-resources/raw/main/images/manufacturing/lakehouse-iot-turbine/lakehouse-manuf-iot-dashboard-1.png\"/>\n",
    "\n",
    "Switch to Databricks SQL to see how this data can easily be requested with the [Turbine DBSQL Dashboard](/sql/dashboards/a6bb11d9-1024-47df-918d-f47edc92d5f4) to start reviewing our Wind Turbine stats or the [DBSQL Predictive maintenance Dashboard](/sql/dashboards/d966eb63-6d37-4762-b90f-d3a2b51b9ba8).\n",
    "\n",
    "Creating a single flow was simple.  However, handling many data pipeline at scale can become a real challenge:\n",
    "* Hard to build and maintain table dependencies \n",
    "* Difficult to monitor & enforce advance data quality\n",
    "* Impossible to trace data lineage\n",
    "* Difficult pipeline operations (observability, error recovery)\n",
    "\n",
    "\n",
    "#### To solve these challenges, Databricks introduced **Delta Live Table**\n",
    "A simple way to build and manage data pipelines for fresh, high quality data!"
   ]
  },
  {
   "cell_type": "markdown",
   "metadata": {
    "application/vnd.databricks.v1+cell": {
     "cellMetadata": {},
     "inputWidgets": {},
     "nuid": "80aad7c7-3b26-4b75-88eb-06f09cb4337b",
     "showTitle": false,
     "tableResultSettingsMap": {},
     "title": ""
    }
   },
   "source": [
    "# Next: secure and share data with Unity Catalog\n",
    "\n",
    "Now that these tables are available in our Lakehouse, let's review how we can share them with the Data Scientists and Data Analysts teams.\n",
    "\n",
    "Jump to the [Governance with Unity Catalog notebook]($../../02-Data-governance/02-UC-data-governance-security-iot-turbine) or [Go back to the introduction]($../../00-IOT-wind-turbine-introduction-lakehouse)"
   ]
  }
 ],
 "metadata": {
  "application/vnd.databricks.v1+notebook": {
   "computePreferences": null,
   "dashboards": [],
   "environmentMetadata": {
    "environment_version": "2"
   },
   "inputWidgetPreferences": null,
   "language": "python",
   "notebookMetadata": {
    "pythonIndentUnit": 2
   },
   "notebookName": "01.5-Delta-pipeline-spark-iot-turbine",
   "widgets": {}
  },
  "language_info": {
   "name": "python"
  }
 },
 "nbformat": 4,
 "nbformat_minor": 0
}
