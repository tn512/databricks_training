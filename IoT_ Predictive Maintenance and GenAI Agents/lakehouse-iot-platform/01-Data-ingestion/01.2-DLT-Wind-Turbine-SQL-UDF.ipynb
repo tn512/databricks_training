{
 "cells": [
  {
   "cell_type": "code",
   "execution_count": 0,
   "metadata": {
    "application/vnd.databricks.v1+cell": {
     "cellMetadata": {},
     "inputWidgets": {},
     "nuid": "99ba045f-1780-4233-beb7-81acc2674857",
     "showTitle": true,
     "tableResultSettingsMap": {},
     "title": "Let's install mlflow to load our model"
    }
   },
   "outputs": [],
   "source": [
    "%pip install mlflow==2.20.2 cloudpickle==2.2.1 \n",
    "# hardcode the ml 15.4 LTS libraries versions here - should move to env_manager='conda' for prod use-case instead\n",
    "%pip install category-encoders==2.6.3 cffi==1.15.1 databricks-automl-runtime==0.2.21 defusedxml==0.7.1 holidays==0.45 lightgbm==4.2.0 lz4==4.3.2 matplotlib==3.7.2 numpy==1.23.5 pandas==1.5.3 psutil==5.9.0 pyarrow==14.0.1 scikit-learn==1.3.0 scipy==1.11.1\n",
    "%pip install azure-core azure-storage-file-datalake #for the display() in Azure only"
   ]
  },
  {
   "cell_type": "markdown",
   "metadata": {
    "application/vnd.databricks.v1+cell": {
     "cellMetadata": {},
     "inputWidgets": {},
     "nuid": "2c14b6f3-2ca2-4e9b-a8d3-c9dde14eeb79",
     "showTitle": false,
     "tableResultSettingsMap": {},
     "title": ""
    }
   },
   "source": [
    "#Registering python UDF to a SQL function\n",
    "This is a companion notebook to load the wind turbine prediction model as a spark udf and save it as a SQL function\n",
    " \n",
    "Make sure you add this notebook in your DLT job to have access to the `get_turbine_status` function. (Currently mixing python in a SQL DLT notebook won't run the python)\n",
    "\n",
    "\n",
    "<!-- Collect usage data (view). Remove it to disable collection. View README for more details.  -->\n",
    "<img width=\"1px\" src=\"https://ppxrzfxige.execute-api.us-west-2.amazonaws.com/v1/analytics?category=lakehouse&org_id=3759185753378633&notebook=%2F01-Data-ingestion%2F01.2-DLT-Wind-Turbine-SQL-UDF&demo_name=lakehouse-iot-platform&event=VIEW&path=%2F_dbdemos%2Flakehouse%2Flakehouse-iot-platform%2F01-Data-ingestion%2F01.2-DLT-Wind-Turbine-SQL-UDF&version=1\">"
   ]
  },
  {
   "cell_type": "code",
   "execution_count": 0,
   "metadata": {
    "application/vnd.databricks.v1+cell": {
     "cellMetadata": {},
     "inputWidgets": {},
     "nuid": "2530066a-74f3-453b-b21d-c7f2049a09c7",
     "showTitle": false,
     "tableResultSettingsMap": {},
     "title": ""
    }
   },
   "outputs": [],
   "source": [
    "import mlflow\n",
    "mlflow.set_registry_uri('databricks-uc')\n",
    "#                                                                                                                        Stage/version  \n",
    "#                                                                                           Model name                          |        \n",
    "#                                                                                               |                               |        \n",
    "predict_maintenance_udf = mlflow.pyfunc.spark_udf(spark, \"models:/main.dbdemos_iot_turbine.dbdemos_turbine_maintenance@prod\", \"string\")\n",
    "spark.udf.register(\"predict_maintenance\", predict_maintenance_udf)"
   ]
  },
  {
   "cell_type": "markdown",
   "metadata": {
    "application/vnd.databricks.v1+cell": {
     "cellMetadata": {},
     "inputWidgets": {},
     "nuid": "6214866a-6992-4ea5-b109-0f5c4b76e125",
     "showTitle": false,
     "tableResultSettingsMap": {},
     "title": ""
    }
   },
   "source": [
    "### Setting up the DLT \n",
    "\n",
    "This notebook must be included in your DLT \"libraries\" parameter:\n",
    "\n",
    "```\n",
    "{\n",
    "    \"id\": \"95f28631-1884-425e-af69-05c3f397dd90\",\n",
    "    \"name\": \"xxxx\",\n",
    "    \"storage\": \"/demos/dlt/lakehouse_iot_wind_turbine/xxxxx\",\n",
    "    \"configuration\": {\n",
    "        \"pipelines.useV2DetailsPage\": \"true\"\n",
    "    },\n",
    "    \"clusters\": [\n",
    "        {\n",
    "            \"label\": \"default\",\n",
    "            \"autoscale\": {\n",
    "                \"min_workers\": 1,\n",
    "                \"max_workers\": 5\n",
    "            }\n",
    "        }\n",
    "    ],\n",
    "    \"libraries\": [\n",
    "        {\n",
    "            \"notebook\": {\n",
    "                \"path\": \"/Repos/xxxx/01.1-DLT-Wind-Turbine-SQL\"\n",
    "            }\n",
    "        },\n",
    "        {\n",
    "            \"notebook\": {\n",
    "                \"path\": \"/Repos/xxxx/01.2-DLT-Wind-Turbine-SQL-UDF\"\n",
    "            }\n",
    "        }\n",
    "    ],\n",
    "    \"target\": \"retail_lakehouse_churn_xxxx\",\n",
    "    \"continuous\": false,\n",
    "    \"development\": false\n",
    "}\n",
    "```"
   ]
  }
 ],
 "metadata": {
  "application/vnd.databricks.v1+notebook": {
   "computePreferences": null,
   "dashboards": [],
   "environmentMetadata": {
    "environment_version": "2"
   },
   "inputWidgetPreferences": null,
   "language": "python",
   "notebookMetadata": {
    "pythonIndentUnit": 4
   },
   "notebookName": "01.2-DLT-Wind-Turbine-SQL-UDF",
   "widgets": {}
  },
  "language_info": {
   "name": "python"
  }
 },
 "nbformat": 4,
 "nbformat_minor": 0
}
