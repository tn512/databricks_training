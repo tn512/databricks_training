{
 "cells": [
  {
   "cell_type": "markdown",
   "metadata": {
    "application/vnd.databricks.v1+cell": {
     "cellMetadata": {},
     "inputWidgets": {},
     "nuid": "888cec3e-971a-42a0-ad92-32df4ff9ed6c",
     "showTitle": false,
     "tableResultSettingsMap": {},
     "title": ""
    }
   },
   "source": [
    "# Deploying and orchestrating the full workflow\n",
    "\n",
    "<img style=\"float: right; margin-left: 10px\" width=\"600px\" src=\"https://raw.githubusercontent.com/databricks-demos/dbdemos-resources/refs/heads/main/images/manufacturing/lakehouse-iot-turbine/di_platform_5.png\" />\n",
    "\n",
    "All our assets are ready. We now need to define when we want our DLT pipeline to kick in and refresh the tables.\n",
    "\n",
    "One option is to switch DLT pipeline in continuous mode to have a streaming pipeline, providing near-realtime insight.\n",
    "\n",
    "An alternative is to wakeup the DLT pipeline every X hours, ingest the new data (incremental) and shut down all your compute. \n",
    "\n",
    "This is a simple configuration offering a tradeoff between uptime and ingestion latencies.\n",
    "\n",
    "In our case, we decided that the best tradoff is to ingest new data every hours:\n",
    "\n",
    "- Start the DLT pipeline to ingest new data and refresh our tables\n",
    "- Refresh the DBSQL dashboard (and potentially notify downstream applications)\n",
    "- Retrain our model to include the lastest date and capture potential behavior change\n",
    "\n",
    "<!-- Collect usage data (view). Remove it to disable collection. View README for more details.  -->\n",
    "<img width=\"1px\" src=\"https://ppxrzfxige.execute-api.us-west-2.amazonaws.com/v1/analytics?category=lakehouse&org_id=3759185753378633&notebook=%2F06-Workflow-orchestration%2F06-Workflow-orchestration-iot-turbine&demo_name=lakehouse-iot-platform&event=VIEW&path=%2F_dbdemos%2Flakehouse%2Flakehouse-iot-platform%2F06-Workflow-orchestration%2F06-Workflow-orchestration-iot-turbine&version=1\">"
   ]
  },
  {
   "cell_type": "markdown",
   "metadata": {
    "application/vnd.databricks.v1+cell": {
     "cellMetadata": {},
     "inputWidgets": {},
     "nuid": "5dff4d5f-5400-4ee6-95ba-f63c1d547f36",
     "showTitle": false,
     "tableResultSettingsMap": {},
     "title": ""
    }
   },
   "source": [
    "## Orchestrating our Churn pipeline with Databricks Workflows\n",
    "\n",
    "<img style=\"float: right; margin-left: 10px\" width=\"600px\" src=\"https://github.com/databricks-demos/dbdemos-resources/blob/main/images/retail/lakehouse-churn/lakehouse-retail-c360-workflow.png?raw=true\" />\n",
    "\n",
    "With Databricks Data Intelligence Platform, no need for external orchestrator. We can use [Workflows](/#job/list) (available on the left menu) to orchestrate our Churn pipeline within a few click.\n",
    "\n",
    "\n",
    "\n",
    "###  Orchestrate anything anywhere\n",
    "With workflow, you can run diverse workloads for the full data and AI lifecycle on any cloud. Orchestrate Delta Live Tables and Jobs for SQL, Spark, notebooks, dbt, ML models and more.\n",
    "\n",
    "### Simple - Fully managed\n",
    "Remove operational overhead with a fully managed orchestration service, so you can focus on your workflows not on managing your infrastructure.\n",
    "\n",
    "### Proven reliability\n",
    "Have full confidence in your workflows leveraging our proven experience running tens of millions of production workloads daily across AWS, Azure and GCP."
   ]
  },
  {
   "cell_type": "markdown",
   "metadata": {
    "application/vnd.databricks.v1+cell": {
     "cellMetadata": {},
     "inputWidgets": {},
     "nuid": "3fffb8fa-bb68-4138-a28c-ed6eff1d74f2",
     "showTitle": false,
     "tableResultSettingsMap": {},
     "title": ""
    }
   },
   "source": [
    "A workflow was created as part of this demo. Open the <a dbdemos-workflow-id=\"init-job\" href=\"#job/1002497132051187/tasks\" target=\"_blank\">IOT Wind Turbine Workflow</a> to start exploring Databricks orchestration capabilities!"
   ]
  },
  {
   "cell_type": "markdown",
   "metadata": {
    "application/vnd.databricks.v1+cell": {
     "cellMetadata": {},
     "inputWidgets": {},
     "nuid": "728a5d85-69ca-4318-98ec-ff50fd4fff25",
     "showTitle": false,
     "tableResultSettingsMap": {},
     "title": ""
    }
   },
   "source": [
    "\n",
    "## Creating your workflow\n",
    "\n",
    "<img style=\"float: right; margin-left: 10px\" width=\"600px\" src=\"https://github.com/databricks-demos/dbdemos-resources/blob/main/images/fsi/smart-claims/fsi-claims-dashboard-full.png?raw=trueg\" />\n",
    "\n",
    "A Databricks Workflow is composed of Tasks.\n",
    "\n",
    "Each task can trigger a specific job:\n",
    "\n",
    "* Delta Live Tables\n",
    "* SQL query / dashboard\n",
    "* Model retraining / inference\n",
    "* Notebooks\n",
    "* dbt\n",
    "* ...\n",
    "\n",
    "In this example, can see our 3 tasks:\n",
    "\n",
    "* Start the DLT pipeline to ingest new data and refresh our tables\n",
    "* Refresh the DBSQL dashboard (and potentially notify downstream applications)\n",
    "* Retrain our Churn model"
   ]
  },
  {
   "cell_type": "markdown",
   "metadata": {
    "application/vnd.databricks.v1+cell": {
     "cellMetadata": {},
     "inputWidgets": {},
     "nuid": "0725a088-e190-4a40-a449-5363af181dc8",
     "showTitle": false,
     "tableResultSettingsMap": {},
     "title": ""
    }
   },
   "source": [
    "\n",
    "## Monitoring your runs\n",
    "\n",
    "<img style=\"float: right; margin-left: 10px\" width=\"600px\" src=\"https://raw.githubusercontent.com/QuentinAmbard/databricks-demo/main/retail/resources/images/lakehouse-retail/lakehouse-retail-churn-workflow-monitoring.png\" />\n",
    "\n",
    "Once your workflow is created, we can access historical runs and receive alerts if something goes wrong!\n",
    "\n",
    "In the screenshot we can see that our workflow had multiple errors, with different runtime, and ultimately got fixed.\n",
    "\n",
    "Workflow monitoring includes errors, abnormal job duration and more advanced control!"
   ]
  },
  {
   "cell_type": "markdown",
   "metadata": {
    "application/vnd.databricks.v1+cell": {
     "cellMetadata": {},
     "inputWidgets": {},
     "nuid": "98f7b677-be65-4578-ab4e-f121008a586e",
     "showTitle": false,
     "tableResultSettingsMap": {},
     "title": ""
    }
   },
   "source": [
    "## Conclusion\n",
    "\n",
    "Not only does the Datatabricks Data Intelligence Platform let you ingest, analyze and infer churn, it also provides a best-in-class orchestrator to offer your business fresh insight making sure everything works as expected!\n",
    "\n",
    "[Go back to introduction]($../00-IOT-wind-turbine-introduction-DI-platform)"
   ]
  }
 ],
 "metadata": {
  "application/vnd.databricks.v1+notebook": {
   "computePreferences": null,
   "dashboards": [],
   "environmentMetadata": {
    "environment_version": "2"
   },
   "inputWidgetPreferences": null,
   "language": "python",
   "notebookMetadata": {
    "pythonIndentUnit": 2
   },
   "notebookName": "06-Workflow-orchestration-iot-turbine",
   "widgets": {}
  },
  "language_info": {
   "name": "python"
  }
 },
 "nbformat": 4,
 "nbformat_minor": 0
}
