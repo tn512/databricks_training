{
 "cells": [
  {
   "cell_type": "markdown",
   "metadata": {
    "application/vnd.databricks.v1+cell": {
     "cellMetadata": {},
     "inputWidgets": {},
     "nuid": "c33e7d3d-03ea-4a5a-807b-d819d988cefa",
     "showTitle": false,
     "tableResultSettingsMap": {},
     "title": ""
    }
   },
   "source": [
    "# IoT Platform with Databricks Intelligence Data Platform - Ingesting real-time Industrial Sensor Data for Prescriptive Maintenance\n",
    "\n",
    "<img src=\"https://raw.githubusercontent.com/databricks-demos/dbdemos-resources/refs/heads/main/images/manufacturing/lakehouse-iot-turbine/di_platform_0.png\" style=\"float: left; margin-right: 30px\" width=\"600px\" />\n",
    "\n",
    "<br/>\n",
    "\n",
    "## What is The Databricks Intelligence Data Platform for IoT & Manufacturing?\n",
    "The Databricks Data Intelligence Platform for Manufacturing unlocks the full value of manufacturing data, enabling intelligent networks, enhanced customer experiences, smarter products, and sustainable businesses. It empowers data teams with unmatched scalability, real-time insights, and innovative capabilities across all data types and sources. Manufacturers benefit from reduced costs, increased productivity, improved customer responsiveness, and accelerated innovation. The platform integrates diverse data sources with top-tier AI processing and offers manufacturing-specific Solution Accelerators and partners for powerful real-time decision-making.\n",
    "<img src=\"https://github.com/Datastohne/demo/blob/main/Intelligence%20Engine.png?raw=true \" style=\"float: left; margin-right: 30px\" width=\"200px\" />\n",
    "\n",
    "**Intelligent**\n",
    "Databricks combines generative AI with the unification benefits of a lakehouse to power a Data Intelligence Engine that understands the unique semantics of your data. This allows the Databricks Platform to automatically optimize performance and manage infrastructure in ways unique to your business. \n",
    "\n",
    "<img src=\"https://github.com/Datastohne/demo/blob/main/24840.png?raw=true \" style=\"float: right; margin-left: 30px\" width=\"200px\" />\n",
    "\n",
    "**Simple** Natural language substantially simplifies the user experience on Databricks. The Data Intelligence Engine understands your organization’s language, so search and discovery of new data is as easy as asking a question like you would to a coworker. Additionally, developing new data and applications is accelerated through natural language assistance to write code, remediate errors and find answers.\n",
    "\n",
    "<img src=\"https://github.com/Datastohne/demo/blob/main/24841.png?raw=true \" style=\"float: left; margin-right: 30px\" width=\"200px\" />\n",
    "\n",
    "**Private** Data and AI applications require strong governance and security, especially with the advent of generative AI. Databricks provides an end-to-end MLOps and AI development solution that’s built upon our unified approach to governance and security. You’re able to pursue all your AI initiatives — from using APIs like OpenAI to custom-built models — without compromising data privacy and IP control.\n",
    " \n",
    "<!-- Collect usage data (view). Remove it to disable collection. View README for more details.  -->\n",
    "<img width=\"1px\" src=\"https://ppxrzfxige.execute-api.us-west-2.amazonaws.com/v1/analytics?category=lakehouse&org_id=3759185753378633&notebook=%2F00-IOT-wind-turbine-introduction-DI-platform&demo_name=lakehouse-iot-platform&event=VIEW&path=%2F_dbdemos%2Flakehouse%2Flakehouse-iot-platform%2F00-IOT-wind-turbine-introduction-DI-platform&version=1\">"
   ]
  },
  {
   "cell_type": "markdown",
   "metadata": {
    "application/vnd.databricks.v1+cell": {
     "cellMetadata": {},
     "inputWidgets": {},
     "nuid": "418ebcb5-bc8d-4d24-aba1-4e0f8e2205d1",
     "showTitle": false,
     "tableResultSettingsMap": {},
     "title": ""
    }
   },
   "source": [
    "## Wind Turbine Prescriptive Maintenance with the Databricks Intelligence Data Platform: Bringing Generative AI to Predictive Maintenance\n",
    "\n",
    "Being able to collect and centralize industrial equipment information in real time is critical in the energy space. When a wind turbine is down, it is not generating power which leads to poor customer service and lost revenue. Data is the key to unlock critical capabilities such as energy optimization, anomaly detection, and/or predictive maintenance. The rapid rise of Generative AI provides the opportunity to revolutionize maintenance by not only predicting when equipment is likely to fail, but also generating prescriptive maintenance actions to prevent failurs before they arise and optimize equipment performance. This enables a shift from predictive to prescriptive maintenance. <br/> \n",
    "\n",
    "<img src=\"https://raw.githubusercontent.com/databricks-demos/dbdemos-resources/refs/heads/main/images/manufacturing/lakehouse-iot-turbine/prescriptive_maintenance.png\" width=\"700px\" style=\"float:right; margin-left: 20px\"/>\n",
    "\n",
    "Prescriptive maintenance examples include:\n",
    "\n",
    "- Analyzing equipment IoT sensor data in real time\n",
    "- Predict mechanical failure in an energy pipeline\n",
    "- Diagnose root causes for predicted failure and generate prescriptive actions\n",
    "- Detect abnormal behavior in a production line\n",
    "- Optimize supply chain of parts and staging for scheduled maintenance and repairs\n",
    "\n",
    "### What we'll build\n",
    "\n",
    "In this demo, we'll build an end-to-end IoT platform to collect real-time data from multiple sources.\n",
    "\n",
    "We'll create a predictive model to forecast wind turbine failures and use it to generate maintenance work orders, reducing downtime and increasing Overall Equipment Effectiveness (OEE).\n",
    "\n",
    "Additionally, we'll develop a dashboard for the Turbine Maintenance team to monitor turbines, identify those at risk, and review maintenance work orders, ensuring we meet our productivity goals.\n",
    "\n",
    "At a very high level, this is the flow we will implement:\n",
    "\n",
    "<div style=\"text-align: center;\">\n",
    "    <img src=\"https://raw.githubusercontent.com/databricks-demos/dbdemos-resources/refs/heads/main/images/manufacturing/lakehouse-iot-turbine/team_flow_overview.png\" width=\"1000px\">\n",
    "</div>\n",
    "\n",
    "1. Ingest and create our IoT database and tables which are easily queriable via SQL.\n",
    "2. Secure data and grant read access to the Data Analyst and Data Science teams.\n",
    "3. Run BI queries to analyze existing failures.\n",
    "4. Build ML model to monitor our wind turbine farm & trigger predictive maintenance operations.\n",
    "5. Generate maintenance work orders for field service engineers utilizing Generative AI.\n",
    "\n",
    "Being able to predict which wind turbine will potentially fail is only the first step to increase our wind turbine farm efficiency. Once we're able to build a model predicting potential maintenance, we can dynamically adapt our spare part stock, generate work orders for field service engineers and even automatically dispatch maintenance team with the proper equipment.\n",
    "\n",
    "### Our dataset\n",
    "\n",
    "To simplify this demo, we'll consider that an external system is periodically sending data into our blob storage (S3/ADLS/GCS):\n",
    "\n",
    "- Turbine data *(location, model, identifier etc)*\n",
    "- Wind turbine sensors, every sec *(energy produced, vibration, typically in streaming)*\n",
    "- Turbine status over time, labelled by our analyst team, and historical maintenance reports *(historical data to train on model on and to index into vector database)*\n",
    "\n",
    "*Note that at a technical level, our data could come from any source. Databricks can ingest data from any system (SalesForce, Fivetran, queuing message like kafka, blob storage, SQL & NoSQL databases...).*\n",
    "\n",
    "Let's see how this data can be used within the Data Intelligence Platform to analyze sensor data,  trigger predictive maintenance and generate work orders."
   ]
  },
  {
   "cell_type": "markdown",
   "metadata": {
    "application/vnd.databricks.v1+cell": {
     "cellMetadata": {},
     "inputWidgets": {},
     "nuid": "107fa06b-75ba-4ba3-94ab-c725b2af335f",
     "showTitle": false,
     "tableResultSettingsMap": {},
     "title": ""
    }
   },
   "source": [
    "## 1/ Ingesting and Preparing the Data (Data Engineering)\n",
    "\n",
    "<img style=\"float: left; margin-right: 20px\" width=\"500px\" src=\"https://raw.githubusercontent.com/databricks-demos/dbdemos-resources/refs/heads/main/images/manufacturing/lakehouse-iot-turbine/di_platform_1.png\" />\n",
    "\n",
    "\n",
    "<br/>\n",
    "<div style=\"padding-left: 420px\">\n",
    "Our first step is to ingest and clean the raw data we received so that our Data Analyst team can start running analysis on top of it.\n",
    "\n",
    "\n",
    "<img src=\"https://pages.databricks.com/rs/094-YMS-629/images/delta-lake-logo.png\" style=\"float: right; margin-top: 20px\" width=\"200px\">\n",
    "\n",
    "### Delta Lake\n",
    "\n",
    "All the tables we'll create in the Lakehouse will be stored as Delta Lake tables. [Delta Lake](https://delta.io) is an open storage framework for reliability and performance. <br/>\n",
    "It provides many functionalities such as *(ACID Transaction, DELETE/UPDATE/MERGE, Clone zero copy, Change data Capture...)* <br />\n",
    "For more details on Delta Lake, run `dbdemos.install('delta-lake')`\n",
    "\n",
    "### Simplify ingestion with Delta Live Tables (DLT)\n",
    "\n",
    "Databricks simplifies data ingestion and transformation with Delta Live Tables by allowing SQL users to create advanced pipelines via batch or streaming. Databricks also simplifies pipeline deployment, testing, and tracking data quality which reduces operational complexity, so that you can focus on the needs of the business.<br/>"
   ]
  },
  {
   "cell_type": "markdown",
   "metadata": {
    "application/vnd.databricks.v1+cell": {
     "cellMetadata": {},
     "inputWidgets": {},
     "nuid": "b393573d-c001-4c53-a3fb-a3880af4e76c",
     "showTitle": false,
     "tableResultSettingsMap": {},
     "title": ""
    }
   },
   "source": [
    "Open the Wind Turbine \n",
    "  <a dbdemos-pipeline-id=\"dlt-iot-wind-turbine\" href=\"#joblist/pipelines/41140fd6-da18-4b89-9a8a-86edc1f5d387\" target=\"_blank\">Delta Live Table pipeline</a> or the [SQL notebook]($./01-Data-ingestion/01.1-DLT-Wind-Turbine-SQL) *(Alternatives: DLT Python version Soon available - [plain Delta+Spark version]($./01-Data-ingestion/plain-spark-delta-pipeline/01.5-Delta-pipeline-spark-iot-turbine))*. <br>\n",
    "  For more details on DLT: `dbdemos.install('dlt-load')` or `dbdemos.install('dlt-cdc')`"
   ]
  },
  {
   "cell_type": "markdown",
   "metadata": {
    "application/vnd.databricks.v1+cell": {
     "cellMetadata": {},
     "inputWidgets": {},
     "nuid": "7f410b43-3a6d-4ab5-9543-24e2e1ebe706",
     "showTitle": false,
     "tableResultSettingsMap": {},
     "title": ""
    }
   },
   "source": [
    "## 2/ Securing Data & Governance (Unity Catalog)\n",
    "\n",
    "<img width=\"500px\" src=\"https://raw.githubusercontent.com/databricks-demos/dbdemos-resources/refs/heads/main/images/manufacturing/lakehouse-iot-turbine/di_platform_2.png\"  style=\"float: left; margin-right: 10px\"/>\n",
    "\n",
    "<br/><br/><br/>\n",
    "<div style=\"padding-left: 420px\">\n",
    "  Now that our first tables have been created, we need to grant our Data Analyst team READ access to be able to start analyzing our turbine failure information.\n",
    "  \n",
    "  Let's see how Unity Catalog provides Security & governance across our data assets and includes data lineage and audit logs.\n",
    "  \n",
    "  Note that Unity Catalog integrates Delta Sharing, an open protocol to share your data with any external organization, regardless of their software or data stack. For more details:  `dbdemos.install('delta-sharing-airlines')`\n",
    " </div>"
   ]
  },
  {
   "cell_type": "markdown",
   "metadata": {
    "application/vnd.databricks.v1+cell": {
     "cellMetadata": {},
     "inputWidgets": {},
     "nuid": "2669b467-42ec-40a7-8738-96ecf01058fd",
     "showTitle": false,
     "tableResultSettingsMap": {},
     "title": ""
    }
   },
   "source": [
    "   Open [Unity Catalog notebook]($./02-Data-governance/02-UC-data-governance-security-iot-turbine) to see how to setup ACL and explore lineage with the Data Explorer.\n",
    "  "
   ]
  },
  {
   "cell_type": "markdown",
   "metadata": {
    "application/vnd.databricks.v1+cell": {
     "cellMetadata": {},
     "inputWidgets": {},
     "nuid": "e1906ee8-b9b4-4475-8ac4-5e45225e4b87",
     "showTitle": false,
     "tableResultSettingsMap": {},
     "title": ""
    }
   },
   "source": [
    "## 3/ Analysing Failures (BI / Data warehousing / SQL) \n",
    "\n",
    "<img width=\"300px\" src=\"https://github.com/databricks-demos/dbdemos-resources/raw/main/images/manufacturing/lakehouse-iot-turbine/lakehouse-manuf-iot-dashboard-1.png\"  style=\"float: right; margin: 100px 0px 10px;\"/>\n",
    "\n",
    "<img width=\"500px\" src=\"https://raw.githubusercontent.com/databricks-demos/dbdemos-resources/refs/heads/main/images/manufacturing/lakehouse-iot-turbine/di_platform_2.png\"  style=\"float: left; margin-right: 10px\"/>\n",
    " \n",
    "<br><br><br>\n",
    "Our datasets are now properly ingested, secured, are of high quality and easily discoverable within our organization.\n",
    "\n",
    "Data Analysts are now ready to run BI interactive queries which are low latency & high throughput. They can choose to either create a new compute cluster, use a shared cluster, or for even faster response times, use Databricks Serverless Datawarehouses which provide instant stop & start.\n",
    "\n",
    "Let's see how Data Warehousing is done using Databricks! We will look at our built-in dashboards as Databricks provides a complete data platform from ingest to analysis but also provides to integrations with many popular BI tools such as PowerBI, Tableau and others!"
   ]
  },
  {
   "cell_type": "markdown",
   "metadata": {
    "application/vnd.databricks.v1+cell": {
     "cellMetadata": {},
     "inputWidgets": {},
     "nuid": "53ea957c-f17b-477d-86df-999e85c1eef4",
     "showTitle": false,
     "tableResultSettingsMap": {},
     "title": ""
    }
   },
   "source": [
    "Open the [Datawarehousing notebook]($./03-BI-data-warehousing/03-BI-Datawarehousing-iot-turbine) to start running your BI queries or access or directly open the <a dbdemos-dashboard-id=\"turbine-analysis\" href=\"/sql/dashboardsv3/01f03ef17344173fb49995dc4304dbea\" target=\"_blank\">Turbine analysis AI/BI dashboard</a>"
   ]
  },
  {
   "cell_type": "markdown",
   "metadata": {
    "application/vnd.databricks.v1+cell": {
     "cellMetadata": {},
     "inputWidgets": {},
     "nuid": "b66ce1ae-08c8-440b-adb7-0825039f5266",
     "showTitle": false,
     "tableResultSettingsMap": {},
     "title": ""
    }
   },
   "source": [
    "## 4/ Predict Failure with Data Science & Auto-ML\n",
    "\n",
    "<img width=\"500px\" style=\"float: left; margin-right: 10px\" src=\"https://raw.githubusercontent.com/databricks-demos/dbdemos-resources/refs/heads/main/images/manufacturing/lakehouse-iot-turbine/di_platform3.png\" />\n",
    "\n",
    "<br><br><br>\n",
    "Being able to run analysis on our historical data provided the team with a lot of insights to drive our business. We can now better understand the impact of downtime and see which turbines are currently down in our near real-time dashboard.\n",
    "\n",
    "However, knowing what turbines have failed isn't enough. We now need to take it to the next level and build a predictive model to detect potential failures before they happen and increase uptime and minimize costs.\n",
    "\n",
    "This is where the Lakehouse value comes in. Within the same platform, anyone can start building an ML model to predict the failures using traditional ML development or with our low code solution AutoML."
   ]
  },
  {
   "cell_type": "markdown",
   "metadata": {
    "application/vnd.databricks.v1+cell": {
     "cellMetadata": {},
     "inputWidgets": {},
     "nuid": "40be1c06-70f8-486c-9875-afa0c9aa9140",
     "showTitle": false,
     "tableResultSettingsMap": {},
     "title": ""
    }
   },
   "source": [
    "Let's see how to train an ML model within 1 click with the [04.1-automl-iot-turbine-predictive-maintenance]($./04-Data-Science-ML/04.1-automl-iot-turbine-predictive-maintenance)"
   ]
  },
  {
   "cell_type": "markdown",
   "metadata": {
    "application/vnd.databricks.v1+cell": {
     "cellMetadata": {},
     "inputWidgets": {},
     "nuid": "cf8b9d59-b31b-4af0-bdc2-a32aa742d520",
     "showTitle": false,
     "tableResultSettingsMap": {},
     "title": ""
    }
   },
   "source": [
    "## 5/ Generate Maintenance Work Orders with Generative AI\n",
    "\n",
    "<img width=\"500px\" style=\"float: left; margin-right: 10px\" src=\"https://raw.githubusercontent.com/databricks-demos/dbdemos-resources/refs/heads/main/images/manufacturing/lakehouse-iot-turbine/di_platform_4.png\" />\n",
    "\n",
    "<br><br><br>\n",
    "\n",
    "The rise of Generative AI enables a shift from Predictive to Prescriptive Maintenance ML Models. By going from ML models to agent systems, we can now leverage the predictive model as one of the many components of the AI system. This opens up a whole lot of new opportunities for automation and efficiency gains, which will further increase uptime and minimize costs.\n",
    "\n",
    "Databricks offers a a set of tools to help developers build, deploy and evaluate production-quality AI agents like Retrievel Augmented Generation (RAG) applications, including a vector database, model serving endpoints, governance, monitoring and evaluation capabilties. \n",
    "\n",
    "_Disclaimer: if your organization doesn't allow (yet) the use of Databricks Vector Search and/or Model Serving, you can skip this section._"
   ]
  },
  {
   "cell_type": "markdown",
   "metadata": {
    "application/vnd.databricks.v1+cell": {
     "cellMetadata": {},
     "inputWidgets": {},
     "nuid": "b5e495c8-80c3-4b1c-ae25-82209ff6291c",
     "showTitle": false,
     "tableResultSettingsMap": {},
     "title": ""
    }
   },
   "source": [
    "Let's create our first agent system with the [05.1-ai-tools-iot-turbine-prescriptive-maintenance]($./05-Generative-AI/05.1-ai-tools-iot-turbine-prescriptive-maintenance)"
   ]
  },
  {
   "cell_type": "markdown",
   "metadata": {
    "application/vnd.databricks.v1+cell": {
     "cellMetadata": {},
     "inputWidgets": {},
     "nuid": "91f99bf4-81f1-40c1-bc76-1139bcf0770d",
     "showTitle": false,
     "tableResultSettingsMap": {},
     "title": ""
    }
   },
   "source": [
    "\n",
    "## Automate Action to Reduce Turbine Outage Based on Predictions\n",
    "\n",
    "\n",
    "<img style=\"float: right\" width=\"400px\" src=\"https://github.com/databricks-demos/dbdemos-resources/raw/main/images/manufacturing/lakehouse-iot-turbine/lakehouse-manuf-iot-dashboard-2.png\">\n",
    "\n",
    "We now have an end-to-end data pipeline analyzing sensor data, detecting potential failures and generating prescriptive actions based on past maintenance reports to prevent failures before they even arise. With that, we can now easily trigger follow-up actions to reduce outages such as:\n",
    "\n",
    "- Schedule maintenance based on teams availability and fault gravity\n",
    "- Stage parts and supplies accordingly to predictive maintenance operations, while keeping a low stock on hand\n",
    "- Track our predictive maintenance model efficiency by measuring its efficiency and ROI\n",
    "\n",
    "*Note: These actions are out of the scope of this demo and simply leverage the Predictive maintenance result from our ML model.*"
   ]
  },
  {
   "cell_type": "markdown",
   "metadata": {
    "application/vnd.databricks.v1+cell": {
     "cellMetadata": {},
     "inputWidgets": {},
     "nuid": "72bd487f-b4d6-4b38-9d68-bc42bfb1a2d1",
     "showTitle": false,
     "tableResultSettingsMap": {},
     "title": ""
    }
   },
   "source": [
    "\n",
    "Open the <a dbdemos-dashboard-id=\"turbine-predictive\" href=\"/sql/dashboardsv3/01f03ef17344173fb49995dc4304dbea\">Prescriptive maintenance AI/BI dashboard</a> to have a complete view of your wind turbine farm, including potential faulty turbines, work orders and actions to remedy that."
   ]
  },
  {
   "cell_type": "markdown",
   "metadata": {
    "application/vnd.databricks.v1+cell": {
     "cellMetadata": {},
     "inputWidgets": {},
     "nuid": "aa5e5fd9-5ca1-4a41-8e3d-3fedcf98b3ea",
     "showTitle": false,
     "tableResultSettingsMap": {},
     "title": ""
    }
   },
   "source": [
    "## 6/ Deploying and Orchestrating the Full Workflow\n",
    "\n",
    "<img style=\"float: left; margin-right: 10px\" width=\"500px\" src=\"https://raw.githubusercontent.com/databricks-demos/dbdemos-resources/refs/heads/main/images/manufacturing/lakehouse-iot-turbine/di_platform_5.png\" />\n",
    "\n",
    "<br><br><br>\n",
    "While our data pipeline is almost completed, we're missing one last step: orchestrating the full workflow in production.\n",
    "\n",
    "With Databricks Lakehouse, there is no need to utilize an external orchestrator to run your job. Databricks Workflows simplifies all your jobs, with advanced alerting, monitoring, branching options etc."
   ]
  },
  {
   "cell_type": "markdown",
   "metadata": {
    "application/vnd.databricks.v1+cell": {
     "cellMetadata": {},
     "inputWidgets": {},
     "nuid": "b5406b91-0685-40c7-9e0f-f973b2a93460",
     "showTitle": false,
     "tableResultSettingsMap": {},
     "title": ""
    }
   },
   "source": [
    "Open the [workflow and orchestration notebook]($./06-Workflow-orchestration/06-Workflow-orchestration-iot-turbine) to schedule our pipeline (data ingetion, model re-training etc)"
   ]
  },
  {
   "cell_type": "markdown",
   "metadata": {
    "application/vnd.databricks.v1+cell": {
     "cellMetadata": {},
     "inputWidgets": {},
     "nuid": "ad4d6f74-ec95-478c-ace0-79537c1092b2",
     "showTitle": false,
     "tableResultSettingsMap": {},
     "title": ""
    }
   },
   "source": [
    "\n",
    "## Conclusion\n",
    "\n",
    "We demonstrated how to implement an end-to-end pipeline with the Lakehouse, using a single, unified and secured platform. We saw:\n",
    "\n",
    "- Data Ingestion\n",
    "- Data Analysis / DW / BI \n",
    "- Data Science / ML\n",
    "- Generative AI\n",
    "- Workflow & Orchestration\n",
    "\n",
    "And as a result, our business analysis team was able to build a system to not only understand failures better but also forecast future failures and let the maintenance team take action accordingly.\n",
    "\n",
    "*This was only an introduction to the Databricks Platform. For more details, contact your account team and explore more demos with `dbdemos.list()`!*"
   ]
  }
 ],
 "metadata": {
  "application/vnd.databricks.v1+notebook": {
   "computePreferences": null,
   "dashboards": [],
   "environmentMetadata": {
    "environment_version": "2"
   },
   "inputWidgetPreferences": null,
   "language": "sql",
   "notebookMetadata": {
    "pythonIndentUnit": 2
   },
   "notebookName": "00-IOT-wind-turbine-introduction-DI-platform",
   "widgets": {}
  },
  "language_info": {
   "name": "sql"
  }
 },
 "nbformat": 4,
 "nbformat_minor": 0
}
