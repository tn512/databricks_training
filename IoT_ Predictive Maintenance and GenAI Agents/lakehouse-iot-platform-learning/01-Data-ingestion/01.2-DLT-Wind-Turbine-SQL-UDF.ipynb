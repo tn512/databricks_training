{
 "cells": [
  {
   "cell_type": "code",
   "execution_count": 0,
   "metadata": {
    "application/vnd.databricks.v1+cell": {
     "cellMetadata": {
      "byteLimit": 2048000,
      "rowLimit": 10000
     },
     "inputWidgets": {},
     "nuid": "03b87a04-be1e-499e-a583-6219768ab74c",
     "showTitle": false,
     "tableResultSettingsMap": {},
     "title": ""
    }
   },
   "outputs": [],
   "source": [
    "%pip install mlflow==2.20.2 databricks-sdk==0.40.0\n",
    "\n",
    "import os\n",
    "import mlflow\n",
    "from mlflow.store.artifact.models_artifact_repo import ModelsArtifactRepository\n",
    "mlflow.set_registry_uri('databricks-uc')\n",
    "\n",
    "local_path = ModelsArtifactRepository(f\"models:/iot_turbine.dev.turbine_maintenance@prod\").download_artifacts(\"\")\n",
    "requirements_path = os.path.join(local_path, \"requirements.txt\")\n",
    "\n",
    "%pip install -r $requirements_path\n",
    "dbutils.library.restartPython()"
   ]
  },
  {
   "cell_type": "markdown",
   "metadata": {
    "application/vnd.databricks.v1+cell": {
     "cellMetadata": {},
     "inputWidgets": {},
     "nuid": "2531bd27-34b4-4f67-994c-4fa60f4d4fc2",
     "showTitle": false,
     "tableResultSettingsMap": {},
     "title": ""
    }
   },
   "source": [
    "#Registering python UDF to a SQL function\n",
    "This is a companion notebook to load the wind turbine prediction model as a spark udf and save it as a SQL function\n",
    " \n",
    "Make sure you add this notebook in your DLT job to have access to the `get_turbine_status` function. (Currently mixing python in a SQL DLT notebook won't run the python)"
   ]
  },
  {
   "cell_type": "code",
   "execution_count": 0,
   "metadata": {
    "application/vnd.databricks.v1+cell": {
     "cellMetadata": {
      "byteLimit": 2048000,
      "rowLimit": 10000
     },
     "inputWidgets": {},
     "nuid": "38304e89-5f64-4f80-8135-3313f40831d5",
     "showTitle": false,
     "tableResultSettingsMap": {},
     "title": ""
    }
   },
   "outputs": [],
   "source": [
    "import mlflow\n",
    "mlflow.set_registry_uri('databricks-uc')\n",
    "\n",
    "predict_maintenance_udf = mlflow.pyfunc.spark_udf(spark,\n",
    "                                                  \"models:/iot_turbine.dev.turbine_maintenance@prod\",\n",
    "                                                  result_type=\"string\")"
   ]
  },
  {
   "cell_type": "code",
   "execution_count": 0,
   "metadata": {
    "application/vnd.databricks.v1+cell": {
     "cellMetadata": {
      "byteLimit": 2048000,
      "rowLimit": 10000
     },
     "inputWidgets": {},
     "nuid": "c62a43ae-08b0-48df-94e5-06d2f26b7cc1",
     "showTitle": false,
     "tableResultSettingsMap": {},
     "title": ""
    }
   },
   "outputs": [],
   "source": [
    "spark.udf.register(\"predict_maintenance\", predict_maintenance_udf)"
   ]
  }
 ],
 "metadata": {
  "application/vnd.databricks.v1+notebook": {
   "computePreferences": null,
   "dashboards": [],
   "environmentMetadata": {
    "base_environment": "",
    "environment_version": "2"
   },
   "inputWidgetPreferences": null,
   "language": "python",
   "notebookMetadata": {
    "mostRecentlyExecutedCommandWithImplicitDF": {
     "commandId": 5534905285724112,
     "dataframes": [
      "_sqldf"
     ]
    },
    "pythonIndentUnit": 4
   },
   "notebookName": "01.2-DLT-Wind-Turbine-SQL-UDF",
   "widgets": {}
  },
  "language_info": {
   "name": "python"
  }
 },
 "nbformat": 4,
 "nbformat_minor": 0
}
