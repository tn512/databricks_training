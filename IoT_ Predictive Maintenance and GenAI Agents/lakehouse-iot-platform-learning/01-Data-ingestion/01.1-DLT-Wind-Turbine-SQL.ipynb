{
 "cells": [
  {
   "cell_type": "markdown",
   "metadata": {
    "application/vnd.databricks.v1+cell": {
     "cellMetadata": {},
     "inputWidgets": {},
     "nuid": "d4c42def-8356-49bd-b999-ae8c7ba03b34",
     "showTitle": false,
     "tableResultSettingsMap": {},
     "title": ""
    }
   },
   "source": [
    "# Data engineering with Databricks - Building our Manufacturing IOT platform\n",
    "\n",
    "Building an IOT platform requires to ingest multiple datasources.  \n",
    "\n",
    "It's a complex process requiring batch loads and streaming ingestion to support real-time insights, used for real-time monitoring among others."
   ]
  },
  {
   "cell_type": "markdown",
   "metadata": {
    "application/vnd.databricks.v1+cell": {
     "cellMetadata": {},
     "inputWidgets": {},
     "nuid": "94284515-a7e9-4b9e-95b0-e1ccf6d9d06b",
     "showTitle": false,
     "tableResultSettingsMap": {},
     "title": ""
    }
   },
   "source": [
    "# Simplify Ingestion and Transformation with Delta Live Tables\n",
    "\n",
    "In this notebook, we'll work as a Data Engineer to build our IOT platform. <br>\n",
    "We'll ingest and clean our raw data sources to prepare the tables required for our BI & ML workload.\n",
    "\n",
    "## Delta Live Table: A simple way to build and manage data pipelines for fresh, high quality data!\n",
    "\n",
    "<div>\n",
    "  <div style=\"width: 45%; float: left; margin-bottom: 10px; padding-right: 45px\">\n",
    "    <p>\n",
    "      <img style=\"width: 50px; float: left; margin: 0px 5px 30px 0px;\" src=\"https://raw.githubusercontent.com/QuentinAmbard/databricks-demo/main/retail/resources/images/lakehouse-retail/logo-accelerate.png\"/> \n",
    "      <strong>Accelerate ETL development</strong> <br/>\n",
    "      Enable analysts and data engineers to innovate rapidly with simple pipeline development and maintenance \n",
    "    </p>\n",
    "    <p>\n",
    "      <img style=\"width: 50px; float: left; margin: 0px 5px 30px 0px;\" src=\"https://raw.githubusercontent.com/QuentinAmbard/databricks-demo/main/retail/resources/images/lakehouse-retail/logo-complexity.png\"/> \n",
    "      <strong>Remove operational complexity</strong> <br/>\n",
    "      By automating complex administrative tasks and gaining broader visibility into pipeline operations\n",
    "    </p>\n",
    "  </div>\n",
    "  <div style=\"width: 48%; float: left\">\n",
    "    <p>\n",
    "      <img style=\"width: 50px; float: left; margin: 0px 5px 30px 0px;\" src=\"https://raw.githubusercontent.com/QuentinAmbard/databricks-demo/main/retail/resources/images/lakehouse-retail/logo-trust.png\"/> \n",
    "      <strong>Trust your data</strong> <br/>\n",
    "      With built-in quality controls and quality monitoring to ensure accurate and useful BI, Data Science, and ML \n",
    "    </p>\n",
    "    <p>\n",
    "      <img style=\"width: 50px; float: left; margin: 0px 5px 30px 0px;\" src=\"https://raw.githubusercontent.com/QuentinAmbard/databricks-demo/main/retail/resources/images/lakehouse-retail/logo-stream.png\"/> \n",
    "      <strong>Simplify batch and streaming</strong> <br/>\n",
    "      With self-optimization and auto-scaling data pipelines for batch or streaming processing \n",
    "    </p>\n",
    "</div>\n",
    "</div>\n",
    "\n",
    "<br style=\"clear:both\">\n",
    "\n",
    "<img src=\"https://pages.databricks.com/rs/094-YMS-629/images/delta-lake-logo.png\" style=\"float: right;\" width=\"200px\">\n",
    "\n",
    "## Delta Lake\n",
    "\n",
    "All the tables we'll create in the Data Intelligence Platform will be stored as Delta Lake table. Delta Lake is an open storage framework for reliability and performance.<br>\n",
    "It provides many functionalities (ACID Transaction, DELETE/UPDATE/MERGE, Clone zero copy, Change data Capture...)<br>"
   ]
  },
  {
   "cell_type": "markdown",
   "metadata": {
    "application/vnd.databricks.v1+cell": {
     "cellMetadata": {},
     "inputWidgets": {},
     "nuid": "64843875-43f7-451e-b941-79163ee93341",
     "showTitle": false,
     "tableResultSettingsMap": {},
     "title": ""
    }
   },
   "source": [
    "## Building a Delta Live Table pipeline to ingest IOT sensor and detect faulty equipments\n",
    "\n",
    "In this example, we'll implement a end 2 end DLT pipeline consuming our Wind Turbine sensor data. <br/>\n",
    "We'll use the medaillon architecture.\n",
    "\n",
    "We'll incrementally load new data with the autoloader, enrich this information and then load a model from MLFlow to perform our predictive maintenance analysis.\n",
    "\n",
    "This information will then be used to build our AI/BI dashboards to track our wind turbine farm status, faulty equipment impact and recommendations to reduce potential downtime.\n",
    "\n",
    "### Dataset:\n",
    "\n",
    "* <strong>Turbine metadata</strong>: Turbine ID, location (1 row per turbine)\n",
    "* <strong>Turbine sensor stream</strong>: Realtime streaming flow from wind turbine sensor (vibration, energy produced, speed etc)\n",
    "* <strong>Turbine status</strong>: Historical turbine status based to analyse which part is faulty (used as label in our ML model)\n",
    "\n",
    "\n",
    "Let's implement the following flow: \n",
    " \n",
    "<div><img width=\"1100px\" src=\"https://github.com/databricks-demos/dbdemos-resources/raw/main/images/manufacturing/lakehouse-iot-turbine/lakehouse-manuf-iot-turbine-full.png\"/></div>"
   ]
  },
  {
   "cell_type": "code",
   "execution_count": 0,
   "metadata": {
    "application/vnd.databricks.v1+cell": {
     "cellMetadata": {
      "byteLimit": 2048000,
      "rowLimit": 10000
     },
     "inputWidgets": {},
     "nuid": "e06624bb-9a40-4413-ae11-d07282b9e9bf",
     "showTitle": true,
     "tableResultSettingsMap": {},
     "title": "Wind Turbine metadata:"
    }
   },
   "outputs": [],
   "source": [
    "-- %python\n",
    "-- display(spark.read.json(\"/Volumes/iot_turbine/dev/turbine_raw_landing/turbine\"))\n",
    "-- display(spark.read.json(\"/Volumes/iot_turbine/dev/turbine_raw_landing/historical_turbine_status\"))"
   ]
  },
  {
   "cell_type": "code",
   "execution_count": 0,
   "metadata": {
    "application/vnd.databricks.v1+cell": {
     "cellMetadata": {
      "byteLimit": 2048000,
      "rowLimit": 10000
     },
     "inputWidgets": {},
     "nuid": "ef1bc345-3355-485f-b702-bd25f6191e44",
     "showTitle": true,
     "tableResultSettingsMap": {},
     "title": "Wind Turbine sensor data"
    }
   },
   "outputs": [],
   "source": [
    "-- %python\n",
    "-- display(spark.read.parquet(\"/Volumes/iot_turbine/dev/turbine_raw_landing/incoming_data\"))"
   ]
  },
  {
   "cell_type": "markdown",
   "metadata": {
    "application/vnd.databricks.v1+cell": {
     "cellMetadata": {},
     "inputWidgets": {},
     "nuid": "9d99eeb2-9e30-4f0c-9b02-40b12660ee56",
     "showTitle": false,
     "tableResultSettingsMap": {},
     "title": ""
    }
   },
   "source": [
    "\n",
    "## 1/ Ingest data: ingest data using Auto Loader (cloudFiles)\n",
    "\n",
    "<div><img src=\"https://github.com/databricks-demos/dbdemos-resources/raw/main/images/manufacturing/lakehouse-iot-turbine/lakehouse-manuf-iot-turbine-1.png\" width=\"700px\" style=\"float: right\"/></div>\n",
    "\n",
    "In this example we'll incrementally load the files from our cloud storage, only getting the new one (in near real-time or triggered every X hours).\n",
    "\n",
    "Note that while our streaming data is added to our cloud storage, we could easily ingest from kafka directly : `.format(kafka)`\n",
    "\n",
    "Auto-loader provides for you:\n",
    "\n",
    "- Schema inference and evolution\n",
    "- Scalability handling million of files\n",
    "- Simplicity: just define your ingestion folder, Databricks take care of the rest!\n",
    "\n",
    "Let's use it to our pipeline and ingest the raw JSON & CSV data being delivered in our blob storage `/demos/manufacturing/iot_turbine/...`. "
   ]
  },
  {
   "cell_type": "code",
   "execution_count": 0,
   "metadata": {
    "application/vnd.databricks.v1+cell": {
     "cellMetadata": {
      "byteLimit": 2048000,
      "rowLimit": 10000
     },
     "inputWidgets": {},
     "nuid": "3672f70f-c610-42d3-ba3b-a30f32e12d56",
     "showTitle": true,
     "tableResultSettingsMap": {},
     "title": "Turbine metadata:"
    }
   },
   "outputs": [],
   "source": [
    "CREATE STREAMING TABLE turbine (\n",
    "  CONSTRAINT correct_schema EXPECT (_rescued_data IS NULL)\n",
    ")\n",
    "COMMENT \"Turbine details, with location, wind turbine model type etc\"\n",
    "AS \n",
    "SELECT * \n",
    "FROM cloud_files(\"/Volumes/iot_turbine/dev/turbine_raw_landing/turbine\",\n",
    "                 \"json\",\n",
    "                 map(\"cloudFiles.inferColumnTypes\", \"true\"))"
   ]
  },
  {
   "cell_type": "code",
   "execution_count": 0,
   "metadata": {
    "application/vnd.databricks.v1+cell": {
     "cellMetadata": {
      "byteLimit": 2048000,
      "rowLimit": 10000
     },
     "inputWidgets": {},
     "nuid": "3ad68d89-07d8-4e56-a6b4-82c32900bf10",
     "showTitle": true,
     "tableResultSettingsMap": {},
     "title": "Wind Turbine sensor:"
    }
   },
   "outputs": [],
   "source": [
    "CREATE STREAMING TABLE sensor_bronze (\n",
    "  CONSTRAINT correct_schema EXPECT (_rescued_data IS NULL),\n",
    "  CONSTRAINT correct_energy EXPECT (energy IS NOT NULL AND energy > 0) ON VIOLATION DROP ROW\n",
    ")\n",
    "COMMENT \"Raw sensor data coming from parquet files ingested in incremental with Auto Loader: vibration, energy produced etc. 1 point every X sec per sensor.\"\n",
    "AS \n",
    "SELECT *\n",
    "FROM cloud_files(\"/Volumes/iot_turbine/dev/turbine_raw_landing/incoming_data\",\n",
    "                 \"parquet\",\n",
    "                 map(\"cloudFiles.inferColumnTypes\", \"true\"))"
   ]
  },
  {
   "cell_type": "code",
   "execution_count": 0,
   "metadata": {
    "application/vnd.databricks.v1+cell": {
     "cellMetadata": {
      "byteLimit": 2048000,
      "rowLimit": 10000
     },
     "inputWidgets": {},
     "nuid": "e8e5fa9e-d413-4490-9ac6-0d0100979a47",
     "showTitle": true,
     "tableResultSettingsMap": {},
     "title": "Historical status:"
    }
   },
   "outputs": [],
   "source": [
    "CREATE STREAMING TABLE historical_turbine_status (\n",
    "  CONSTRAINT correct_schema EXPECT (_rescued_data IS NULL)\n",
    ")\n",
    "COMMENT \"Turbine status to be used as label in our predictive maintenance model (to know which turbine is potentially faulty)\"\n",
    "AS \n",
    "SELECT *\n",
    "FROM cloud_files(\"/Volumes/iot_turbine/dev/turbine_raw_landing/historical_turbine_status\",\n",
    "                 \"json\",\n",
    "                 map(\"cloudFiles.inferColumnTypes\", \"true\")) "
   ]
  },
  {
   "cell_type": "code",
   "execution_count": 0,
   "metadata": {
    "application/vnd.databricks.v1+cell": {
     "cellMetadata": {
      "byteLimit": 2048000,
      "rowLimit": 10000
     },
     "inputWidgets": {},
     "nuid": "030d6618-aae5-482e-b704-e9d6d4b87f9f",
     "showTitle": false,
     "tableResultSettingsMap": {},
     "title": ""
    }
   },
   "outputs": [],
   "source": [
    "CREATE STREAMING TABLE parts\n",
    "COMMENT \"Turbine parts from our manufacturing system\"\n",
    "AS SELECT * FROM cloud_files(\"/Volumes/iot_turbine/dev/turbine_raw_landing/parts\", \"json\", map(\"cloudFiles.inferColumnTypes\" , \"true\"))"
   ]
  },
  {
   "cell_type": "markdown",
   "metadata": {
    "application/vnd.databricks.v1+cell": {
     "cellMetadata": {},
     "inputWidgets": {},
     "nuid": "25543090-4838-498c-84e7-e99abbd4f897",
     "showTitle": false,
     "tableResultSettingsMap": {},
     "title": ""
    }
   },
   "source": [
    "\n",
    "## 2/ Compute aggregations: merge sensor data at an hourly level\n",
    "\n",
    "<div><img src=\"https://github.com/databricks-demos/dbdemos-resources/raw/main/images/manufacturing/lakehouse-iot-turbine/lakehouse-manuf-iot-turbine-2.png\" width=\"700px\" style=\"float: right\"/></div>\n",
    "\n",
    "To be able to analyze our data, we'll compute statistical metrics every at an hourly basis, such as standard deviation and quartiles.\n",
    "\n",
    "*Note that we'll be recomputing all the table to keep this example simple. We could instead UPSERT the current hour with a stateful agregation*"
   ]
  },
  {
   "cell_type": "code",
   "execution_count": 0,
   "metadata": {
    "application/vnd.databricks.v1+cell": {
     "cellMetadata": {
      "byteLimit": 2048000,
      "rowLimit": 10000
     },
     "inputWidgets": {},
     "nuid": "25b50754-14fe-4054-9fd9-349ad5b4ebec",
     "showTitle": false,
     "tableResultSettingsMap": {},
     "title": ""
    }
   },
   "outputs": [],
   "source": [
    "CREATE MATERIALIZED VIEW sensor_hourly\n",
    "COMMENT \"Hourly sensor stats, used to describe signal and detect anomalies\"\n",
    "AS\n",
    "SELECT turbine_id,\n",
    "       date_trunc('hour', from_unixtime(timestamp)) AS hourly_timestamp,\n",
    "       avg(energy) AS avg_energy,\n",
    "       stddev_pop(sensor_A) AS std_sensor_A,\n",
    "       stddev_pop(sensor_B) AS std_sensor_B,\n",
    "       stddev_pop(sensor_C) AS std_sensor_C,\n",
    "       stddev_pop(sensor_D) AS std_sensor_D,\n",
    "       stddev_pop(sensor_E) AS std_sensor_E,\n",
    "       stddev_pop(sensor_F) AS std_sensor_F,\n",
    "       percentile_approx(sensor_A, array(0.1, 0.3, 0.6, 0.8, 0.95)) AS percentiles_sensor_A,\n",
    "       percentile_approx(sensor_B, array(0.1, 0.3, 0.6, 0.8, 0.95)) AS percentiles_sensor_B,\n",
    "       percentile_approx(sensor_C, array(0.1, 0.3, 0.6, 0.8, 0.95)) AS percentiles_sensor_C,\n",
    "       percentile_approx(sensor_D, array(0.1, 0.3, 0.6, 0.8, 0.95)) AS percentiles_sensor_D,\n",
    "       percentile_approx(sensor_E, array(0.1, 0.3, 0.6, 0.8, 0.95)) AS percentiles_sensor_E,\n",
    "       percentile_approx(sensor_F, array(0.1, 0.3, 0.6, 0.8, 0.95)) AS percentiles_sensor_F\n",
    "FROM LIVE.sensor_bronze\n",
    "GROUP BY hourly_timestamp, turbine_id"
   ]
  },
  {
   "cell_type": "markdown",
   "metadata": {
    "application/vnd.databricks.v1+cell": {
     "cellMetadata": {},
     "inputWidgets": {},
     "nuid": "6ce800d4-ff24-4178-a3f6-368a38880cbb",
     "showTitle": false,
     "tableResultSettingsMap": {},
     "title": ""
    }
   },
   "source": [
    "\n",
    "## 3/ Build our table used by ML Engineers: join sensor aggregates with wind turbine metadata and historical status\n",
    "\n",
    "<div><img src=\"https://github.com/databricks-demos/dbdemos-resources/raw/main/images/manufacturing/lakehouse-iot-turbine/lakehouse-manuf-iot-turbine-3.png\" width=\"700px\" style=\"float: right\"/></div>\n",
    "\n",
    "Next, we'll build a final table joining sensor aggregate with our turbine information.\n",
    "\n",
    "This table will contain all the data required to be able to infer potential turbine failure."
   ]
  },
  {
   "cell_type": "code",
   "execution_count": 0,
   "metadata": {
    "application/vnd.databricks.v1+cell": {
     "cellMetadata": {
      "byteLimit": 2048000,
      "rowLimit": 10000
     },
     "inputWidgets": {},
     "nuid": "a05fce8d-4bd1-4fa5-b541-501458411066",
     "showTitle": false,
     "tableResultSettingsMap": {},
     "title": ""
    }
   },
   "outputs": [],
   "source": [
    "CREATE MATERIALIZED VIEW turbine_training_dataset\n",
    "COMMENT \"Hourly sensor stats, used to describe signal and detect anomalies\"\n",
    "AS\n",
    "SELECT concat(t.turbine_id, '-', s.start_time) AS composite_key,\n",
    "       array(std_sensor_A, std_sensor_B, std_sensor_C, std_sensor_D, std_sensor_E, std_sensor_F) AS sensor_vector,\n",
    "       * except(t._rescued_data, s._rescued_data, m.turbine_id)\n",
    "FROM LIVE.sensor_hourly m\n",
    "INNER JOIN LIVE.turbine t USING (turbine_id)\n",
    "INNER JOIN LIVE.historical_turbine_status s \n",
    "ON s.turbine_id = m.turbine_id\n",
    "AND from_unixtime(s.start_time) < m.hourly_timestamp\n",
    "AND from_unixtime(s.end_time) > m.hourly_timestamp"
   ]
  },
  {
   "cell_type": "markdown",
   "metadata": {
    "application/vnd.databricks.v1+cell": {
     "cellMetadata": {},
     "inputWidgets": {},
     "nuid": "a1a9bd63-2ba1-4b0e-a57c-61b04b9b3df8",
     "showTitle": false,
     "tableResultSettingsMap": {},
     "title": ""
    }
   },
   "source": [
    "\n",
    "## 4/ Get model from registry and add flag faulty turbines\n",
    "\n",
    "<div><img src=\"https://github.com/databricks-demos/dbdemos-resources/raw/main/images/manufacturing/lakehouse-iot-turbine/lakehouse-manuf-iot-turbine-4.png\" width=\"700px\" style=\"float: right\"/></div>\n",
    "\n",
    "Our Data scientist team has been able to read data from our previous table and build a predictive maintenance model using Auto ML and saved it into Databricks Model registry (we'll see how to do that next).\n",
    "\n",
    "One of the key value of the Lakehouse is that we can easily load this model and predict faulty turbines with into our pipeline directly.\n",
    "\n",
    "Note that we don't have to worry about the model framework (sklearn or other), MLFlow abstract that for us.\n",
    "\n",
    "All we have to do is load the model, and call it as a SQL function (or python)"
   ]
  },
  {
   "cell_type": "code",
   "execution_count": 0,
   "metadata": {
    "application/vnd.databricks.v1+cell": {
     "cellMetadata": {},
     "inputWidgets": {},
     "nuid": "f7f46df7-16bd-492f-9ae4-e3ab4e48ccf2",
     "showTitle": true,
     "tableResultSettingsMap": {},
     "title": "Intermediate feature table:"
    }
   },
   "outputs": [],
   "source": [
    "CREATE MATERIALIZED VIEW turbine_current_features (\n",
    "  turbine_id STRING NOT NULL,\n",
    "  hourly_timestamp TIMESTAMP,\n",
    "  avg_energy DOUBLE,\n",
    "  std_sensor_A DOUBLE,\n",
    "  std_sensor_B DOUBLE,\n",
    "  std_sensor_C DOUBLE,\n",
    "  std_sensor_D DOUBLE,\n",
    "  std_sensor_E DOUBLE,\n",
    "  std_sensor_F DOUBLE,\n",
    "  country STRING,\n",
    "  lat STRING,\n",
    "  location STRING,\n",
    "  long STRING,\n",
    "  model STRING,\n",
    "  state STRING,\n",
    "  CONSTRAINT turbine_current_features_pk PRIMARY KEY (turbine_id)\n",
    ")\n",
    "COMMENT \"Wind turbine features based on model prediction\"\n",
    "AS\n",
    "WITH latest_metrics AS (\n",
    "  SELECT *,\n",
    "         ROW_NUMBER() OVER (PARTITION BY turbine_id, hourly_timestamp ORDER BY hourly_timestamp DESC) AS rn\n",
    "  FROM LIVE.sensor_hourly\n",
    ")\n",
    "SELECT * EXCEPT(m.rn, _rescued_data, percentiles_sensor_A, percentiles_sensor_B, percentiles_sensor_C, \n",
    "                percentiles_sensor_D, percentiles_sensor_E, percentiles_sensor_F) \n",
    "FROM latest_metrics m\n",
    "INNER JOIN LIVE.turbine t USING (turbine_id)\n",
    "WHERE rn = 1\n",
    "AND turbine_id IS NOT NULL"
   ]
  },
  {
   "cell_type": "code",
   "execution_count": 0,
   "metadata": {
    "application/vnd.databricks.v1+cell": {
     "cellMetadata": {},
     "inputWidgets": {},
     "nuid": "28c5d9bc-9efe-442b-917f-0437dbfdb66b",
     "showTitle": false,
     "tableResultSettingsMap": {},
     "title": ""
    }
   },
   "outputs": [],
   "source": [
    "CREATE MATERIALIZED VIEW turbine_current_status \n",
    "COMMENT \"Wind turbine last status based on model prediction\"\n",
    "AS\n",
    "SELECT *, \n",
    "       predict_maintenance(hourly_timestamp, avg_energy, std_sensor_A, std_sensor_B, std_sensor_C, \n",
    "                           std_sensor_D, std_sensor_E, std_sensor_F, location, model, state) as prediction \n",
    "FROM LIVE.turbine_current_features"
   ]
  }
 ],
 "metadata": {
  "application/vnd.databricks.v1+notebook": {
   "computePreferences": null,
   "dashboards": [],
   "environmentMetadata": {
    "base_environment": "",
    "environment_version": "2"
   },
   "inputWidgetPreferences": null,
   "language": "sql",
   "notebookMetadata": {
    "pythonIndentUnit": 4
   },
   "notebookName": "01.1-DLT-Wind-Turbine-SQL",
   "widgets": {}
  },
  "language_info": {
   "name": "sql"
  }
 },
 "nbformat": 4,
 "nbformat_minor": 0
}
