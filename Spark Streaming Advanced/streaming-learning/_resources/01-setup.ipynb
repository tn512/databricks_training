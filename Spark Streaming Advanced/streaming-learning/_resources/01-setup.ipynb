{
 "cells": [
  {
   "cell_type": "code",
   "execution_count": 0,
   "metadata": {
    "application/vnd.databricks.v1+cell": {
     "cellMetadata": {
      "byteLimit": 2048000,
      "rowLimit": 10000
     },
     "inputWidgets": {},
     "nuid": "eb0883b6-23f6-4c56-b392-2f904f0957b7",
     "showTitle": false,
     "tableResultSettingsMap": {},
     "title": ""
    }
   },
   "outputs": [],
   "source": [
    "dbutils.widgets.dropdown(\"reset_all_data\", \"false\", [\"true\", \"false\"], \"Reset all setup:\")\n",
    "reset_all_data = dbutils.widgets.get(\"reset_all_data\") == \"true\""
   ]
  },
  {
   "cell_type": "code",
   "execution_count": 0,
   "metadata": {
    "application/vnd.databricks.v1+cell": {
     "cellMetadata": {
      "byteLimit": 2048000,
      "rowLimit": 10000
     },
     "inputWidgets": {},
     "nuid": "c83c7ec9-7878-48c0-8271-1f0d9eb6863a",
     "showTitle": false,
     "tableResultSettingsMap": {},
     "title": ""
    }
   },
   "outputs": [],
   "source": [
    "catalog = \"streaming_learning\"\n",
    "schema = db = dbName = \"dev\"\n",
    "\n",
    "volume_name = \"raw\"\n",
    "volume_folder = f\"/Volumnes/{catalog}/{db}/{volume_name}\""
   ]
  },
  {
   "cell_type": "code",
   "execution_count": 0,
   "metadata": {
    "application/vnd.databricks.v1+cell": {
     "cellMetadata": {
      "byteLimit": 2048000,
      "rowLimit": 10000
     },
     "inputWidgets": {},
     "nuid": "02c0569d-082c-4be5-a159-8652b356edd7",
     "showTitle": false,
     "tableResultSettingsMap": {},
     "title": ""
    }
   },
   "outputs": [],
   "source": [
    "%run ./00-utils"
   ]
  },
  {
   "cell_type": "code",
   "execution_count": 0,
   "metadata": {
    "application/vnd.databricks.v1+cell": {
     "cellMetadata": {
      "byteLimit": 2048000,
      "rowLimit": 10000
     },
     "inputWidgets": {},
     "nuid": "87870e7d-73ed-461f-8cd3-03c9e9d3cca7",
     "showTitle": false,
     "tableResultSettingsMap": {},
     "title": ""
    }
   },
   "outputs": [],
   "source": [
    "Utils.setup_schema(catalog, db, reset_all_data, volume_name)"
   ]
  },
  {
   "cell_type": "code",
   "execution_count": 0,
   "metadata": {
    "application/vnd.databricks.v1+cell": {
     "cellMetadata": {
      "byteLimit": 2048000,
      "rowLimit": 10000
     },
     "inputWidgets": {},
     "nuid": "43446cb0-43cd-4cd3-a6db-31c24bc5ebaa",
     "showTitle": false,
     "tableResultSettingsMap": {},
     "title": ""
    }
   },
   "outputs": [],
   "source": [
    "import pyspark.sql.functions as F\n",
    "import pyspark.sql.types as T\n",
    "import sys\n",
    "import time\n",
    "import pandas as pd\n",
    "\n",
    "# Reduce parallelism as we have just a few messages being produced\n",
    "try:\n",
    "    spark.conf.set(\"spark.default.parallelism\", \"12\")\n",
    "    spark.conf.set(\"spark.sql.shuffle.partitions\", \"12\")\n",
    "except Exception as e:\n",
    "    print(f\"Error {e}: Unable to set parallelism, conf not available in serverless\")\n",
    "\n",
    "def get_chkp_folder():\n",
    "    import random\n",
    "    import string\n",
    "\n",
    "    random_chkp = ''.join(random.choices(string.ascii_letters + string.digits, k=8))\n",
    "    return volume_folder + \"/checkpoints/display/\" + random_chkp"
   ]
  }
 ],
 "metadata": {
  "application/vnd.databricks.v1+notebook": {
   "computePreferences": null,
   "dashboards": [],
   "environmentMetadata": {
    "base_environment": "",
    "environment_version": "2"
   },
   "inputWidgetPreferences": null,
   "language": "python",
   "notebookMetadata": {
    "pythonIndentUnit": 4
   },
   "notebookName": "01-setup",
   "widgets": {
    "reset_all_data": {
     "currentValue": "false",
     "nuid": "3cdbd2c9-321f-4f38-935b-a521285db435",
     "typedWidgetInfo": {
      "autoCreated": false,
      "defaultValue": "false",
      "label": "Reset all setup:",
      "name": "reset_all_data",
      "options": {
       "widgetDisplayType": "Dropdown",
       "choices": [
        "true",
        "false"
       ],
       "fixedDomain": true,
       "multiselect": false
      },
      "parameterDataType": "String"
     },
     "widgetInfo": {
      "widgetType": "dropdown",
      "defaultValue": "false",
      "label": "Reset all setup:",
      "name": "reset_all_data",
      "options": {
       "widgetType": "dropdown",
       "autoCreated": false,
       "choices": [
        "true",
        "false"
       ]
      }
     }
    }
   }
  },
  "language_info": {
   "name": "python"
  }
 },
 "nbformat": 4,
 "nbformat_minor": 0
}
