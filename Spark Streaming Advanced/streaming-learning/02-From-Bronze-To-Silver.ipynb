{
 "cells": [
  {
   "cell_type": "code",
   "execution_count": 0,
   "metadata": {
    "application/vnd.databricks.v1+cell": {
     "cellMetadata": {
      "byteLimit": 2048000,
      "rowLimit": 10000
     },
     "inputWidgets": {},
     "nuid": "2000795f-173f-41dc-9010-531a4352abed",
     "showTitle": false,
     "tableResultSettingsMap": {},
     "title": ""
    }
   },
   "outputs": [],
   "source": [
    "%run ./_resources/01-setup $reset_all_data=false"
   ]
  },
  {
   "cell_type": "markdown",
   "metadata": {
    "application/vnd.databricks.v1+cell": {
     "cellMetadata": {},
     "inputWidgets": {},
     "nuid": "56c7bc1a-f7c8-4d93-936e-5b81760b28c2",
     "showTitle": false,
     "tableResultSettingsMap": {},
     "title": ""
    }
   },
   "source": [
    "## Reading and cleaning the raw events:"
   ]
  },
  {
   "cell_type": "code",
   "execution_count": 0,
   "metadata": {
    "application/vnd.databricks.v1+cell": {
     "cellMetadata": {
      "byteLimit": 2048000,
      "rowLimit": 10000
     },
     "inputWidgets": {},
     "nuid": "e64be403-e133-4c0f-81cd-58811cc91a2b",
     "showTitle": false,
     "tableResultSettingsMap": {},
     "title": ""
    }
   },
   "outputs": [],
   "source": [
    "# Get the schema from a json row:\n",
    "row_example = \"\"\"{\"user_id\": \"5ee7ba5f-77b2-47e4-8061-dd89f19626f3\", \"platform\": \"other\", \"event_id\": \"03c3d410-f01f-4f51-8ee0-7fab9be96855\", \"event_date\": 1669301257, \"action\": \"view\", \"uri\": \"https://databricks.com/home.htm\"}\"\"\"\n",
    "json_schema = F.schema_of_json(row_example)\n",
    "\n",
    "stream = (spark.readStream.table(\"events_raw\")\n",
    "          .withColumn('json', F.from_json(F.col(\"value\"), json_schema))\n",
    "          .select(\"json.*\")\n",
    "          .where(\"event_id IS NOT NULL AND user_id IS NOT NULL AND event_date IS NOT NULL\")\n",
    "          .withColumn(\"event_datetime\", F.to_timestamp(F.from_unixtime(F.col(\"event_date\"))))\n",
    "         )"
   ]
  },
  {
   "cell_type": "code",
   "execution_count": 0,
   "metadata": {
    "application/vnd.databricks.v1+cell": {
     "cellMetadata": {
      "byteLimit": 2048000,
      "rowLimit": 10000
     },
     "inputWidgets": {},
     "nuid": "6e9030d5-923b-4ca7-9794-3a66534244ed",
     "showTitle": false,
     "tableResultSettingsMap": {},
     "title": ""
    }
   },
   "outputs": [],
   "source": [
    "display(stream, get_chkp_folder())"
   ]
  },
  {
   "cell_type": "markdown",
   "metadata": {
    "application/vnd.databricks.v1+cell": {
     "cellMetadata": {},
     "inputWidgets": {},
     "nuid": "e9a8317b-d86d-4148-9a07-c8b2c10aae0a",
     "showTitle": false,
     "tableResultSettingsMap": {},
     "title": ""
    }
   },
   "source": [
    "## Writing cleaned events to the silver table:"
   ]
  },
  {
   "cell_type": "code",
   "execution_count": 0,
   "metadata": {
    "application/vnd.databricks.v1+cell": {
     "cellMetadata": {
      "byteLimit": 2048000,
      "rowLimit": 10000
     },
     "inputWidgets": {},
     "nuid": "bd329f3d-3840-4899-b475-db08068590b2",
     "showTitle": false,
     "tableResultSettingsMap": {},
     "title": ""
    }
   },
   "outputs": [],
   "source": [
    "(stream\n",
    " .withWatermark(\"event_datetime\", \"1 hours\")\n",
    " .dropDuplicates([\"event_id\"])\n",
    " .writeStream\n",
    "    .trigger(processingTime=\"20 seconds\")\n",
    "    .option(\"checkpointLocation\", volume_folder + \"/checkpoints/silver\")\n",
    "    .option(\"mergeSchema\", \"true\")\n",
    "    .table(\"events\"))\n",
    "\n",
    "Utils.wait_for_table(\"events\")"
   ]
  },
  {
   "cell_type": "code",
   "execution_count": 0,
   "metadata": {
    "application/vnd.databricks.v1+cell": {
     "cellMetadata": {
      "byteLimit": 2048000,
      "implicitDf": true,
      "rowLimit": 10000
     },
     "inputWidgets": {},
     "nuid": "ee36118a-9e5f-47ed-9ef3-88daae21d562",
     "showTitle": false,
     "tableResultSettingsMap": {},
     "title": ""
    }
   },
   "outputs": [],
   "source": [
    "%sql\n",
    "SELECT * FROM events;"
   ]
  },
  {
   "cell_type": "markdown",
   "metadata": {
    "application/vnd.databricks.v1+cell": {
     "cellMetadata": {},
     "inputWidgets": {},
     "nuid": "ee9046e2-74a3-4c00-b729-4caa9ed49ff0",
     "showTitle": false,
     "tableResultSettingsMap": {},
     "title": ""
    }
   },
   "source": [
    "## Displaying the number of events for each platform within 10 seconds windows:"
   ]
  },
  {
   "cell_type": "code",
   "execution_count": 0,
   "metadata": {
    "application/vnd.databricks.v1+cell": {
     "cellMetadata": {
      "byteLimit": 2048000,
      "rowLimit": 10000
     },
     "inputWidgets": {},
     "nuid": "783653b9-e061-4436-bcd3-de04793d6442",
     "showTitle": false,
     "tableResultSettingsMap": {},
     "title": ""
    }
   },
   "outputs": [],
   "source": [
    "spark.readStream.table(\"events\").createOrReplaceTempView(\"events_stream\")"
   ]
  },
  {
   "cell_type": "code",
   "execution_count": 0,
   "metadata": {
    "application/vnd.databricks.v1+cell": {
     "cellMetadata": {
      "byteLimit": 2048000,
      "rowLimit": 10000
     },
     "inputWidgets": {},
     "nuid": "dff96791-8047-481a-976d-f80ea84125ae",
     "showTitle": false,
     "tableResultSettingsMap": {},
     "title": ""
    }
   },
   "outputs": [],
   "source": [
    "df = spark.sql('''\n",
    "               WITH events_cte AS (\n",
    "                   SELECT WINDOW(event_datetime, \"10 seconds\") wnd,\n",
    "                          platform,\n",
    "                          COUNT(*) AS cnt\n",
    "                   FROM events_stream\n",
    "                   WHERE CAST(event_datetime AS INT) > CAST(CURRENT_TIMESTAMP() AS INT) - 120\n",
    "                   GROUP BY wnd, platform\n",
    "               )\n",
    "               SELECT wnd.*, platform, cnt\n",
    "               FROM events_cte\n",
    "               ''')\n",
    "display(df, checkpointLocation = get_chkp_folder())"
   ]
  },
  {
   "cell_type": "code",
   "execution_count": 0,
   "metadata": {
    "application/vnd.databricks.v1+cell": {
     "cellMetadata": {
      "byteLimit": 2048000,
      "implicitDf": true,
      "rowLimit": 10000
     },
     "inputWidgets": {},
     "nuid": "a98c9302-6cb8-48cc-91d1-795eb2c376a0",
     "showTitle": false,
     "tableResultSettingsMap": {},
     "title": ""
    }
   },
   "outputs": [],
   "source": [
    "%sql\n",
    "SELECT COUNT(*) AS count, uri \n",
    "FROM events_stream \n",
    "GROUP BY uri \n",
    "ORDER BY count DESC LIMIT 10;"
   ]
  },
  {
   "cell_type": "code",
   "execution_count": 0,
   "metadata": {
    "application/vnd.databricks.v1+cell": {
     "cellMetadata": {
      "byteLimit": 2048000,
      "rowLimit": 10000
     },
     "inputWidgets": {},
     "nuid": "59267f42-3674-421b-936f-89523c5335be",
     "showTitle": false,
     "tableResultSettingsMap": {},
     "title": ""
    }
   },
   "outputs": [],
   "source": [
    "Utils.stop_all_streams(sleep_time=120)"
   ]
  }
 ],
 "metadata": {
  "application/vnd.databricks.v1+notebook": {
   "computePreferences": null,
   "dashboards": [],
   "environmentMetadata": {
    "base_environment": "",
    "environment_version": "2"
   },
   "inputWidgetPreferences": null,
   "language": "python",
   "notebookMetadata": {
    "mostRecentlyExecutedCommandWithImplicitDF": {
     "commandId": 6057896943036729,
     "dataframes": [
      "_sqldf"
     ]
    },
    "pythonIndentUnit": 4
   },
   "notebookName": "02-From-Bronze-To-Silver",
   "widgets": {}
  },
  "language_info": {
   "name": "python"
  }
 },
 "nbformat": 4,
 "nbformat_minor": 0
}
