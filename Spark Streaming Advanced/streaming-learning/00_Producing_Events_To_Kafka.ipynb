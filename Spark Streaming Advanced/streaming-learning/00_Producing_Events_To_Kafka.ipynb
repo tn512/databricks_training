{
 "cells": [
  {
   "cell_type": "code",
   "execution_count": 0,
   "metadata": {
    "application/vnd.databricks.v1+cell": {
     "cellMetadata": {
      "byteLimit": 2048000,
      "rowLimit": 10000
     },
     "inputWidgets": {},
     "nuid": "010a4922-b80e-4ba3-892c-2fd2bd425a31",
     "showTitle": false,
     "tableResultSettingsMap": {},
     "title": ""
    }
   },
   "outputs": [],
   "source": [
    "dbutils.widgets.text(\"produce_time_sec\", \"300\", \"How long to produce events:\")"
   ]
  },
  {
   "cell_type": "code",
   "execution_count": 0,
   "metadata": {
    "application/vnd.databricks.v1+cell": {
     "cellMetadata": {
      "byteLimit": 2048000,
      "rowLimit": 10000
     },
     "inputWidgets": {},
     "nuid": "2d0a5c06-f62b-464d-acb2-495cf96142f7",
     "showTitle": false,
     "tableResultSettingsMap": {},
     "title": ""
    }
   },
   "outputs": [],
   "source": [
    "%pip install faker confluent-kafka"
   ]
  },
  {
   "cell_type": "markdown",
   "metadata": {
    "application/vnd.databricks.v1+cell": {
     "cellMetadata": {
      "byteLimit": 2048000,
      "rowLimit": 10000
     },
     "inputWidgets": {},
     "nuid": "a100d22f-6e2a-4990-8046-90a13b52ea27",
     "showTitle": false,
     "tableResultSettingsMap": {},
     "title": ""
    }
   },
   "source": [
    "## Function: Sending messages to Kafka."
   ]
  },
  {
   "cell_type": "code",
   "execution_count": 0,
   "metadata": {
    "application/vnd.databricks.v1+cell": {
     "cellMetadata": {
      "byteLimit": 2048000,
      "rowLimit": 10000
     },
     "inputWidgets": {},
     "nuid": "3285248b-689b-4f0c-abe5-bc23752c326b",
     "showTitle": false,
     "tableResultSettingsMap": {},
     "title": ""
    }
   },
   "outputs": [],
   "source": [
    "from confluent_kafka import Producer\n",
    "import json\n",
    "import random\n",
    "\n",
    "conf = {\n",
    "    'bootstrap.servers': '<your-eventhub>.servicebus.windows.net',\n",
    "    'security.protocol': 'SASL_SSL',\n",
    "    'sasl.mechanism': 'PLAIN',\n",
    "    'sasl.username': '$ConnectionString',\n",
    "    'sasl.password': '<your-endpoint>',\n",
    "    'client.id': 'streaming-learning'\n",
    "}\n",
    "\n",
    "producer = Producer(conf)\n",
    "\n",
    "def delivery_callback(err, msg):\n",
    "    \"\"\"Callback for delivery reports.\"\"\"\n",
    "    if err is not None:\n",
    "        print(f\"ERROR: Message delivery failed: {err}\")\n",
    "    else:\n",
    "        print(f\"SUCCEDD: Message delivered to {msg.topic()} [{msg.partition()}]\")\n",
    "\n",
    "def produce_event(event, topic = 'streaming-learning'):\n",
    "    \"\"\"Produce an event.\"\"\"\n",
    "    event_json = json.dumps(event)\n",
    "    producer.produce(topic, value=event_json, callback=delivery_callback)\n",
    "    producer.poll(0) # Trigger delivery report callbacks.\n",
    "\n",
    "    # Simulate 4% of duplicate events:\n",
    "    if random.uniform(0, 1) > 0.96:\n",
    "        producer.produce(topic, value=event_json, callback=delivery_callback)\n",
    "        producer.poll(0) # Trigger delivery report callbacks.\n",
    "    \n",
    "    producer.flush()"
   ]
  },
  {
   "cell_type": "code",
   "execution_count": 0,
   "metadata": {
    "application/vnd.databricks.v1+cell": {
     "cellMetadata": {
      "byteLimit": 2048000,
      "rowLimit": 10000
     },
     "inputWidgets": {},
     "nuid": "243feec3-905d-4642-b2f4-3d04ff8c8a16",
     "showTitle": false,
     "tableResultSettingsMap": {},
     "title": ""
    }
   },
   "outputs": [],
   "source": [
    "produce_event({\"test\": \"toto\"},  'test')"
   ]
  },
  {
   "cell_type": "markdown",
   "metadata": {
    "application/vnd.databricks.v1+cell": {
     "cellMetadata": {
      "byteLimit": 2048000,
      "rowLimit": 10000
     },
     "inputWidgets": {},
     "nuid": "c319a4fd-136a-4f54-afa5-f1ca3cea4d22",
     "showTitle": false,
     "tableResultSettingsMap": {},
     "title": ""
    }
   },
   "source": [
    "## Function: Generating events."
   ]
  },
  {
   "cell_type": "code",
   "execution_count": 0,
   "metadata": {
    "application/vnd.databricks.v1+cell": {
     "cellMetadata": {
      "byteLimit": 2048000,
      "rowLimit": 10000
     },
     "inputWidgets": {},
     "nuid": "a079c2f7-b181-497b-8d8a-4543b360b9b9",
     "showTitle": false,
     "tableResultSettingsMap": {},
     "title": ""
    }
   },
   "outputs": [],
   "source": [
    "from faker import Faker\n",
    "from collections import OrderedDict\n",
    "import re\n",
    "import random\n",
    "import uuid\n",
    "\n",
    "fake = Faker()\n",
    "platforms = OrderedDict([(\"ios\", 0.5), (\"android\", 0.3), (\"other\", 0.1), (None, 0.01)])\n",
    "action_types = OrderedDict([(\"view\", 0.5), (\"log\", 0.1), (\"click\", 0.3), (None, 0.01)])\n",
    "\n",
    "def generate_event(user_id, timestamp):\n",
    "    \"\"\"Generate a fake event\"\"\"\n",
    "    fake_platform = fake.random_elements(elements=platforms, length=1)[0]\n",
    "    fake_action = fake.random_elements(elements=action_types, length=1)[0]\n",
    "    fake_uri = re.sub(r'https?:\\/\\/.*?\\/', \"https://databricks.com/\", fake.uri())\n",
    "\n",
    "    # Adds some noise in the timestamp to simulate out-of order events:\n",
    "    timestamp = timestamp + random.randrange(10) - 5\n",
    "\n",
    "    # Event id with 2% of null event to have some errors/cleanup:\n",
    "    fake_id = str(uuid.uuid4()) if random.uniform(0, 1) < 0.98 else None\n",
    "\n",
    "    return {\"user_id\": user_id,\n",
    "            \"platform\": fake_platform,\n",
    "            \"event_id\": fake_id,\n",
    "            \"event_date\": timestamp,\n",
    "            \"action\": fake_action,\n",
    "            \"uri\": fake_uri}"
   ]
  },
  {
   "cell_type": "markdown",
   "metadata": {
    "application/vnd.databricks.v1+cell": {
     "cellMetadata": {
      "byteLimit": 2048000,
      "rowLimit": 10000
     },
     "inputWidgets": {},
     "nuid": "874533ea-8e6a-4030-9256-0f8425aa262c",
     "showTitle": false,
     "tableResultSettingsMap": {},
     "title": ""
    }
   },
   "source": [
    "## Producing events to Kafka."
   ]
  },
  {
   "cell_type": "code",
   "execution_count": 0,
   "metadata": {
    "application/vnd.databricks.v1+cell": {
     "cellMetadata": {
      "byteLimit": 2048000,
      "rowLimit": 10000
     },
     "inputWidgets": {},
     "nuid": "ec7061a9-70cf-4c99-b29c-595424ab4f3e",
     "showTitle": false,
     "tableResultSettingsMap": {},
     "title": ""
    }
   },
   "outputs": [],
   "source": [
    "import time\n",
    "\n",
    "# How long to produce messages:\n",
    "produce_time_sec = int(dbutils.widgets.get(\"produce_time_sec\"))\n",
    "# How many new users join the website per second:\n",
    "user_creation_rate = 2\n",
    "# Max duration for a user stays in the website (after this time, the user will stop producing events):\n",
    "user_max_duration_time = 120\n",
    "\n",
    "users = {}\n",
    "\n",
    "for _ in range(produce_time_sec):\n",
    "    for id in list(users.keys()):\n",
    "        user = users[id]\n",
    "        now = int(time.time())\n",
    "\n",
    "        if (user[\"end_time\"] < now):\n",
    "            del users[id]\n",
    "        else:\n",
    "            # 30% chance to create an event:\n",
    "            if (random.randrange(100) > 70):\n",
    "                event = generate_event(id, now)\n",
    "                produce_event(event)\n",
    "\n",
    "    # Create new users:\n",
    "    for i in range(user_creation_rate):\n",
    "        # Add new user:\n",
    "        user_id = str(uuid.uuid4())\n",
    "        now = int(time.time())\n",
    "\n",
    "        # End_time is when the user will leave and the session stops:\n",
    "        user = {\"id\": user_id, \"creation_time\": now, \"end_time\": now + random.randrange(user_max_duration_time)}\n",
    "        users[user_id] = user\n",
    "    \n",
    "    time.sleep(1)\n",
    "\n",
    "# Ensure all messages are delivered before exiting\n",
    "producer.flush()"
   ]
  }
 ],
 "metadata": {
  "application/vnd.databricks.v1+notebook": {
   "computePreferences": null,
   "dashboards": [],
   "environmentMetadata": {
    "base_environment": "",
    "environment_version": "2"
   },
   "inputWidgetPreferences": null,
   "language": "python",
   "notebookMetadata": {
    "pythonIndentUnit": 4
   },
   "notebookName": "00_Producing_Events_To_Kafka",
   "widgets": {
    "produce_time_sec": {
     "currentValue": "300",
     "nuid": "910e9a35-db5d-48f7-be45-1115be0176c6",
     "typedWidgetInfo": {
      "autoCreated": false,
      "defaultValue": "300",
      "label": "How long to produce events:",
      "name": "produce_time_sec",
      "options": {
       "widgetDisplayType": "Text",
       "validationRegex": null
      },
      "parameterDataType": "String"
     },
     "widgetInfo": {
      "widgetType": "text",
      "defaultValue": "300",
      "label": "How long to produce events:",
      "name": "produce_time_sec",
      "options": {
       "widgetType": "text",
       "autoCreated": null,
       "validationRegex": null
      }
     }
    }
   }
  },
  "language_info": {
   "name": "python"
  }
 },
 "nbformat": 4,
 "nbformat_minor": 0
}
