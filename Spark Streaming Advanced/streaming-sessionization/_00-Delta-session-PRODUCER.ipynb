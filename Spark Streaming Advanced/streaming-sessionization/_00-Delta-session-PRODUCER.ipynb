{
 "cells": [
  {
   "cell_type": "code",
   "execution_count": 0,
   "metadata": {
    "application/vnd.databricks.v1+cell": {
     "cellMetadata": {
      "byteLimit": 2048000,
      "rowLimit": 10000
     },
     "inputWidgets": {},
     "nuid": "28980852-45db-4995-801f-7764c7df7744",
     "showTitle": false,
     "tableResultSettingsMap": {},
     "title": ""
    }
   },
   "outputs": [],
   "source": [
    "dbutils.widgets.text(\"produce_time_sec\", \"300\", \"How long we'll produce data (sec)\")"
   ]
  },
  {
   "cell_type": "markdown",
   "metadata": {
    "application/vnd.databricks.v1+cell": {
     "cellMetadata": {
      "byteLimit": 2048000,
      "rowLimit": 10000
     },
     "inputWidgets": {},
     "nuid": "fd6d66b2-f617-413f-a256-8b834f2133c8",
     "showTitle": false,
     "tableResultSettingsMap": {},
     "title": null
    }
   },
   "source": [
    "### A cluster has been created for this demo\n",
    "To run this demo, just select the cluster `dbdemos-streaming-sessionization-maynard` from the dropdown menu ([open cluster configuration](https://adb-3759185753378633.13.azuredatabricks.net/#setting/clusters/0523-032130-3sdou7jm/configuration)). <br />\n",
    "*Note: If the cluster was deleted after 30 days, you can re-create it with `dbdemos.create_cluster('streaming-sessionization')` or re-install the demo: `dbdemos.install('streaming-sessionization')`*"
   ]
  },
  {
   "cell_type": "markdown",
   "metadata": {
    "application/vnd.databricks.v1+cell": {
     "cellMetadata": {
      "byteLimit": 2048000,
      "rowLimit": 10000
     },
     "inputWidgets": {},
     "nuid": "c0b54f01-4625-4c83-86fd-baaac557b6f1",
     "showTitle": false,
     "tableResultSettingsMap": {},
     "title": ""
    }
   },
   "source": [
    "#Kafka producer\n",
    "\n",
    "Use this producer to create a stream of fake user in your website and sends the message to kafka, live.\n",
    "\n",
    "Run all the cells, once. Currently requires to run on a cluster with instance profile allowing kafka connection (one-env, aws).\n",
    "\n",
    "<!-- Collect usage data (view). Remove it to disable collection or disable tracker during installation. View README for more details.  -->\n",
    "<img width=\"1px\" src=\"https://ppxrzfxige.execute-api.us-west-2.amazonaws.com/v1/analytics?category=data-engineering&org_id=3759185753378633&notebook=%2F_00-Delta-session-PRODUCER&demo_name=streaming-sessionization&event=VIEW&path=%2F_dbdemos%2Fdata-engineering%2Fstreaming-sessionization%2F_00-Delta-session-PRODUCER&version=1\">"
   ]
  },
  {
   "cell_type": "code",
   "execution_count": 0,
   "metadata": {
    "application/vnd.databricks.v1+cell": {
     "cellMetadata": {
      "byteLimit": 2048000,
      "rowLimit": 10000
     },
     "inputWidgets": {},
     "nuid": "b20ba5ec-b13c-4300-b931-58825a4e2992",
     "showTitle": false,
     "tableResultSettingsMap": {},
     "title": ""
    }
   },
   "outputs": [],
   "source": [
    "%pip install faker confluent-kafka"
   ]
  },
  {
   "cell_type": "code",
   "execution_count": 0,
   "metadata": {
    "application/vnd.databricks.v1+cell": {
     "cellMetadata": {
      "byteLimit": 2048000,
      "rowLimit": 10000
     },
     "inputWidgets": {},
     "nuid": "739b7cec-56c5-406a-9323-237be16280a4",
     "showTitle": false,
     "tableResultSettingsMap": {},
     "title": ""
    }
   },
   "outputs": [],
   "source": [
    "from confluent_kafka import Producer\n",
    "import json\n",
    "import random\n",
    "\n",
    "# kafka_bootstrap_servers_tls = \"b-1.oneenvkafka.fso631.c14.kafka.us-west-2.amazonaws.com:9094,b-2.oneenvkafka.fso631.c14.kafka.us-west-2.amazonaws.com:9094,b-3.oneenvkafka.fso631.c14.kafka.us-west-2.amazonaws.com:9094\"\n",
    "#kafka_bootstrap_servers_tls = \"<Replace by your own kafka servers>\"\n",
    "# Also make sure to have the proper instance profile to allow the access if you're on AWS.\n",
    "\n",
    "#conf = {\n",
    "#    'bootstrap.servers': kafka_bootstrap_servers_tls,\n",
    "#    'security.protocol': 'SSL'\n",
    "#}\n",
    "\n",
    "conf = {\n",
    "    'bootstrap.servers': 'my-eventhub-ntn512.servicebus.windows.net:9093',  # ← Event Hubs-compatible endpoint with :9093\n",
    "    'security.protocol': 'SASL_SSL',\n",
    "    'sasl.mechanism': 'PLAIN',\n",
    "    'sasl.username': '$ConnectionString',\n",
    "    'sasl.password': '<your-endpoint>',  # Full string from Azure Portal\n",
    "    'client.id': 'my-databricks-client'\n",
    "}\n",
    "\n",
    "producer = Producer(conf)\n",
    "\n",
    "def delivery_report(err, msg):\n",
    "    \"\"\"Callback for delivery reports.\"\"\"\n",
    "    if err is not None:\n",
    "        print(f\"Message delivery failed: {err}\")\n",
    "    else:\n",
    "        print(f\"Message delivered to {msg.topic()} [{msg.partition()}]\")\n",
    "\n",
    "def send_message(event, topic = 'dbdemos-sessions'):\n",
    "    event_json = json.dumps(event)\n",
    "    producer.produce(topic, value=event_json, callback=delivery_report)\n",
    "    producer.poll(0)  # Trigger delivery report callbacks\n",
    "\n",
    "    # Simulate duplicate events to test deduplication\n",
    "    if random.uniform(0, 1) > 0.96:\n",
    "        producer.produce(topic, value=event_json, callback=delivery_report)\n",
    "        producer.poll(0)\n",
    "    producer.flush()\n",
    "\n",
    "send_message({\"test\": \"toto\"},  'test')"
   ]
  },
  {
   "cell_type": "code",
   "execution_count": 0,
   "metadata": {
    "application/vnd.databricks.v1+cell": {
     "cellMetadata": {
      "byteLimit": 2048000,
      "rowLimit": 10000
     },
     "inputWidgets": {},
     "nuid": "2342076a-7c9b-4de4-89e3-787a5fca3989",
     "showTitle": false,
     "tableResultSettingsMap": {},
     "title": ""
    }
   },
   "outputs": [],
   "source": [
    "import re\n",
    "from faker import Faker\n",
    "from collections import OrderedDict \n",
    "from random import randrange\n",
    "import time\n",
    "import uuid\n",
    "fake = Faker()\n",
    "import random\n",
    "\n",
    "platform = OrderedDict([(\"ios\", 0.5),(\"android\", 0.1),(\"other\", 0.3),(None, 0.01)])\n",
    "action_type = OrderedDict([(\"view\", 0.5),(\"log\", 0.1),(\"click\", 0.3),(None, 0.01)])\n",
    "\n",
    "def create_event(user_id, timestamp):\n",
    "  fake_platform = fake.random_elements(elements=platform, length=1)[0]\n",
    "  fake_action = fake.random_elements(elements=action_type, length=1)[0]\n",
    "  fake_uri = re.sub(r'https?:\\/\\/.*?\\/', \"https://databricks.com/\", fake.uri())\n",
    "\n",
    "  #adds some noise in the timestamp to simulate out-of order events\n",
    "  timestamp = timestamp + randrange(10)-5\n",
    "\n",
    "  #event id with 2% of null event to have some errors/cleanup\n",
    "  fake_id = str(uuid.uuid4()) if random.uniform(0, 1) < 0.98 else None\n",
    "\n",
    "  return {\"user_id\": user_id, \"platform\": fake_platform, \"event_id\": fake_id, \"event_date\": timestamp, \"action\": fake_action, \"uri\": fake_uri}\n",
    "\n",
    "print(create_event(str(uuid.uuid4()), int(time.time())))"
   ]
  },
  {
   "cell_type": "code",
   "execution_count": 0,
   "metadata": {
    "application/vnd.databricks.v1+cell": {
     "cellMetadata": {
      "byteLimit": 2048000,
      "rowLimit": 10000
     },
     "inputWidgets": {},
     "nuid": "27626056-2e0b-4bcf-94a7-fef0d4fab0f9",
     "showTitle": false,
     "tableResultSettingsMap": {},
     "title": ""
    }
   },
   "outputs": [],
   "source": [
    "users = {}\n",
    "#How long it'll produce messages\n",
    "produce_time_sec = int(dbutils.widgets.get(\"produce_time_sec\"))\n",
    "#How many new users join the website per second\n",
    "user_creation_rate = 2\n",
    "#Max duration a user stays in the website (after this time user will stop producing events)\n",
    "user_max_duration_time = 120\n",
    "\n",
    "for _ in range(produce_time_sec):\n",
    "  #print(len(users))\n",
    "  for id in list(users.keys()):\n",
    "    user = users[id]\n",
    "    now = int(time.time())\n",
    "\n",
    "    if (user['end_date'] < now):\n",
    "      del users[id]\n",
    "      #print(f\"User {id} removed\")\n",
    "    else:\n",
    "      #10% chance to click on something\n",
    "      if (randrange(100) > 80):\n",
    "        event = create_event(id, now)\n",
    "        send_message(event)\n",
    "        #print(f\"User {id} sent event {event}\")\n",
    "        \n",
    "  #Re-create new users\n",
    "  for i in range(user_creation_rate):\n",
    "    #Add new user\n",
    "    user_id = str(uuid.uuid4())\n",
    "    now = int(time.time())\n",
    "    \n",
    "    #end_date is when the user will leave and the session stops (so max user_max_duration_time sec and then leaves the website)\n",
    "    user = {\"id\": user_id, \"creation_date\": now, \"end_date\": now + randrange(user_max_duration_time) }\n",
    "    users[user_id] = user\n",
    "    #print(f\"User {user_id} created\")\n",
    "  time.sleep(1)\n",
    "\n",
    "\n",
    "# Ensure all messages are delivered before exiting\n",
    "producer.flush()"
   ]
  }
 ],
 "metadata": {
  "application/vnd.databricks.v1+notebook": {
   "computePreferences": null,
   "dashboards": [],
   "environmentMetadata": {
    "environment_version": "2"
   },
   "inputWidgetPreferences": null,
   "language": "python",
   "notebookMetadata": {
    "pythonIndentUnit": 2
   },
   "notebookName": "_00-Delta-session-PRODUCER",
   "widgets": {
    "produce_time_sec": {
     "currentValue": "300",
     "nuid": "f67f193d-d784-4b43-b776-cd9345a5180e",
     "typedWidgetInfo": {
      "autoCreated": false,
      "defaultValue": "300",
      "label": "How long we'll produce data (sec)",
      "name": "produce_time_sec",
      "options": {
       "widgetDisplayType": "Text",
       "validationRegex": null
      },
      "parameterDataType": "String"
     },
     "widgetInfo": {
      "widgetType": "text",
      "defaultValue": "300",
      "label": "How long we'll produce data (sec)",
      "name": "produce_time_sec",
      "options": {
       "widgetType": "text",
       "autoCreated": null,
       "validationRegex": null
      }
     }
    }
   }
  },
  "language_info": {
   "name": "python"
  }
 },
 "nbformat": 4,
 "nbformat_minor": 0
}
