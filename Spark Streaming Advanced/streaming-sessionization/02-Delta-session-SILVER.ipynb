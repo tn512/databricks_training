{
 "cells": [
  {
   "cell_type": "markdown",
   "metadata": {
    "application/vnd.databricks.v1+cell": {
     "cellMetadata": {},
     "inputWidgets": {},
     "nuid": "16d1afac-d404-407b-86ed-095bfff2b347",
     "showTitle": false,
     "tableResultSettingsMap": {},
     "title": ""
    }
   },
   "source": [
    "\n",
    "# ![Delta Lake Tiny Logo](https://pages.databricks.com/rs/094-YMS-629/images/delta-lake-tiny-logo.png)  2/ SILVER table: store the content of our events in a structured table\n",
    "\n",
    "<img style=\"float:right; height: 230px; margin: 0px 30px 0px 30px\" src=\"https://raw.githubusercontent.com/databricks-demos/dbdemos-resources/main/images/product/streaming-sessionization/sessionization_silver.png\">\n",
    "\n",
    "We can create a new silver table containing all our data.\n",
    "\n",
    "This will allow to store all our data in a proper table, with the content of the json stored in a columnar format. \n",
    "\n",
    "Should our message content change, we'll be able to adapt the transformation of this job to always allow SQL queries over this SILVER table.\n",
    "\n",
    "If we realized our logic was flawed from the begining, it'll also be easy to start a new cluster to re-process the entire table with a better transformation!\n",
    "\n",
    "<!-- Collect usage data (view). Remove it to disable collection or disable tracker during installation. View README for more details.  -->\n",
    "<img width=\"1px\" src=\"https://ppxrzfxige.execute-api.us-west-2.amazonaws.com/v1/analytics?category=data-engineering&org_id=3759185753378633&notebook=%2F02-Delta-session-SILVER&demo_name=streaming-sessionization&event=VIEW&path=%2F_dbdemos%2Fdata-engineering%2Fstreaming-sessionization%2F02-Delta-session-SILVER&version=1\">"
   ]
  },
  {
   "cell_type": "markdown",
   "metadata": {
    "application/vnd.databricks.v1+cell": {
     "cellMetadata": {},
     "inputWidgets": {},
     "nuid": "4e689865-929c-45ae-b68c-a80b47557031",
     "showTitle": false,
     "tableResultSettingsMap": {},
     "title": null
    }
   },
   "source": [
    "### A cluster has been created for this demo\n",
    "To run this demo, just select the cluster `dbdemos-streaming-sessionization-maynard` from the dropdown menu ([open cluster configuration](https://adb-3759185753378633.13.azuredatabricks.net/#setting/clusters/0523-032130-3sdou7jm/configuration)). <br />\n",
    "*Note: If the cluster was deleted after 30 days, you can re-create it with `dbdemos.create_cluster('streaming-sessionization')` or re-install the demo: `dbdemos.install('streaming-sessionization')`*"
   ]
  },
  {
   "cell_type": "code",
   "execution_count": 0,
   "metadata": {
    "application/vnd.databricks.v1+cell": {
     "cellMetadata": {
      "byteLimit": 2048000,
      "rowLimit": 10000
     },
     "inputWidgets": {},
     "nuid": "944f8166-793f-464d-b78c-6ba327135bf0",
     "showTitle": false,
     "tableResultSettingsMap": {},
     "title": ""
    },
    "jupyter": {
     "outputs_hidden": true
    }
   },
   "outputs": [],
   "source": [
    "%run ./_resources/00-setup $reset_all_data=false"
   ]
  },
  {
   "cell_type": "code",
   "execution_count": 0,
   "metadata": {
    "application/vnd.databricks.v1+cell": {
     "cellMetadata": {
      "byteLimit": 2048000,
      "rowLimit": 10000
     },
     "inputWidgets": {},
     "nuid": "cdc8b1ac-ae0c-49b3-801e-b5308f3dee9d",
     "showTitle": true,
     "tableResultSettingsMap": {},
     "title": "Stream and clean the raw events"
    }
   },
   "outputs": [],
   "source": [
    "DBDemos.wait_for_table(\"events_raw\") #Wait until the previous table is created to avoid error if all notebooks are started at once\n",
    "\n",
    "#For the sake of the example we'll get the schema from a json row. In a real deployment we could query a schema registry.\n",
    "row_example = \"\"\"{\"user_id\": \"5ee7ba5f-77b2-47e4-8061-dd89f19626f3\", \"platform\": \"other\", \"event_id\": \"03c3d410-f01f-4f51-8ee0-7fab9be96855\", \"event_date\": 1669301257, \"action\": \"view\", \"uri\": \"https://databricks.com/home.htm\"}\"\"\"\n",
    "json_schema = F.schema_of_json(row_example)\n",
    "\n",
    "stream = (spark\n",
    "            .readStream\n",
    "              .table(\"events_raw\")\n",
    "             # === Our transformation, easy to adapt if our logic changes ===\n",
    "            .withColumn('json', F.from_json(col(\"value\"), json_schema))\n",
    "            .select('json.*')\n",
    "             # Drop null events\n",
    "             .where(\"event_id is not null and user_id is not null and event_date is not null\")\n",
    "             .withColumn('event_datetime', F.to_timestamp(F.from_unixtime(col(\"event_date\")))))\n",
    "display(stream, checkpointLocation = get_chkp_folder())"
   ]
  },
  {
   "cell_type": "code",
   "execution_count": 0,
   "metadata": {
    "application/vnd.databricks.v1+cell": {
     "cellMetadata": {
      "byteLimit": 2048000,
      "rowLimit": 10000
     },
     "inputWidgets": {},
     "nuid": "ecd69a85-317a-466a-8b18-e7da880efa7d",
     "showTitle": false,
     "tableResultSettingsMap": {},
     "title": ""
    }
   },
   "outputs": [],
   "source": [
    "(stream\n",
    "  .withWatermark('event_datetime', '1 hours')\n",
    "  .dropDuplicates(['event_id'])\n",
    "  .writeStream\n",
    "    .trigger(processingTime=\"20 seconds\")\n",
    "    #.trigger(availableNow=True) --use this for serverless\n",
    "    .option(\"checkpointLocation\", volume_folder+\"/checkpoints/silver\")\n",
    "    .option(\"mergeSchema\", \"true\")\n",
    "    .table('events'))\n",
    "\n",
    "DBDemos.wait_for_table(\"events\")"
   ]
  },
  {
   "cell_type": "code",
   "execution_count": 0,
   "metadata": {
    "application/vnd.databricks.v1+cell": {
     "cellMetadata": {
      "byteLimit": 2048000,
      "implicitDf": true,
      "rowLimit": 10000
     },
     "inputWidgets": {},
     "nuid": "ec047582-83c9-485f-a49b-6c7f6afab890",
     "showTitle": false,
     "tableResultSettingsMap": {},
     "title": ""
    }
   },
   "outputs": [],
   "source": [
    "%sql\n",
    "SELECT * FROM events;"
   ]
  },
  {
   "cell_type": "markdown",
   "metadata": {
    "application/vnd.databricks.v1+cell": {
     "cellMetadata": {},
     "inputWidgets": {},
     "nuid": "5a74740a-022c-4967-ade6-a02bb5d63228",
     "showTitle": false,
     "tableResultSettingsMap": {},
     "title": ""
    }
   },
   "source": [
    "Let's make sure we don't have any duplicate nor null event (they've been filtered out)"
   ]
  },
  {
   "cell_type": "code",
   "execution_count": 0,
   "metadata": {
    "application/vnd.databricks.v1+cell": {
     "cellMetadata": {
      "byteLimit": 2048000,
      "implicitDf": true,
      "rowLimit": 10000
     },
     "inputWidgets": {},
     "nuid": "87815ac7-da29-4eb4-ad96-41a2885b8af9",
     "showTitle": false,
     "tableResultSettingsMap": {},
     "title": ""
    }
   },
   "outputs": [],
   "source": [
    "%sql\n",
    "SELECT count(*) event_count, event_id \n",
    "FROM events\n",
    "GROUP BY event_id\n",
    "HAVING event_count > 1 or event_id is null\n",
    "ORDER BY event_id;"
   ]
  },
  {
   "cell_type": "markdown",
   "metadata": {
    "application/vnd.databricks.v1+cell": {
     "cellMetadata": {},
     "inputWidgets": {},
     "nuid": "ebdf94c2-1170-4c0a-abfb-d26beb105e6a",
     "showTitle": false,
     "tableResultSettingsMap": {},
     "title": ""
    }
   },
   "source": [
    "#### Let's display a real-time view of our traffic using our stream, grouped by platform, for the last minute"
   ]
  },
  {
   "cell_type": "code",
   "execution_count": 0,
   "metadata": {
    "application/vnd.databricks.v1+cell": {
     "cellMetadata": {
      "byteLimit": 2048000,
      "rowLimit": 10000
     },
     "inputWidgets": {},
     "nuid": "d0f6b4df-0fff-46a4-8fd3-1257070eb815",
     "showTitle": false,
     "tableResultSettingsMap": {},
     "title": ""
    }
   },
   "outputs": [],
   "source": [
    "spark.readStream.table(\"events\").createOrReplaceTempView(\"events_stream\")"
   ]
  },
  {
   "cell_type": "code",
   "execution_count": 0,
   "metadata": {
    "application/vnd.databricks.v1+cell": {
     "cellMetadata": {
      "byteLimit": 2048000,
      "rowLimit": 10000
     },
     "inputWidgets": {},
     "nuid": "39a912ba-a024-45f7-8c0a-61b58474e0af",
     "showTitle": true,
     "tableResultSettingsMap": {},
     "title": "Let's monitor our events from the last minutes with a window function"
    }
   },
   "outputs": [],
   "source": [
    "# Visualization: bar plot with X=start Y=count (SUM, group by platform)\n",
    "df = spark.sql('''\n",
    "  WITH event_monitoring AS (\n",
    "    SELECT WINDOW(event_datetime, \"10 seconds\") w, \n",
    "           count(*) c, platform \n",
    "    FROM events_stream \n",
    "    WHERE CAST(event_datetime as INT) > CAST(CURRENT_TIMESTAMP() as INT)-120 \n",
    "    GROUP BY w, platform\n",
    "  )\n",
    "  SELECT w.*, c, platform \n",
    "  FROM event_monitoring \n",
    "''')\n",
    "\n",
    "display(df, checkpointLocation = get_chkp_folder())"
   ]
  },
  {
   "cell_type": "markdown",
   "metadata": {
    "application/vnd.databricks.v1+cell": {
     "cellMetadata": {},
     "inputWidgets": {},
     "nuid": "06e0b1bc-739a-4354-b321-e07ad4174b56",
     "showTitle": false,
     "tableResultSettingsMap": {},
     "title": ""
    }
   },
   "source": [
    "Let's find our TOP 10 more active pages, updated in real time with a streaming query:"
   ]
  },
  {
   "cell_type": "code",
   "execution_count": 0,
   "metadata": {
    "application/vnd.databricks.v1+cell": {
     "cellMetadata": {
      "byteLimit": 2048000,
      "implicitDf": true,
      "rowLimit": 10000
     },
     "inputWidgets": {},
     "nuid": "c048af03-57e6-44cd-b38c-5bc4e5e9b456",
     "showTitle": false,
     "tableResultSettingsMap": {},
     "title": ""
    }
   },
   "outputs": [],
   "source": [
    "%sql\n",
    "-- Visualization: pie with X=URL Y=count (SUM)\n",
    "select count(*) as count, uri \n",
    "from events_stream \n",
    "group by uri \n",
    "order by count desc limit 10;"
   ]
  },
  {
   "cell_type": "code",
   "execution_count": 0,
   "metadata": {
    "application/vnd.databricks.v1+cell": {
     "cellMetadata": {
      "byteLimit": 2048000,
      "rowLimit": 10000
     },
     "inputWidgets": {},
     "nuid": "86d8e0d4-fff4-46a6-8e15-129913eae936",
     "showTitle": true,
     "tableResultSettingsMap": {},
     "title": "Stop all the streams "
    }
   },
   "outputs": [],
   "source": [
    "DBDemos.stop_all_streams(sleep_time=120)"
   ]
  },
  {
   "cell_type": "markdown",
   "metadata": {
    "application/vnd.databricks.v1+cell": {
     "cellMetadata": {},
     "inputWidgets": {},
     "nuid": "7ec57d14-6114-4d99-832c-644d7f8bc98b",
     "showTitle": false,
     "tableResultSettingsMap": {},
     "title": ""
    }
   },
   "source": [
    "### We now have our silver table ready to be used!\n",
    "\n",
    "Let's compute our sessions based on this table with  **[a Gold Table](https://demo.cloud.databricks.com/#notebook/4438519)**\n",
    "\n",
    "\n",
    "**[Go Back](https://demo.cloud.databricks.com/#notebook/4128443)**"
   ]
  }
 ],
 "metadata": {
  "application/vnd.databricks.v1+notebook": {
   "computePreferences": null,
   "dashboards": [],
   "environmentMetadata": {
    "environment_version": "2"
   },
   "inputWidgetPreferences": null,
   "language": "python",
   "notebookMetadata": {
    "mostRecentlyExecutedCommandWithImplicitDF": {
     "commandId": 4400352886973679,
     "dataframes": [
      "_sqldf"
     ]
    },
    "pythonIndentUnit": 2
   },
   "notebookName": "02-Delta-session-SILVER",
   "widgets": {}
  },
  "language_info": {
   "name": "python"
  }
 },
 "nbformat": 4,
 "nbformat_minor": 0
}
