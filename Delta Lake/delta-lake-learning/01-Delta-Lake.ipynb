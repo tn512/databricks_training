{
 "cells": [
  {
   "cell_type": "markdown",
   "metadata": {
    "application/vnd.databricks.v1+cell": {
     "cellMetadata": {},
     "inputWidgets": {},
     "nuid": "02a6abfd-154d-430c-9501-cc0c3cac811b",
     "showTitle": false,
     "tableResultSettingsMap": {},
     "title": ""
    }
   },
   "source": [
    "# Getting started with Delta Lake\n",
    "\n",
    "[Delta Lake](https://delta.io/) is an open storage format used to save your data in your Lakehouse. Delta provides an abstraction layer on top of files. It's the storage foundation of your Lakehouse."
   ]
  },
  {
   "cell_type": "code",
   "execution_count": 0,
   "metadata": {
    "application/vnd.databricks.v1+cell": {
     "cellMetadata": {
      "byteLimit": 2048000,
      "rowLimit": 10000
     },
     "inputWidgets": {},
     "nuid": "dc8f259c-7ea8-4503-9e78-e8e2acca0800",
     "showTitle": false,
     "tableResultSettingsMap": {},
     "title": ""
    }
   },
   "outputs": [],
   "source": [
    "%run ./_resources/00-setup $reset_all_data=false"
   ]
  },
  {
   "cell_type": "code",
   "execution_count": 0,
   "metadata": {
    "application/vnd.databricks.v1+cell": {
     "cellMetadata": {
      "byteLimit": 2048000,
      "rowLimit": 10000
     },
     "inputWidgets": {},
     "nuid": "1adcce47-ade8-4618-a5db-39110feaa903",
     "showTitle": false,
     "tableResultSettingsMap": {},
     "title": ""
    }
   },
   "outputs": [],
   "source": [
    "print(f\"Our user dataset is stored under our Volume={folder}/user_parquet\")"
   ]
  },
  {
   "cell_type": "markdown",
   "metadata": {
    "application/vnd.databricks.v1+cell": {
     "cellMetadata": {},
     "inputWidgets": {},
     "nuid": "96d09ddf-f4e4-49d0-b382-a52934eda1ae",
     "showTitle": false,
     "tableResultSettingsMap": {},
     "title": ""
    }
   },
   "source": [
    "## Creating our first Delta Lake table:"
   ]
  },
  {
   "cell_type": "code",
   "execution_count": 0,
   "metadata": {
    "application/vnd.databricks.v1+cell": {
     "cellMetadata": {
      "byteLimit": 2048000,
      "implicitDf": true,
      "rowLimit": 10000
     },
     "inputWidgets": {},
     "nuid": "3a31d9b7-d81b-4bd8-9f30-44068a9a4ce0",
     "showTitle": false,
     "tableResultSettingsMap": {},
     "title": ""
    }
   },
   "outputs": [],
   "source": [
    "%sql\n",
    "CREATE TABLE IF NOT EXISTS user_delta (\n",
    "  id BIGINT,\n",
    "  creation_date TIMESTAMP,\n",
    "  firstname STRING,\n",
    "  lastname STRING,\n",
    "  email STRING,\n",
    "  address STRING,\n",
    "  gender INT,\n",
    "  age_group INT\n",
    ");\n",
    "\n",
    "-- Load data in the newly created table:\n",
    "COPY INTO user_delta FROM '/Volumes/delta_learning/dev/delta_lake_raw_data/user_parquet'\n",
    "FILEFORMAT = parquet;\n"
   ]
  },
  {
   "cell_type": "code",
   "execution_count": 0,
   "metadata": {
    "application/vnd.databricks.v1+cell": {
     "cellMetadata": {
      "byteLimit": 2048000,
      "implicitDf": true,
      "rowLimit": 10000
     },
     "inputWidgets": {},
     "nuid": "395c3dac-7290-4398-905b-b2ffe760fc05",
     "showTitle": false,
     "tableResultSettingsMap": {},
     "title": ""
    }
   },
   "outputs": [],
   "source": [
    "%sql\n",
    "SELECT * FROM user_delta;"
   ]
  },
  {
   "cell_type": "code",
   "execution_count": 0,
   "metadata": {
    "application/vnd.databricks.v1+cell": {
     "cellMetadata": {
      "byteLimit": 2048000,
      "rowLimit": 10000
     },
     "inputWidgets": {},
     "nuid": "28430771-53f6-413b-a91f-e036578b7014",
     "showTitle": false,
     "tableResultSettingsMap": {},
     "title": ""
    }
   },
   "outputs": [],
   "source": [
    "data_parquet = spark.read.parquet(\"/Volumes/delta_learning/dev/delta_lake_raw_data/user_parquet\")\n",
    "\n",
    "data_parquet.write.saveAsTable(\"p_user_delta\")"
   ]
  },
  {
   "cell_type": "code",
   "execution_count": 0,
   "metadata": {
    "application/vnd.databricks.v1+cell": {
     "cellMetadata": {
      "byteLimit": 2048000,
      "rowLimit": 10000
     },
     "inputWidgets": {},
     "nuid": "8adc8ad5-be7d-4cd9-a29c-adbca7027e41",
     "showTitle": false,
     "tableResultSettingsMap": {},
     "title": ""
    }
   },
   "outputs": [],
   "source": [
    "display(spark.read.table(\"p_user_delta\"))"
   ]
  },
  {
   "cell_type": "markdown",
   "metadata": {
    "application/vnd.databricks.v1+cell": {
     "cellMetadata": {},
     "inputWidgets": {},
     "nuid": "eaac040a-35f2-4b14-8a10-8f4e13fcf120",
     "showTitle": false,
     "tableResultSettingsMap": {},
     "title": ""
    }
   },
   "source": [
    "## Upgrading an existing Parquet or Iceberg table to Delta Lake:"
   ]
  },
  {
   "cell_type": "code",
   "execution_count": 0,
   "metadata": {
    "application/vnd.databricks.v1+cell": {
     "cellMetadata": {},
     "inputWidgets": {},
     "nuid": "6e1b2fd2-4369-4f01-afd1-1f552b6f4015",
     "showTitle": false,
     "tableResultSettingsMap": {},
     "title": ""
    }
   },
   "outputs": [],
   "source": [
    "%sql\n",
    "-- Only for Parquet tables:\n",
    "CONVERT TO DELTA database_name.table_name;\n",
    "\n",
    "-- If the table is partitioned:\n",
    "CONVERT TO DELTA parquet.`s3://my-bucket/path/to/table`\n",
    "  PARTITIONED BY (date DATE);\n",
    "\n",
    "-- Uses Iceberg manifest for metadata:\n",
    "CONVERT TO DELTA iceberg.`s3://my-bucket/path/to/table`;"
   ]
  },
  {
   "cell_type": "markdown",
   "metadata": {
    "application/vnd.databricks.v1+cell": {
     "cellMetadata": {},
     "inputWidgets": {},
     "nuid": "2929b7f6-fad2-48ec-a409-4b6303670bf3",
     "showTitle": false,
     "tableResultSettingsMap": {},
     "title": ""
    }
   },
   "source": [
    "## Unified Batch and Streaming operations:"
   ]
  },
  {
   "cell_type": "code",
   "execution_count": 0,
   "metadata": {
    "application/vnd.databricks.v1+cell": {
     "cellMetadata": {
      "byteLimit": 2048000,
      "rowLimit": 10000
     },
     "inputWidgets": {},
     "nuid": "f9ae55ec-ff3b-4226-a3b2-97348c66c165",
     "showTitle": false,
     "tableResultSettingsMap": {},
     "title": ""
    }
   },
   "outputs": [],
   "source": [
    "# Read the insertion of data:\n",
    "(spark.readStream\n",
    "      .option(\"igonreDeletes\", \"true\")\n",
    "      .option(\"ignoreChanges\", \"true\")\n",
    "      .table(\"user_delta\")\n",
    "      .createOrReplaceTempView(\"v_user_delta_stream\"))"
   ]
  },
  {
   "cell_type": "code",
   "execution_count": 0,
   "metadata": {
    "application/vnd.databricks.v1+cell": {
     "cellMetadata": {
      "byteLimit": 2048000,
      "rowLimit": 10000
     },
     "inputWidgets": {},
     "nuid": "bf220e47-e454-4f3b-9f6f-e8b5937455ad",
     "showTitle": false,
     "tableResultSettingsMap": {},
     "title": ""
    }
   },
   "outputs": [],
   "source": [
    "df = spark.sql(\"\"\"\n",
    "                SELECT gender, ROUND(AVG(age_group), 2)\n",
    "                FROM v_user_delta_stream\n",
    "                GROUP BY gender\n",
    "               \"\"\")\n",
    "\n",
    "display(df, get_chkp_folder(folder))"
   ]
  },
  {
   "cell_type": "markdown",
   "metadata": {
    "application/vnd.databricks.v1+cell": {
     "cellMetadata": {},
     "inputWidgets": {},
     "nuid": "ac324004-7df4-4606-9d32-5761469c2898",
     "showTitle": false,
     "tableResultSettingsMap": {},
     "title": ""
    }
   },
   "source": [
    "**Wait** until the stream is up and running before executing the code below:"
   ]
  },
  {
   "cell_type": "code",
   "execution_count": 0,
   "metadata": {
    "application/vnd.databricks.v1+cell": {
     "cellMetadata": {
      "byteLimit": 2048000,
      "implicitDf": true,
      "rowLimit": 10000
     },
     "inputWidgets": {},
     "nuid": "6d75ad84-6ca8-45f9-bfaf-4cdb2d415a5b",
     "showTitle": false,
     "tableResultSettingsMap": {},
     "title": ""
    }
   },
   "outputs": [],
   "source": [
    "%sql\n",
    "INSERT INTO user_delta (id, creation_date, firstname, lastname, email, address, gender, age_group) \n",
    "VALUES (99999, now(), 'Quentin', 'Ambard', 'quentin.ambard@databricks.com', 'FR', '2', 3) "
   ]
  },
  {
   "cell_type": "markdown",
   "metadata": {
    "application/vnd.databricks.v1+cell": {
     "cellMetadata": {},
     "inputWidgets": {},
     "nuid": "c2adbc6d-3a57-4b81-9793-ac7cdff6b4b3",
     "showTitle": false,
     "tableResultSettingsMap": {},
     "title": ""
    }
   },
   "source": [
    "## Full DML Support:"
   ]
  },
  {
   "cell_type": "code",
   "execution_count": 0,
   "metadata": {
    "application/vnd.databricks.v1+cell": {
     "cellMetadata": {
      "byteLimit": 2048000,
      "implicitDf": true,
      "rowLimit": 10000
     },
     "inputWidgets": {},
     "nuid": "8c59029b-a530-4214-92e5-65311a441efb",
     "showTitle": false,
     "tableResultSettingsMap": {},
     "title": ""
    }
   },
   "outputs": [],
   "source": [
    "%sql\n",
    "UPDATE user_delta SET age_group = 4 WHERE id = 99999"
   ]
  },
  {
   "cell_type": "code",
   "execution_count": 0,
   "metadata": {
    "application/vnd.databricks.v1+cell": {
     "cellMetadata": {
      "byteLimit": 2048000,
      "implicitDf": true,
      "rowLimit": 10000
     },
     "inputWidgets": {},
     "nuid": "e37aa795-5f3e-4829-9a90-f5810b9e3b54",
     "showTitle": false,
     "tableResultSettingsMap": {},
     "title": ""
    }
   },
   "outputs": [],
   "source": [
    "%sql\n",
    "DELETE FROM user_delta WHERE id = 99999"
   ]
  },
  {
   "cell_type": "code",
   "execution_count": 0,
   "metadata": {
    "application/vnd.databricks.v1+cell": {
     "cellMetadata": {
      "byteLimit": 2048000,
      "implicitDf": true,
      "rowLimit": 10000
     },
     "inputWidgets": {},
     "nuid": "02941daa-79f9-48d4-840d-51f5d111b56c",
     "showTitle": false,
     "tableResultSettingsMap": {},
     "title": ""
    }
   },
   "outputs": [],
   "source": [
    "%sql\n",
    "CREATE TABLE IF NOT EXISTS user_updates \n",
    "  (id BIGINT, creation_date TIMESTAMP, \n",
    "   firstname STRING, lastname STRING, \n",
    "   email STRING, address STRING, \n",
    "   gender INT, age_group INT);\n",
    "\n",
    "DELETE FROM user_updates;\n",
    "\n",
    "INSERT INTO user_updates VALUES (1,     now(), 'Marco',   'polo',   'marco@polo.com',    'US', 2, 3); \n",
    "INSERT INTO user_updates VALUES (2,     now(), 'John',    'Doe',    'john@doe.com',      'US', 2, 3);\n",
    "INSERT INTO user_updates VALUES (99999, now(), 'Quentin', 'Ambard', 'qa@databricks.com', 'FR', 2, 3);\n",
    "\n",
    "SELECT * FROM user_updates;"
   ]
  },
  {
   "cell_type": "code",
   "execution_count": 0,
   "metadata": {
    "application/vnd.databricks.v1+cell": {
     "cellMetadata": {
      "byteLimit": 2048000,
      "implicitDf": true,
      "rowLimit": 10000
     },
     "inputWidgets": {},
     "nuid": "c13de2ac-c68b-4aad-ac03-c0ef7d261dc5",
     "showTitle": false,
     "tableResultSettingsMap": {},
     "title": ""
    }
   },
   "outputs": [],
   "source": [
    "%sql\n",
    "MERGE INTO user_delta AS t\n",
    "USING user_updates AS s\n",
    "ON t.id = s.id\n",
    "WHEN MATCHED THEN\n",
    "  UPDATE SET *\n",
    "WHEN NOT MATCHED THEN\n",
    "  INSERT *;\n",
    "\n",
    "SELECT * FROM user_delta WHERE id IN (1 ,2, 99999);"
   ]
  },
  {
   "cell_type": "markdown",
   "metadata": {
    "application/vnd.databricks.v1+cell": {
     "cellMetadata": {},
     "inputWidgets": {},
     "nuid": "251b509e-7015-4f69-9737-b266f2f9c000",
     "showTitle": false,
     "tableResultSettingsMap": {},
     "title": ""
    }
   },
   "source": [
    "## Enforce Data Quality with constraint:\n",
    "\n",
    "Delta Lake support constraints. You can add any expression to force your table having a given field respecting this constraint.\n",
    "\n",
    "_Note: This is enforcing quality at the table level. Delta Live Tables offer much more advance quality rules and expectations in data Pipelines._"
   ]
  },
  {
   "cell_type": "code",
   "execution_count": 0,
   "metadata": {
    "application/vnd.databricks.v1+cell": {
     "cellMetadata": {
      "byteLimit": 2048000,
      "implicitDf": true,
      "rowLimit": 10000
     },
     "inputWidgets": {},
     "nuid": "a3272b16-2a99-488a-819d-059913a88fdb",
     "showTitle": false,
     "tableResultSettingsMap": {},
     "title": ""
    }
   },
   "outputs": [],
   "source": [
    "%sql\n",
    "ALTER TABLE user_delta ADD CONSTRAINT id_not_null CHECK (id IS NOT NULL);"
   ]
  },
  {
   "cell_type": "code",
   "execution_count": 0,
   "metadata": {
    "application/vnd.databricks.v1+cell": {
     "cellMetadata": {
      "byteLimit": 2048000,
      "implicitDf": true,
      "rowLimit": 10000
     },
     "inputWidgets": {},
     "nuid": "e145b174-6a50-4091-9519-c7a6802c7bc5",
     "showTitle": false,
     "tableResultSettingsMap": {},
     "title": ""
    }
   },
   "outputs": [],
   "source": [
    "%sql\n",
    "-- This command will fail as we insert a user with a null id::\n",
    "INSERT INTO user_delta (id, creation_date, firstname, lastname, email, address, gender, age_group) \n",
    "VALUES (null, now(), 'Quentin', 'Ambard', 'quentin.ambard@databricks.com', 'FR', '2', 3);"
   ]
  },
  {
   "cell_type": "markdown",
   "metadata": {
    "application/vnd.databricks.v1+cell": {
     "cellMetadata": {},
     "inputWidgets": {},
     "nuid": "913b7b3e-06a3-4e4a-96d1-6f366bb5e0c6",
     "showTitle": false,
     "tableResultSettingsMap": {},
     "title": ""
    }
   },
   "source": [
    "## Travel back in Time:"
   ]
  },
  {
   "cell_type": "code",
   "execution_count": 0,
   "metadata": {
    "application/vnd.databricks.v1+cell": {
     "cellMetadata": {
      "byteLimit": 2048000,
      "implicitDf": true,
      "rowLimit": 10000
     },
     "inputWidgets": {},
     "nuid": "e30a929d-7ba8-436b-87eb-e164fbcc7812",
     "showTitle": false,
     "tableResultSettingsMap": {},
     "title": ""
    }
   },
   "outputs": [],
   "source": [
    "%sql\n",
    "DESCRIBE HISTORY user_delta"
   ]
  },
  {
   "cell_type": "code",
   "execution_count": 0,
   "metadata": {
    "application/vnd.databricks.v1+cell": {
     "cellMetadata": {
      "byteLimit": 2048000,
      "implicitDf": true,
      "rowLimit": 10000
     },
     "inputWidgets": {},
     "nuid": "e6db80a0-865a-48c5-96a5-75b9d7ab7600",
     "showTitle": false,
     "tableResultSettingsMap": {},
     "title": ""
    }
   },
   "outputs": [],
   "source": [
    "%sql\n",
    "--Time Travel via Version Number or Timestamp:\n",
    "SELECT * FROM user_delta WHERE id IN (1 ,2, 99999);"
   ]
  },
  {
   "cell_type": "code",
   "execution_count": 0,
   "metadata": {
    "application/vnd.databricks.v1+cell": {
     "cellMetadata": {
      "byteLimit": 2048000,
      "implicitDf": true,
      "rowLimit": 10000
     },
     "inputWidgets": {},
     "nuid": "1433b695-e57d-4ed6-b48e-e46c9e05a0b5",
     "showTitle": false,
     "tableResultSettingsMap": {},
     "title": ""
    }
   },
   "outputs": [],
   "source": [
    "%sql\n",
    "SELECT * FROM user_delta \n",
    "VERSION AS OF 2\n",
    "WHERE id IN (1 ,2, 99999);"
   ]
  },
  {
   "cell_type": "code",
   "execution_count": 0,
   "metadata": {
    "application/vnd.databricks.v1+cell": {
     "cellMetadata": {},
     "inputWidgets": {},
     "nuid": "a87af9f3-c8be-4d9f-b5ce-85ea2341e353",
     "showTitle": false,
     "tableResultSettingsMap": {},
     "title": ""
    }
   },
   "outputs": [],
   "source": [
    "%sql\n",
    "-- Restore a Previous Version:\n",
    "RESTORE TABLE user_delta TO VERSION AS OF 2;"
   ]
  },
  {
   "cell_type": "code",
   "execution_count": 0,
   "metadata": {
    "application/vnd.databricks.v1+cell": {
     "cellMetadata": {},
     "inputWidgets": {},
     "nuid": "9aa419f5-cc5b-4e95-bfd0-9344beb4d609",
     "showTitle": false,
     "tableResultSettingsMap": {},
     "title": ""
    }
   },
   "outputs": [],
   "source": [
    "%sql\n",
    "-- Delete all modification older than 200 hours:\n",
    "VACUUM user_delta RETAIN 200 HOURS;"
   ]
  },
  {
   "cell_type": "markdown",
   "metadata": {
    "application/vnd.databricks.v1+cell": {
     "cellMetadata": {},
     "inputWidgets": {},
     "nuid": "b2eaa373-a712-4f1a-86ba-505f57a58b05",
     "showTitle": false,
     "tableResultSettingsMap": {},
     "title": ""
    }
   },
   "source": [
    "## CLONE Delta Tables:\n",
    "You can create a copy of an existing Delta table at a specific version using the `clone` command. This is very useful to:\n",
    "- Get data from a PROD environment to a STAGING one.\n",
    "- Archive a specific version for regulatory reason.\n",
    "\n",
    "There are two types of clones:\n",
    "* A **deep clone** is a clone that copies the source table data to the clone target in addition to the metadata of the existing table. \n",
    "* A **shallow clone** is a clone that does not copy the data files to the clone target. The table metadata is equivalent to the source. These clones are cheaper to create.\n",
    "\n",
    "Any changes made to either deep or shallow clones affect only the clones themselves and not the source table.\n",
    "\n",
    "*Note: Shallow clone are pointers to the main table. Running a VACUUM may delete the underlying files and break the shallow clone!*"
   ]
  },
  {
   "cell_type": "code",
   "execution_count": 0,
   "metadata": {
    "application/vnd.databricks.v1+cell": {
     "cellMetadata": {
      "byteLimit": 2048000,
      "implicitDf": true,
      "rowLimit": 10000
     },
     "inputWidgets": {},
     "nuid": "659add23-2d01-4088-b795-41c65cef1d72",
     "showTitle": false,
     "tableResultSettingsMap": {},
     "title": ""
    }
   },
   "outputs": [],
   "source": [
    "%sql\n",
    "-- Shallow clone (zero copy):\n",
    "CREATE TABLE IF NOT EXISTS user_delta_clone\n",
    "  SHALLOW CLONE user_delta\n",
    "  VERSION AS OF 2;\n",
    "\n",
    "SELECT * FROM user_delta_clone;"
   ]
  },
  {
   "cell_type": "code",
   "execution_count": 0,
   "metadata": {
    "application/vnd.databricks.v1+cell": {
     "cellMetadata": {
      "byteLimit": 2048000,
      "implicitDf": true,
      "rowLimit": 10000
     },
     "inputWidgets": {},
     "nuid": "3399f1ae-8237-4f25-9400-95a3131e5117",
     "showTitle": false,
     "tableResultSettingsMap": {},
     "title": ""
    }
   },
   "outputs": [],
   "source": [
    "%sql\n",
    "-- Deep clone (copy data):\n",
    "CREATE TABLE IF NOT EXISTS user_delta_clone_deep\n",
    "  DEEP CLONE user_delta;\n",
    "\n",
    "SELECT * FROM user_delta_clone_deep;"
   ]
  },
  {
   "cell_type": "markdown",
   "metadata": {
    "application/vnd.databricks.v1+cell": {
     "cellMetadata": {},
     "inputWidgets": {},
     "nuid": "5e82b451-207d-47e8-ad55-65bb24705c8c",
     "showTitle": false,
     "tableResultSettingsMap": {},
     "title": ""
    }
   },
   "source": [
    "## Generated columns:"
   ]
  },
  {
   "cell_type": "code",
   "execution_count": 0,
   "metadata": {
    "application/vnd.databricks.v1+cell": {
     "cellMetadata": {
      "byteLimit": 2048000,
      "implicitDf": true,
      "rowLimit": 10000
     },
     "inputWidgets": {},
     "nuid": "ad1387a4-f5bb-4b42-9b22-439aa417b649",
     "showTitle": false,
     "tableResultSettingsMap": {},
     "title": ""
    }
   },
   "outputs": [],
   "source": [
    "%sql\n",
    "CREATE TABLE IF NOT EXISTS user_delta_generated_id (\n",
    "  id BIGINT GENERATED ALWAYS AS IDENTITY (START WITH 10000 INCREMENT BY 1),\n",
    "  firstname STRING, \n",
    "  lastname STRING, \n",
    "  email STRING, \n",
    "  address STRING\n",
    ");\n",
    "\n",
    "INSERT INTO user_delta_generated_id (firstname, lastname, email, address)\n",
    "  SELECT firstname, lastname, email, address FROM user_delta;\n",
    "\n",
    "SELECT * from user_delta_generated_id;"
   ]
  },
  {
   "cell_type": "code",
   "execution_count": 0,
   "metadata": {
    "application/vnd.databricks.v1+cell": {
     "cellMetadata": {},
     "inputWidgets": {},
     "nuid": "2f41dadb-6fbd-4060-89fa-64002c9e5a8d",
     "showTitle": false,
     "tableResultSettingsMap": {},
     "title": ""
    }
   },
   "outputs": [],
   "source": [
    "DBDemos.stop_all_streams()"
   ]
  }
 ],
 "metadata": {
  "application/vnd.databricks.v1+notebook": {
   "computePreferences": null,
   "dashboards": [],
   "environmentMetadata": {
    "base_environment": "",
    "environment_version": "2"
   },
   "inputWidgetPreferences": null,
   "language": "python",
   "notebookMetadata": {
    "mostRecentlyExecutedCommandWithImplicitDF": {
     "commandId": 6534583380269761,
     "dataframes": [
      "_sqldf"
     ]
    },
    "pythonIndentUnit": 4
   },
   "notebookName": "01-Delta-Lake",
   "widgets": {}
  },
  "language_info": {
   "name": "python"
  }
 },
 "nbformat": 4,
 "nbformat_minor": 0
}
