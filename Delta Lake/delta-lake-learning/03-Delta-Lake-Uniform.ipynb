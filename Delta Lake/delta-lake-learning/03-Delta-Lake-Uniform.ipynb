{
 "cells": [
  {
   "cell_type": "code",
   "execution_count": 0,
   "metadata": {
    "application/vnd.databricks.v1+cell": {
     "cellMetadata": {
      "byteLimit": 2048000,
      "rowLimit": 10000
     },
     "inputWidgets": {},
     "nuid": "da02acc3-5735-4f9e-b50f-f0bbdcd95a05",
     "showTitle": false,
     "tableResultSettingsMap": {},
     "title": ""
    }
   },
   "outputs": [],
   "source": [
    "%run ./_resources/00-setup $reset_all_data=false"
   ]
  },
  {
   "cell_type": "markdown",
   "metadata": {
    "application/vnd.databricks.v1+cell": {
     "cellMetadata": {},
     "inputWidgets": {},
     "nuid": "557a5cea-c1f6-4fbe-a35a-5e37b3eac7d2",
     "showTitle": false,
     "tableResultSettingsMap": {},
     "title": ""
    }
   },
   "source": [
    "\n",
    "# Delta Lake Uniform: Universal Format for all your Lakehouse tools\n",
    "\n",
    "\n",
    "<img src=\"https://cms.databricks.com/sites/default/files/inline-images/image1_5.png\" width=\"700px\" style=\"float: right; margin-left: 50px\"/>\n",
    "\n",
    "Delta Universal Format (UniForm) automatically unifies table formats, without creating additional copies of data or more data silos. UniForm takes advantage of the fact that all three open lakehouse formats are thin layers of metadata atop Parquet data files. As writes are made, UniForm will incrementally generate this layer of metadata to spec for Hudi, Iceberg and Delta.\n",
    "\n",
    "Teams that use query engines designed to work with Iceberg or Hudi data will be able to read Delta tables seamlessly, without having to copy data over or convert it. \n",
    "\n",
    "Customers don’t have to choose a single format, because **tables written by Delta will be universally accessible by Iceberg and Hudi readers.**\n",
    "\n",
    "\n",
    "<!-- Collect usage data (view). Remove it to disable collection. View README for more details.  -->\n",
    "<img width=\"1px\" src=\"https://ppxrzfxige.execute-api.us-west-2.amazonaws.com/v1/analytics?category=data-engineering&org_id=3759185753378633&notebook=%2F03-Delta-Lake-Uniform&demo_name=delta-lake&event=VIEW&path=%2F_dbdemos%2Fdata-engineering%2Fdelta-lake%2F03-Delta-Lake-Uniform&version=1\">\n",
    "<!-- [metadata={\"description\":\"Quick introduction to Delta Lake. <br/><i>Use this content for quick Delta demo.</i>\",\n",
    " \"authors\":[\"quentin.ambard@databricks.com\"],\n",
    " \"db_resources\":{}}] -->"
   ]
  },
  {
   "cell_type": "code",
   "execution_count": 0,
   "metadata": {
    "application/vnd.databricks.v1+cell": {
     "cellMetadata": {
      "byteLimit": 2048000,
      "rowLimit": 10000
     },
     "inputWidgets": {},
     "nuid": "582f15fb-5805-4d08-8d47-de1fbb8c3b7c",
     "showTitle": false,
     "tableResultSettingsMap": {},
     "title": ""
    }
   },
   "outputs": [],
   "source": [
    "CREATE TABLE IF NOT EXISTS user_uniform (\n",
    "  id BIGINT,\n",
    "  firstname STRING,\n",
    "  lastname STRING,\n",
    "  email STRING\n",
    ")\n",
    "TBLPROPERTIES ('delta.universalFormat.enabledFormats' = 'iceberg',\n",
    "               'delta.enableIcebergCompatV2' = 'true')"
   ]
  },
  {
   "cell_type": "code",
   "execution_count": 0,
   "metadata": {
    "application/vnd.databricks.v1+cell": {
     "cellMetadata": {
      "byteLimit": 2048000,
      "rowLimit": 10000
     },
     "inputWidgets": {},
     "nuid": "2904939d-3a23-4b4f-b976-939396a38f3c",
     "showTitle": false,
     "tableResultSettingsMap": {},
     "title": ""
    }
   },
   "outputs": [],
   "source": [
    "INSERT INTO user_uniform \n",
    "  SELECT id, firstname, lastname, email \n",
    "  FROM user_delta;  \n",
    "\n",
    "SELECT * FROM user_uniform;"
   ]
  },
  {
   "cell_type": "markdown",
   "metadata": {
    "application/vnd.databricks.v1+cell": {
     "cellMetadata": {},
     "inputWidgets": {},
     "nuid": "5c5d8783-0f8d-43a0-92b8-d76f193ea645",
     "showTitle": false,
     "tableResultSettingsMap": {},
     "title": ""
    }
   },
   "source": [
    "Because we enabled `iceberg` as format, each subsequential write will update the Delta and Iceberg metadata. Your table now contains 2 metadata folders:\n",
    "\n",
    "* `delta_log` containing all Delta Lake format metadata.\n",
    "* `metadata` containing Iceberg format metadata."
   ]
  },
  {
   "cell_type": "code",
   "execution_count": 0,
   "metadata": {
    "application/vnd.databricks.v1+cell": {
     "cellMetadata": {
      "byteLimit": 2048000,
      "rowLimit": 10000
     },
     "inputWidgets": {},
     "nuid": "e21ca6f9-68e8-4e2a-8cf5-4f3edbaffff5",
     "showTitle": false,
     "tableResultSettingsMap": {},
     "title": ""
    }
   },
   "outputs": [],
   "source": [
    "SHOW TBLPROPERTIES user_uniform;"
   ]
  },
  {
   "cell_type": "markdown",
   "metadata": {
    "application/vnd.databricks.v1+cell": {
     "cellMetadata": {},
     "inputWidgets": {},
     "nuid": "45a25fcb-d4ac-4edf-b563-7552327a778d",
     "showTitle": false,
     "tableResultSettingsMap": {},
     "title": ""
    }
   },
   "source": [
    "### Access your Delta Lake table using Iceberg REST Catalog API:\n",
    "\n",
    "Our Delta Lake table is now available by any system reading Iceberg tables, such as native Iceberg reader or external system like Big Query."
   ]
  },
  {
   "cell_type": "code",
   "execution_count": 0,
   "metadata": {
    "application/vnd.databricks.v1+cell": {
     "cellMetadata": {
      "byteLimit": 2048000,
      "rowLimit": 10000
     },
     "inputWidgets": {},
     "nuid": "36b69354-60d3-4146-8f27-878541856993",
     "showTitle": false,
     "tableResultSettingsMap": {},
     "title": ""
    }
   },
   "outputs": [],
   "source": [
    "%python\n",
    "from databricks.sdk import WorkspaceClient\n",
    "ws = WorkspaceClient()\n",
    "\n",
    "table_info = ws.api_client.do('GET', f'/api/2.1/unity-catalog/tables/{catalog}.{schema}.user_uniform')\n",
    "table_info['delta_uniform_iceberg']"
   ]
  },
  {
   "cell_type": "markdown",
   "metadata": {
    "application/vnd.databricks.v1+cell": {
     "cellMetadata": {},
     "inputWidgets": {},
     "nuid": "91075c30-c2c7-4f88-8a3b-ce456d4e180a",
     "showTitle": false,
     "tableResultSettingsMap": {},
     "title": ""
    }
   },
   "source": [
    "To read a managed table, you can leverage the Iceberg Catalog:\n",
    "\n",
    "```\n",
    "curl -X GET -H \"Authentication: Bearer $OAUTH_TOKEN\" -H \"Accept: application/json\" \\\n",
    "https://<workspace-instance>/api/2.1/unity-catalog/iceberg/v1/catalogs/<uc_catalog_name>/namespaces/<uc_schema_name>/tables/<uc_table_name>\n",
    "```\n",
    "\n",
    "You should then receive a response like this:\n",
    "\n",
    "```\n",
    "{\n",
    "  \"metadata-location\": \"s3://bucket/path/to/iceberg/table/metadata/file\",\n",
    "  \"metadata\": <iceberg-table-metadata-json>,\n",
    "  \"config\": {\n",
    "    \"expires-at-ms\": \"<epoch-ts-in-millis>\",\n",
    "    \"s3.access-key-id\": \"<temporary-s3-access-key-id>\",\n",
    "    \"s3.session-token\":\"<temporary-s3-session-token>\",\n",
    "    \"s3.secret-access-key\":\"<temporary-secret-access-key>\",\n",
    "    \"client.region\":\"<aws-bucket-region-for-metadata-location>\"\n",
    "  }\n",
    "}\n",
    "```\n",
    "\n",
    "For more details, see [the Uniform Documentation](https://docs.databricks.com/en/delta/uniform.html)"
   ]
  }
 ],
 "metadata": {
  "application/vnd.databricks.v1+notebook": {
   "computePreferences": null,
   "dashboards": [],
   "environmentMetadata": {
    "base_environment": "",
    "environment_version": "2"
   },
   "inputWidgetPreferences": null,
   "language": "sql",
   "notebookMetadata": {
    "pythonIndentUnit": 4
   },
   "notebookName": "03-Delta-Lake-Uniform",
   "widgets": {}
  },
  "language_info": {
   "name": "sql"
  }
 },
 "nbformat": 4,
 "nbformat_minor": 0
}
