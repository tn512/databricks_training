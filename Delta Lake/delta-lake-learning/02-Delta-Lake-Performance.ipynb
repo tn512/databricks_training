{
 "cells": [
  {
   "cell_type": "code",
   "execution_count": 0,
   "metadata": {
    "application/vnd.databricks.v1+cell": {
     "cellMetadata": {
      "byteLimit": 2048000,
      "rowLimit": 10000
     },
     "inputWidgets": {},
     "nuid": "af46975a-a6eb-4397-b289-97e4e719c7ac",
     "showTitle": false,
     "tableResultSettingsMap": {},
     "title": ""
    }
   },
   "outputs": [],
   "source": [
    "%run ./_resources/00-setup $reset_all_data=false"
   ]
  },
  {
   "cell_type": "markdown",
   "metadata": {
    "application/vnd.databricks.v1+cell": {
     "cellMetadata": {},
     "inputWidgets": {},
     "nuid": "26364d50-7009-446e-8ee3-bed85b67a664",
     "showTitle": false,
     "tableResultSettingsMap": {},
     "title": ""
    }
   },
   "source": [
    "## Delta Lake Liquid Clustering\n",
    "\n",
    "Data Layout is key to increase performance and query speed. Manual tuning trough hive-style partitioning is not efficient (creating too big or small partitions) and hard to maintain.\n",
    "\n",
    "To solve this issue, Delta Lake released Liquid Clustering. Liquid will automatically adjusts the data layout based on clustering keys, which helps to avoid the over or under-partitioning problems that can occur with Hive partitioning.\n",
    "\n",
    "Liquid clustering can be specified on any columns to provide fast access, including high cardinality or data skew. \n",
    "\n",
    "* **Liquid is simple**: You set Liquid clustering keys on the columns that are most often queried - no more worrying about traditional considerations like column cardinality, partition ordering, or creating artificial columns that act as perfect partitioning keys.\n",
    "* **Liquid is efficient**: It incrementally clusters new data, so you don't need to trade off between improving performance with reducing cost/write amplification.\n",
    "* **Liquid is flexible**: You can quickly change which columns are clustered by Liquid without rewriting existing data."
   ]
  },
  {
   "cell_type": "code",
   "execution_count": 0,
   "metadata": {
    "application/vnd.databricks.v1+cell": {
     "cellMetadata": {
      "byteLimit": 2048000,
      "rowLimit": 10000
     },
     "inputWidgets": {},
     "nuid": "ba96bfa4-4db8-4d06-9551-997033a6d9f2",
     "showTitle": false,
     "tableResultSettingsMap": {},
     "title": ""
    }
   },
   "outputs": [],
   "source": [
    "-- Liquid will properly layout the data to speedup queries by firstname or lastname.\n",
    "-- Adding the CLUSTER BY keyword during your standard table creation.\n",
    "-- Clustered table can't have partitions.\n",
    "CREATE OR REPLACE TABLE user_clustering CLUSTER BY (firstname, lastname)\n",
    "  AS SELECT * FROM user_delta;"
   ]
  },
  {
   "cell_type": "code",
   "execution_count": 0,
   "metadata": {
    "application/vnd.databricks.v1+cell": {
     "cellMetadata": {
      "byteLimit": 2048000,
      "rowLimit": 10000
     },
     "inputWidgets": {},
     "nuid": "fbaad106-ddfd-449d-bd26-e553337f2308",
     "showTitle": false,
     "tableResultSettingsMap": {},
     "title": ""
    }
   },
   "outputs": [],
   "source": [
    "-- Liquid Clustering appears under \"Clustering Information\"\n",
    "DESCRIBE TABLE user_clustering;"
   ]
  },
  {
   "cell_type": "markdown",
   "metadata": {
    "application/vnd.databricks.v1+cell": {
     "cellMetadata": {},
     "inputWidgets": {},
     "nuid": "7fee6c32-8c24-4eec-b1cd-177c9da96823",
     "showTitle": false,
     "tableResultSettingsMap": {},
     "title": ""
    }
   },
   "source": [
    "### How to trigger liquid clustering\n",
    "\n",
    "Liquid clustering is incremental, meaning that data is only rewritten as necessary to accommodate data that needs to be clustered.\n",
    "\n",
    "For best performance, Databricks recommends scheduling regular OPTIMIZE jobs to cluster data. \n",
    "\n",
    "For tables experiencing many updates or inserts, Databricks recommends scheduling an OPTIMIZE job every one or two hours. \n",
    "\n",
    "Because liquid clustering is incremental, most OPTIMIZE jobs for clustered tables run quickly. No need to specify any ZORDER columns.\n",
    "\n",
    "*Note: Liquid clustering will automatically re-arrange your data during writes above a given threshold. As with all indexes, this will add a small write cost.*"
   ]
  },
  {
   "cell_type": "code",
   "execution_count": 0,
   "metadata": {
    "application/vnd.databricks.v1+cell": {
     "cellMetadata": {
      "byteLimit": 2048000,
      "rowLimit": 10000
     },
     "inputWidgets": {},
     "nuid": "14027146-7427-4911-8ef5-89b868c95358",
     "showTitle": false,
     "tableResultSettingsMap": {},
     "title": ""
    }
   },
   "outputs": [],
   "source": [
    "-- Trigger liquid clustering:\n",
    "OPTIMIZE user_clustering;"
   ]
  },
  {
   "cell_type": "code",
   "execution_count": 0,
   "metadata": {
    "application/vnd.databricks.v1+cell": {
     "cellMetadata": {
      "byteLimit": 2048000,
      "rowLimit": 10000
     },
     "inputWidgets": {},
     "nuid": "c66e99f7-1e00-4766-a1c9-4d26c9b9063e",
     "showTitle": false,
     "tableResultSettingsMap": {},
     "title": ""
    }
   },
   "outputs": [],
   "source": [
    "-- Periodically remove your history and previous files:\n",
    "VACUUM user_clustering;"
   ]
  },
  {
   "cell_type": "code",
   "execution_count": 0,
   "metadata": {
    "application/vnd.databricks.v1+cell": {
     "cellMetadata": {
      "byteLimit": 2048000,
      "rowLimit": 10000
     },
     "inputWidgets": {},
     "nuid": "44f73805-7c78-418d-9fa3-5aa0ccaff81d",
     "showTitle": false,
     "tableResultSettingsMap": {},
     "title": ""
    }
   },
   "outputs": [],
   "source": [
    "SELECT * FROM user_delta where firstname = 'Teresa';"
   ]
  },
  {
   "cell_type": "code",
   "execution_count": 0,
   "metadata": {
    "application/vnd.databricks.v1+cell": {
     "cellMetadata": {
      "byteLimit": 2048000,
      "rowLimit": 10000
     },
     "inputWidgets": {},
     "nuid": "5bb84bc8-ce34-467e-93ac-c104796106d5",
     "showTitle": false,
     "tableResultSettingsMap": {},
     "title": ""
    }
   },
   "outputs": [],
   "source": [
    "-- Our requests using firstname and lastname are now super fast!\n",
    "SELECT * FROM user_clustering where firstname = 'Teresa';"
   ]
  },
  {
   "cell_type": "markdown",
   "metadata": {
    "application/vnd.databricks.v1+cell": {
     "cellMetadata": {},
     "inputWidgets": {},
     "nuid": "f92abe48-e958-4268-9e50-8f9a576c5317",
     "showTitle": false,
     "tableResultSettingsMap": {},
     "title": ""
    }
   },
   "source": [
    "### Dynamically changing your clustering columns\n",
    "\n",
    "Liquid table are flexible, you can change your clustering columns without having to re-write all your data. \n",
    "\n",
    "Let's make sure our table provides fast queries for ID:"
   ]
  },
  {
   "cell_type": "code",
   "execution_count": 0,
   "metadata": {
    "application/vnd.databricks.v1+cell": {
     "cellMetadata": {
      "byteLimit": 2048000,
      "rowLimit": 10000
     },
     "inputWidgets": {},
     "nuid": "84554905-f180-438c-8008-a0fff8dc44c1",
     "showTitle": false,
     "tableResultSettingsMap": {},
     "title": ""
    }
   },
   "outputs": [],
   "source": [
    "ALTER TABLE user_clustering CLUSTER BY (id, firstname, lastname);"
   ]
  },
  {
   "cell_type": "code",
   "execution_count": 0,
   "metadata": {
    "application/vnd.databricks.v1+cell": {
     "cellMetadata": {},
     "inputWidgets": {},
     "nuid": "5f0ba2f5-3907-492a-bdee-099fcdb20345",
     "showTitle": false,
     "tableResultSettingsMap": {},
     "title": ""
    }
   },
   "outputs": [],
   "source": [
    "-- Disabled liquid clustering:\n",
    "-- Note: this does not rewrite data that has already been clustered, but prevents future OPTIMIZE operations from using clustering keys.\n",
    "ALTER TABLE user_clustering CLUSTER BY NONE;"
   ]
  },
  {
   "cell_type": "markdown",
   "metadata": {
    "application/vnd.databricks.v1+cell": {
     "cellMetadata": {},
     "inputWidgets": {},
     "nuid": "a21e586e-3596-47c8-be6a-2243037cc9d5",
     "showTitle": false,
     "tableResultSettingsMap": {},
     "title": ""
    }
   },
   "source": [
    "### Compacting without Liquid Clustering\n",
    "\n",
    "While recommended to accelerate your queries, some tables might not always have Liquid Clustering enabled.\n",
    "\n",
    "Adding data to the table results in new file creation, and your table can quickly have way too many small files which is going to impact performances over time.\n",
    "\n",
    "This becomes especially true with streaming operation where you add new data every few seconds, in near realtime.\n",
    "\n",
    "Just like for Liquid Clusteing, Delta Lake solves this operation with the `OPTIMIZE` command, which is going to optimize the file layout for you, picking the proper file size based on heuristics. As no Cluster are defined, this will simply compact the files."
   ]
  },
  {
   "cell_type": "code",
   "execution_count": 0,
   "metadata": {
    "application/vnd.databricks.v1+cell": {
     "cellMetadata": {
      "byteLimit": 2048000,
      "rowLimit": 10000
     },
     "inputWidgets": {},
     "nuid": "6edff95f-f537-4394-a234-0a7ca20d18b5",
     "showTitle": false,
     "tableResultSettingsMap": {},
     "title": ""
    }
   },
   "outputs": [],
   "source": [
    "OPTIMIZE user_delta;\n",
    "\n",
    "-- The engine decided to compact 3 files into 1 (\"numFilesAdded\": 1, \"numFilesRemoved\": 3)"
   ]
  },
  {
   "cell_type": "markdown",
   "metadata": {
    "application/vnd.databricks.v1+cell": {
     "cellMetadata": {},
     "inputWidgets": {},
     "nuid": "25bde444-a159-454b-8b9c-ce030d75a71c",
     "showTitle": false,
     "tableResultSettingsMap": {},
     "title": ""
    }
   },
   "source": [
    "These maintenance operation have to be triggered frequently to keep our table properly optimized.\n",
    "\n",
    "Using Databricks, you can have your table automatically optimized out of the box, without having you to worry about it. All you have to do is set the [proper table properties](https://docs.databricks.com/optimizations/auto-optimize.html), and the engine will optimize your table when needed, without having you to run manual OPTIMIZE operation."
   ]
  },
  {
   "cell_type": "code",
   "execution_count": 0,
   "metadata": {
    "application/vnd.databricks.v1+cell": {
     "cellMetadata": {
      "byteLimit": 2048000,
      "rowLimit": 10000
     },
     "inputWidgets": {},
     "nuid": "999dc0f8-1e3a-4673-8bd2-272f6e1997dc",
     "showTitle": false,
     "tableResultSettingsMap": {},
     "title": ""
    }
   },
   "outputs": [],
   "source": [
    "ALTER TABLE user_delta SET TBLPROPERTIES (\n",
    "  delta.autoOptimize.optimizeWrite = true,\n",
    "  delta.autoOptimize.autoCompact = true\n",
    ");"
   ]
  },
  {
   "cell_type": "markdown",
   "metadata": {
    "application/vnd.databricks.v1+cell": {
     "cellMetadata": {},
     "inputWidgets": {},
     "nuid": "8ccda9d1-c07d-4711-976f-ae44879dc7ae",
     "showTitle": false,
     "tableResultSettingsMap": {},
     "title": ""
    }
   },
   "source": [
    "### Note: Auto Optimize with Liquid Clustering\n",
    "\n",
    "Liquid Clustering will automatically kick off eager optimization starting from a given write size, based on heuristic. \n",
    "\n",
    "You can also turn on `delta.autoOptimize.optimizeWrite = true` on your liquid table starting from DBR 13.3 to make sure all writes will be optimized. \n",
    "\n",
    "While you can enable `delta.autoOptimize.autoCompact = true`, it won't have any effect for now (as of DBR 13.3, this might change in the future)."
   ]
  },
  {
   "cell_type": "markdown",
   "metadata": {
    "application/vnd.databricks.v1+cell": {
     "cellMetadata": {},
     "inputWidgets": {},
     "nuid": "1b80948c-b40f-4588-a52a-e64121a54d6e",
     "showTitle": false,
     "tableResultSettingsMap": {},
     "title": ""
    }
   },
   "source": [
    "## Legacy file layout optimizations\n",
    "\n",
    "Below are previous Delta Lake optimization leveraging Zordering and Partitioning techniques. "
   ]
  },
  {
   "cell_type": "markdown",
   "metadata": {
    "application/vnd.databricks.v1+cell": {
     "cellMetadata": {},
     "inputWidgets": {},
     "nuid": "99ff6799-b415-43af-aa37-06d2fbd28943",
     "showTitle": false,
     "tableResultSettingsMap": {},
     "title": ""
    }
   },
   "source": [
    "### ZORDER\n",
    "\n",
    "ZORDER will optimize the file layout by multiple columns, but it's often used in addition to partitioning and is not as efficient as Liquid Clustering. It'll increase the write amplification and won't solve your small partitions issues."
   ]
  },
  {
   "cell_type": "markdown",
   "metadata": {
    "application/vnd.databricks.v1+cell": {
     "cellMetadata": {},
     "inputWidgets": {},
     "nuid": "abb9dfe4-9649-4805-8363-b2c6dabe1d03",
     "showTitle": false,
     "tableResultSettingsMap": {},
     "title": ""
    }
   },
   "source": [
    "### Adding indexes (ZORDER) to your table:\n",
    "\n",
    "If you request your table using a specific predicat (ex: username), you can speedup your request by adding an index on these columns. We call this operation ZORDER.\n",
    "\n",
    "You can ZORDER on any column, especially the one having high cardinality (id, firstname etc). \n",
    "\n",
    "*Note: We recommand to stay below 4 ZORDER columns for better query performance.*"
   ]
  },
  {
   "cell_type": "code",
   "execution_count": 0,
   "metadata": {
    "application/vnd.databricks.v1+cell": {
     "cellMetadata": {
      "byteLimit": 2048000,
      "rowLimit": 10000
     },
     "inputWidgets": {},
     "nuid": "4c768f0f-c1e2-4d61-937e-e83322a54be0",
     "showTitle": false,
     "tableResultSettingsMap": {},
     "title": ""
    }
   },
   "outputs": [],
   "source": [
    "OPTIMIZE user_delta ZORDER BY (id, firstname);\n",
    "\n",
    "-- Our next queries using a filter on id or firstname will be much faster:\n",
    "SELECT * FROM user_delta where id = 4 or firstname = 'Quentin';"
   ]
  },
  {
   "cell_type": "markdown",
   "metadata": {
    "application/vnd.databricks.v1+cell": {
     "cellMetadata": {},
     "inputWidgets": {},
     "nuid": "395f0971-58b9-4894-b572-80628071824d",
     "showTitle": false,
     "tableResultSettingsMap": {},
     "title": ""
    }
   },
   "source": [
    "### Delta Lake Generated columns for dynamic partitions:\n",
    "\n",
    "Adding partitions to your table is a way of saving data having the same column under the same location. Our engine will then be able to read less data and have better read performances.\n",
    "\n",
    "Using Delta Lake, partitions can be generated based on expression, and the engine will push-down your predicate applying the same expression even if the request is on the original field.\n",
    "\n",
    "A typical use-case is to partition per a given time (ex: year, month or even day). \n",
    "\n",
    "Our user table has a `creation_date` field. We'll generate a `creation_day` field based on an expression and use it as partition for our table with `GENERATED ALWAYS`.\n",
    "\n",
    "In addition, we'll let the engine generate incremental ID.\n",
    "\n",
    "*Note: Remember that partition will also create more files under the hood. You have to be careful using them. Make sure you don't over-partition your table (aim for 100's of partition max, having at least 1GB of data). We don't recommend creating partition on table smaller than 1TB. Use LIQUID CLUSTERING instead.*"
   ]
  },
  {
   "cell_type": "code",
   "execution_count": 0,
   "metadata": {
    "application/vnd.databricks.v1+cell": {
     "cellMetadata": {
      "byteLimit": 2048000,
      "rowLimit": 10000
     },
     "inputWidgets": {},
     "nuid": "63c73352-97f6-4692-8337-31128e094c42",
     "showTitle": false,
     "tableResultSettingsMap": {},
     "title": ""
    }
   },
   "outputs": [],
   "source": [
    "CREATE TABLE IF NOT EXISTS user_delta_partition (\n",
    "  id BIGINT GENERATED ALWAYS AS IDENTITY (START WITH 10000 INCREMENT BY 1), \n",
    "  firstname STRING, \n",
    "  lastname STRING, \n",
    "  email STRING, \n",
    "  address STRING, \n",
    "  gender INT, \n",
    "  age_group INT,\n",
    "  creation_date timestamp, \n",
    "  creation_day DATE GENERATED ALWAYS AS (CAST(creation_date AS DATE))\n",
    "  )\n",
    "PARTITIONED BY (creation_day);"
   ]
  },
  {
   "cell_type": "code",
   "execution_count": 0,
   "metadata": {
    "application/vnd.databricks.v1+cell": {
     "cellMetadata": {
      "byteLimit": 2048000,
      "rowLimit": 10000
     },
     "inputWidgets": {},
     "nuid": "154e0414-62d8-42e2-a816-85a3815b4e1d",
     "showTitle": false,
     "tableResultSettingsMap": {},
     "title": ""
    }
   },
   "outputs": [],
   "source": [
    "INSERT INTO user_delta_partition (firstname, lastname, email, address, \n",
    "                                  gender, age_group, creation_date) \n",
    "  SELECT firstname, lastname, email, address,\n",
    "         gender, age_group, creation_date\n",
    "  FROM user_delta;"
   ]
  },
  {
   "cell_type": "code",
   "execution_count": 0,
   "metadata": {
    "application/vnd.databricks.v1+cell": {
     "cellMetadata": {
      "byteLimit": 2048000,
      "rowLimit": 10000
     },
     "inputWidgets": {},
     "nuid": "5f3e6708-1f53-456c-bf7c-2f853df63dee",
     "showTitle": false,
     "tableResultSettingsMap": {},
     "title": ""
    }
   },
   "outputs": [],
   "source": [
    "DESCRIBE TABLE user_delta_partition;"
   ]
  },
  {
   "cell_type": "code",
   "execution_count": 0,
   "metadata": {
    "application/vnd.databricks.v1+cell": {
     "cellMetadata": {
      "byteLimit": 2048000,
      "rowLimit": 10000
     },
     "inputWidgets": {},
     "nuid": "50add90a-906a-4d28-a14c-9d151b8b61d7",
     "showTitle": false,
     "tableResultSettingsMap": {},
     "title": ""
    }
   },
   "outputs": [],
   "source": [
    "SELECT * FROM user_delta_partition\n",
    "WHERE creation_day = CAST(NOW() AS DATE);"
   ]
  }
 ],
 "metadata": {
  "application/vnd.databricks.v1+notebook": {
   "computePreferences": null,
   "dashboards": [],
   "environmentMetadata": {
    "base_environment": "",
    "environment_version": "2"
   },
   "inputWidgetPreferences": null,
   "language": "sql",
   "notebookMetadata": {
    "pythonIndentUnit": 4
   },
   "notebookName": "02-Delta-Lake-Performance",
   "widgets": {}
  },
  "language_info": {
   "name": "sql"
  }
 },
 "nbformat": 4,
 "nbformat_minor": 0
}
