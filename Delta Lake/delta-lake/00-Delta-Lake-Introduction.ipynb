{
 "cells": [
  {
   "cell_type": "markdown",
   "metadata": {
    "application/vnd.databricks.v1+cell": {
     "cellMetadata": {},
     "inputWidgets": {},
     "nuid": "d11e68f0-13ca-4c07-b7e3-4fbfa3c8fcf1",
     "showTitle": false,
     "tableResultSettingsMap": {},
     "title": ""
    }
   },
   "source": [
    "\n",
    "# Getting started with Delta Lake\n",
    "\n",
    "<img src=\"https://pages.databricks.com/rs/094-YMS-629/images/delta-lake-logo-whitebackground.png\" style=\"width:300px; float: right\"/>\n",
    "\n",
    "[Delta Lake](https://delta.io/) is an open storage format used to save your data in your Lakehouse. Delta provides an abstraction layer on top of files. It's the storage foundation of your Lakehouse.\n",
    "\n",
    "## Why Delta Lake?\n",
    "\n",
    "Running ingestion pipeline on Cloud Storage can be very challenging. Data teams are typically facing the following challenges:\n",
    "\n",
    "* Hard to append data *(Adding newly arrived data leads to incorrect reads)*\n",
    "* Modification of existing data is difficult (*GDPR/CCPA requires making fine grained changes to existing data lake)*\n",
    "* Jobs failing mid way (*Half of the data appears in the data lake, the rest is missing)*\n",
    "* Real-time operations (*Mixing streaming and batch leads to inconsistency)*\n",
    "* Costly to keep historical versions of the data (*Regulated environments require reproducibility, auditing, governance)*\n",
    "* Difficult to handle large metadata (*For large data lakes the metadata itself becomes difficult to manage)*\n",
    "* “Too many files” problems (*Data lakes are not great at handling millions of small files)*\n",
    "* Hard to get great performance (*Partitioning the data for performance is error-prone and difficult to change)*\n",
    "* Data quality issues (*It’s a constant headache to ensure that all the data is correct and high quality)*\n",
    "\n",
    "Theses challenges have a real impact on team efficiency and productivity, spending unecessary time fixing low-level, technical issues instead on focusing on the high-level, business implementation.\n",
    "\n",
    "Because Delta Lake solves all the low level technical challenges saving PB of data in your lakehouse, it let you focus on implementing simple data pipeline while providing blazing-fast query answers for your BI & Analytics reports.\n",
    "\n",
    "In addition, Delta Lake being a fully open source project under the Linux Foundation and adopted by most of the data players, you know you own your own data and won't have vendor lock-in.\n",
    "\n",
    "## Delta Lake capabilities?\n",
    "\n",
    "\n",
    "You can think about Delta as a file format that your engine can leverage to bring the following capabilities out of the box:\n",
    "\n",
    "<img src=\"https://github.com/QuentinAmbard/databricks-demo/raw/main/retail/resources/images/delta-lake-acid.png\" style=\"width:400px; float: right; margin: 0px 0px 0px 0px\"/>\n",
    "\n",
    "\n",
    "\n",
    "* ACID transactions\n",
    "* Support for DELETE/UPDATE/MERGE\n",
    "* Unify batch & streaming\n",
    "* Time Travel\n",
    "* Clone zero copy\n",
    "* Generated partitions\n",
    "* CDF - Change Data Flow (DBR runtime)\n",
    "* Blazing-fast queries\n",
    "* ...\n",
    "\n",
    "Let's explore these capabilities! *We'll mainly use SQL, but all the operations are available in python/scala*\n",
    "\n",
    "<!-- Collect usage data (view). Remove it to disable collection. View README for more details.  -->\n",
    "<img width=\"1px\" src=\"https://ppxrzfxige.execute-api.us-west-2.amazonaws.com/v1/analytics?category=data-engineering&org_id=3759185753378633&notebook=%2F00-Delta-Lake-Introduction&demo_name=delta-lake&event=VIEW&path=%2F_dbdemos%2Fdata-engineering%2Fdelta-lake%2F00-Delta-Lake-Introduction&version=1\">"
   ]
  },
  {
   "cell_type": "markdown",
   "metadata": {
    "application/vnd.databricks.v1+cell": {
     "cellMetadata": {},
     "inputWidgets": {},
     "nuid": "72e19dbd-8e1c-4b06-a00e-19e9223b6abd",
     "showTitle": false,
     "tableResultSettingsMap": {},
     "title": null
    }
   },
   "source": [
    "### A cluster has been created for this demo\n",
    "To run this demo, just select the cluster `dbdemos-delta-lake-maynard` from the dropdown menu ([open cluster configuration](https://adb-3759185753378633.13.azuredatabricks.net/#setting/clusters/0526-040835-grmtve88/configuration)). <br />\n",
    "*Note: If the cluster was deleted after 30 days, you can re-create it with `dbdemos.create_cluster('delta-lake')` or re-install the demo: `dbdemos.install('delta-lake')`*"
   ]
  },
  {
   "cell_type": "markdown",
   "metadata": {
    "application/vnd.databricks.v1+cell": {
     "cellMetadata": {},
     "inputWidgets": {},
     "nuid": "5286789d-f07b-4e8d-917c-5b11f3312ecf",
     "showTitle": false,
     "tableResultSettingsMap": {},
     "title": ""
    }
   },
   "source": [
    "## ![](https://pages.databricks.com/rs/094-YMS-629/images/delta-lake-tiny-logo.png) 1/ Getting started with Delta Lake\n",
    "\n",
    "Start learning about Delta Lake:\n",
    "\n",
    "* Table creation & migration\n",
    "* Streaming\n",
    "* Time Travel \n",
    "* Upsert (merge)\n",
    "* Enforce Quality with Constraint\n",
    "* Clone & Restore\n",
    "* Advanced: \n",
    "  * PK/FK support\n",
    "  * Share data with Delta Sharing Open Protocol\n",
    "  \n",
    "Open the first [01-Getting-Started-With-Delta-Lake notebook]($./01-Getting-Started-With-Delta-Lake) \n"
   ]
  },
  {
   "cell_type": "markdown",
   "metadata": {
    "application/vnd.databricks.v1+cell": {
     "cellMetadata": {},
     "inputWidgets": {},
     "nuid": "9efd1420-1f8a-4d08-b8b7-feb2b6b1c3f7",
     "showTitle": false,
     "tableResultSettingsMap": {},
     "title": ""
    }
   },
   "source": [
    "## ![](https://pages.databricks.com/rs/094-YMS-629/images/delta-lake-tiny-logo.png) 2/ Speedup your queries with Liquid Clustering\n",
    "\n",
    "<img src=\"https://github.com/databricks-demos/dbdemos-resources/blob/main/images/product/delta/delta-liquid-1.png?raw=true\" style=\"float: right\" width=\"300px\">\n",
    "\n",
    "Delta Lake let you add Liquid clustering column (similar to indexes).\n",
    "\n",
    "This automatically adapt your data layout accordingly and drastically accelerate your reads, providing state of the art performances.\n",
    "\n",
    "Liquid Clustering makes Hive Partitioning skew and small size a thing of the past."
   ]
  },
  {
   "cell_type": "markdown",
   "metadata": {
    "application/vnd.databricks.v1+cell": {
     "cellMetadata": {},
     "inputWidgets": {},
     "nuid": "054d402a-f650-47bd-8b6a-46b4bcf7f15f",
     "showTitle": false,
     "tableResultSettingsMap": {},
     "title": ""
    }
   },
   "source": [
    "Open [the 02-Delta-Lake-Performance notebook]($./02-Delta-Lake-Performance) to explore Liquid Clustering."
   ]
  },
  {
   "cell_type": "markdown",
   "metadata": {
    "application/vnd.databricks.v1+cell": {
     "cellMetadata": {},
     "inputWidgets": {},
     "nuid": "73588cae-da62-4086-a460-243d96e335eb",
     "showTitle": false,
     "tableResultSettingsMap": {},
     "title": ""
    }
   },
   "source": [
    "## ![](https://pages.databricks.com/rs/094-YMS-629/images/delta-lake-tiny-logo.png) 3/ Delta Lake Uniform (Universal Format)\n",
    "\n",
    "<img src=\"https://cms.databricks.com/sites/default/files/inline-images/image1_5.png\" width=\"700px\" style=\"float: right\">\n",
    "\n",
    "While Delta Lake includes unique features to simplify data management and provide the best performances (see [CIDR benchmark paper](https://petereliaskraft.net/res/cidr_lakehouse.pdf)), external systems might require to read other formats such as Iceberg or Hudi. \n",
    "\n",
    "Because your Lakehouse is open, Delta Lake let you write your Delta tables with metadata to support these formats.\n",
    "\n",
    "**This makes Delta Lake the de-facto standard for all your lakehouse tables, leveraging its unique capabilities such as Liquid Clustering to speed up queries, while making sure you won't have any lock-in.**"
   ]
  },
  {
   "cell_type": "markdown",
   "metadata": {
    "application/vnd.databricks.v1+cell": {
     "cellMetadata": {},
     "inputWidgets": {},
     "nuid": "be564b8e-3d87-46c7-9502-192e12161300",
     "showTitle": false,
     "tableResultSettingsMap": {},
     "title": ""
    }
   },
   "source": [
    "For more details, open [the 03-Delta-Lake-Uniform notebook]($./03-Delta-Lake-Uniform) to explore Delta Lake Uniform."
   ]
  },
  {
   "cell_type": "markdown",
   "metadata": {
    "application/vnd.databricks.v1+cell": {
     "cellMetadata": {},
     "inputWidgets": {},
     "nuid": "a16f7170-5c5c-4063-b5cd-a76a70133b4e",
     "showTitle": false,
     "tableResultSettingsMap": {},
     "title": ""
    }
   },
   "source": [
    "\n",
    "## ![](https://pages.databricks.com/rs/094-YMS-629/images/delta-lake-tiny-logo.png) 4/ Change Data Capture with Delta Lake CDF\n",
    "\n",
    "Delta Lake makes it easy to capture changes on a table. \n",
    "\n",
    "External users can stream the row modifications, making it easy to capture UPDATE, APPEND or DELETE and apply these changes downstream. \n",
    "\n",
    "This is key to share data across organization and building Delta Mesh, including DELETE propagation to support GDPR compliance.\n",
    "\n",
    "CDC is also available through Delta Sharing, making it easy to share data with external organizations.\n",
    "\n",
    "\n",
    "For more details, open [the 04-Delta-Lake-CDF notebook]($./04-Delta-Lake-CDF) to Capture your Delta Lake changes."
   ]
  },
  {
   "cell_type": "markdown",
   "metadata": {
    "application/vnd.databricks.v1+cell": {
     "cellMetadata": {},
     "inputWidgets": {},
     "nuid": "dfd7e0ae-0322-43ca-9213-5388e94f415e",
     "showTitle": false,
     "tableResultSettingsMap": {},
     "title": ""
    }
   },
   "source": [
    "\n",
    "## ![](https://pages.databricks.com/rs/094-YMS-629/images/delta-lake-tiny-logo.png) 5/ Explore advanced Delta Lake internal\n",
    "\n",
    "Want to know more about Delta Lake and its underlying metadata? \n",
    "\n",
    "Open [the 05-Advanced-Delta-Lake-Internal notebook]($./05-Advanced-Delta-Lake-Internal) for more details."
   ]
  }
 ],
 "metadata": {
  "application/vnd.databricks.v1+notebook": {
   "computePreferences": null,
   "dashboards": [],
   "environmentMetadata": {
    "environment_version": "2"
   },
   "inputWidgetPreferences": null,
   "language": "sql",
   "notebookMetadata": {
    "pythonIndentUnit": 2
   },
   "notebookName": "00-Delta-Lake-Introduction",
   "widgets": {}
  },
  "language_info": {
   "name": "sql"
  }
 },
 "nbformat": 4,
 "nbformat_minor": 0
}
