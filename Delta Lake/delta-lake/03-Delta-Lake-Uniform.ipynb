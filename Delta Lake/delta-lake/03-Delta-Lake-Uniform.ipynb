{
 "cells": [
  {
   "cell_type": "markdown",
   "metadata": {
    "application/vnd.databricks.v1+cell": {
     "cellMetadata": {},
     "inputWidgets": {},
     "nuid": "017d13f7-4f4f-44b0-9a30-5f3c3a7c4388",
     "showTitle": false,
     "tableResultSettingsMap": {},
     "title": ""
    }
   },
   "source": [
    "\n",
    "# Delta Lake Uniform: Universal Format for all your Lakehouse tools\n",
    "\n",
    "\n",
    "<img src=\"https://cms.databricks.com/sites/default/files/inline-images/image1_5.png\" width=\"700px\" style=\"float: right; margin-left: 50px\"/>\n",
    "\n",
    "Companies want to leverage open format and stay away from vendor lockin. Migration is costly and difficult, so they want to make the right decision up front and only have to save data once. \n",
    "\n",
    "They ultimately want the best performance at the cheapest price for all of their data workloads including ETL, BI, and AI, and the flexibility to consume that data anywhere.\n",
    "\n",
    "\n",
    "Delta Universal Format (UniForm) automatically unifies table formats, without creating additional copies of data or more data silos. \n",
    "\n",
    "Teams that use query engines designed to work with Iceberg or Hudi data will be able to read Delta tables seamlessly, without having to copy data over or convert it. \n",
    "\n",
    "Customers don’t have to choose a single format, because **tables written by Delta will be universally accessible by Iceberg and Hudi readers.**\n",
    "\n",
    "\n",
    "<!-- Collect usage data (view). Remove it to disable collection. View README for more details.  -->\n",
    "<img width=\"1px\" src=\"https://ppxrzfxige.execute-api.us-west-2.amazonaws.com/v1/analytics?category=data-engineering&org_id=3759185753378633&notebook=%2F03-Delta-Lake-Uniform&demo_name=delta-lake&event=VIEW&path=%2F_dbdemos%2Fdata-engineering%2Fdelta-lake%2F03-Delta-Lake-Uniform&version=1\">\n",
    "<!-- [metadata={\"description\":\"Quick introduction to Delta Lake. <br/><i>Use this content for quick Delta demo.</i>\",\n",
    " \"authors\":[\"quentin.ambard@databricks.com\"],\n",
    " \"db_resources\":{}}] -->"
   ]
  },
  {
   "cell_type": "markdown",
   "metadata": {
    "application/vnd.databricks.v1+cell": {
     "cellMetadata": {},
     "inputWidgets": {},
     "nuid": "026dbf44-2cdb-4838-b24d-a3a032df8f1f",
     "showTitle": false,
     "tableResultSettingsMap": {},
     "title": null
    }
   },
   "source": [
    "### A cluster has been created for this demo\n",
    "To run this demo, just select the cluster `dbdemos-delta-lake-maynard` from the dropdown menu ([open cluster configuration](https://adb-3759185753378633.13.azuredatabricks.net/#setting/clusters/0526-040835-grmtve88/configuration)). <br />\n",
    "*Note: If the cluster was deleted after 30 days, you can re-create it with `dbdemos.create_cluster('delta-lake')` or re-install the demo: `dbdemos.install('delta-lake')`*"
   ]
  },
  {
   "cell_type": "code",
   "execution_count": 0,
   "metadata": {
    "application/vnd.databricks.v1+cell": {
     "cellMetadata": {},
     "inputWidgets": {},
     "nuid": "5737e3c5-9e17-46a8-b9f3-1f3dcad15d7f",
     "showTitle": true,
     "tableResultSettingsMap": {},
     "title": "Init the demo data"
    },
    "jupyter": {
     "outputs_hidden": true
    }
   },
   "outputs": [],
   "source": [
    "%run ./_resources/00-setup $reset_all_data=false"
   ]
  },
  {
   "cell_type": "markdown",
   "metadata": {
    "application/vnd.databricks.v1+cell": {
     "cellMetadata": {},
     "inputWidgets": {},
     "nuid": "e7930cc4-ccc5-45c3-95f7-edbfa56ccdd0",
     "showTitle": false,
     "tableResultSettingsMap": {},
     "title": ""
    }
   },
   "source": [
    "##![](https://pages.databricks.com/rs/094-YMS-629/images/delta-lake-tiny-logo.png) Leveraging Delta Lake power across all formats\n",
    "\n",
    "<img src=\"https://cms.databricks.com/sites/default/files/inline-images/image3_2.png\" style=\"float: right\" width=\"650px\" />\n",
    "\n",
    "UniForm takes advantage of the fact that all three open lakehouse formats are thin layers of metadata atop Parquet data files. As writes are made, UniForm will incrementally generate this layer of metadata to spec for Hudi, Iceberg and Delta.\n",
    "\n",
    "UniForm introduces negligible performance and resource overhead. \n",
    "\n",
    "We also saw improved read performance on UniForm-enabled tables relative to native Iceberg tables, thanks to Delta’s improved data layout capabilities .\n",
    "\n",
    "With UniForm, customers can choose Delta with confidence, knowing that they’ll have broad support from any tool that supports lakehouse formats."
   ]
  },
  {
   "cell_type": "code",
   "execution_count": 0,
   "metadata": {
    "application/vnd.databricks.v1+cell": {
     "cellMetadata": {},
     "inputWidgets": {},
     "nuid": "9e14b5e9-d2ac-4fba-a5c2-6edf8715cd9c",
     "showTitle": false,
     "tableResultSettingsMap": {},
     "title": ""
    }
   },
   "outputs": [],
   "source": [
    "%sql\n",
    "CREATE TABLE IF NOT EXISTS user_uniform ( id BIGINT, firstname STRING, lastname STRING, email STRING)\n",
    "    TBLPROPERTIES ('delta.universalFormat.enabledFormats' = 'iceberg', \n",
    "                   'delta.enableIcebergCompatV2' = 'true')"
   ]
  },
  {
   "cell_type": "code",
   "execution_count": 0,
   "metadata": {
    "application/vnd.databricks.v1+cell": {
     "cellMetadata": {},
     "inputWidgets": {},
     "nuid": "0df19d4c-798e-4553-98ee-9a4837719cf8",
     "showTitle": false,
     "tableResultSettingsMap": {},
     "title": ""
    }
   },
   "outputs": [],
   "source": [
    "%sql\n",
    "INSERT INTO user_uniform SELECT id, firstname, lastname, email FROM user_delta;  \n",
    "\n",
    "SELECT * FROM user_uniform;"
   ]
  },
  {
   "cell_type": "markdown",
   "metadata": {
    "application/vnd.databricks.v1+cell": {
     "cellMetadata": {},
     "inputWidgets": {},
     "nuid": "f5af6b40-d470-4d46-a715-61a4f6afe9a7",
     "showTitle": false,
     "tableResultSettingsMap": {},
     "title": ""
    }
   },
   "source": [
    "Uniform delta tables are available as any other table. Because we enabled `iceberg` as format, each subsequential write will update the Delta and Iceberg metadata. <br>\n",
    "Technically speaking, your table now contains 2 metadata folders:\n",
    "\n",
    "* `delta_log` containing all Delta Lake format metadata\n",
    "* `metadata` containing Iceberg format metadata\n",
    "\n",
    "\n",
    "Your Delta Lake table is still available like any other table:"
   ]
  },
  {
   "cell_type": "code",
   "execution_count": 0,
   "metadata": {
    "application/vnd.databricks.v1+cell": {
     "cellMetadata": {},
     "inputWidgets": {},
     "nuid": "8555477d-27e4-41ad-a903-53c2c7cacb82",
     "showTitle": false,
     "tableResultSettingsMap": {},
     "title": ""
    }
   },
   "outputs": [],
   "source": [
    "%sql\n",
    "SHOW TBLPROPERTIES user_uniform;"
   ]
  },
  {
   "cell_type": "markdown",
   "metadata": {
    "application/vnd.databricks.v1+cell": {
     "cellMetadata": {},
     "inputWidgets": {},
     "nuid": "f3d8172f-39dd-4fca-bca1-0de8bb60765b",
     "showTitle": false,
     "tableResultSettingsMap": {},
     "title": ""
    }
   },
   "source": [
    "### Access your Delta Lake table using Iceberg REST Catalog API\n",
    "\n",
    "Our Delta Lake table is now available by any system reading Iceberg tables, such as native Iceberg reader or external system like Big Query.\n",
    "\n",
    "If you're using an external storage, Databricks expose the table information through:"
   ]
  },
  {
   "cell_type": "code",
   "execution_count": 0,
   "metadata": {
    "application/vnd.databricks.v1+cell": {
     "cellMetadata": {},
     "inputWidgets": {},
     "nuid": "4802e934-3536-4fe7-9b62-634d44d884f2",
     "showTitle": false,
     "tableResultSettingsMap": {},
     "title": ""
    }
   },
   "outputs": [],
   "source": [
    "from databricks.sdk import WorkspaceClient\n",
    "ws = WorkspaceClient() \n",
    "table_info = ws.api_client.do('GET', f'/api/2.1/unity-catalog/tables/{catalog}.{schema}.user_uniform')\n",
    "table_info['delta_uniform_iceberg']"
   ]
  },
  {
   "cell_type": "markdown",
   "metadata": {
    "application/vnd.databricks.v1+cell": {
     "cellMetadata": {},
     "inputWidgets": {},
     "nuid": "2e5d2981-1779-4cf3-81e4-ba92d2bcd509",
     "showTitle": false,
     "tableResultSettingsMap": {},
     "title": ""
    }
   },
   "source": [
    "To read a managed table, you can leverage the Iceberg Catalog:\n",
    "\n",
    "```\n",
    "curl -X GET -H \"Authentication: Bearer $OAUTH_TOKEN\" -H \"Accept: application/json\" \\\n",
    "https://<workspace-instance>/api/2.1/unity-catalog/iceberg/v1/catalogs/<uc_catalog_name>/namespaces/<uc_schema_name>/tables/<uc_table_name>\n",
    "```\n",
    "\n",
    "You should then receive a response like this:\n",
    "\n",
    "```\n",
    "{\n",
    "  \"metadata-location\": \"s3://bucket/path/to/iceberg/table/metadata/file\",\n",
    "  \"metadata\": <iceberg-table-metadata-json>,\n",
    "  \"config\": {\n",
    "    \"expires-at-ms\": \"<epoch-ts-in-millis>\",\n",
    "    \"s3.access-key-id\": \"<temporary-s3-access-key-id>\",\n",
    "    \"s3.session-token\":\"<temporary-s3-session-token>\",\n",
    "    \"s3.secret-access-key\":\"<temporary-secret-access-key>\",\n",
    "    \"client.region\":\"<aws-bucket-region-for-metadata-location>\"\n",
    "  }\n",
    "}\n",
    "```\n",
    "\n",
    "For more details, see [the Uniform Documentation](https://docs.databricks.com/en/delta/uniform.html)"
   ]
  },
  {
   "cell_type": "markdown",
   "metadata": {
    "application/vnd.databricks.v1+cell": {
     "cellMetadata": {},
     "inputWidgets": {},
     "nuid": "b79227c6-74b0-4a14-b65a-5a269ba45b3d",
     "showTitle": false,
     "tableResultSettingsMap": {},
     "title": ""
    }
   },
   "source": [
    "That's it! You can now access all your Delta Lake table as Iceberg table, while getting the power of Delta Lake and bazing fast queries with Liquid Clustering.\n",
    "\n",
    "Your lakehouse is now fully open, without any vender lock-in. \n",
    "\n",
    "\n",
    "Next: Deep dive into Delta Lake Change Data Capture capability with [the 04-Delta-Lake-CDF notebook]($./04-Delta-Lake-CDF) or go back to [00-Delta-Lake-Introduction]($./00-Delta-Lake-Introduction).\n"
   ]
  }
 ],
 "metadata": {
  "application/vnd.databricks.v1+notebook": {
   "computePreferences": null,
   "dashboards": [],
   "environmentMetadata": {
    "environment_version": "2"
   },
   "inputWidgetPreferences": null,
   "language": "python",
   "notebookMetadata": {
    "pythonIndentUnit": 2
   },
   "notebookName": "03-Delta-Lake-Uniform",
   "widgets": {}
  },
  "language_info": {
   "name": "python"
  }
 },
 "nbformat": 4,
 "nbformat_minor": 0
}
