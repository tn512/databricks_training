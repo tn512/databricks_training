{
 "cells": [
  {
   "cell_type": "markdown",
   "metadata": {
    "application/vnd.databricks.v1+cell": {
     "cellMetadata": {},
     "inputWidgets": {},
     "nuid": "8feb8b9e-8081-47c5-b7f7-51bcba2cc3ce",
     "showTitle": false,
     "tableResultSettingsMap": {},
     "title": ""
    }
   },
   "source": [
    "\n",
    "# Delta Lake Change Data Flow\n",
    "<img src=\"https://pages.databricks.com/rs/094-YMS-629/images/delta-lake-logo-whitebackground.png\" style=\"width:200px; float: right\"/>\n",
    "\n",
    "Delta Lake is an open format and can be read using multiple engine or with standalone libraries (java, python, rust)...\n",
    "\n",
    "It's then easy to subscribe to modifications stream on one of your table to propagage the changes downstream in a medaillon architecture.\n",
    "\n",
    "See the [documentation](https://docs.databricks.com/delta/delta-change-data-feed.html) for more details.\n",
    "\n",
    "<!-- Collect usage data (view). Remove it to disable collection. View README for more details.  -->\n",
    "<img width=\"1px\" src=\"https://ppxrzfxige.execute-api.us-west-2.amazonaws.com/v1/analytics?category=data-engineering&org_id=3759185753378633&notebook=%2F04-Delta-Lake-CDF&demo_name=delta-lake&event=VIEW&path=%2F_dbdemos%2Fdata-engineering%2Fdelta-lake%2F04-Delta-Lake-CDF&version=1\">\n",
    "<!-- [metadata={\"description\":\"Quick introduction to Delta Lake. <br/><i>Use this content for quick Delta demo.</i>\",\n",
    " \"authors\":[\"quentin.ambard@databricks.com\"],\n",
    " \"db_resources\":{}}] -->"
   ]
  },
  {
   "cell_type": "markdown",
   "metadata": {
    "application/vnd.databricks.v1+cell": {
     "cellMetadata": {},
     "inputWidgets": {},
     "nuid": "74cc46f0-ba20-4b2f-bf58-8996f8eb87f8",
     "showTitle": false,
     "tableResultSettingsMap": {},
     "title": null
    }
   },
   "source": [
    "### A cluster has been created for this demo\n",
    "To run this demo, just select the cluster `dbdemos-delta-lake-maynard` from the dropdown menu ([open cluster configuration](https://adb-3759185753378633.13.azuredatabricks.net/#setting/clusters/0526-040835-grmtve88/configuration)). <br />\n",
    "*Note: If the cluster was deleted after 30 days, you can re-create it with `dbdemos.create_cluster('delta-lake')` or re-install the demo: `dbdemos.install('delta-lake')`*"
   ]
  },
  {
   "cell_type": "code",
   "execution_count": 0,
   "metadata": {
    "application/vnd.databricks.v1+cell": {
     "cellMetadata": {},
     "inputWidgets": {},
     "nuid": "6ffcff9c-5c39-45a8-a29e-b65a557cbe66",
     "showTitle": true,
     "tableResultSettingsMap": {},
     "title": "Init the demo data"
    },
    "jupyter": {
     "outputs_hidden": true
    }
   },
   "outputs": [],
   "source": [
    "%run ./_resources/00-setup $reset_all_data=false"
   ]
  },
  {
   "cell_type": "markdown",
   "metadata": {
    "application/vnd.databricks.v1+cell": {
     "cellMetadata": {},
     "inputWidgets": {},
     "nuid": "aa4146da-d433-46d7-a753-d8d81e63fff0",
     "showTitle": false,
     "tableResultSettingsMap": {},
     "title": ""
    }
   },
   "source": [
    "## CDF for Data Mesh & Delta Sharing\n",
    "\n",
    "<img src=\"https://github.com/QuentinAmbard/databricks-demo/raw/main/retail/resources/images/delta-cdf-datamesh.png\" style=\"float:right; margin-right: 50px\" width=\"300px\" />\n",
    "\n",
    "When sharing data within a Datamesh and/or to external organization with Delta Sharing, you not only need to share existing data, but also all modifications, so that your consumer can capture apply the same changes.\n",
    "\n",
    "CDF makes **Data Mesh** implementation easier. Once enabled by an organisation, data can be shared with other. It's then easy to subscribe to the modification stream and propagage GDPR DELETE downstream.\n",
    "\n",
    "To do so, we need to make sure the CDF are enabled at the table level. Once enabled, it'll capture all the table modifications using the `table_changes` function.\n",
    "\n",
    "For more details, visit the [CDF documentation](https://docs.databricks.com/delta/delta-change-data-feed.html)"
   ]
  },
  {
   "cell_type": "code",
   "execution_count": 0,
   "metadata": {
    "application/vnd.databricks.v1+cell": {
     "cellMetadata": {},
     "inputWidgets": {},
     "nuid": "74c3b8ab-2ae3-43e8-85af-b72ae748aa7b",
     "showTitle": true,
     "tableResultSettingsMap": {},
     "title": "Enable CDF at the table level"
    }
   },
   "outputs": [],
   "source": [
    "ALTER TABLE user_delta SET TBLPROPERTIES (delta.enableChangeDataFeed = true)"
   ]
  },
  {
   "cell_type": "markdown",
   "metadata": {
    "application/vnd.databricks.v1+cell": {
     "cellMetadata": {},
     "inputWidgets": {},
     "nuid": "180951cc-4f5c-4b15-98d4-1fcecf7f508b",
     "showTitle": false,
     "tableResultSettingsMap": {},
     "title": ""
    }
   },
   "source": [
    "#### Delta CDF table_changes output\n",
    "In addition to the row details, `table_changes` provides back 4 cdc types in the \"_change_type\" column:\n",
    "\n",
    "| CDC Type             | Description                                                               |\n",
    "|----------------------|---------------------------------------------------------------------------|\n",
    "| **update_preimage**  | Content of the row before an update                                       |\n",
    "| **update_postimage** | Content of the row after the update (what you want to capture downstream) |\n",
    "| **delete**           | Content of a row that has been deleted                                    |\n",
    "| **insert**           | Content of a new row that has been inserted                               |\n",
    "\n",
    "Let's query the changes of the Delta Version 12 which should be our MERGE operation (you can run a `DESCRIBE HISTORY user_data_bronze` to see the version numbers).\n",
    "\n",
    "As you can see 1 row has been UPDATED (we get the old and new value), 1 DELETED and one INSERTED."
   ]
  },
  {
   "cell_type": "code",
   "execution_count": 0,
   "metadata": {
    "application/vnd.databricks.v1+cell": {
     "cellMetadata": {},
     "inputWidgets": {},
     "nuid": "9fa76494-556a-40f9-9e02-8660f4e4c232",
     "showTitle": true,
     "tableResultSettingsMap": {},
     "title": "Let's make sure we have some changes in our table"
    }
   },
   "outputs": [],
   "source": [
    "-- Make sure you run the first notebook to load all the data.\n",
    "UPDATE user_delta SET firstname = 'John' WHERE ID < 10;\n",
    "DELETE FROM user_delta WHERE ID > 1000;"
   ]
  },
  {
   "cell_type": "code",
   "execution_count": 0,
   "metadata": {
    "application/vnd.databricks.v1+cell": {
     "cellMetadata": {},
     "inputWidgets": {},
     "nuid": "047e2af1-921d-4749-bc50-93cc511b5399",
     "showTitle": false,
     "tableResultSettingsMap": {},
     "title": ""
    }
   },
   "outputs": [],
   "source": [
    "select * from table_changes(\"user_delta\", 13);"
   ]
  },
  {
   "cell_type": "code",
   "execution_count": 0,
   "metadata": {
    "application/vnd.databricks.v1+cell": {
     "cellMetadata": {},
     "inputWidgets": {},
     "nuid": "c003ce43-f249-42ae-95eb-2c402d1c3410",
     "showTitle": false,
     "tableResultSettingsMap": {},
     "title": ""
    }
   },
   "outputs": [],
   "source": [
    "select distinct(_change_type) from table_changes(\"user_delta\", 13)"
   ]
  },
  {
   "cell_type": "markdown",
   "metadata": {
    "application/vnd.databricks.v1+cell": {
     "cellMetadata": {},
     "inputWidgets": {},
     "nuid": "1a6c1263-8b4a-48bc-9329-5923ab91ae73",
     "showTitle": false,
     "tableResultSettingsMap": {},
     "title": ""
    }
   },
   "source": [
    "## Using CDF to capture incremental change (stream)\n",
    "\n",
    "To capture the last changes from your table, you can leverage Spark Streaming API. \n",
    "\n",
    "It's then easy to subscribe to modifications stream on one of your table to propagage GDPR DELETE downstream"
   ]
  },
  {
   "cell_type": "code",
   "execution_count": 0,
   "metadata": {
    "application/vnd.databricks.v1+cell": {
     "cellMetadata": {},
     "inputWidgets": {},
     "nuid": "48cb0ca1-a03c-49f5-9be6-f24ec05ecb80",
     "showTitle": false,
     "tableResultSettingsMap": {},
     "title": ""
    }
   },
   "outputs": [],
   "source": [
    "%python\n",
    "stream = spark.readStream.format(\"delta\") \\\n",
    "              .option(\"readChangeFeed\", \"true\") \\\n",
    "              .option(\"startingVersion\", 13) \\\n",
    "              .table(\"user_delta\")\n",
    "\n",
    "display(stream, checkpointLocation = get_chkp_folder(folder))"
   ]
  },
  {
   "cell_type": "code",
   "execution_count": 0,
   "metadata": {
    "application/vnd.databricks.v1+cell": {
     "cellMetadata": {},
     "inputWidgets": {},
     "nuid": "a4cb16bf-ff79-4b85-8734-b4b7b216641f",
     "showTitle": false,
     "tableResultSettingsMap": {},
     "title": ""
    }
   },
   "outputs": [],
   "source": [
    "%python\n",
    "time.sleep(30)\n",
    "DBDemos.stop_all_streams()"
   ]
  },
  {
   "cell_type": "markdown",
   "metadata": {
    "application/vnd.databricks.v1+cell": {
     "cellMetadata": {},
     "inputWidgets": {},
     "nuid": "3034fd47-7678-4a5d-9767-678d1e76fc04",
     "showTitle": false,
     "tableResultSettingsMap": {},
     "title": ""
    }
   },
   "source": [
    "## Easier CDF with Delta Live Table APPLY CHANGES\n",
    "\n",
    "Delta Lake CDF is a low level API. To implement simple CDC pipeline using pure SQL (including SCDT2 tables), you can leverage the Delta Live Table engine! See the [documentation](https://docs.databricks.com/workflows/delta-live-tables/delta-live-tables-cdc.html) for more details."
   ]
  },
  {
   "cell_type": "markdown",
   "metadata": {
    "application/vnd.databricks.v1+cell": {
     "cellMetadata": {},
     "inputWidgets": {},
     "nuid": "fb3faed3-1637-495e-b48a-857c7dfe85d2",
     "showTitle": false,
     "tableResultSettingsMap": {},
     "title": ""
    }
   },
   "source": [
    "That's it, we covered the main capabilities provided by Delta Lake.\n",
    "\n",
    "If you want to know more about the technical implementation, you can have a look to the [internal structure of Delta Lake]($./05-Advanced-Delta-Lake-Internal) (optional) or [go back to the Introduction]($./00-Delta-Lake-Introduction)."
   ]
  }
 ],
 "metadata": {
  "application/vnd.databricks.v1+notebook": {
   "computePreferences": null,
   "dashboards": [],
   "environmentMetadata": {
    "environment_version": "2"
   },
   "inputWidgetPreferences": null,
   "language": "sql",
   "notebookMetadata": {
    "pythonIndentUnit": 2
   },
   "notebookName": "04-Delta-Lake-CDF",
   "widgets": {}
  },
  "language_info": {
   "name": "sql"
  }
 },
 "nbformat": 4,
 "nbformat_minor": 0
}
