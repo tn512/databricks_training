{
 "cells": [
  {
   "cell_type": "markdown",
   "metadata": {
    "application/vnd.databricks.v1+cell": {
     "cellMetadata": {},
     "inputWidgets": {},
     "nuid": "0ff2a739-f448-4d97-9c2e-79c18f1a14ed",
     "showTitle": false,
     "tableResultSettingsMap": {},
     "title": ""
    }
   },
   "source": [
    "\n",
    "<img src=\"https://github.com/QuentinAmbard/databricks-demo/raw/main/retail/resources/images/delta-lake-perf-bench.png\" width=\"500\" style=\"float: right; margin-left: 50px\"/>\n",
    "\n",
    "# Delta Lake: Performance made simple\n",
    "\n",
    "## Blazing fast query at scale\n",
    "\n",
    "Delta Lake saves all your table metadata in an efficient format, ranging from efficient queries on small tables (GB) to massive PB-scale tables. \n",
    "\n",
    "Delta Lake is designed to be smart and do all the hard job for you. It'll automatically tune your table and read the minimum data required to be able to satisfied your query.\n",
    "\n",
    "This result in **fast read query**, even with a growing number of data/partitions!\n",
    "\n",
    "\n",
    "In this notebook, we'll see how we can leverage Delta Lake unique capabilities to speedup requests and simplify maintenance operation. For more details, we recommend to read the [documentation](https://docs.databricks.com/delta/file-mgmt.html).\n",
    "\n",
    "<!-- Collect usage data (view). Remove it to disable collection. View README for more details.  -->\n",
    "<img width=\"1px\" src=\"https://ppxrzfxige.execute-api.us-west-2.amazonaws.com/v1/analytics?category=data-engineering&org_id=3759185753378633&notebook=%2F02-Delta-Lake-Performance&demo_name=delta-lake&event=VIEW&path=%2F_dbdemos%2Fdata-engineering%2Fdelta-lake%2F02-Delta-Lake-Performance&version=1\">\n",
    "<!-- [metadata={\"description\":\"Quick introduction to Delta Lake. <br/><i>Use this content for quick Delta demo.</i>\",\n",
    " \"authors\":[\"quentin.ambard@databricks.com\"],\n",
    " \"db_resources\":{}}] -->"
   ]
  },
  {
   "cell_type": "markdown",
   "metadata": {
    "application/vnd.databricks.v1+cell": {
     "cellMetadata": {},
     "inputWidgets": {},
     "nuid": "8469d3dc-fe29-4688-83a8-5e39a6e723dd",
     "showTitle": false,
     "tableResultSettingsMap": {},
     "title": null
    }
   },
   "source": [
    "### A cluster has been created for this demo\n",
    "To run this demo, just select the cluster `dbdemos-delta-lake-maynard` from the dropdown menu ([open cluster configuration](https://adb-3759185753378633.13.azuredatabricks.net/#setting/clusters/0526-040835-grmtve88/configuration)). <br />\n",
    "*Note: If the cluster was deleted after 30 days, you can re-create it with `dbdemos.create_cluster('delta-lake')` or re-install the demo: `dbdemos.install('delta-lake')`*"
   ]
  },
  {
   "cell_type": "code",
   "execution_count": 0,
   "metadata": {
    "application/vnd.databricks.v1+cell": {
     "cellMetadata": {},
     "inputWidgets": {},
     "nuid": "2a27fa49-0c81-4c6f-9786-51c25bf005fe",
     "showTitle": true,
     "tableResultSettingsMap": {},
     "title": "Init the demo data under ${raw_data_location}/user_parquet."
    },
    "jupyter": {
     "outputs_hidden": true
    }
   },
   "outputs": [],
   "source": [
    "%run ./_resources/00-setup $reset_all_data=false"
   ]
  },
  {
   "cell_type": "markdown",
   "metadata": {
    "application/vnd.databricks.v1+cell": {
     "cellMetadata": {},
     "inputWidgets": {},
     "nuid": "c2ebf7e3-2a78-40bd-befd-0e699f62ee6d",
     "showTitle": false,
     "tableResultSettingsMap": {},
     "title": ""
    }
   },
   "source": [
    "##![](https://pages.databricks.com/rs/094-YMS-629/images/delta-lake-tiny-logo.png) Delta Lake Liquid Clustering\n",
    "\n",
    "<img src=\"https://github.com/databricks-demos/dbdemos-resources/blob/main/images/product/delta/delta-liquid-1.png?raw=true\" style=\"float: right\" width=\"450px\">\n",
    "\n",
    "Data Layout is key to increase performance and query speed. Manual tuning trough hive-style partitioning is not efficient (creating too big or small partitions) and hard to maintain.\n",
    "\n",
    "To solve this issue, Delta Lake released Liquid Clustering. Liquid will automatically adjusts the data layout based on clustering keys, which helps to avoid the over or under-partitioning problems that can occur with Hive partitioning.\n",
    "\n",
    "Liquid clustering can be specified on any columns to provide fast access, including high cardinality or data skew. \n",
    "\n",
    "* **Liquid is simple**: You set Liquid clustering keys on the columns that are most often queried - no more worrying about traditional considerations like column cardinality, partition ordering, or creating artificial columns that act as perfect partitioning keys.\n",
    "* **Liquid is efficient**: It incrementally clusters new data, so you don't need to trade off between improving performance with reducing cost/write amplification.\n",
    "* **Liquid is flexible**: You can quickly change which columns are clustered by Liquid without rewriting existing data.\n",
    "\n",
    "**Delta Liquid Clustering requires DBR 13.2**\n",
    "\n",
    "For more details, [please read the documentation](https://docs.databricks.com/delta/clustering.html)"
   ]
  },
  {
   "cell_type": "code",
   "execution_count": 0,
   "metadata": {
    "application/vnd.databricks.v1+cell": {
     "cellMetadata": {},
     "inputWidgets": {},
     "nuid": "1d97a899-f44e-46b1-8b43-6551f0bb5099",
     "showTitle": false,
     "tableResultSettingsMap": {},
     "title": ""
    }
   },
   "outputs": [],
   "source": [
    "-- Liquid will properly layout the data to speedup queries by firstname or lastname.\n",
    "-- this is done by adding the CLUSTER BY keyword during your standard table creation. Clustered table can't have partitions.\n",
    "CREATE OR REPLACE TABLE user_clustering CLUSTER BY (firstname, lastname)\n",
    "  AS SELECT * FROM user_delta;"
   ]
  },
  {
   "cell_type": "code",
   "execution_count": 0,
   "metadata": {
    "application/vnd.databricks.v1+cell": {
     "cellMetadata": {},
     "inputWidgets": {},
     "nuid": "afdf5fb8-61a2-4840-9c09-7a1810df4c79",
     "showTitle": false,
     "tableResultSettingsMap": {},
     "title": ""
    }
   },
   "outputs": [],
   "source": [
    "-- review the table definition, Liquid Clustering appears under \"Clustering Information\"\n",
    "DESCRIBE TABLE user_clustering;"
   ]
  },
  {
   "cell_type": "markdown",
   "metadata": {
    "application/vnd.databricks.v1+cell": {
     "cellMetadata": {},
     "inputWidgets": {},
     "nuid": "d74de545-b18f-4167-89d6-bafceb6d0240",
     "showTitle": false,
     "tableResultSettingsMap": {},
     "title": ""
    }
   },
   "source": [
    "\n",
    "### How to trigger liquid clustering\n",
    "<img src=\"https://github.com/databricks-demos/dbdemos-resources/blob/main/images/product/delta/delta-liquid-2.png?raw=true\" style=\"float: right\" width=\"400px\">\n",
    "\n",
    "\n",
    "Liquid clustering is incremental, meaning that data is only rewritten as necessary to accommodate data that needs to be clustered.\n",
    "\n",
    "For best performance, Databricks recommends scheduling regular OPTIMIZE jobs to cluster data. \n",
    "\n",
    "For tables experiencing many updates or inserts, Databricks recommends scheduling an OPTIMIZE job every one or two hours. \n",
    "\n",
    "Because liquid clustering is incremental, most OPTIMIZE jobs for clustered tables run quickly. No need to specify any ZORDER columns.\n",
    "\n",
    "*Note: Liquid clustering will automatically re-arrange your data during writes above a given threshold. As with all indexes, this will add a small write cost.*"
   ]
  },
  {
   "cell_type": "code",
   "execution_count": 0,
   "metadata": {
    "application/vnd.databricks.v1+cell": {
     "cellMetadata": {},
     "inputWidgets": {},
     "nuid": "563af062-a00e-4c3e-a42c-1f56dc92db76",
     "showTitle": true,
     "tableResultSettingsMap": {},
     "title": "Trigger liquid clustering"
    }
   },
   "outputs": [],
   "source": [
    "OPTIMIZE user_clustering;"
   ]
  },
  {
   "cell_type": "code",
   "execution_count": 0,
   "metadata": {
    "application/vnd.databricks.v1+cell": {
     "cellMetadata": {},
     "inputWidgets": {},
     "nuid": "b32451e3-fa70-496d-85bd-b6959b214011",
     "showTitle": true,
     "tableResultSettingsMap": {},
     "title": "Don't forget to the table periodically to remove your history and previous files"
    }
   },
   "outputs": [],
   "source": [
    "VACUUM user_clustering;"
   ]
  },
  {
   "cell_type": "code",
   "execution_count": 0,
   "metadata": {
    "application/vnd.databricks.v1+cell": {
     "cellMetadata": {},
     "inputWidgets": {},
     "nuid": "8573e266-03ec-4d8f-a15d-67db75e7fc61",
     "showTitle": true,
     "tableResultSettingsMap": {},
     "title": "Our requests using firstname and lastname are now super fast!"
    }
   },
   "outputs": [],
   "source": [
    "SELECT * FROM user_clustering where firstname = 'Teresa'"
   ]
  },
  {
   "cell_type": "markdown",
   "metadata": {
    "application/vnd.databricks.v1+cell": {
     "cellMetadata": {},
     "inputWidgets": {},
     "nuid": "3ff6bfa5-246b-409c-83a5-d453ffbb9093",
     "showTitle": false,
     "tableResultSettingsMap": {},
     "title": ""
    }
   },
   "source": [
    "### Dynamically changing your clustering columns\n",
    "\n",
    "Liquid table are flexible, you can change your clustering columns without having to re-write all your data. \n",
    "\n",
    "Let's make sure our table provides fast queries for ID:"
   ]
  },
  {
   "cell_type": "code",
   "execution_count": 0,
   "metadata": {
    "application/vnd.databricks.v1+cell": {
     "cellMetadata": {},
     "inputWidgets": {},
     "nuid": "4f78adbc-8fce-43e4-8b72-ccc285dfcd36",
     "showTitle": true,
     "tableResultSettingsMap": {},
     "title": "Dynamically changing your clustering columns"
    }
   },
   "outputs": [],
   "source": [
    "ALTER TABLE user_clustering CLUSTER BY (id, firstname, lastname);"
   ]
  },
  {
   "cell_type": "code",
   "execution_count": 0,
   "metadata": {
    "application/vnd.databricks.v1+cell": {
     "cellMetadata": {},
     "inputWidgets": {},
     "nuid": "67bf5665-1cf3-431c-9c13-4cf056ecd34d",
     "showTitle": true,
     "tableResultSettingsMap": {},
     "title": "Disabling liquid clustering:"
    }
   },
   "outputs": [],
   "source": [
    "-- Disable liquid clustering:\n",
    "ALTER TABLE user_clustering CLUSTER BY NONE;\n",
    "-- Note: this does not rewrite data that has already been clustered, but prevents future OPTIMIZE operations from using clustering keys."
   ]
  },
  {
   "cell_type": "markdown",
   "metadata": {
    "application/vnd.databricks.v1+cell": {
     "cellMetadata": {},
     "inputWidgets": {},
     "nuid": "2e2e5b0c-2644-4e60-abe0-8ee658644ca9",
     "showTitle": false,
     "tableResultSettingsMap": {},
     "title": ""
    }
   },
   "source": [
    "###![](https://pages.databricks.com/rs/094-YMS-629/images/delta-lake-tiny-logo.png) Compacting without Liquid Clustering\n",
    "\n",
    "While recommended to accelerate your queries, some tables might not always have Liquid Clustering enabled.\n",
    "\n",
    "Adding data to the table results in new file creation, and your table can quickly have way too many small files which is going to impact performances over time.\n",
    "\n",
    "This becomes expecially true with streaming operation where you add new data every few seconds, in near realtime.\n",
    "\n",
    "Just like for Liquid Clusteing, Delta Lake solves this operation with the `OPTIMIZE` command, which is going to optimize the file layout for you, picking the proper file size based on heuristics. As no Cluster are defined, this will simply compact the files."
   ]
  },
  {
   "cell_type": "code",
   "execution_count": 0,
   "metadata": {
    "application/vnd.databricks.v1+cell": {
     "cellMetadata": {},
     "inputWidgets": {},
     "nuid": "55a9e0d9-8280-4d31-98f5-e48838ebdc54",
     "showTitle": false,
     "tableResultSettingsMap": {},
     "title": ""
    }
   },
   "outputs": [],
   "source": [
    "-- let's compact our table. Note that the engine decided to compact 8 files into 1 (\"numFilesAdded\": 1, \"numFilesRemoved\": 8)\n",
    "OPTIMIZE user_delta "
   ]
  },
  {
   "cell_type": "markdown",
   "metadata": {
    "application/vnd.databricks.v1+cell": {
     "cellMetadata": {},
     "inputWidgets": {},
     "nuid": "14356c08-b7df-4d63-bdf4-e8931541e44d",
     "showTitle": false,
     "tableResultSettingsMap": {},
     "title": ""
    }
   },
   "source": [
    "These maintenance operation have to be triggered frequently to keep our table properly optimized.\n",
    "\n",
    "Using Databricks, you can have your table automatically optimized out of the box, without having you to worry about it. All you have to do is set the [proper table properties](https://docs.databricks.com/optimizations/auto-optimize.html), and the engine will optimize your table when needed, without having you to run manual OPTIMIZE operation.\n",
    "\n",
    "We strongly recommend to enable this option for all your tables."
   ]
  },
  {
   "cell_type": "code",
   "execution_count": 0,
   "metadata": {
    "application/vnd.databricks.v1+cell": {
     "cellMetadata": {},
     "inputWidgets": {},
     "nuid": "f379f926-a983-4e46-9a87-5bd3138a28d3",
     "showTitle": false,
     "tableResultSettingsMap": {},
     "title": ""
    }
   },
   "outputs": [],
   "source": [
    "ALTER TABLE user_delta SET TBLPROPERTIES (delta.autoOptimize.optimizeWrite = true, delta.autoOptimize.autoCompact = true);"
   ]
  },
  {
   "cell_type": "markdown",
   "metadata": {
    "application/vnd.databricks.v1+cell": {
     "cellMetadata": {},
     "inputWidgets": {},
     "nuid": "a9e758a8-9afc-465e-9b79-22cb028a3714",
     "showTitle": false,
     "tableResultSettingsMap": {},
     "title": ""
    }
   },
   "source": [
    "### Note: Auto Optimize with Liquid Clustering\n",
    "\n",
    "Liquid Clustering will automatically kick off eager optimization starting from a given write size, based on heuristic. \n",
    "You can also turn on `delta.autoOptimize.optimizeWrite = true` on your liquid table starting from DBR 13.3 to make sure all writes will be optimized. While you can enable `delta.autoOptimize.autoCompact = true`, it won't have any effect for now (as of DBR 13.3, this might change in the future)."
   ]
  },
  {
   "cell_type": "markdown",
   "metadata": {
    "application/vnd.databricks.v1+cell": {
     "cellMetadata": {},
     "inputWidgets": {},
     "nuid": "99020c7a-ac57-4472-bba8-86a2283dc42f",
     "showTitle": false,
     "tableResultSettingsMap": {},
     "title": ""
    }
   },
   "source": [
    "## Legacy file layout optimizations\n",
    "\n",
    "Liquid Clustering is the future of Delta Lake optimization and query speedup, and we now recommend starting with Liquid Clustering.\n",
    "\n",
    "Below are previous Delta Lake optimization leveraging Zordering and Partitioning techniques. "
   ]
  },
  {
   "cell_type": "markdown",
   "metadata": {
    "application/vnd.databricks.v1+cell": {
     "cellMetadata": {},
     "inputWidgets": {},
     "nuid": "50fc1b0f-ef09-4d86-91a2-8adece76f1d9",
     "showTitle": false,
     "tableResultSettingsMap": {},
     "title": ""
    }
   },
   "source": [
    "### ZORDER\n",
    "\n",
    "\n",
    "ZORDER will optimize the file layout by multiple columns, but it's often used in addition to partitioning and is not as efficient as Liquid Clustering. It'll increase the write amplification and won't solve your small partitions issues.\n",
    "\n",
    "Below are a few examples on how you can leverage ZORDER, but we strongly recommend switching to Liquid Tables instead."
   ]
  },
  {
   "cell_type": "markdown",
   "metadata": {
    "application/vnd.databricks.v1+cell": {
     "cellMetadata": {},
     "inputWidgets": {},
     "nuid": "0fe2259f-a691-402c-98d6-027ff9eae6a7",
     "showTitle": false,
     "tableResultSettingsMap": {},
     "title": ""
    }
   },
   "source": [
    "### ![](https://pages.databricks.com/rs/094-YMS-629/images/delta-lake-tiny-logo.png) Adding indexes (ZORDER) to your table\n",
    "\n",
    "If you request your table using a specific predicat (ex: username), you can speedup your request by adding an index on these columns. We call this operation ZORDER.\n",
    "\n",
    "You can ZORDER on any column, especially the one having high cardinality (id, firstname etc). \n",
    "\n",
    "*Note: We recommand to stay below 4 ZORDER columns for better query performance.*"
   ]
  },
  {
   "cell_type": "code",
   "execution_count": 0,
   "metadata": {
    "application/vnd.databricks.v1+cell": {
     "cellMetadata": {},
     "inputWidgets": {},
     "nuid": "b4dda22a-b222-4dd6-84df-3bcd0974946e",
     "showTitle": false,
     "tableResultSettingsMap": {},
     "title": ""
    }
   },
   "outputs": [],
   "source": [
    "OPTIMIZE user_delta ZORDER BY (id, firstname);\n",
    "\n",
    "-- our next queries using a filter on id or firstname will be much faster\n",
    "SELECT * FROM user_delta where id = 4 or firstname = 'Quentin';"
   ]
  },
  {
   "cell_type": "markdown",
   "metadata": {
    "application/vnd.databricks.v1+cell": {
     "cellMetadata": {},
     "inputWidgets": {},
     "nuid": "3bd30a20-ebd8-4838-b859-afed0a2e2662",
     "showTitle": false,
     "tableResultSettingsMap": {},
     "title": ""
    }
   },
   "source": [
    "### ![Delta Lake Tiny Logo](https://pages.databricks.com/rs/094-YMS-629/images/delta-lake-tiny-logo.png) Delta Lake Generated columns for dynamic partitions\n",
    "\n",
    "Adding partitions to your table is a way of saving data having the same column under the same location. Our engine will then be able to read less data and have better read performances.\n",
    "\n",
    "Using Delta Lake, partitions can be generated based on expression, and the engine will push-down your predicate applying the same expression even if the request is on the original field.\n",
    "\n",
    "A typical use-case is to partition per a given time (ex: year, month or even day). \n",
    "\n",
    "Our user table has a `creation_date` field. We'll generate a `creation_day` field based on an expression and use it as partition for our table with `GENERATED ALWAYS`.\n",
    "\n",
    "In addition, we'll let the engine generate incremental ID.\n",
    "\n",
    "*Note: Remember that partition will also create more files under the hood. You have to be careful using them. Make sure you don't over-partition your table (aim for 100's of partition max, having at least 1GB of data). We don't recommend creating partition on table smaller than 1TB. Use LIQUID CLUSTERING instead.*"
   ]
  },
  {
   "cell_type": "code",
   "execution_count": 0,
   "metadata": {
    "application/vnd.databricks.v1+cell": {
     "cellMetadata": {},
     "inputWidgets": {},
     "nuid": "9a76579b-3914-483e-adbd-bb525677f745",
     "showTitle": false,
     "tableResultSettingsMap": {},
     "title": ""
    }
   },
   "outputs": [],
   "source": [
    "CREATE TABLE IF NOT EXISTS user_delta_partition (\n",
    "  id BIGINT GENERATED ALWAYS AS IDENTITY ( START WITH 10000 INCREMENT BY 1 ), \n",
    "  firstname STRING, \n",
    "  lastname STRING, \n",
    "  email STRING, \n",
    "  address STRING, \n",
    "  gender INT, \n",
    "  age_group INT,\n",
    "  creation_date timestamp, \n",
    "  creation_day date GENERATED ALWAYS AS ( CAST(creation_date AS DATE) ) )\n",
    "PARTITIONED BY (creation_day);"
   ]
  },
  {
   "cell_type": "code",
   "execution_count": 0,
   "metadata": {
    "application/vnd.databricks.v1+cell": {
     "cellMetadata": {},
     "inputWidgets": {},
     "nuid": "6aaab2c3-7994-4809-9b9f-693a4badf645",
     "showTitle": false,
     "tableResultSettingsMap": {},
     "title": ""
    }
   },
   "outputs": [],
   "source": [
    "-- Note that we don't insert data for the creation_day field or id. The engine will handle that for us:\n",
    "INSERT INTO user_delta_partition (firstname, lastname, email, address, gender, age_group, creation_date) SELECT\n",
    "  firstname,\n",
    "  lastname,\n",
    "  email,\n",
    "  address,\n",
    "  gender,\n",
    "  age_group,\n",
    "  creation_date\n",
    "FROM user_delta;"
   ]
  },
  {
   "cell_type": "code",
   "execution_count": 0,
   "metadata": {
    "application/vnd.databricks.v1+cell": {
     "cellMetadata": {},
     "inputWidgets": {},
     "nuid": "2795eabc-447f-4ebc-ae39-0adfd0d57f45",
     "showTitle": false,
     "tableResultSettingsMap": {},
     "title": ""
    }
   },
   "outputs": [],
   "source": [
    "SELECT * FROM user_delta_partition where creation_day = CAST(NOW() as DATE) ;"
   ]
  },
  {
   "cell_type": "markdown",
   "metadata": {
    "application/vnd.databricks.v1+cell": {
     "cellMetadata": {},
     "inputWidgets": {},
     "nuid": "4b2cd653-6114-4700-82f6-7f725d227da8",
     "showTitle": false,
     "tableResultSettingsMap": {},
     "title": ""
    }
   },
   "source": [
    "That's it! You know how to have super fast queries on top of your Delta Lake tables!\n",
    "\n",
    "\n",
    "Next: Discover how Delta Lake is an Universal Format with [the 03-Delta-Lake-Uniform notebook]($./03-Delta-Lake-Uniform) or go back to [00-Delta-Lake-Introduction]($./00-Delta-Lake-Introduction).\n"
   ]
  }
 ],
 "metadata": {
  "application/vnd.databricks.v1+notebook": {
   "computePreferences": null,
   "dashboards": [],
   "environmentMetadata": {
    "environment_version": "2"
   },
   "inputWidgetPreferences": null,
   "language": "sql",
   "notebookMetadata": {
    "pythonIndentUnit": 2
   },
   "notebookName": "02-Delta-Lake-Performance",
   "widgets": {}
  },
  "language_info": {
   "name": "sql"
  }
 },
 "nbformat": 4,
 "nbformat_minor": 0
}
