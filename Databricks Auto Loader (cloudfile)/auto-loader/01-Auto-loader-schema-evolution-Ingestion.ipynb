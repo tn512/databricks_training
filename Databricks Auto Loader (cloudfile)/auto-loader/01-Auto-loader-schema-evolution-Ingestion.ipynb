{
 "cells": [
  {
   "cell_type": "markdown",
   "metadata": {
    "application/vnd.databricks.v1+cell": {
     "cellMetadata": {},
     "inputWidgets": {},
     "nuid": "c5908bd7-7712-43d0-9453-410d9df31984",
     "showTitle": false,
     "tableResultSettingsMap": {},
     "title": ""
    }
   },
   "source": [
    "\n",
    "# What is Databricks Auto Loader?\n",
    "\n",
    "<img src=\"https://github.com/QuentinAmbard/databricks-demo/raw/main/product_demos/autoloader/autoloader-edited-anim.gif\" style=\"float:right; margin-left: 10px\" />\n",
    "\n",
    "[Databricks Auto Loader](https://docs.databricks.com/ingestion/auto-loader/index.html) lets you scan a cloud storage folder (S3, ADLS, GS) and only ingest the new data that arrived since the previous run.\n",
    "\n",
    "This is called **incremental ingestion**.\n",
    "\n",
    "Auto Loader can be used in a near real-time stream or in a batch fashion, e.g., running every night to ingest daily data.\n",
    "\n",
    "Auto Loader provides a strong gaurantee when used with a Delta sink (the data will only be ingested once).\n",
    "\n",
    "## How Auto Loader simplifies data ingestion\n",
    "\n",
    "Ingesting data at scale from cloud storage can be really hard at scale. Auto Loader makes it easy, offering these benefits:\n",
    "\n",
    "\n",
    "* **Incremental** & **cost-efficient** ingestion (removes unnecessary listing or state handling)\n",
    "* **Simple** and **resilient** operation: no tuning or manual code required\n",
    "* Scalable to **billions of files**\n",
    "  * Using incremental listing (recommended, relies on filename order)\n",
    "  * Leveraging notification + message queue (when incremental listing can't be used)\n",
    "* **Schema inference** and **schema evolution** are handled out of the box for most formats (csv, json, avro, images...)\n",
    "\n",
    "<!-- Collect usage data (view). Remove it to disable collection. View README for more details.  -->\n",
    "<img width=\"1px\" src=\"https://ppxrzfxige.execute-api.us-west-2.amazonaws.com/v1/analytics?category=data-engineering&org_id=3759185753378633&notebook=%2F01-Auto-loader-schema-evolution-Ingestion&demo_name=auto-loader&event=VIEW&path=%2F_dbdemos%2Fdata-engineering%2Fauto-loader%2F01-Auto-loader-schema-evolution-Ingestion&version=1\">"
   ]
  },
  {
   "cell_type": "markdown",
   "metadata": {
    "application/vnd.databricks.v1+cell": {
     "cellMetadata": {},
     "inputWidgets": {},
     "nuid": "b408d529-1a06-4fb5-9638-5124aa951eb6",
     "showTitle": false,
     "tableResultSettingsMap": {},
     "title": null
    }
   },
   "source": [
    "### A cluster has been created for this demo\n",
    "To run this demo, just select the cluster `dbdemos-auto-loader-maynard` from the dropdown menu ([open cluster configuration](https://adb-3759185753378633.13.azuredatabricks.net/#setting/clusters/0531-085858-c8igeotb/configuration)). <br />\n",
    "*Note: If the cluster was deleted after 30 days, you can re-create it with `dbdemos.create_cluster('auto-loader')` or re-install the demo: `dbdemos.install('auto-loader')`*"
   ]
  },
  {
   "cell_type": "code",
   "execution_count": 0,
   "metadata": {
    "application/vnd.databricks.v1+cell": {
     "cellMetadata": {},
     "inputWidgets": {},
     "nuid": "bd56ecc3-1c08-4ecd-b6e9-ec9abbbbcd57",
     "showTitle": true,
     "tableResultSettingsMap": {},
     "title": "Data initialization - run the cell to prepare the demo data."
    },
    "jupyter": {
     "outputs_hidden": true
    }
   },
   "outputs": [],
   "source": [
    "%run ./_resources/00-setup $reset_all_data=false"
   ]
  },
  {
   "cell_type": "code",
   "execution_count": 0,
   "metadata": {
    "application/vnd.databricks.v1+cell": {
     "cellMetadata": {},
     "inputWidgets": {},
     "nuid": "97c27c59-727b-4fbe-8a5d-7df0eeaccea1",
     "showTitle": true,
     "tableResultSettingsMap": {},
     "title": "Let's explore what is being delivered in our bucket: (json)"
    }
   },
   "outputs": [],
   "source": [
    "display(spark.read.text(volume_folder+'/user_json'))"
   ]
  },
  {
   "cell_type": "markdown",
   "metadata": {
    "application/vnd.databricks.v1+cell": {
     "cellMetadata": {},
     "inputWidgets": {},
     "nuid": "31ab99dd-818f-4c76-814b-141da8332ec8",
     "showTitle": false,
     "tableResultSettingsMap": {},
     "title": ""
    }
   },
   "source": [
    "### Auto Loader basics\n",
    "Let's create a new Auto Loader stream that will incrementally ingest new incoming files.\n",
    "\n",
    "In this example we will specify the full schema. We will also use `cloudFiles.maxFilesPerTrigger` to take 1 file a time to simulate a process adding files 1 by 1."
   ]
  },
  {
   "cell_type": "code",
   "execution_count": 0,
   "metadata": {
    "application/vnd.databricks.v1+cell": {
     "cellMetadata": {},
     "inputWidgets": {},
     "nuid": "dca6fc07-ca07-41e7-ac4e-4fbcbf73764a",
     "showTitle": false,
     "tableResultSettingsMap": {},
     "title": ""
    }
   },
   "outputs": [],
   "source": [
    "bronzeDF = (spark.readStream \\\n",
    "                .format(\"cloudFiles\")\n",
    "                .option(\"cloudFiles.format\", \"json\")\n",
    "                .option(\"cloudFiles.maxFilesPerTrigger\", \"1\")  #demo only, remove in real stream\n",
    "                .schema(\"address string, creation_date string, firstname string, lastname string, id bigint\")\n",
    "                .load(volume_folder+'/user_json'))\n",
    "display(bronzeDF, checkpointLocation = get_chkp_folder())"
   ]
  },
  {
   "cell_type": "markdown",
   "metadata": {
    "application/vnd.databricks.v1+cell": {
     "cellMetadata": {},
     "inputWidgets": {},
     "nuid": "7357f983-5b7a-43b8-ae7a-37e5af56ede7",
     "showTitle": false,
     "tableResultSettingsMap": {},
     "title": ""
    }
   },
   "source": [
    "## Schema inference\n",
    "Specifying the schema manually can be a challenge, especially with dynamic JSON. Notice that we are missing the \"age\" data because we overlooked specifying this column in the schema.\n",
    "\n",
    "* Schema inference has always been expensive and slow at scale, but not with Auto Loader. Auto Loader efficiently samples data to infer the schema and stores it under `cloudFiles.schemaLocation` in your bucket. \n",
    "* Additionally, `cloudFiles.inferColumnTypes` will determine the proper data type from your JSON.\n",
    "\n",
    "Let's redefine our stream with these features. Notice that we now have all of the JSON fields.\n",
    "\n",
    "*Notes:*\n",
    "* *With Delta Live Tables you don't even have to set this option, the engine manages the schema location for you.*\n",
    "* *Sampling size can be changed with `spark.databricks.cloudFiles.schemaInference.sampleSize.numBytes`*"
   ]
  },
  {
   "cell_type": "code",
   "execution_count": 0,
   "metadata": {
    "application/vnd.databricks.v1+cell": {
     "cellMetadata": {},
     "inputWidgets": {},
     "nuid": "a261b3da-cbc0-43c5-a703-362b423e832b",
     "showTitle": true,
     "tableResultSettingsMap": {},
     "title": "Auto Loader can now infer the schema automatically (from any format) "
    }
   },
   "outputs": [],
   "source": [
    "bronzeDF = (spark.readStream\n",
    "                .format(\"cloudFiles\")\n",
    "                .option(\"cloudFiles.format\", \"json\")\n",
    "                .option(\"cloudFiles.schemaLocation\", volume_folder+'/inferred_schema')\n",
    "                .option(\"cloudFiles.inferColumnTypes\", \"true\")\n",
    "                .load(volume_folder+'/user_json'))\n",
    "display(bronzeDF, checkpointLocation = get_chkp_folder())"
   ]
  },
  {
   "cell_type": "markdown",
   "metadata": {
    "application/vnd.databricks.v1+cell": {
     "cellMetadata": {},
     "inputWidgets": {},
     "nuid": "5df6b030-8911-4b1b-b666-1ac672abf8b7",
     "showTitle": false,
     "tableResultSettingsMap": {},
     "title": ""
    }
   },
   "source": [
    "### Schema hints\n",
    "You might need to enforce a part of your schema, e.g., to convert a timestamp. This can easily be done with Schema Hints.\n",
    "\n",
    "In this case, we'll make sure that the `id` is read as `bigint` and not `int`:"
   ]
  },
  {
   "cell_type": "code",
   "execution_count": 0,
   "metadata": {
    "application/vnd.databricks.v1+cell": {
     "cellMetadata": {},
     "inputWidgets": {},
     "nuid": "09774c74-4228-4b82-a277-e56f97605015",
     "showTitle": false,
     "tableResultSettingsMap": {},
     "title": ""
    }
   },
   "outputs": [],
   "source": [
    "bronzeDF = (spark.readStream\n",
    "                .format(\"cloudFiles\")\n",
    "                .option(\"cloudFiles.format\", \"json\")\n",
    "                .option(\"cloudFiles.schemaLocation\", f\"{volume_folder}/inferred_schema\")\n",
    "                .option(\"cloudFiles.inferColumnTypes\", \"true\")\n",
    "                .option(\"cloudFiles.schemaHints\", \"id bigint\")\n",
    "                .load(volume_folder+'/user_json'))\n",
    "display(bronzeDF, checkpointLocation = get_chkp_folder())"
   ]
  },
  {
   "cell_type": "markdown",
   "metadata": {
    "application/vnd.databricks.v1+cell": {
     "cellMetadata": {},
     "inputWidgets": {},
     "nuid": "78c934d6-374f-455a-9b64-4c272a83dab2",
     "showTitle": false,
     "tableResultSettingsMap": {},
     "title": ""
    }
   },
   "source": [
    "## Schema evolution"
   ]
  },
  {
   "cell_type": "code",
   "execution_count": 0,
   "metadata": {
    "application/vnd.databricks.v1+cell": {
     "cellMetadata": {},
     "inputWidgets": {},
     "nuid": "7332ea6b-13ba-4dc9-a4e7-b52dba2d2bcf",
     "showTitle": true,
     "tableResultSettingsMap": {},
     "title": "Schema evolution is now supported by restarting the stream"
    }
   },
   "outputs": [],
   "source": [
    "def get_stream():\n",
    "  return (spark.readStream\n",
    "                .format(\"cloudFiles\")\n",
    "                .option(\"cloudFiles.format\", \"json\")\n",
    "                .option(\"cloudFiles.schemaLocation\", f\"{volume_folder}/inferred_schema\")\n",
    "                .option(\"cloudFiles.inferColumnTypes\", \"true\")\n",
    "                .option(\"cloudFiles.schemaHints\", \"id bigint\")\n",
    "                .load(volume_folder+'/user_json'))\n",
    "display(get_stream(), checkpointLocation = get_chkp_folder())"
   ]
  },
  {
   "cell_type": "markdown",
   "metadata": {
    "application/vnd.databricks.v1+cell": {
     "cellMetadata": {},
     "inputWidgets": {},
     "nuid": "02e964bc-48d7-46c0-83d9-8ed0aaf7df61",
     "showTitle": false,
     "tableResultSettingsMap": {},
     "title": ""
    }
   },
   "source": [
    "### Incorrect schema\n",
    "Auto Loader automatically recovers from incorrect schema and conflicting type. It'll save incorrect data in the `_rescued_data` column."
   ]
  },
  {
   "cell_type": "code",
   "execution_count": 0,
   "metadata": {
    "application/vnd.databricks.v1+cell": {
     "cellMetadata": {},
     "inputWidgets": {},
     "nuid": "961f7737-350f-49c4-86c5-4360a77bf776",
     "showTitle": true,
     "tableResultSettingsMap": {},
     "title": "Adding an incorrect field (\"id\" as string instead of bigint)"
    }
   },
   "outputs": [],
   "source": [
    "from pyspark.sql import Row\n",
    "data = [Row(email=\"quentin.ambard@databricks.com\", firstname=\"Quentin\", id=\"456455\", lastname=\"Ambard\")]\n",
    "incorrect_data = spark.createDataFrame(data)\n",
    "incorrect_data.write.format(\"json\").mode(\"append\").save(volume_folder + \"/user_json\")"
   ]
  },
  {
   "cell_type": "code",
   "execution_count": 0,
   "metadata": {
    "application/vnd.databricks.v1+cell": {
     "cellMetadata": {},
     "inputWidgets": {},
     "nuid": "0b341e33-a733-46e1-b791-685412b0f273",
     "showTitle": false,
     "tableResultSettingsMap": {},
     "title": ""
    }
   },
   "outputs": [],
   "source": [
    "wait_for_rescued_data()\n",
    "# Start the stream and filter on on the rescue column to see how the incorrect data is captured\n",
    "display(get_stream().filter(\"_rescued_data is not null\"), checkpointLocation = get_chkp_folder())"
   ]
  },
  {
   "cell_type": "markdown",
   "metadata": {
    "application/vnd.databricks.v1+cell": {
     "cellMetadata": {},
     "inputWidgets": {},
     "nuid": "e5d70970-7e07-4547-a018-ab5a8f29bf50",
     "showTitle": false,
     "tableResultSettingsMap": {},
     "title": ""
    }
   },
   "source": [
    "### Adding a new column\n",
    "By default the stream will tigger a `UnknownFieldException` exception on new column. You then have to restart the stream to include the new column. \n",
    "\n",
    "Make sure your previous stream is still running and run the next cell.\n",
    "\n",
    "*Notes*:\n",
    "* *See `cloudFiles.schemaEvolutionMode` for different behaviors and more details.*\n",
    "* *Don't forget to add `.writeStream.option(\"mergeSchema\", \"true\")` to dynamically add when columns when writting to a delta table*"
   ]
  },
  {
   "cell_type": "code",
   "execution_count": 0,
   "metadata": {
    "application/vnd.databricks.v1+cell": {
     "cellMetadata": {},
     "inputWidgets": {},
     "nuid": "ac34c8b2-75ca-482b-8764-1b05f0734a37",
     "showTitle": true,
     "tableResultSettingsMap": {},
     "title": "Adding a row with an extra column (\"new_column\":\"test new column value\")"
    }
   },
   "outputs": [],
   "source": [
    "# Stop all the existing streams\n",
    "DBDemos.stop_all_streams()\n",
    "\n",
    "# Add 'new_column'\n",
    "data = [Row(email=\"quentin.ambard@databricks.com\", firstname=\"Quentin\", id=456454, lastname=\"Ambard\", new_column=\"test new column value\")]\n",
    "new_row = spark.createDataFrame(data)\n",
    "new_row.write.format(\"json\").mode(\"append\").save(volume_folder + \"/user_json\")"
   ]
  },
  {
   "cell_type": "code",
   "execution_count": 0,
   "metadata": {
    "application/vnd.databricks.v1+cell": {
     "cellMetadata": {},
     "inputWidgets": {},
     "nuid": "95ca9d9e-47ed-4413-978c-e820d8b13a0c",
     "showTitle": false,
     "tableResultSettingsMap": {},
     "title": ""
    }
   },
   "outputs": [],
   "source": [
    "# Existing stream wil fail with: org.apache.spark.sql.catalyst.util.UnknownFieldException: Encountered unknown field(s) during parsing: {\"new_column\":\"test new column value\"}\n",
    "display(get_stream(), checkpointLocation = get_chkp_folder())"
   ]
  },
  {
   "cell_type": "code",
   "execution_count": 0,
   "metadata": {
    "application/vnd.databricks.v1+cell": {
     "cellMetadata": {},
     "inputWidgets": {},
     "nuid": "14674725-af2f-433a-84f9-87a5f8528525",
     "showTitle": false,
     "tableResultSettingsMap": {},
     "title": ""
    }
   },
   "outputs": [],
   "source": [
    "# We just have to restart it to capture the new data. Let's filter on the new column to make sure we have the proper row \n",
    "# (re-run the cell)\n",
    "display(get_stream().filter('new_column is not null'), checkpointLocation = get_chkp_folder())"
   ]
  },
  {
   "cell_type": "markdown",
   "metadata": {
    "application/vnd.databricks.v1+cell": {
     "cellMetadata": {},
     "inputWidgets": {},
     "nuid": "7ea29c0b-6bfd-4f1d-8f57-5c8e81277f7f",
     "showTitle": false,
     "tableResultSettingsMap": {},
     "title": ""
    }
   },
   "source": [
    "## Ingesting a high volume of input files\n",
    "Scanning folders with many files to detect new data is an expensive operation, leading to ingestion challenges and higher cloud storage costs.\n",
    "\n",
    "To solve this issue and support an efficient listing, Databricks autoloader offers two modes:\n",
    "\n",
    "- Incremental listing with `cloudFiles.useIncrementalListing` (recommended), based on the alphabetical order of the file's path to only scan new data: (`ingestion_path/YYYY-MM-DD`)\n",
    "- Notification system, which sets up a managed cloud notification system sending new file name to a queue (when we can't rely on file name order). See `cloudFiles.useNotifications` for more details.\n",
    "\n",
    "<img src=\"https://github.com/QuentinAmbard/databricks-demo/raw/main/product_demos/autoloader-mode.png\" width=\"700\"/>\n",
    "\n",
    "Use the incremental listing option whenever possible. Databricks Auto Loader will try to auto-detect and use the incremental approach when possible."
   ]
  },
  {
   "cell_type": "markdown",
   "metadata": {
    "application/vnd.databricks.v1+cell": {
     "cellMetadata": {},
     "inputWidgets": {},
     "nuid": "02b220a6-a222-48b2-bce2-23f9a3c0015c",
     "showTitle": false,
     "tableResultSettingsMap": {},
     "title": ""
    }
   },
   "source": [
    "## Support for images\n",
    "Databricks Auto Loader provides native support for images and binary files.\n",
    "\n",
    "<img src=\"https://github.com/QuentinAmbard/databricks-demo/raw/main/product_demos/autoloader-images.png\" width=\"800\" />\n",
    "\n",
    "Just set the format accordingly and the engine will do the rest: `.option(\"cloudFiles.format\", \"binaryFile\")`\n",
    "\n",
    "Use-cases:\n",
    "\n",
    "- ETL images into a Delta table using Auto Loader\n",
    "- Automatically ingest continuously arriving new images\n",
    "- Easily retrain ML models on new images\n",
    "- Perform distributed inference using a pandas UDF directly from Delta "
   ]
  },
  {
   "cell_type": "markdown",
   "metadata": {
    "application/vnd.databricks.v1+cell": {
     "cellMetadata": {},
     "inputWidgets": {},
     "nuid": "20f76d5f-408c-40ce-9b36-772ea526e8ba",
     "showTitle": false,
     "tableResultSettingsMap": {},
     "title": ""
    }
   },
   "source": [
    "## Deploying robust ingestion jobs in production\n",
    "\n",
    "Let's see how to use Auto Loader to ingest JSON files, support schema evolution, and automatically restart when a new column is found.\n",
    "\n",
    "If you need your job to be resilient with regard to an evolving schema, you have multiple options:\n",
    "\n",
    "* Let the full job fail & configure Databricks Workflow to restart it automatically\n",
    "* Leverage Delta Live Tables to simplify all the setup (DLT handles everything for you out of the box)\n",
    "* Wrap your call to restart the stream when the new column appears.\n",
    "\n",
    "Here is an example:"
   ]
  },
  {
   "cell_type": "code",
   "execution_count": 0,
   "metadata": {
    "application/vnd.databricks.v1+cell": {
     "cellMetadata": {},
     "inputWidgets": {},
     "nuid": "26dab03d-0660-40d0-a692-b8774094d1c6",
     "showTitle": true,
     "tableResultSettingsMap": {},
     "title": "Define helper functions"
    }
   },
   "outputs": [],
   "source": [
    "def start_stream_restart_on_schema_evolution():\n",
    "  while True:\n",
    "    try:\n",
    "      q = (spark.readStream\n",
    "                  .format(\"cloudFiles\")\n",
    "                  .option(\"cloudFiles.format\", \"json\")\n",
    "                  .option(\"cloudFiles.schemaLocation\", f\"{volume_folder}/inferred_schema\")\n",
    "                  .option(\"cloudFiles.inferColumnTypes\", \"true\")\n",
    "                  .load(volume_folder+\"/user_json\")\n",
    "                .writeStream\n",
    "                  .format(\"delta\")\n",
    "                  .option(\"checkpointLocation\", volume_folder+\"/checkpoint\")\n",
    "                  .option(\"mergeSchema\", \"true\")\n",
    "                  .table(\"autoloader_demo_output\"))\n",
    "      q.awaitTermination()\n",
    "      return q\n",
    "    except BaseException as e:\n",
    "      #Adding a new column will trigger an UnknownFieldException. In this case we just restart the stream:\n",
    "      if not ('UnknownFieldException' in str(e)):\n",
    "        raise e\n",
    "\n",
    "#Note: serverless doesn't support timeless streaming. See https://docs.databricks.com/en/compute/serverless/limitations.html#streaming\n",
    "# You can use the writeStream.trigger(availableNow=True) option instead\n",
    "#start_stream_restart_on_schema_evolution()"
   ]
  },
  {
   "cell_type": "markdown",
   "metadata": {
    "application/vnd.databricks.v1+cell": {
     "cellMetadata": {},
     "inputWidgets": {},
     "nuid": "1a0c2a82-a7be-40a9-bbdb-290b43a603fd",
     "showTitle": false,
     "tableResultSettingsMap": {},
     "title": ""
    }
   },
   "source": [
    "## Conclusion\n",
    "\n",
    "We've seen how Databricks Auto Loader can be used to easily ingest your files, solving all ingestion challenges!\n",
    "\n",
    "You're ready to use it in your projects!"
   ]
  },
  {
   "cell_type": "code",
   "execution_count": 0,
   "metadata": {
    "application/vnd.databricks.v1+cell": {
     "cellMetadata": {},
     "inputWidgets": {},
     "nuid": "819b3baa-c172-4d48-b6a0-6d989e55d13d",
     "showTitle": true,
     "tableResultSettingsMap": {},
     "title": "Stop all active stream"
    }
   },
   "outputs": [],
   "source": [
    "DBDemos.stop_all_streams()"
   ]
  }
 ],
 "metadata": {
  "application/vnd.databricks.v1+notebook": {
   "computePreferences": null,
   "dashboards": [],
   "environmentMetadata": {
    "environment_version": "2"
   },
   "inputWidgetPreferences": null,
   "language": "python",
   "notebookMetadata": {
    "pythonIndentUnit": 2
   },
   "notebookName": "01-Auto-loader-schema-evolution-Ingestion",
   "widgets": {}
  },
  "language_info": {
   "name": "python"
  }
 },
 "nbformat": 4,
 "nbformat_minor": 0
}
