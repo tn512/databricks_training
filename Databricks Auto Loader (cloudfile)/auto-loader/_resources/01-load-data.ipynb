{
 "cells": [
  {
   "cell_type": "markdown",
   "metadata": {
    "application/vnd.databricks.v1+cell": {
     "cellMetadata": {},
     "inputWidgets": {},
     "nuid": "e44e99c9-b85f-44ab-a836-487412ca1706",
     "showTitle": false,
     "tableResultSettingsMap": {},
     "title": ""
    }
   },
   "source": [
    "# Data initialization notebook. \n",
    "Do not run outside of the main notebook. This will automatically be called based on the reste_all widget value to setup the data required for the demo."
   ]
  },
  {
   "cell_type": "code",
   "execution_count": 0,
   "metadata": {
    "application/vnd.databricks.v1+cell": {
     "cellMetadata": {},
     "inputWidgets": {},
     "nuid": "5bf6125e-8e98-4e84-a59e-07fb3a98885a",
     "showTitle": false,
     "tableResultSettingsMap": {},
     "title": ""
    }
   },
   "outputs": [],
   "source": [
    "%pip install Faker"
   ]
  },
  {
   "cell_type": "code",
   "execution_count": 0,
   "metadata": {
    "application/vnd.databricks.v1+cell": {
     "cellMetadata": {},
     "inputWidgets": {},
     "nuid": "58583b21-85b9-4b3b-9e6d-c8de2c3873f3",
     "showTitle": false,
     "tableResultSettingsMap": {},
     "title": ""
    }
   },
   "outputs": [],
   "source": [
    "dbutils.widgets.text(\"volume_folder\", \"/dbdemos/raw_data\", \"Raw data location (stating dir)\")"
   ]
  },
  {
   "cell_type": "code",
   "execution_count": 0,
   "metadata": {
    "application/vnd.databricks.v1+cell": {
     "cellMetadata": {},
     "inputWidgets": {},
     "nuid": "d6959f68-13de-48e7-b7b7-a51f951e87a7",
     "showTitle": false,
     "tableResultSettingsMap": {},
     "title": ""
    }
   },
   "outputs": [],
   "source": [
    "from pyspark.sql import functions as F\n",
    "from faker import Faker\n",
    "from collections import OrderedDict \n",
    "import uuid\n",
    "fake = Faker()\n",
    "\n",
    "fake_firstname = F.udf(fake.first_name)\n",
    "fake_lastname = F.udf(fake.last_name)\n",
    "fake_email = F.udf(fake.ascii_company_email)\n",
    "fake_date = F.udf(lambda:fake.date_time_this_month().strftime(\"%m-%d-%Y %H:%M:%S\"))\n",
    "fake_address = F.udf(fake.address)\n",
    "fake_id = F.udf(lambda: str(uuid.uuid4()))\n",
    "\n",
    "df = spark.range(0, 100000)\n",
    "#TODO: need to increment ID for each write batch to avoid duplicate. Could get the max reading existing data, zero if none, and add it ti the ID to garantee almost unique ID (doesn't have to be perfect)  \n",
    "df = df.withColumn(\"id\", F.monotonically_increasing_id())\n",
    "df = df.withColumn(\"creation_date\", fake_date())\n",
    "df = df.withColumn(\"firstname\", fake_firstname())\n",
    "df = df.withColumn(\"lastname\", fake_lastname())\n",
    "df = df.withColumn(\"email\", fake_email())\n",
    "df = df.withColumn(\"address\", fake_address())\n",
    "df = df.withColumn(\"gender\", F.round(F.rand()+0.2))\n",
    "df = df.withColumn(\"age_group\", F.round(F.rand()*10))\n",
    "volume_folder = dbutils.widgets.get(\"volume_folder\")\n",
    "df.repartition(100).write.mode(\"overwrite\").format(\"json\").save(volume_folder+\"/user_json\")"
   ]
  }
 ],
 "metadata": {
  "application/vnd.databricks.v1+notebook": {
   "computePreferences": null,
   "dashboards": [],
   "environmentMetadata": {
    "environment_version": "2"
   },
   "inputWidgetPreferences": null,
   "language": "python",
   "notebookMetadata": {
    "pythonIndentUnit": 2
   },
   "notebookName": "01-load-data",
   "widgets": {}
  },
  "language_info": {
   "name": "python"
  }
 },
 "nbformat": 4,
 "nbformat_minor": 0
}
