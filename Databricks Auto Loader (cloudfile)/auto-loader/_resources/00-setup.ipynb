{
 "cells": [
  {
   "cell_type": "code",
   "execution_count": 0,
   "metadata": {
    "application/vnd.databricks.v1+cell": {
     "cellMetadata": {},
     "inputWidgets": {},
     "nuid": "56098601-6e27-447f-ae2f-f60870cb7bdf",
     "showTitle": false,
     "tableResultSettingsMap": {},
     "title": ""
    }
   },
   "outputs": [],
   "source": [
    "dbutils.widgets.dropdown(\"reset_all_data\", \"false\", [\"true\", \"false\"], \"Reset all data\")\n",
    "reset_all_data = dbutils.widgets.get(\"reset_all_data\") == \"true\""
   ]
  },
  {
   "cell_type": "code",
   "execution_count": 0,
   "metadata": {
    "application/vnd.databricks.v1+cell": {
     "cellMetadata": {},
     "inputWidgets": {},
     "nuid": "dd92aef8-a08c-4204-8952-886559cb733f",
     "showTitle": false,
     "tableResultSettingsMap": {},
     "title": ""
    }
   },
   "outputs": [],
   "source": [
    "catalog = \"main\"\n",
    "schema = dbName = db = \"dbdemos_autoloader\"\n",
    "\n",
    "volume_name = \"raw_data\""
   ]
  },
  {
   "cell_type": "code",
   "execution_count": 0,
   "metadata": {
    "application/vnd.databricks.v1+cell": {
     "cellMetadata": {},
     "inputWidgets": {},
     "nuid": "01eb4a21-a525-4a73-8716-a8f9ae4a3ed1",
     "showTitle": false,
     "tableResultSettingsMap": {},
     "title": ""
    },
    "jupyter": {
     "outputs_hidden": true
    }
   },
   "outputs": [],
   "source": [
    "%run ./00-global-setup-v2"
   ]
  },
  {
   "cell_type": "code",
   "execution_count": 0,
   "metadata": {
    "application/vnd.databricks.v1+cell": {
     "cellMetadata": {},
     "inputWidgets": {},
     "nuid": "ceded8eb-d4dd-4795-a1df-dafbf808ca47",
     "showTitle": false,
     "tableResultSettingsMap": {},
     "title": ""
    }
   },
   "outputs": [],
   "source": [
    "DBDemos.setup_schema(catalog, db, reset_all_data, volume_name)\n",
    "volume_folder =  f\"/Volumes/{catalog}/{db}/{volume_name}\""
   ]
  },
  {
   "cell_type": "code",
   "execution_count": 0,
   "metadata": {
    "application/vnd.databricks.v1+cell": {
     "cellMetadata": {},
     "inputWidgets": {},
     "nuid": "846b3a29-661c-4102-9799-685c0594cbf1",
     "showTitle": false,
     "tableResultSettingsMap": {},
     "title": ""
    }
   },
   "outputs": [],
   "source": [
    "import time\n",
    "def get_chkp_folder():\n",
    "    import random\n",
    "    import string\n",
    "    randomCar = ''.join(random.choices(string.ascii_letters + string.digits, k=8))  # \n",
    "    return volume_folder+'/checkpoint/streams/'+randomCar"
   ]
  },
  {
   "cell_type": "code",
   "execution_count": 0,
   "metadata": {
    "application/vnd.databricks.v1+cell": {
     "cellMetadata": {},
     "inputWidgets": {},
     "nuid": "0d55444b-382e-48ec-a8a4-b122e157ca99",
     "showTitle": false,
     "tableResultSettingsMap": {},
     "title": ""
    }
   },
   "outputs": [],
   "source": [
    "from time import sleep\n",
    "\n",
    "if reset_all_data or DBDemos.is_folder_empty(volume_folder+\"/user_json\"):\n",
    "  #data generation on another notebook to avoid installing libraries (takes a few seconds to setup pip env)\n",
    "  print(f\"Generating data under {volume_folder} , please wait a few sec...\")\n",
    "  path = dbutils.notebook.entry_point.getDbutils().notebook().getContext().notebookPath().get()\n",
    "  folder_path = path[:path.rfind(\"/\")]\n",
    "  prefix = ''\n",
    "  if not folder_path.endswith('_resources'):\n",
    "    prefix = './_resources/'\n",
    "  dbutils.notebook.run(prefix+\"./01-load-data\", 120, {\"volume_folder\": volume_folder})\n",
    "else:\n",
    "  print(\"data already existing. Run with reset_all_data=true to force a data cleanup for your local demo.\")\n",
    "  \n",
    "  \n",
    "#cleanup schema in all cases\n",
    "dbutils.fs.rm(volume_folder+'/inferred_schema', True)"
   ]
  },
  {
   "cell_type": "code",
   "execution_count": 0,
   "metadata": {
    "application/vnd.databricks.v1+cell": {
     "cellMetadata": {},
     "inputWidgets": {},
     "nuid": "b4332c87-2a11-4fae-a156-fa9e80c91fc5",
     "showTitle": true,
     "tableResultSettingsMap": {},
     "title": "Helper functions to wait between streams to have a nice execution & results clicking on \"run all\""
    }
   },
   "outputs": [],
   "source": [
    "#Wait to have data to be available in the _rescued_data column.\n",
    "def wait_for_rescued_data():\n",
    "  i = 0\n",
    "  while DBDemos.is_folder_empty(volume_folder+'/_wait_rescued/data/_delta_log/') or spark.read.load(volume_folder+'/_wait_rescued/data').count() == 0:\n",
    "    get_stream().filter(\"_rescued_data is not null\") \\\n",
    "               .writeStream.option(\"checkpointLocation\", volume_folder+'/_wait_rescued/ckpt') \\\n",
    "               .trigger(once=True).start(volume_folder+'/_wait_rescued/data').awaitTermination()\n",
    "    i+=1\n",
    "    sleep(1)\n",
    "    if i > 30:\n",
    "      raise Exception(\"Can't capture the new column. Please make sure the stream on the previous cell is running.\")\n"
   ]
  }
 ],
 "metadata": {
  "application/vnd.databricks.v1+notebook": {
   "computePreferences": null,
   "dashboards": [],
   "environmentMetadata": {
    "environment_version": "2"
   },
   "inputWidgetPreferences": null,
   "language": "python",
   "notebookMetadata": {
    "pythonIndentUnit": 2
   },
   "notebookName": "00-setup",
   "widgets": {}
  },
  "language_info": {
   "name": "python"
  }
 },
 "nbformat": 4,
 "nbformat_minor": 0
}
